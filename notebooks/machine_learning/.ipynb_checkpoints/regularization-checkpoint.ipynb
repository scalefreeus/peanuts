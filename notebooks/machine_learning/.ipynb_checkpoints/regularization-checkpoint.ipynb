{
 "cells": [
  {
   "cell_type": "code",
   "execution_count": 13,
   "metadata": {},
   "outputs": [],
   "source": [
    "import numpy as np\n",
    "from sklearn.preprocessing import PolynomialFeatures\n",
    "from sklearn.linear_model import Ridge\n",
    "from sklearn.metrics import mean_squared_error\n",
    "\n",
    "train_size = 20\n",
    "\n",
    "test_size = 12\n",
    "\n",
    "train_X = np.random.uniform(low=0, high=1.2, size=train_size)\n",
    "test_X = np.random.uniform(low=0, high=1.2, size=test_size)\n",
    "\n",
    "train_y = np.sin(train_X * 2 * np.pi) + np.random.normal(0, 0.2, train_size)\n",
    "test_y = np.sin(test_X * 2 * np.pi) + np.random.normal(0, 0.2, test_size)"
   ]
  },
  {
   "cell_type": "code",
   "execution_count": 50,
   "metadata": {},
   "outputs": [],
   "source": [
    "poly = PolynomialFeatures(6)\n",
    "\n",
    "train_poly_x = poly.fit_transform(train_X.reshape(train_size, 1))\n",
    "test_poly_x = poly.fit_transform(test_X.reshape(test_size, 1))\n",
    "\n",
    "model = Ridge(alpha=1.0)\n",
    "model.fit(train_poly_x, train_y)\n",
    "\n",
    "train_pred_y = model.predict(train_poly_x)\n",
    "test_pred_y = model.predict(test_poly_x)"
   ]
  },
  {
   "cell_type": "code",
   "execution_count": 51,
   "metadata": {},
   "outputs": [
    {
     "name": "stdout",
     "output_type": "stream",
     "text": [
      "0.1738498845050493\n",
      "0.21906014696520196\n"
     ]
    }
   ],
   "source": [
    "print(mean_squared_error(train_pred_y, train_y))\n",
    "print(mean_squared_error(test_pred_y, test_y))"
   ]
  },
  {
   "cell_type": "code",
   "execution_count": 56,
   "metadata": {},
   "outputs": [
    {
     "data": {
      "text/plain": [
       "<matplotlib.legend.Legend at 0x7f948df927f0>"
      ]
     },
     "execution_count": 56,
     "metadata": {},
     "output_type": "execute_result"
    },
    {
     "data": {
      "image/png": "[encoded data removed]",
      "text/plain": [
       "<Figure size 432x288 with 1 Axes>"
      ]
     },
     "metadata": {
      "needs_background": "light"
     },
     "output_type": "display_data"
    }
   ],
   "source": [
    "import matplotlib.pyplot as plt\n",
    "\n",
    "plt.scatter(train_X, train_y, color='tab:blue')\n",
    "#plt.scatter(train_X, train_pred_y, color='tab:red')\n",
    "\n",
    "import pandas as pd\n",
    "d = {'x': train_X, 'y': train_pred_y}\n",
    "df = pd.DataFrame(data=d)\n",
    "df.sort_values(by='x', inplace=True)\n",
    "#plt.plot(df.x, df.y, color='tab:red')\n",
    "\n",
    "from scipy.interpolate import make_interp_spline, BSpline\n",
    "xnew = np.linspace(df.x.min(), df.x.max(), 300)\n",
    "\n",
    "spl = make_interp_spline(df.x, df.y, k=3)\n",
    "power_smooth = spl(xnew)\n",
    "\n",
    "plt.plot(xnew, power_smooth, color='tab:red', label=\"alpha=1.0\")\n",
    "plt.legend()"
   ]
  }
 ],
 "metadata": {
  "kernelspec": {
   "display_name": "Python 3",
   "language": "python",
   "name": "python3"
  },
  "language_info": {
   "codemirror_mode": {
    "name": "ipython",
    "version": 3
   },
   "file_extension": ".py",
   "mimetype": "text/x-python",
   "name": "python",
   "nbconvert_exporter": "python",
   "pygments_lexer": "ipython3",
   "version": "3.7.3"
  }
 },
 "nbformat": 4,
 "nbformat_minor": 2
}
