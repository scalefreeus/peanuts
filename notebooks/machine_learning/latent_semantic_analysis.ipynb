{
 "cells": [
  {
   "cell_type": "code",
   "execution_count": 1,
   "metadata": {},
   "outputs": [
    {
     "name": "stdout",
     "output_type": "stream",
     "text": [
      "[[ 0.00000000e+00  8.50650808e-01]\n",
      " [ 0.00000000e+00  8.50650808e-01]\n",
      " [-1.08779196e-15  1.37638192e+00]\n",
      " [-1.08779196e-15  5.25731112e-01]\n",
      " [ 1.41421356e+00  8.08769049e-16]\n",
      " [ 7.07106781e-01  4.04384525e-16]\n",
      " [ 1.41421356e+00  8.08769049e-16]\n",
      " [ 7.07106781e-01  4.04384525e-16]]\n",
      "[0.38596491 0.27999429]\n",
      "0.6659592065833294\n"
     ]
    }
   ],
   "source": [
    "from sklearn.decomposition import TruncatedSVD\n",
    "\n",
    "data = [\n",
    "    [1,0,0,0],\n",
    "    [1,0,0,0],\n",
    "    [1,1,0,0],\n",
    "    [0,1,0,0],\n",
    "    [0,0,1,1],\n",
    "    [0,0,1,0],\n",
    "    [0,0,1,1],\n",
    "    [0,0,0,1]\n",
    "]\n",
    "\n",
    "n_components = 2\n",
    "model = TruncatedSVD(n_components=n_components)\n",
    "\n",
    "model.fit(data)\n",
    "\n",
    "print(model.transform(data))\n",
    "print(model.explained_variance_ratio_)\n",
    "print(sum(model.explained_variance_ratio_))"
   ]
  }
 ],
 "metadata": {
  "kernelspec": {
   "display_name": "Python 3",
   "language": "python",
   "name": "python3"
  },
  "language_info": {
   "codemirror_mode": {
    "name": "ipython",
    "version": 3
   },
   "file_extension": ".py",
   "mimetype": "text/x-python",
   "name": "python",
   "nbconvert_exporter": "python",
   "pygments_lexer": "ipython3",
   "version": "3.7.3"
  }
 },
 "nbformat": 4,
 "nbformat_minor": 2
}
