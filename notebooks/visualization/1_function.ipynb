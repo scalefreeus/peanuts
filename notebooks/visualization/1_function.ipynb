{
 "cells": [
  {
   "cell_type": "markdown",
   "metadata": {},
   "source": [
    "Reference: https://datavizproject.com/#"
   ]
  },
  {
   "cell_type": "markdown",
   "metadata": {},
   "source": [
    "# Comparision\n",
    "- [Lollipop Chart](lollipop_chart.ipynb)\n",
    "- [Layered Area Chart](layered_area_chart.ipynb)\n",
    "- [Multi-level Pie Chart](multi-level_pie_chart.ipynb)\n",
    "- [Multiple Series 3D Bar Charts](multiple_series_3d_bar_charts.ipynb)\n",
    "- Win-loss Sparkline\n",
    "- [Column Sparkline](column_sparkline.ipynb)\n",
    "- [Marimekko Chart](marimekko_chart.ipynb)\n",
    "- [Pictorial bar chart](pictorial_bar_chart.ipynb)\n",
    "- Pie Chart Map\n",
    "- Bar Chart on a Map\n",
    "- Icon Count\n",
    "- Proportional Area Chart\n",
    "- Circular Heat map\n",
    "- Curved Bar Chart\n",
    "- [Waffle Chart](waffle_chart.ipynb)\n",
    "- Stacked Ordered Area Chart\n",
    "- Opposite Diagram\n",
    "- Butterfly Chart\n",
    "- Bump Chart\n",
    "- [Bar Chart (Horizontal)](bar_chart_horizontal.ipynb)\n",
    "- Cartogram\n",
    "- Dumbbell Plot\n",
    "- Clustered Force Layout\n",
    "- Triangle Bar Chart\n",
    "- Proportional Area Chart (Half Circle)\n",
    "- Slope Chart\n",
    "- [Stacked Area Chart](stacked_area_chart.ipynb)\n",
    "- Hive Plot\n",
    "- Radial Histogram\n",
    "- [Alluvial Diagram](alluvial_diagram.ipynb)\n",
    "- Partition Layer Chart Icicle Diagram\n",
    "- Isoline Map\n",
    "- Bubble Map Chart\n",
    "- Waterfall Plot\n",
    "- Euler Diagram\n",
    "- Hanging Rootogram\n",
    "- Sorted Stream Graph\n",
    "- Radial Line Graph\n",
    "- Phase Diagram\n",
    "- Flow Map\n",
    "- Column Range\n",
    "- Semi Circle Donut Chart\n",
    "- Candlestick Chart\n",
    "- [Stream Graph](stream_graph.ipynb)\n",
    "- Arc Diagram\n",
    "- Packed Circle Chart\n",
    "- [Chord Diagram](chord_diagram.ipynb)\n",
    "- Span Chart\n",
    "- Parallel Coordinates\n",
    "- [Word Cloud](word_cloud.ipynb)\n",
    "- Polar Chart\n",
    "- [Parallel Sets](parallel_sets.ipynb)\n",
    "- Compound Bubble and Pie Chart\n",
    "- [Radial Bar Chart](radial_bar_chart.ipynb)\n",
    "- Nested Proportional Area Chart\n",
    "- Table Chart\n",
    "- Multi-level Donut Chart\n",
    "- [Heat Map](heat_map.ipynb)\n",
    "- Ternary Contour Plot\n",
    "- [Waterfall Chart](waterfall_chart.ipynb)\n",
    "- Kagi Chart\n",
    "- [Polar Area Chart](polar_area_chart.ipynb)\n",
    "- Topographic Map\n",
    "- Comparison Chart\n",
    "- Convex treemap\n",
    "- [Treemap](treemap.ipynb)\n",
    "- [Violin Plot](violin_plot.ipynb)\n",
    "- [Boxplot](boxplot.ipynb)\n",
    "- Dot Plot\n",
    "- Pareto Chart\n",
    "- Radar Diagram\n",
    "- [Sunburst Diagram](sunburst_diagram.ipynb)\n",
    "- Choropleth Map\n",
    "- Bubble Chart\n",
    "- [Sankey Diagram](sankey_diagram.ipynb)\n",
    "- Tally Chart\n",
    "- Popular Pyramid\n",
    "- [Pictorial Unit Chart](pictorial_unit_chart.ipynb)\n",
    "- [Pie Chart](pie_chart.ipynb)\n",
    "- Proportional Area Chart (Circle)\n",
    "- Proportional Area Chart (Square)\n",
    "- [Grouped Bar Chart](grouped_bar_chart.ipynb)\n",
    "- [Stacked Bart Chart](stacked_bar_chart.ipynb)\n",
    "- [Bar Chart (Vertical)](bar_chart_vertical.ipynb)\n",
    "- Donut Chart"
   ]
  },
  {
   "cell_type": "markdown",
   "metadata": {},
   "source": [
    "# Distribution\n",
    "- Alluvial Diagram   \n",
    "- Sorted Stream Graph\n",
    "- [Area Chart](area_chart.ipynb)\n",
    "- [Bubble Chart](bubble_chart.ipynb)\n",
    "\n",
    "\n"
   ]
  },
  {
   "cell_type": "markdown",
   "metadata": {},
   "source": [
    "# Correlation\n",
    "- Sankey Diagram\n"
   ]
  },
  {
   "cell_type": "markdown",
   "metadata": {},
   "source": [
    "# Trend over time\n",
    "- Timeline"
   ]
  }
 ],
 "metadata": {
  "kernelspec": {
   "display_name": "Python 3",
   "language": "python",
   "name": "python3"
  },
  "language_info": {
   "codemirror_mode": {
    "name": "ipython",
    "version": 3
   },
   "file_extension": ".py",
   "mimetype": "text/x-python",
   "name": "python",
   "nbconvert_exporter": "python",
   "pygments_lexer": "ipython3",
   "version": "3.7.3"
  }
 },
 "nbformat": 4,
 "nbformat_minor": 4
}
