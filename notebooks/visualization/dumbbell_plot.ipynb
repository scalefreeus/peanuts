{
 "cells": [
  {
   "cell_type": "markdown",
   "metadata": {},
   "source": [
    "# Dumbbell Plot\n",
    "Also called: Connected Dot Plot, Dumbbell Dot Plot"
   ]
  },
  {
   "cell_type": "markdown",
   "metadata": {},
   "source": [
    "![alt text](https://datavizproject.com/wp-content/uploads/2016/01/DVP_101_200-15-1.png)"
   ]
  },
  {
   "cell_type": "markdown",
   "metadata": {},
   "source": [
    "Dumbbell dot plots — dot plots with two or more series of data — are an alternative to the clustered bar chart or slope chart.\n",
    "\n",
    "A dumbbell dot plot can be used to visualize two or three different points in time, or to triangulate different viewpoints (e.g., one dot for Republicans and another dot for Democrats, or one dot for principals and another dot for teachers)."
   ]
  },
  {
   "cell_type": "code",
   "execution_count": null,
   "metadata": {},
   "outputs": [],
   "source": [
    "import matplotlib.lines as mlines\n",
    "import matplotlib.pyplot as plt\n",
    "import pandas as pd\n",
    "\n",
    "# Import Data\n",
    "df = pd.read_csv(\"health.csv\")\n",
    "df.sort_values('pct_2014', inplace=True)\n",
    "df.reset_index(inplace=True)\n",
    "\n",
    "# Func to draw line segment\n",
    "def newline(p1, p2, color='black'):\n",
    "    ax = plt.gca()\n",
    "    l = mlines.Line2D([p1[0],p2[0]], [p1[1],p2[1]], color='skyblue')\n",
    "    ax.add_line(l)\n",
    "    return l\n",
    "\n",
    "# Figure and Axes\n",
    "fig, ax = plt.subplots(1,1,figsize=(14,14), facecolor='#f7f7f7', dpi= 80)\n",
    "\n",
    "# Vertical Lines\n",
    "ax.vlines(x=.05, ymin=0, ymax=26, color='black', alpha=1, linewidth=1, linestyles='dotted')\n",
    "ax.vlines(x=.10, ymin=0, ymax=26, color='black', alpha=1, linewidth=1, linestyles='dotted')\n",
    "ax.vlines(x=.15, ymin=0, ymax=26, color='black', alpha=1, linewidth=1, linestyles='dotted')\n",
    "ax.vlines(x=.20, ymin=0, ymax=26, color='black', alpha=1, linewidth=1, linestyles='dotted')\n",
    "\n",
    "# Points\n",
    "ax.scatter(y=df['index'], x=df['pct_2013'], s=50, color='#0e668b', alpha=0.7)\n",
    "ax.scatter(y=df['index'], x=df['pct_2014'], s=50, color='#a3c4dc', alpha=0.7)\n",
    "\n",
    "# Line Segments\n",
    "for i, p1, p2 in zip(df['index'], df['pct_2013'], df['pct_2014']):\n",
    "    newline([p1, i], [p2, i])\n",
    "\n",
    "# Decoration\n",
    "ax.set_facecolor('#f7f7f7')\n",
    "ax.set_title(\"Dumbell Chart: Pct Change - 2013 vs 2014\", fontdict={'size':22})\n",
    "ax.set(xlim=(0,.25), ylim=(-1, 27), ylabel='Mean GDP Per Capita')\n",
    "ax.set_xticks([.05, .1, .15, .20])\n",
    "ax.set_xticklabels(['5%', '15%', '20%', '25%'])\n",
    "ax.set_xticklabels(['5%', '15%', '20%', '25%'])    \n",
    "plt.show()"
   ]
  }
 ],
 "metadata": {
  "kernelspec": {
   "display_name": "Python 3",
   "language": "python",
   "name": "python3"
  },
  "language_info": {
   "codemirror_mode": {
    "name": "ipython",
    "version": 3
   },
   "file_extension": ".py",
   "mimetype": "text/x-python",
   "name": "python",
   "nbconvert_exporter": "python",
   "pygments_lexer": "ipython3",
   "version": "3.7.3"
  }
 },
 "nbformat": 4,
 "nbformat_minor": 4
}
