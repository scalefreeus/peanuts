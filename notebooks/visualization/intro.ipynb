{
 "cells": [
  {
   "cell_type": "markdown",
   "metadata": {},
   "source": [
    "# Visualization"
   ]
  },
  {
   "cell_type": "markdown",
   "metadata": {},
   "source": [
    "- Basic Charts\n",
    "- 3D"
   ]
  },
  {
   "cell_type": "markdown",
   "metadata": {},
   "source": [
    "# Environment setup"
   ]
  },
  {
   "cell_type": "markdown",
   "metadata": {},
   "source": [
    "## install libraries\n",
    "```\n",
    "conda install -c conda-forge jupyterlab-plotly-extension \n",
    "jupyter lab build\n",
    "conda install holoviews plotly\n",
    "```"
   ]
  },
  {
   "cell_type": "markdown",
   "metadata": {},
   "source": [
    "# How to Choose the Right Chart Type"
   ]
  },
  {
   "cell_type": "markdown",
   "metadata": {},
   "source": [
    "![alt text](poster_big.png)"
   ]
  },
  {
   "cell_type": "markdown",
   "metadata": {},
   "source": [
    "# Chart Types"
   ]
  },
  {
   "cell_type": "markdown",
   "metadata": {},
   "source": [
    "- [by Function](1_function.ipynb)\n",
    "- [by Family](2_family.ipynb)\n",
    "- [by Input](3_input.ipynb)"
   ]
  },
  {
   "cell_type": "markdown",
   "metadata": {},
   "source": [
    "# References\n",
    "Sites\n",
    "- https://www.data-to-viz.com/\n",
    "- https://datavizproject.com/\n",
    "\n",
    "Libraries\n",
    "- https://matplotlib.org/index.html\n",
    "- https://plot.ly/python/v3/\n",
    "- https://seaborn.pydata.org/index.html\n",
    "- https://altair-viz.github.io/index.html\n",
    "- https://tonysyu.github.io/mpltools/index.html\n",
    "- https://pyecharts.org/#/en-us/"
   ]
  }
 ],
 "metadata": {
  "kernelspec": {
   "display_name": "Python 3",
   "language": "python",
   "name": "python3"
  },
  "language_info": {
   "codemirror_mode": {
    "name": "ipython",
    "version": 3
   },
   "file_extension": ".py",
   "mimetype": "text/x-python",
   "name": "python",
   "nbconvert_exporter": "python",
   "pygments_lexer": "ipython3",
   "version": "3.6.9"
  }
 },
 "nbformat": 4,
 "nbformat_minor": 4
}
