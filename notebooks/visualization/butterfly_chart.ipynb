{
 "cells": [
  {
   "cell_type": "markdown",
   "metadata": {},
   "source": [
    "# Bufferfly Chart\n",
    "Also called: Tornado Chart, Tornado Diagram"
   ]
  },
  {
   "cell_type": "markdown",
   "metadata": {},
   "source": [
    "![alt text](https://datavizproject.com/wp-content/uploads/2016/06/DVP_101_200-21.png)"
   ]
  },
  {
   "cell_type": "markdown",
   "metadata": {},
   "source": [
    "A Butterfly Chart (also called Tornado Chart) is a type of bar chart where two sets of data series are displayed side by side. It gives a quick glance of the difference between two groups with same parameters. It is also possible to stack/place two bars on each side (for example, ‘developed countries’ and ‘developing countries’) to give a further division of categories.\n",
    "\n",
    "The main use of the butterfly chart is comparison of two data sets sharing the same parameters.\n",
    "It has a lot of similarity with the population pyramid, but where the population pyramid is only for population data, the butterfly chart has a broader use as a comparison chart."
   ]
  },
  {
   "cell_type": "code",
   "execution_count": 2,
   "metadata": {},
   "outputs": [
    {
     "data": {
      "image/png": "[encoded data removed]",
      "text/plain": [
       "<Figure size 432x288 with 2 Axes>"
      ]
     },
     "metadata": {
      "needs_background": "light"
     },
     "output_type": "display_data"
    }
   ],
   "source": [
    "# tornado chart example\n",
    "import numpy as np\n",
    "import matplotlib.pyplot as plt\n",
    "\n",
    "\n",
    "people = ('Tom', 'Dick', 'Harry', 'Slim', 'Jim')\n",
    "num_people = len(people)\n",
    "\n",
    "time_spent = np.random.uniform(low=5, high=100, size=num_people)\n",
    "proficiency = np.abs(time_spent / 12. + np.random.normal(size=num_people))\n",
    "pos = np.arange(num_people) + .5    # bars centered on the y axis\n",
    "\n",
    "fig, (ax_left, ax_right) = plt.subplots(ncols=2)\n",
    "ax_left.barh(pos, time_spent, align='center', facecolor='cornflowerblue')\n",
    "ax_left.set_yticks([])\n",
    "ax_left.set_xlabel('Hours spent')\n",
    "ax_left.invert_xaxis()\n",
    "\n",
    "ax_right.barh(pos, proficiency, align='center', facecolor='lemonchiffon')\n",
    "ax_right.set_yticks(pos)\n",
    "# x moves tick labels relative to left edge of axes in axes units\n",
    "ax_right.set_yticklabels(people, ha='center', x=-0.08)\n",
    "ax_right.set_xlabel('Proficiency')\n",
    "\n",
    "plt.suptitle('Learning Python')\n",
    "\n",
    "plt.show()"
   ]
  },
  {
   "cell_type": "code",
   "execution_count": 1,
   "metadata": {},
   "outputs": [
    {
     "data": {
      "text/plain": [
       "(-1, 8)"
      ]
     },
     "execution_count": 1,
     "metadata": {},
     "output_type": "execute_result"
    },
    {
     "data": {
      "image/png": "[encoded data removed]",
      "text/plain": [
       "<Figure size 432x288 with 1 Axes>"
      ]
     },
     "metadata": {
      "needs_background": "light"
     },
     "output_type": "display_data"
    }
   ],
   "source": [
    "import numpy as np\n",
    "from matplotlib import pyplot as plt\n",
    "%matplotlib inline\n",
    "\n",
    "###############################################################################\n",
    "# The data (change all of this to your actual data, this is just a mockup)\n",
    "variables = [\n",
    "    'apple',\n",
    "    'juice',\n",
    "    'orange',\n",
    "    'peach',\n",
    "    'gum',\n",
    "    'stones',\n",
    "    'bags',\n",
    "    'lamps',\n",
    "]\n",
    "\n",
    "base = 3000\n",
    "\n",
    "lows = np.array([\n",
    "    base - 246 / 2,\n",
    "    base - 1633 / 2,\n",
    "    base - 500 / 2,\n",
    "    base - 150 / 2,\n",
    "    base - 35 / 2,\n",
    "    base - 36 / 2,\n",
    "    base - 43 / 2,\n",
    "    base - 37 / 2,\n",
    "])\n",
    "\n",
    "values = np.array([\n",
    "    246,\n",
    "    1633,\n",
    "    500,\n",
    "    150,\n",
    "    35,\n",
    "    36,\n",
    "    43,\n",
    "    37,\n",
    "])\n",
    "\n",
    "###############################################################################\n",
    "# The actual drawing part\n",
    "\n",
    "# The y position for each variable\n",
    "ys = range(len(values))[::-1]  # top to bottom\n",
    "\n",
    "# Plot the bars, one by one\n",
    "for y, low, value in zip(ys, lows, values):\n",
    "    # The width of the 'low' and 'high' pieces\n",
    "    low_width = base - low\n",
    "    high_width = low + value - base\n",
    "\n",
    "    # Each bar is a \"broken\" horizontal bar chart\n",
    "    plt.broken_barh(\n",
    "        [(low, low_width), (base, high_width)],\n",
    "        (y - 0.4, 0.8),\n",
    "        facecolors=['white', 'white'],  # Try different colors if you like\n",
    "        edgecolors=['black', 'black'],\n",
    "        linewidth=1,\n",
    "    )\n",
    "\n",
    "    # Display the value as text. It should be positioned in the center of\n",
    "    # the 'high' bar, except if there isn't any room there, then it should be\n",
    "    # next to bar instead.\n",
    "    x = base + high_width / 2\n",
    "    if x <= base + 50:\n",
    "        x = base + high_width + 50\n",
    "    plt.text(x, y, str(value), va='center', ha='center')\n",
    "\n",
    "# Draw a vertical line down the middle\n",
    "plt.axvline(base, color='black')\n",
    "\n",
    "# Position the x-axis on the top, hide all the other spines (=axis lines)\n",
    "axes = plt.gca()  # (gca = get current axes)\n",
    "axes.spines['left'].set_visible(False)\n",
    "axes.spines['right'].set_visible(False)\n",
    "axes.spines['bottom'].set_visible(False)\n",
    "axes.xaxis.set_ticks_position('top')\n",
    "\n",
    "# Make the y-axis display the variables\n",
    "plt.yticks(ys, variables)\n",
    "\n",
    "# Set the portion of the x- and y-axes to show\n",
    "plt.xlim(base - 1000, base + 1000)\n",
    "plt.ylim(-1, len(variables))"
   ]
  }
 ],
 "metadata": {
  "kernelspec": {
   "display_name": "Python 3",
   "language": "python",
   "name": "python3"
  },
  "language_info": {
   "codemirror_mode": {
    "name": "ipython",
    "version": 3
   },
   "file_extension": ".py",
   "mimetype": "text/x-python",
   "name": "python",
   "nbconvert_exporter": "python",
   "pygments_lexer": "ipython3",
   "version": "3.7.3"
  }
 },
 "nbformat": 4,
 "nbformat_minor": 4
}
