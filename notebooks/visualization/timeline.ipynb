{
 "cells": [
  {
   "cell_type": "markdown",
   "metadata": {},
   "source": [
    "# Timeline"
   ]
  },
  {
   "cell_type": "markdown",
   "metadata": {},
   "source": [
    "![alt text](https://datavizproject.com/wp-content/uploads/2016/06/DVP_1_100-17.png)"
   ]
  },
  {
   "cell_type": "markdown",
   "metadata": {},
   "source": [
    "A Timeline displays a list of events in chronological order. Some timelines work on a scale, while others simply display events in sequence. The main purpose is to communicate time-related information, over time, either for analysis or to visually present a story or view of history."
   ]
  },
  {
   "cell_type": "code",
   "execution_count": 1,
   "metadata": {},
   "outputs": [],
   "source": [
    "import matplotlib.pyplot as plt\n",
    "import numpy as np\n",
    "import matplotlib.dates as mdates\n",
    "from datetime import datetime\n",
    "\n",
    "try:\n",
    "    # Try to fetch a list of Matplotlib releases and their dates\n",
    "    # from https://api.github.com/repos/matplotlib/matplotlib/releases\n",
    "    import urllib.request\n",
    "    import json\n",
    "\n",
    "    url = 'https://api.github.com/repos/matplotlib/matplotlib/releases'\n",
    "    url += '?per_page=100'\n",
    "    data = json.loads(urllib.request.urlopen(url, timeout=.4).read().decode())\n",
    "\n",
    "    dates = []\n",
    "    names = []\n",
    "    for item in data:\n",
    "        if 'rc' not in item['tag_name'] and 'b' not in item['tag_name']:\n",
    "            dates.append(item['published_at'].split(\"T\")[0])\n",
    "            names.append(item['tag_name'])\n",
    "    # Convert date strings (e.g. 2014-10-18) to datetime\n",
    "    dates = [datetime.strptime(d, \"%Y-%m-%d\") for d in dates]\n",
    "\n",
    "except Exception:\n",
    "    # In case the above fails, e.g. because of missing internet connection\n",
    "    # use the following lists as fallback.\n",
    "    names = ['v2.2.4', 'v3.0.3', 'v3.0.2', 'v3.0.1', 'v3.0.0', 'v2.2.3',\n",
    "             'v2.2.2', 'v2.2.1', 'v2.2.0', 'v2.1.2', 'v2.1.1', 'v2.1.0',\n",
    "             'v2.0.2', 'v2.0.1', 'v2.0.0', 'v1.5.3', 'v1.5.2', 'v1.5.1',\n",
    "             'v1.5.0', 'v1.4.3', 'v1.4.2', 'v1.4.1', 'v1.4.0']\n",
    "\n",
    "    dates = ['2019-02-26', '2019-02-26', '2018-11-10', '2018-11-10',\n",
    "             '2018-09-18', '2018-08-10', '2018-03-17', '2018-03-16',\n",
    "             '2018-03-06', '2018-01-18', '2017-12-10', '2017-10-07',\n",
    "             '2017-05-10', '2017-05-02', '2017-01-17', '2016-09-09',\n",
    "             '2016-07-03', '2016-01-10', '2015-10-29', '2015-02-16',\n",
    "             '2014-10-26', '2014-10-18', '2014-08-26']\n",
    "\n",
    "    # Convert date strings (e.g. 2014-10-18) to datetime\n",
    "    dates = [datetime.strptime(d, \"%Y-%m-%d\") for d in dates]"
   ]
  },
  {
   "cell_type": "code",
   "execution_count": 2,
   "metadata": {},
   "outputs": [
    {
     "data": {
      "image/png": "[encoded data removed]",
      "text/plain": [
       "<Figure size 633.6x288 with 1 Axes>"
      ]
     },
     "metadata": {
      "needs_background": "light"
     },
     "output_type": "display_data"
    }
   ],
   "source": [
    "# Choose some nice levels\n",
    "levels = np.tile([-5, 5, -3, 3, -1, 1],\n",
    "                 int(np.ceil(len(dates)/6)))[:len(dates)]\n",
    "\n",
    "# Create figure and plot a stem plot with the date\n",
    "fig, ax = plt.subplots(figsize=(8.8, 4), constrained_layout=True)\n",
    "ax.set(title=\"Matplotlib release dates\")\n",
    "\n",
    "markerline, stemline, baseline = ax.stem(dates, levels,\n",
    "                                         linefmt=\"C3-\", basefmt=\"k-\",\n",
    "                                         use_line_collection=True)\n",
    "\n",
    "plt.setp(markerline, mec=\"k\", mfc=\"w\", zorder=3)\n",
    "\n",
    "# Shift the markers to the baseline by replacing the y-data by zeros.\n",
    "markerline.set_ydata(np.zeros(len(dates)))\n",
    "\n",
    "# annotate lines\n",
    "vert = np.array(['top', 'bottom'])[(levels > 0).astype(int)]\n",
    "for d, l, r, va in zip(dates, levels, names, vert):\n",
    "    ax.annotate(r, xy=(d, l), xytext=(-3, np.sign(l)*3),\n",
    "                textcoords=\"offset points\", va=va, ha=\"right\")\n",
    "\n",
    "# format xaxis with 4 month intervals\n",
    "ax.get_xaxis().set_major_locator(mdates.MonthLocator(interval=4))\n",
    "ax.get_xaxis().set_major_formatter(mdates.DateFormatter(\"%b %Y\"))\n",
    "plt.setp(ax.get_xticklabels(), rotation=30, ha=\"right\")\n",
    "\n",
    "# remove y axis and spines\n",
    "ax.get_yaxis().set_visible(False)\n",
    "for spine in [\"left\", \"top\", \"right\"]:\n",
    "    ax.spines[spine].set_visible(False)\n",
    "\n",
    "ax.margins(y=0.1)\n",
    "plt.show()"
   ]
  }
 ],
 "metadata": {
  "kernelspec": {
   "display_name": "Python 3",
   "language": "python",
   "name": "python3"
  },
  "language_info": {
   "codemirror_mode": {
    "name": "ipython",
    "version": 3
   },
   "file_extension": ".py",
   "mimetype": "text/x-python",
   "name": "python",
   "nbconvert_exporter": "python",
   "pygments_lexer": "ipython3",
   "version": "3.7.4"
  }
 },
 "nbformat": 4,
 "nbformat_minor": 4
}
