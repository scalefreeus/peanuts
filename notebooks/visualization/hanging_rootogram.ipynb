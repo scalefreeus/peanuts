{
 "cells": [
  {
   "cell_type": "markdown",
   "metadata": {},
   "source": [
    "# Hanging Rootogram"
   ]
  },
  {
   "cell_type": "markdown",
   "metadata": {},
   "source": [
    "![alt text](https://datavizproject.com/wp-content/uploads/2016/06/DVP_1_100-83.png)"
   ]
  },
  {
   "cell_type": "markdown",
   "metadata": {},
   "source": [
    "Comparing the distribution of data with a theoretical distribution from an ordinary histogram can be difficult because small frequencies are dominated by the larger frequencies and it is hard to perceive the pattern of differences between the histogram bars and the curve. Therefore John Tukey introduced the Hanging Rootogram in 1971 (also called Tukey’s Hanging Rootogram) in order to solve these problems. In this visualization the comparison is made easier by ‘hanging’ the observed results from the theoretical curve, so that the discrepancies are seen by comparison with the horizontal axis rather than a sloping curve. As in the rootogram, the vertical axis is scaled to the square-root of the frequencies so as to draw attention to discrepancies in the tails of the distribution.\n",
    "\n",
    " \n",
    "\n",
    "It is a variation of the concept of histograms and Pareto charts by combining observed and predicted in a simple way where the line charts display that the data is continuously changing."
   ]
  },
  {
   "cell_type": "code",
   "execution_count": null,
   "metadata": {},
   "outputs": [],
   "source": [
    "import matplotlib.pyplot as plt\n",
    "import numpy as np\n",
    "#import matplotlib.mlab as mlab\n",
    "from scipy.stats import norm\n",
    "\n",
    "import matplotlib as mpl\n",
    "mpl.style.use(['fivethirtyeight'])\n",
    "\n",
    "%matplotlib inline\n",
    "\n",
    "fig, ax = plt.subplots(1, 2)\n",
    "mu = 10\n",
    "sig = 0.3\n",
    "my_data = np.random.normal(mu, sig, 200)\n",
    "x = np.linspace(9, 11, 100)\n",
    "\n",
    "# I plot the data twice, one for the histogram only for comparison,\n",
    "# and one for the rootogram.\n",
    "# The trick will be to modify the histogram to make it hang to\n",
    "# the expected distribution curve:\n",
    "\n",
    "for a in ax:\n",
    "    a.hist(my_data, density=True)\n",
    "    #a.plot(x, mlab.normpdf(x, mu, sig))\n",
    "    a.plot(x, norm.pdf(x, mu, sig))\n",
    "    a.set_ylim(-0.2)\n",
    "    a.set_xlim(9, 11)\n",
    "    a.hlines(0, 9, 11, linestyle=\"--\")\n",
    "\n",
    "for rectangle in ax[1].patches:\n",
    "\n",
    "    # expected value in the middle of the bar\n",
    "    #exp = mlab.normpdf(rectangle.get_x() + rectangle.get_width()/2., mu, sig)\n",
    "    exp = norm.pdf(rectangle.get_x() + rectangle.get_width()/2., mu, sig)\n",
    "\n",
    "    # difference to the expected value\n",
    "    diff = exp - rectangle.get_height()\n",
    "    rectangle.set_y(diff)\n",
    "\n",
    "    ax[1].plot(rectangle.get_x() + rectangle.get_width()/2., exp, \"ro\")\n",
    "\n",
    "ax[0].set_title(\"histogram\")\n",
    "ax[1].set_title(\"hanging rootogram\")\n",
    "plt.tight_layout()"
   ]
  }
 ],
 "metadata": {
  "kernelspec": {
   "display_name": "Python 3",
   "language": "python",
   "name": "python3"
  },
  "language_info": {
   "codemirror_mode": {
    "name": "ipython",
    "version": 3
   },
   "file_extension": ".py",
   "mimetype": "text/x-python",
   "name": "python",
   "nbconvert_exporter": "python",
   "pygments_lexer": "ipython3",
   "version": "3.7.3"
  }
 },
 "nbformat": 4,
 "nbformat_minor": 4
}
