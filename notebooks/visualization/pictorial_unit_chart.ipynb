{
 "cells": [
  {
   "cell_type": "markdown",
   "metadata": {},
   "source": [
    "# Pictorial Unit Chart\n",
    "Also called: Pictogram, Pictorial Chart, Pictorial Graph, Picture Graph"
   ]
  },
  {
   "cell_type": "markdown",
   "metadata": {},
   "source": [
    "![alt text](https://datavizproject.com/wp-content/uploads/2015/10/15-Pictoral-Unit-Chart.png \"\")"
   ]
  },
  {
   "cell_type": "markdown",
   "metadata": {},
   "source": [
    "Visual presentation of data using icons, pictures, symbols, etc., in place of or in addition to common graph elements (bars, lines, points). Pictographs use relative sizes or repetitions of the same icon, picture, or symbol to show comparison."
   ]
  },
  {
   "cell_type": "code",
   "execution_count": 5,
   "metadata": {},
   "outputs": [
    {
     "data": {
      "image/png": "[encoded data removed]",
      "text/plain": [
       "<Figure size 446.4x158.4 with 2 Axes>"
      ]
     },
     "metadata": {
      "needs_background": "light"
     },
     "output_type": "display_data"
    }
   ],
   "source": [
    "from matplotlib.font_manager import FontProperties\n",
    "import matplotlib.pyplot as plt\n",
    "%matplotlib inline\n",
    "\n",
    "fp1 = FontProperties(fname=r\"/home/sean/fonts/fontawesome/otfs/Font Awesome 5 Brands-Regular-400.otf\")\n",
    "fp2 = FontProperties(fname=r\"/home/sean/fonts/fontawesome/otfs/Font Awesome 5 Free-Solid-900.otf\")\n",
    "\n",
    "symbols = dict(cloud = \"\\uf6c4\", campground = \"\\uf6bb\", hiking = \"\\uf6ec\",\n",
    "               mountain = \"\\uf6fc\", tree = \"\\uf1bb\", fish = \"\\uf578\",\n",
    "               stackoverflow = \"\\uf16c\")\n",
    "\n",
    "fig, (ax, ax2) = plt.subplots(ncols=2, figsize=(6.2, 2.2), sharey=True)\n",
    "ax.text(.5, .5, symbols[\"stackoverflow\"], fontproperties=fp1, size=100, \n",
    "         color=\"orange\", ha=\"center\", va=\"center\")\n",
    "\n",
    "\n",
    "ax2.stackplot([0,.3,.55,.6,.65,1],[.1,.2,.2,.2,.2,.15],[.3,.2,.2,.3,.2,.2],\n",
    "              colors=[\"paleturquoise\", \"palegreen\"])\n",
    "ax2.axis([0,1,0,1])\n",
    "ax2.text(.6, .4, symbols[\"mountain\"], fontproperties=fp2, size=16, ha=\"center\")\n",
    "ax2.text(.09, .23, symbols[\"campground\"], fontproperties=fp2, size=13)\n",
    "ax2.text(.22, .27, symbols[\"hiking\"], fontproperties=fp2, size=14)\n",
    "ax2.text(.7, .24, symbols[\"tree\"], fontproperties=fp2, size=14,color=\"forestgreen\")\n",
    "ax2.text(.8, .33, symbols[\"tree\"], fontproperties=fp2, size=14,color=\"forestgreen\")\n",
    "ax2.text(.88, .28, symbols[\"tree\"], fontproperties=fp2, size=14,color=\"forestgreen\")\n",
    "ax2.text(.35, .03, symbols[\"fish\"], fontproperties=fp2, size=14,)\n",
    "ax2.text(.2, .7, symbols[\"cloud\"], fontproperties=fp2, size=28,)\n",
    "\n",
    "plt.show()"
   ]
  },
  {
   "cell_type": "code",
   "execution_count": 6,
   "metadata": {},
   "outputs": [
    {
     "data": {
      "image/png": "[encoded data removed]",
      "text/plain": [
       "<Figure size 432x288 with 1 Axes>"
      ]
     },
     "metadata": {
      "needs_background": "light"
     },
     "output_type": "display_data"
    }
   ],
   "source": [
    "import numpy as np; np.random.seed(32)\n",
    "from matplotlib.path import Path\n",
    "from matplotlib.textpath import TextToPath\n",
    "from matplotlib.font_manager import FontProperties\n",
    "import matplotlib.pyplot as plt\n",
    "\n",
    "fp = FontProperties(fname=r\"/home/sean/fonts/fontawesome/otfs/Font Awesome 5 Free-Solid-900.otf\")\n",
    "\n",
    "symbols = dict(cloud = \"\\uf6c4\", campground = \"\\uf6bb\", hiking = \"\\uf6ec\",\n",
    "               mountain = \"\\uf6fc\", tree = \"\\uf1bb\", fish = \"\\uf578\",\n",
    "               stackoverflow = \"\\uf16c\")\n",
    "\n",
    "fig, ax = plt.subplots()\n",
    "\n",
    "def get_marker(symbol):\n",
    "    v, codes = TextToPath().get_text_path(fp, symbol)\n",
    "    v = np.array(v)\n",
    "    mean = np.mean([np.max(v,axis=0), np.min(v, axis=0)], axis=0)\n",
    "    return Path(v-mean, codes, closed=False)\n",
    "\n",
    "x = np.random.randn(4,10)\n",
    "c = np.random.rand(10)\n",
    "s = np.random.randint(120,500, size=10)\n",
    "plt.scatter(*x[:2], s=s, c=c, marker=get_marker(symbols[\"cloud\"]), \n",
    "            edgecolors=\"none\", linewidth=2)\n",
    "plt.scatter(*x[2:], s=s, c=c, marker=get_marker(symbols[\"fish\"]), \n",
    "            edgecolors=\"none\", linewidth=2)   \n",
    "\n",
    "plt.show()"
   ]
  },
  {
   "cell_type": "markdown",
   "metadata": {},
   "source": [
    "## Altair\n",
    "https://altair-viz.github.io/gallery/isotype.html"
   ]
  },
  {
   "cell_type": "code",
   "execution_count": 1,
   "metadata": {},
   "outputs": [
    {
     "data": {
      "application/vnd.vegalite.v3+json": {
       "$schema": "https://vega.github.io/schema/vega-lite/v3.4.0.json",
       "config": {
        "mark": {
         "tooltip": null
        },
        "view": {
         "height": 300,
         "width": 400
        }
       },
       "data": {
        "name": "data-006229bd86d4a5200814600dc915ef80"
       },
       "datasets": {
        "data-006229bd86d4a5200814600dc915ef80": [
         {
          "animal": "cattle",
          "country": "Great Britain"
         },
         {
          "animal": "cattle",
          "country": "Great Britain"
         },
         {
          "animal": "cattle",
          "country": "Great Britain"
         },
         {
          "animal": "pigs",
          "country": "Great Britain"
         },
         {
          "animal": "pigs",
          "country": "Great Britain"
         },
         {
          "animal": "sheep",
          "country": "Great Britain"
         },
         {
          "animal": "sheep",
          "country": "Great Britain"
         },
         {
          "animal": "sheep",
          "country": "Great Britain"
         },
         {
          "animal": "sheep",
          "country": "Great Britain"
         },
         {
          "animal": "sheep",
          "country": "Great Britain"
         },
         {
          "animal": "sheep",
          "country": "Great Britain"
         },
         {
          "animal": "sheep",
          "country": "Great Britain"
         },
         {
          "animal": "sheep",
          "country": "Great Britain"
         },
         {
          "animal": "sheep",
          "country": "Great Britain"
         },
         {
          "animal": "sheep",
          "country": "Great Britain"
         },
         {
          "animal": "cattle",
          "country": "United States"
         },
         {
          "animal": "cattle",
          "country": "United States"
         },
         {
          "animal": "cattle",
          "country": "United States"
         },
         {
          "animal": "cattle",
          "country": "United States"
         },
         {
          "animal": "cattle",
          "country": "United States"
         },
         {
          "animal": "cattle",
          "country": "United States"
         },
         {
          "animal": "cattle",
          "country": "United States"
         },
         {
          "animal": "cattle",
          "country": "United States"
         },
         {
          "animal": "cattle",
          "country": "United States"
         },
         {
          "animal": "pigs",
          "country": "United States"
         },
         {
          "animal": "pigs",
          "country": "United States"
         },
         {
          "animal": "pigs",
          "country": "United States"
         },
         {
          "animal": "pigs",
          "country": "United States"
         },
         {
          "animal": "pigs",
          "country": "United States"
         },
         {
          "animal": "pigs",
          "country": "United States"
         },
         {
          "animal": "sheep",
          "country": "United States"
         },
         {
          "animal": "sheep",
          "country": "United States"
         },
         {
          "animal": "sheep",
          "country": "United States"
         },
         {
          "animal": "sheep",
          "country": "United States"
         },
         {
          "animal": "sheep",
          "country": "United States"
         },
         {
          "animal": "sheep",
          "country": "United States"
         },
         {
          "animal": "sheep",
          "country": "United States"
         }
        ]
       },
       "encoding": {
        "color": {
         "field": "animal",
         "legend": null,
         "scale": {
          "domain": [
           "person",
           "cattle",
           "pigs",
           "sheep"
          ],
          "range": [
           "rgb(162,160,152)",
           "rgb(194,81,64)",
           "rgb(93,93,93)",
           "rgb(91,131,149)"
          ]
         },
         "type": "nominal"
        },
        "row": {
         "field": "country",
         "header": {
          "title": ""
         },
         "type": "nominal"
        },
        "shape": {
         "field": "animal",
         "legend": null,
         "scale": {
          "domain": [
           "person",
           "cattle",
           "pigs",
           "sheep"
          ],
          "range": [
           "M1.7 -1.7h-0.8c0.3 -0.2 0.6 -0.5 0.6 -0.9c0 -0.6 -0.4 -1 -1 -1c-0.6 0 -1 0.4 -1 1c0 0.4 0.2 0.7 0.6 0.9h-0.8c-0.4 0 -0.7 0.3 -0.7 0.6v1.9c0 0.3 0.3 0.6 0.6 0.6h0.2c0 0 0 0.1 0 0.1v1.9c0 0.3 0.2 0.6 0.3 0.6h1.3c0.2 0 0.3 -0.3 0.3 -0.6v-1.8c0 0 0 -0.1 0 -0.1h0.2c0.3 0 0.6 -0.3 0.6 -0.6v-2c0.2 -0.3 -0.1 -0.6 -0.4 -0.6z",
           "M4 -2c0 0 0.9 -0.7 1.1 -0.8c0.1 -0.1 -0.1 0.5 -0.3 0.7c-0.2 0.2 1.1 1.1 1.1 1.2c0 0.2 -0.2 0.8 -0.4 0.7c-0.1 0 -0.8 -0.3 -1.3 -0.2c-0.5 0.1 -1.3 1.6 -1.5 2c-0.3 0.4 -0.6 0.4 -0.6 0.4c0 0.1 0.3 1.7 0.4 1.8c0.1 0.1 -0.4 0.1 -0.5 0c0 0 -0.6 -1.9 -0.6 -1.9c-0.1 0 -0.3 -0.1 -0.3 -0.1c0 0.1 -0.5 1.4 -0.4 1.6c0.1 0.2 0.1 0.3 0.1 0.3c0 0 -0.4 0 -0.4 0c0 0 -0.2 -0.1 -0.1 -0.3c0 -0.2 0.3 -1.7 0.3 -1.7c0 0 -2.8 -0.9 -2.9 -0.8c-0.2 0.1 -0.4 0.6 -0.4 1c0 0.4 0.5 1.9 0.5 1.9l-0.5 0l-0.6 -2l0 -0.6c0 0 -1 0.8 -1 1c0 0.2 -0.2 1.3 -0.2 1.3c0 0 0.3 0.3 0.2 0.3c0 0 -0.5 0 -0.5 0c0 0 -0.2 -0.2 -0.1 -0.4c0 -0.1 0.2 -1.6 0.2 -1.6c0 0 0.5 -0.4 0.5 -0.5c0 -0.1 0 -2.7 -0.2 -2.7c-0.1 0 -0.4 2 -0.4 2c0 0 0 0.2 -0.2 0.5c-0.1 0.4 -0.2 1.1 -0.2 1.1c0 0 -0.2 -0.1 -0.2 -0.2c0 -0.1 -0.1 -0.7 0 -0.7c0.1 -0.1 0.3 -0.8 0.4 -1.4c0 -0.6 0.2 -1.3 0.4 -1.5c0.1 -0.2 0.6 -0.4 0.6 -0.4z",
           "M1.2 -2c0 0 0.7 0 1.2 0.5c0.5 0.5 0.4 0.6 0.5 0.6c0.1 0 0.7 0 0.8 0.1c0.1 0 0.2 0.2 0.2 0.2c0 0 -0.6 0.2 -0.6 0.3c0 0.1 0.4 0.9 0.6 0.9c0.1 0 0.6 0 0.6 0.1c0 0.1 0 0.7 -0.1 0.7c-0.1 0 -1.2 0.4 -1.5 0.5c-0.3 0.1 -1.1 0.5 -1.1 0.7c-0.1 0.2 0.4 1.2 0.4 1.2l-0.4 0c0 0 -0.4 -0.8 -0.4 -0.9c0 -0.1 -0.1 -0.3 -0.1 -0.3l-0.2 0l-0.5 1.3l-0.4 0c0 0 -0.1 -0.4 0 -0.6c0.1 -0.1 0.3 -0.6 0.3 -0.7c0 0 -0.8 0 -1.5 -0.1c-0.7 -0.1 -1.2 -0.3 -1.2 -0.2c0 0.1 -0.4 0.6 -0.5 0.6c0 0 0.3 0.9 0.3 0.9l-0.4 0c0 0 -0.4 -0.5 -0.4 -0.6c0 -0.1 -0.2 -0.6 -0.2 -0.5c0 0 -0.4 0.4 -0.6 0.4c-0.2 0.1 -0.4 0.1 -0.4 0.1c0 0 -0.1 0.6 -0.1 0.6l-0.5 0l0 -1c0 0 0.5 -0.4 0.5 -0.5c0 -0.1 -0.7 -1.2 -0.6 -1.4c0.1 -0.1 0.1 -1.1 0.1 -1.1c0 0 -0.2 0.1 -0.2 0.1c0 0 0 0.9 0 1c0 0.1 -0.2 0.3 -0.3 0.3c-0.1 0 0 -0.5 0 -0.9c0 -0.4 0 -0.4 0.2 -0.6c0.2 -0.2 0.6 -0.3 0.8 -0.8c0.3 -0.5 1 -0.6 1 -0.6z",
           "M-4.1 -0.5c0.2 0 0.2 0.2 0.5 0.2c0.3 0 0.3 -0.2 0.5 -0.2c0.2 0 0.2 0.2 0.4 0.2c0.2 0 0.2 -0.2 0.5 -0.2c0.2 0 0.2 0.2 0.4 0.2c0.2 0 0.2 -0.2 0.4 -0.2c0.1 0 0.2 0.2 0.4 0.1c0.2 0 0.2 -0.2 0.4 -0.3c0.1 0 0.1 -0.1 0.4 0c0.3 0 0.3 -0.4 0.6 -0.4c0.3 0 0.6 -0.3 0.7 -0.2c0.1 0.1 1.4 1 1.3 1.4c-0.1 0.4 -0.3 0.3 -0.4 0.3c-0.1 0 -0.5 -0.4 -0.7 -0.2c-0.3 0.2 -0.1 0.4 -0.2 0.6c-0.1 0.1 -0.2 0.2 -0.3 0.4c0 0.2 0.1 0.3 0 0.5c-0.1 0.2 -0.3 0.2 -0.3 0.5c0 0.3 -0.2 0.3 -0.3 0.6c-0.1 0.2 0 0.3 -0.1 0.5c-0.1 0.2 -0.1 0.2 -0.2 0.3c-0.1 0.1 0.3 1.1 0.3 1.1l-0.3 0c0 0 -0.3 -0.9 -0.3 -1c0 -0.1 -0.1 -0.2 -0.3 -0.2c-0.2 0 -0.3 0.1 -0.4 0.4c0 0.3 -0.2 0.8 -0.2 0.8l-0.3 0l0.3 -1c0 0 0.1 -0.6 -0.2 -0.5c-0.3 0.1 -0.2 -0.1 -0.4 -0.1c-0.2 -0.1 -0.3 0.1 -0.4 0c-0.2 -0.1 -0.3 0.1 -0.5 0c-0.2 -0.1 -0.1 0 -0.3 0.3c-0.2 0.3 -0.4 0.3 -0.4 0.3l0.2 1.1l-0.3 0l-0.2 -1.1c0 0 -0.4 -0.6 -0.5 -0.4c-0.1 0.3 -0.1 0.4 -0.3 0.4c-0.1 -0.1 -0.2 1.1 -0.2 1.1l-0.3 0l0.2 -1.1c0 0 -0.3 -0.1 -0.3 -0.5c0 -0.3 0.1 -0.5 0.1 -0.7c0.1 -0.2 -0.1 -1 -0.2 -1.1c-0.1 -0.2 -0.2 -0.8 -0.2 -0.8c0 0 -0.1 -0.5 0.4 -0.8z"
          ]
         },
         "type": "nominal"
        },
        "x": {
         "axis": null,
         "field": "x",
         "type": "ordinal"
        },
        "y": {
         "axis": null,
         "field": "animal",
         "type": "ordinal"
        }
       },
       "height": 140,
       "mark": {
        "filled": true,
        "opacity": 1,
        "size": 100,
        "type": "point"
       },
       "transform": [
        {
         "groupby": [
          "country",
          "animal"
         ],
         "window": [
          {
           "as": "x",
           "field": "",
           "op": "rank"
          }
         ]
        }
       ],
       "width": 550
      },
      "image/png": "[encoded data removed]",
      "text/plain": [
       "<VegaLite 3 object>\n",
       "\n",
       "If you see this message, it means the renderer has not been properly enabled\n",
       "for the frontend that you are using. For more information, see\n",
       "https://altair-viz.github.io/user_guide/troubleshooting.html\n"
      ]
     },
     "execution_count": 1,
     "metadata": {},
     "output_type": "execute_result"
    }
   ],
   "source": [
    "import altair as alt\n",
    "import pandas as pd\n",
    "\n",
    "source = pd.DataFrame([\n",
    "      {'country': 'Great Britain', 'animal': 'cattle'},\n",
    "      {'country': 'Great Britain', 'animal': 'cattle'},\n",
    "      {'country': 'Great Britain', 'animal': 'cattle'},\n",
    "      {'country': 'Great Britain', 'animal': 'pigs'},\n",
    "      {'country': 'Great Britain', 'animal': 'pigs'},\n",
    "      {'country': 'Great Britain', 'animal': 'sheep'},\n",
    "      {'country': 'Great Britain', 'animal': 'sheep'},\n",
    "      {'country': 'Great Britain', 'animal': 'sheep'},\n",
    "      {'country': 'Great Britain', 'animal': 'sheep'},\n",
    "      {'country': 'Great Britain', 'animal': 'sheep'},\n",
    "      {'country': 'Great Britain', 'animal': 'sheep'},\n",
    "      {'country': 'Great Britain', 'animal': 'sheep'},\n",
    "      {'country': 'Great Britain', 'animal': 'sheep'},\n",
    "      {'country': 'Great Britain', 'animal': 'sheep'},\n",
    "      {'country': 'Great Britain', 'animal': 'sheep'},\n",
    "      {'country': 'United States', 'animal': 'cattle'},\n",
    "      {'country': 'United States', 'animal': 'cattle'},\n",
    "      {'country': 'United States', 'animal': 'cattle'},\n",
    "      {'country': 'United States', 'animal': 'cattle'},\n",
    "      {'country': 'United States', 'animal': 'cattle'},\n",
    "      {'country': 'United States', 'animal': 'cattle'},\n",
    "      {'country': 'United States', 'animal': 'cattle'},\n",
    "      {'country': 'United States', 'animal': 'cattle'},\n",
    "      {'country': 'United States', 'animal': 'cattle'},\n",
    "      {'country': 'United States', 'animal': 'pigs'},\n",
    "      {'country': 'United States', 'animal': 'pigs'},\n",
    "      {'country': 'United States', 'animal': 'pigs'},\n",
    "      {'country': 'United States', 'animal': 'pigs'},\n",
    "      {'country': 'United States', 'animal': 'pigs'},\n",
    "      {'country': 'United States', 'animal': 'pigs'},\n",
    "      {'country': 'United States', 'animal': 'sheep'},\n",
    "      {'country': 'United States', 'animal': 'sheep'},\n",
    "      {'country': 'United States', 'animal': 'sheep'},\n",
    "      {'country': 'United States', 'animal': 'sheep'},\n",
    "      {'country': 'United States', 'animal': 'sheep'},\n",
    "      {'country': 'United States', 'animal': 'sheep'},\n",
    "      {'country': 'United States', 'animal': 'sheep'}\n",
    "    ])\n",
    "\n",
    "domains = ['person', 'cattle', 'pigs', 'sheep']\n",
    "\n",
    "shape_scale = alt.Scale(\n",
    "    domain=domains,\n",
    "    range=[\n",
    "        'M1.7 -1.7h-0.8c0.3 -0.2 0.6 -0.5 0.6 -0.9c0 -0.6 -0.4 -1 -1 -1c-0.6 0 -1 0.4 -1 1c0 0.4 0.2 0.7 0.6 0.9h-0.8c-0.4 0 -0.7 0.3 -0.7 0.6v1.9c0 0.3 0.3 0.6 0.6 0.6h0.2c0 0 0 0.1 0 0.1v1.9c0 0.3 0.2 0.6 0.3 0.6h1.3c0.2 0 0.3 -0.3 0.3 -0.6v-1.8c0 0 0 -0.1 0 -0.1h0.2c0.3 0 0.6 -0.3 0.6 -0.6v-2c0.2 -0.3 -0.1 -0.6 -0.4 -0.6z',\n",
    "        'M4 -2c0 0 0.9 -0.7 1.1 -0.8c0.1 -0.1 -0.1 0.5 -0.3 0.7c-0.2 0.2 1.1 1.1 1.1 1.2c0 0.2 -0.2 0.8 -0.4 0.7c-0.1 0 -0.8 -0.3 -1.3 -0.2c-0.5 0.1 -1.3 1.6 -1.5 2c-0.3 0.4 -0.6 0.4 -0.6 0.4c0 0.1 0.3 1.7 0.4 1.8c0.1 0.1 -0.4 0.1 -0.5 0c0 0 -0.6 -1.9 -0.6 -1.9c-0.1 0 -0.3 -0.1 -0.3 -0.1c0 0.1 -0.5 1.4 -0.4 1.6c0.1 0.2 0.1 0.3 0.1 0.3c0 0 -0.4 0 -0.4 0c0 0 -0.2 -0.1 -0.1 -0.3c0 -0.2 0.3 -1.7 0.3 -1.7c0 0 -2.8 -0.9 -2.9 -0.8c-0.2 0.1 -0.4 0.6 -0.4 1c0 0.4 0.5 1.9 0.5 1.9l-0.5 0l-0.6 -2l0 -0.6c0 0 -1 0.8 -1 1c0 0.2 -0.2 1.3 -0.2 1.3c0 0 0.3 0.3 0.2 0.3c0 0 -0.5 0 -0.5 0c0 0 -0.2 -0.2 -0.1 -0.4c0 -0.1 0.2 -1.6 0.2 -1.6c0 0 0.5 -0.4 0.5 -0.5c0 -0.1 0 -2.7 -0.2 -2.7c-0.1 0 -0.4 2 -0.4 2c0 0 0 0.2 -0.2 0.5c-0.1 0.4 -0.2 1.1 -0.2 1.1c0 0 -0.2 -0.1 -0.2 -0.2c0 -0.1 -0.1 -0.7 0 -0.7c0.1 -0.1 0.3 -0.8 0.4 -1.4c0 -0.6 0.2 -1.3 0.4 -1.5c0.1 -0.2 0.6 -0.4 0.6 -0.4z',\n",
    "        'M1.2 -2c0 0 0.7 0 1.2 0.5c0.5 0.5 0.4 0.6 0.5 0.6c0.1 0 0.7 0 0.8 0.1c0.1 0 0.2 0.2 0.2 0.2c0 0 -0.6 0.2 -0.6 0.3c0 0.1 0.4 0.9 0.6 0.9c0.1 0 0.6 0 0.6 0.1c0 0.1 0 0.7 -0.1 0.7c-0.1 0 -1.2 0.4 -1.5 0.5c-0.3 0.1 -1.1 0.5 -1.1 0.7c-0.1 0.2 0.4 1.2 0.4 1.2l-0.4 0c0 0 -0.4 -0.8 -0.4 -0.9c0 -0.1 -0.1 -0.3 -0.1 -0.3l-0.2 0l-0.5 1.3l-0.4 0c0 0 -0.1 -0.4 0 -0.6c0.1 -0.1 0.3 -0.6 0.3 -0.7c0 0 -0.8 0 -1.5 -0.1c-0.7 -0.1 -1.2 -0.3 -1.2 -0.2c0 0.1 -0.4 0.6 -0.5 0.6c0 0 0.3 0.9 0.3 0.9l-0.4 0c0 0 -0.4 -0.5 -0.4 -0.6c0 -0.1 -0.2 -0.6 -0.2 -0.5c0 0 -0.4 0.4 -0.6 0.4c-0.2 0.1 -0.4 0.1 -0.4 0.1c0 0 -0.1 0.6 -0.1 0.6l-0.5 0l0 -1c0 0 0.5 -0.4 0.5 -0.5c0 -0.1 -0.7 -1.2 -0.6 -1.4c0.1 -0.1 0.1 -1.1 0.1 -1.1c0 0 -0.2 0.1 -0.2 0.1c0 0 0 0.9 0 1c0 0.1 -0.2 0.3 -0.3 0.3c-0.1 0 0 -0.5 0 -0.9c0 -0.4 0 -0.4 0.2 -0.6c0.2 -0.2 0.6 -0.3 0.8 -0.8c0.3 -0.5 1 -0.6 1 -0.6z',\n",
    "        'M-4.1 -0.5c0.2 0 0.2 0.2 0.5 0.2c0.3 0 0.3 -0.2 0.5 -0.2c0.2 0 0.2 0.2 0.4 0.2c0.2 0 0.2 -0.2 0.5 -0.2c0.2 0 0.2 0.2 0.4 0.2c0.2 0 0.2 -0.2 0.4 -0.2c0.1 0 0.2 0.2 0.4 0.1c0.2 0 0.2 -0.2 0.4 -0.3c0.1 0 0.1 -0.1 0.4 0c0.3 0 0.3 -0.4 0.6 -0.4c0.3 0 0.6 -0.3 0.7 -0.2c0.1 0.1 1.4 1 1.3 1.4c-0.1 0.4 -0.3 0.3 -0.4 0.3c-0.1 0 -0.5 -0.4 -0.7 -0.2c-0.3 0.2 -0.1 0.4 -0.2 0.6c-0.1 0.1 -0.2 0.2 -0.3 0.4c0 0.2 0.1 0.3 0 0.5c-0.1 0.2 -0.3 0.2 -0.3 0.5c0 0.3 -0.2 0.3 -0.3 0.6c-0.1 0.2 0 0.3 -0.1 0.5c-0.1 0.2 -0.1 0.2 -0.2 0.3c-0.1 0.1 0.3 1.1 0.3 1.1l-0.3 0c0 0 -0.3 -0.9 -0.3 -1c0 -0.1 -0.1 -0.2 -0.3 -0.2c-0.2 0 -0.3 0.1 -0.4 0.4c0 0.3 -0.2 0.8 -0.2 0.8l-0.3 0l0.3 -1c0 0 0.1 -0.6 -0.2 -0.5c-0.3 0.1 -0.2 -0.1 -0.4 -0.1c-0.2 -0.1 -0.3 0.1 -0.4 0c-0.2 -0.1 -0.3 0.1 -0.5 0c-0.2 -0.1 -0.1 0 -0.3 0.3c-0.2 0.3 -0.4 0.3 -0.4 0.3l0.2 1.1l-0.3 0l-0.2 -1.1c0 0 -0.4 -0.6 -0.5 -0.4c-0.1 0.3 -0.1 0.4 -0.3 0.4c-0.1 -0.1 -0.2 1.1 -0.2 1.1l-0.3 0l0.2 -1.1c0 0 -0.3 -0.1 -0.3 -0.5c0 -0.3 0.1 -0.5 0.1 -0.7c0.1 -0.2 -0.1 -1 -0.2 -1.1c-0.1 -0.2 -0.2 -0.8 -0.2 -0.8c0 0 -0.1 -0.5 0.4 -0.8z'\n",
    "    ]\n",
    ")\n",
    "\n",
    "color_scale = alt.Scale(\n",
    "    domain=domains,\n",
    "    range=['rgb(162,160,152)', 'rgb(194,81,64)', 'rgb(93,93,93)', 'rgb(91,131,149)']\n",
    ")\n",
    "\n",
    "alt.Chart(source).mark_point(filled=True, opacity=1, size=100).encode(\n",
    "    alt.X('x:O', axis=None),\n",
    "    alt.Y('animal:O', axis=None),\n",
    "    alt.Row('country:N', header=alt.Header(title='')),\n",
    "    alt.Shape('animal:N', legend=None, scale=shape_scale),\n",
    "    alt.Color('animal:N', legend=None, scale=color_scale),\n",
    ").transform_window(\n",
    "    x='rank()',\n",
    "    groupby=['country', 'animal']\n",
    ").properties(width=550, height=140)"
   ]
  },
  {
   "cell_type": "code",
   "execution_count": null,
   "metadata": {},
   "outputs": [
    {
     "data": {
      "application/vnd.vegalite.v3+json": {
       "$schema": "https://vega.github.io/schema/vega-lite/v3.4.0.json",
       "config": {
        "mark": {
         "tooltip": null
        },
        "view": {
         "height": 300,
         "width": 400
        }
       },
       "data": {
        "name": "data-006229bd86d4a5200814600dc915ef80"
       },
       "datasets": {
        "data-006229bd86d4a5200814600dc915ef80": [
         {
          "animal": "cattle",
          "country": "Great Britain"
         },
         {
          "animal": "cattle",
          "country": "Great Britain"
         },
         {
          "animal": "cattle",
          "country": "Great Britain"
         },
         {
          "animal": "pigs",
          "country": "Great Britain"
         },
         {
          "animal": "pigs",
          "country": "Great Britain"
         },
         {
          "animal": "sheep",
          "country": "Great Britain"
         },
         {
          "animal": "sheep",
          "country": "Great Britain"
         },
         {
          "animal": "sheep",
          "country": "Great Britain"
         },
         {
          "animal": "sheep",
          "country": "Great Britain"
         },
         {
          "animal": "sheep",
          "country": "Great Britain"
         },
         {
          "animal": "sheep",
          "country": "Great Britain"
         },
         {
          "animal": "sheep",
          "country": "Great Britain"
         },
         {
          "animal": "sheep",
          "country": "Great Britain"
         },
         {
          "animal": "sheep",
          "country": "Great Britain"
         },
         {
          "animal": "sheep",
          "country": "Great Britain"
         },
         {
          "animal": "cattle",
          "country": "United States"
         },
         {
          "animal": "cattle",
          "country": "United States"
         },
         {
          "animal": "cattle",
          "country": "United States"
         },
         {
          "animal": "cattle",
          "country": "United States"
         },
         {
          "animal": "cattle",
          "country": "United States"
         },
         {
          "animal": "cattle",
          "country": "United States"
         },
         {
          "animal": "cattle",
          "country": "United States"
         },
         {
          "animal": "cattle",
          "country": "United States"
         },
         {
          "animal": "cattle",
          "country": "United States"
         },
         {
          "animal": "pigs",
          "country": "United States"
         },
         {
          "animal": "pigs",
          "country": "United States"
         },
         {
          "animal": "pigs",
          "country": "United States"
         },
         {
          "animal": "pigs",
          "country": "United States"
         },
         {
          "animal": "pigs",
          "country": "United States"
         },
         {
          "animal": "pigs",
          "country": "United States"
         },
         {
          "animal": "sheep",
          "country": "United States"
         },
         {
          "animal": "sheep",
          "country": "United States"
         },
         {
          "animal": "sheep",
          "country": "United States"
         },
         {
          "animal": "sheep",
          "country": "United States"
         },
         {
          "animal": "sheep",
          "country": "United States"
         },
         {
          "animal": "sheep",
          "country": "United States"
         },
         {
          "animal": "sheep",
          "country": "United States"
         }
        ]
       },
       "encoding": {
        "row": {
         "field": "country",
         "header": {
          "title": ""
         },
         "type": "nominal"
        },
        "text": {
         "field": "emoji",
         "type": "nominal"
        },
        "x": {
         "axis": null,
         "field": "x",
         "type": "ordinal"
        },
        "y": {
         "axis": null,
         "field": "animal",
         "type": "ordinal"
        }
       },
       "height": 140,
       "mark": {
        "baseline": "middle",
        "size": 45,
        "type": "text"
       },
       "transform": [
        {
         "as": "emoji",
         "calculate": "{'cattle': '🐄', 'pigs': '🐖', 'sheep': '🐏'}[datum.animal]"
        },
        {
         "groupby": [
          "country",
          "animal"
         ],
         "window": [
          {
           "as": "x",
           "field": "",
           "op": "rank"
          }
         ]
        }
       ],
       "width": 550
      },
      "image/png": "[encoded data removed]",
      "text/plain": [
       "<VegaLite 3 object>\n",
       "\n",
       "If you see this message, it means the renderer has not been properly enabled\n",
       "for the frontend that you are using. For more information, see\n",
       "https://altair-viz.github.io/user_guide/troubleshooting.html\n"
      ]
     },
     "execution_count": 2,
     "metadata": {},
     "output_type": "execute_result"
    }
   ],
   "source": [
    "import altair as alt\n",
    "import pandas as pd\n",
    "\n",
    "source = pd.DataFrame([\n",
    "      {'country': 'Great Britain', 'animal': 'cattle'},\n",
    "      {'country': 'Great Britain', 'animal': 'cattle'},\n",
    "      {'country': 'Great Britain', 'animal': 'cattle'},\n",
    "      {'country': 'Great Britain', 'animal': 'pigs'},\n",
    "      {'country': 'Great Britain', 'animal': 'pigs'},\n",
    "      {'country': 'Great Britain', 'animal': 'sheep'},\n",
    "      {'country': 'Great Britain', 'animal': 'sheep'},\n",
    "      {'country': 'Great Britain', 'animal': 'sheep'},\n",
    "      {'country': 'Great Britain', 'animal': 'sheep'},\n",
    "      {'country': 'Great Britain', 'animal': 'sheep'},\n",
    "      {'country': 'Great Britain', 'animal': 'sheep'},\n",
    "      {'country': 'Great Britain', 'animal': 'sheep'},\n",
    "      {'country': 'Great Britain', 'animal': 'sheep'},\n",
    "      {'country': 'Great Britain', 'animal': 'sheep'},\n",
    "      {'country': 'Great Britain', 'animal': 'sheep'},\n",
    "      {'country': 'United States', 'animal': 'cattle'},\n",
    "      {'country': 'United States', 'animal': 'cattle'},\n",
    "      {'country': 'United States', 'animal': 'cattle'},\n",
    "      {'country': 'United States', 'animal': 'cattle'},\n",
    "      {'country': 'United States', 'animal': 'cattle'},\n",
    "      {'country': 'United States', 'animal': 'cattle'},\n",
    "      {'country': 'United States', 'animal': 'cattle'},\n",
    "      {'country': 'United States', 'animal': 'cattle'},\n",
    "      {'country': 'United States', 'animal': 'cattle'},\n",
    "      {'country': 'United States', 'animal': 'pigs'},\n",
    "      {'country': 'United States', 'animal': 'pigs'},\n",
    "      {'country': 'United States', 'animal': 'pigs'},\n",
    "      {'country': 'United States', 'animal': 'pigs'},\n",
    "      {'country': 'United States', 'animal': 'pigs'},\n",
    "      {'country': 'United States', 'animal': 'pigs'},\n",
    "      {'country': 'United States', 'animal': 'sheep'},\n",
    "      {'country': 'United States', 'animal': 'sheep'},\n",
    "      {'country': 'United States', 'animal': 'sheep'},\n",
    "      {'country': 'United States', 'animal': 'sheep'},\n",
    "      {'country': 'United States', 'animal': 'sheep'},\n",
    "      {'country': 'United States', 'animal': 'sheep'},\n",
    "      {'country': 'United States', 'animal': 'sheep'}\n",
    "    ])\n",
    "\n",
    "\n",
    "alt.Chart(source).mark_text(size=45, baseline='middle').encode(\n",
    "    alt.X('x:O', axis=None),\n",
    "    alt.Y('animal:O', axis=None),\n",
    "    alt.Row('country:N', header=alt.Header(title='')),\n",
    "    alt.Text('emoji:N')\n",
    ").transform_calculate(\n",
    "    emoji=\"{'cattle': '🐄', 'pigs': '🐖', 'sheep': '🐏'}[datum.animal]\"\n",
    ").transform_window(\n",
    "    x='rank()',\n",
    "    groupby=['country', 'animal']\n",
    ").properties(width=550, height=140)"
   ]
  }
 ],
 "metadata": {
  "kernelspec": {
   "display_name": "Python 3",
   "language": "python",
   "name": "python3"
  },
  "language_info": {
   "codemirror_mode": {
    "name": "ipython",
    "version": 3
   },
   "file_extension": ".py",
   "mimetype": "text/x-python",
   "name": "python",
   "nbconvert_exporter": "python",
   "pygments_lexer": "ipython3",
   "version": "3.8.0"
  }
 },
 "nbformat": 4,
 "nbformat_minor": 4
}
