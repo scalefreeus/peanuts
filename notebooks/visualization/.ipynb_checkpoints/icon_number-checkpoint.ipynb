{
 "cells": [
  {
   "cell_type": "markdown",
   "metadata": {},
   "source": [
    "# Icon + number"
   ]
  },
  {
   "cell_type": "markdown",
   "metadata": {},
   "source": [
    "![alt text](https://datavizproject.com/wp-content/uploads/2016/02/DVP_101_200-52.png)"
   ]
  },
  {
   "cell_type": "markdown",
   "metadata": {},
   "source": [
    "\n",
    "An number  is often used in infographics to emphasize a single data. A simple icon or an illustration mostly comes along in order to describe what it is about and to help understand the following text."
   ]
  },
  {
   "cell_type": "code",
   "execution_count": 1,
   "metadata": {},
   "outputs": [
    {
     "ename": "ImportError",
     "evalue": "cannot import name 'Liquid' from 'pyecharts' (/home/sean/anaconda3/envs/gpi/lib/python3.7/site-packages/pyecharts/__init__.py)",
     "output_type": "error",
     "traceback": [
      "\u001b[0;31m---------------------------------------------------------------------------\u001b[0m",
      "\u001b[0;31mImportError\u001b[0m                               Traceback (most recent call last)",
      "\u001b[0;32m<ipython-input-1-9d306255b556>\u001b[0m in \u001b[0;36m<module>\u001b[0;34m\u001b[0m\n\u001b[0;32m----> 1\u001b[0;31m \u001b[0;32mfrom\u001b[0m \u001b[0mpyecharts\u001b[0m \u001b[0;32mimport\u001b[0m \u001b[0mLiquid\u001b[0m\u001b[0;34m\u001b[0m\u001b[0;34m\u001b[0m\u001b[0m\n\u001b[0m\u001b[1;32m      2\u001b[0m \u001b[0;34m\u001b[0m\u001b[0m\n\u001b[1;32m      3\u001b[0m shape = (\"path://M367.855,428.202c-3.674-1.385-7.452-1.966-11.146-1\"\n\u001b[1;32m      4\u001b[0m          \u001b[0;34m\".794c0.659-2.922,0.844-5.85,0.58-8.719 c-0.937-10.407-7.\"\u001b[0m\u001b[0;34m\u001b[0m\u001b[0;34m\u001b[0m\u001b[0m\n\u001b[1;32m      5\u001b[0m          \u001b[0;34m\"663-19.864-18.063-23.834c-10.697-4.043-22.298-1.168-29.9\"\u001b[0m\u001b[0;34m\u001b[0m\u001b[0;34m\u001b[0m\u001b[0m\n",
      "\u001b[0;31mImportError\u001b[0m: cannot import name 'Liquid' from 'pyecharts' (/home/sean/anaconda3/envs/gpi/lib/python3.7/site-packages/pyecharts/__init__.py)"
     ]
    }
   ],
   "source": [
    "from pyecharts import Liquid\n",
    "\n",
    "shape = (\"path://M367.855,428.202c-3.674-1.385-7.452-1.966-11.146-1\"\n",
    "         \".794c0.659-2.922,0.844-5.85,0.58-8.719 c-0.937-10.407-7.\"\n",
    "         \"663-19.864-18.063-23.834c-10.697-4.043-22.298-1.168-29.9\"\n",
    "         \"02,6.403c3.015,0.026,6.074,0.594,9.035,1.728 c13.626,5.\"\n",
    "         \"151,20.465,20.379,15.32,34.004c-1.905,5.02-5.177,9.115-9\"\n",
    "         \".22,12.05c-6.951,4.992-16.19,6.536-24.777,3.271 c-13.625\"\n",
    "         \"-5.137-20.471-20.371-15.32-34.004c0.673-1.768,1.523-3.423\"\n",
    "         \",2.526-4.992h-0.014c0,0,0,0,0,0.014 c4.386-6.853,8.145-14\"\n",
    "         \".279,11.146-22.187c23.294-61.505-7.689-130.278-69.215-153\"\n",
    "         \".579c-61.532-23.293-130.279,7.69-153.579,69.202 c-6.371,\"\n",
    "         \"16.785-8.679,34.097-7.426,50.901c0.026,0.554,0.079,1.121,\"\n",
    "         \"0.132,1.688c4.973,57.107,41.767,109.148,98.945,130.793 c58.\"\n",
    "         \"162,22.008,121.303,6.529,162.839-34.465c7.103-6.893,17.826\"\n",
    "         \"-9.444,27.679-5.719c11.858,4.491,18.565,16.6,16.719,28.643 \"\n",
    "         \"c4.438-3.126,8.033-7.564,10.117-13.045C389.751,449.992,\"\n",
    "         \"382.411,433.709,367.855,428.202z\")\n",
    "liquid = Liquid(\"水球图示例\", width=1000, height=600)\n",
    "liquid.add(\"Liquid\", [0.6, 0.5, 0.4, 0.3],\n",
    "           shape=shape, is_liquid_outline_show=False)\n",
    "liquid.render()"
   ]
  },
  {
   "cell_type": "code",
   "execution_count": 2,
   "metadata": {},
   "outputs": [
    {
     "ename": "ImportError",
     "evalue": "cannot import name 'Liquid' from 'pyecharts' (/home/sean/anaconda3/envs/gpi/lib/python3.7/site-packages/pyecharts/__init__.py)",
     "output_type": "error",
     "traceback": [
      "\u001b[0;31m---------------------------------------------------------------------------\u001b[0m",
      "\u001b[0;31mImportError\u001b[0m                               Traceback (most recent call last)",
      "\u001b[0;32m<ipython-input-2-53ecef35ae7f>\u001b[0m in \u001b[0;36m<module>\u001b[0;34m\u001b[0m\n\u001b[0;32m----> 1\u001b[0;31m \u001b[0;32mfrom\u001b[0m \u001b[0mpyecharts\u001b[0m \u001b[0;32mimport\u001b[0m \u001b[0mLiquid\u001b[0m\u001b[0;34m\u001b[0m\u001b[0;34m\u001b[0m\u001b[0m\n\u001b[0m\u001b[1;32m      2\u001b[0m \u001b[0;34m\u001b[0m\u001b[0m\n\u001b[1;32m      3\u001b[0m \u001b[0mliquid\u001b[0m \u001b[0;34m=\u001b[0m \u001b[0mLiquid\u001b[0m\u001b[0;34m(\u001b[0m\u001b[0;34m\"水球图示例\"\u001b[0m\u001b[0;34m)\u001b[0m\u001b[0;34m\u001b[0m\u001b[0;34m\u001b[0m\u001b[0m\n\u001b[1;32m      4\u001b[0m \u001b[0mliquid\u001b[0m\u001b[0;34m.\u001b[0m\u001b[0madd\u001b[0m\u001b[0;34m(\u001b[0m\u001b[0;34m\"Liquid\"\u001b[0m\u001b[0;34m,\u001b[0m \u001b[0;34m[\u001b[0m\u001b[0;36m0.6\u001b[0m\u001b[0;34m]\u001b[0m\u001b[0;34m)\u001b[0m\u001b[0;34m\u001b[0m\u001b[0;34m\u001b[0m\u001b[0m\n\u001b[1;32m      5\u001b[0m \u001b[0mliquid\u001b[0m\u001b[0;34m.\u001b[0m\u001b[0mshow_config\u001b[0m\u001b[0;34m(\u001b[0m\u001b[0;34m)\u001b[0m\u001b[0;34m\u001b[0m\u001b[0;34m\u001b[0m\u001b[0m\n",
      "\u001b[0;31mImportError\u001b[0m: cannot import name 'Liquid' from 'pyecharts' (/home/sean/anaconda3/envs/gpi/lib/python3.7/site-packages/pyecharts/__init__.py)"
     ]
    }
   ],
   "source": [
    "from pyecharts import Liquid\n",
    "\n",
    "liquid = Liquid(\"水球图示例\")\n",
    "liquid.add(\"Liquid\", [0.6])\n",
    "liquid.show_config()\n",
    "liquid.render()"
   ]
  }
 ],
 "metadata": {
  "kernelspec": {
   "display_name": "Python 3",
   "language": "python",
   "name": "python3"
  },
  "language_info": {
   "codemirror_mode": {
    "name": "ipython",
    "version": 3
   },
   "file_extension": ".py",
   "mimetype": "text/x-python",
   "name": "python",
   "nbconvert_exporter": "python",
   "pygments_lexer": "ipython3",
   "version": "3.7.3"
  }
 },
 "nbformat": 4,
 "nbformat_minor": 4
}
