{
 "cells": [
  {
   "cell_type": "markdown",
   "metadata": {},
   "source": [
    "Reference: https://datavizproject.com/#"
   ]
  },
  {
   "cell_type": "markdown",
   "metadata": {},
   "source": [
    "# Comparision\n",
    "- [Alluvial Diagram](alluvial_diagram.ipynb)\n",
    "- [Arc Diagram](arc_diagram.ipynb)\n",
    "- [Bar Chart on a Map](bar_chart_on_a_map.ipynb)\n",
    "- [Bar Chart (Horizontal)](bar_chart_horizontal.ipynb)\n",
    "- [Bar Chart (Vertical)](bar_chart_vertical.ipynb)\n",
    "- [Bubble Map Chart](bubble_map_chart.ipynb)\n",
    "- [Bubble Chart](bubble_chart.ipynb)\n",
    "- [Boxplot](boxplot.ipynb)\n",
    "- [Butterfly Chart](butterfly_chart.ipynb)\n",
    "- [Bump Chart](bump_chart.ipynb)\n",
    "- [Candlestick Chart](candlestick_chart.ipynb)\n",
    "- [Cartogram](cartogram.ipynb)\n",
    "- [Chord Diagram](chord_diagram.ipynb)\n",
    "- [Choropleth Map](choropleth_map.ipynb)\n",
    "- [Circular Heat map](circular_heat_map.ipynb)\n",
    "- Clustered Force Layout\n",
    "- [Column Sparkline](column_sparkline.ipynb)\n",
    "- Column Range\n",
    "- Compound Bubble and Pie Chart\n",
    "- Comparison Chart\n",
    "- Convex treemap\n",
    "- Curved Bar Chart\n",
    "- [Donut Chart](donut_chart.ipynb)\n",
    "- Dot Plot\n",
    "- Dumbbell Plot\n",
    "- Euler Diagram\n",
    "- [Hanging Rootogram](hanging_rootogram.ipynb)\n",
    "- [Heat Map](heat_map.ipynb)\n",
    "- Flow Map\n",
    "- [Grouped Bar Chart](grouped_bar_chart.ipynb)\n",
    "- Hive Plot\n",
    "- Icon Count\n",
    "- Isoline Map\n",
    "- Kagi Chart\n",
    "- [Lollipop Chart](lollipop_chart.ipynb)\n",
    "- [Layered Area Chart](layered_area_chart.ipynb)\n",
    "- [Marimekko Chart](marimekko_chart.ipynb)\n",
    "- [Multi-level Pie Chart](multi-level_pie_chart.ipynb)\n",
    "- [Multiple Series 3D Bar Charts](multiple_series_3d_bar_charts.ipynb)\n",
    "- Multi-level Donut Chart\n",
    "- Nested Proportional Area Chart\n",
    "- Opposite Diagram\n",
    "- Proportional Area Chart\n",
    "- Proportional Area Chart (Half Circle)\n",
    "- Partition Layer Chart Icicle Diagram\n",
    "- Phase Diagram\n",
    "- Packed Circle Chart\n",
    "- Parallel Coordinates\n",
    "- [Parallel Sets](parallel_sets.ipynb)\n",
    "- Pareto Chart\n",
    "- [Popular Pyramid](population_pyramid.ipynb)\n",
    "- [Pictorial bar chart](pictorial_bar_chart.ipynb)\n",
    "- Pie Chart Map\n",
    "- [Pictorial Unit Chart](pictorial_unit_chart.ipynb)\n",
    "- [Pie Chart](pie_chart.ipynb)\n",
    "- [Polar Area Chart](polar_area_chart.ipynb)\n",
    "- Polar Chart\n",
    "- Radar Diagram\n",
    "- Proportional Area Chart (Circle)\n",
    "- Proportional Area Chart (Square)\n",
    "- Radial Histogram\n",
    "- [Radial Bar Chart](radial_bar_chart.ipynb)\n",
    "- Radial Line Graph\n",
    "- [Sankey Diagram](sankey_diagram.ipynb)\n",
    "- Semi Circle Donut Chart\n",
    "- Slope Chart\n",
    "- Sorted Stream Graph\n",
    "- Span Chart\n",
    "- [Stacked Bart Chart](stacked_bar_chart.ipynb)\n",
    "- [Stream Graph](stream_graph.ipynb)\n",
    "- Stacked Ordered Area Chart\n",
    "- [Stacked Area Chart](stacked_area_chart.ipynb)\n",
    "- [Sunburst Diagram](sunburst_diagram.ipynb)\n",
    "- Tally Chart\n",
    "- Ternary Contour Plot\n",
    "- Topographic Map\n",
    "- [Table Chart](table_chart.ipynb)\n",
    "- [Treemap](treemap.ipynb)\n",
    "- Triangle Bar Chart\n",
    "- [Violin Plot](violin_plot.ipynb)\n",
    "- [Waffle Chart](waffle_chart.ipynb)\n",
    "- Waterfall Plot\n",
    "- [Waterfall Chart](waterfall_chart.ipynb)\n",
    "- [Word Cloud](word_cloud.ipynb)\n",
    "- Win-loss Sparkline\n"
   ]
  },
  {
   "cell_type": "markdown",
   "metadata": {},
   "source": [
    "# Distribution\n",
    "- Alluvial Diagram   \n",
    "- Sorted Stream Graph\n",
    "- [Area Chart](area_chart.ipynb)\n",
    "- [Bubble Chart](bubble_chart.ipynb)\n",
    "\n",
    "\n"
   ]
  },
  {
   "cell_type": "markdown",
   "metadata": {},
   "source": [
    "# Correlation\n",
    "- Sankey Diagram\n"
   ]
  },
  {
   "cell_type": "markdown",
   "metadata": {},
   "source": [
    "# Trend over time\n",
    "- Timeline"
   ]
  }
 ],
 "metadata": {
  "kernelspec": {
   "display_name": "Python 3",
   "language": "python",
   "name": "python3"
  },
  "language_info": {
   "codemirror_mode": {
    "name": "ipython",
    "version": 3
   },
   "file_extension": ".py",
   "mimetype": "text/x-python",
   "name": "python",
   "nbconvert_exporter": "python",
   "pygments_lexer": "ipython3",
   "version": "3.7.3"
  }
 },
 "nbformat": 4,
 "nbformat_minor": 4
}
