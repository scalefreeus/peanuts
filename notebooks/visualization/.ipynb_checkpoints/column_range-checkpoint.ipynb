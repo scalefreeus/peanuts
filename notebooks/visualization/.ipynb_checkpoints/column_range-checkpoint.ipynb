{
 "cells": [
  {
   "cell_type": "markdown",
   "metadata": {},
   "source": [
    "# Column Range\n"
   ]
  },
  {
   "cell_type": "markdown",
   "metadata": {},
   "source": [
    "![alt text](https://datavizproject.com/wp-content/uploads/2016/06/DVP_1_100-77.png)"
   ]
  },
  {
   "cell_type": "markdown",
   "metadata": {},
   "source": [
    "The Column Range displays a range of data by plotting two Y values per data point. Each Y value used is drawn as the upper, and lower bounds of a column. Sometimes range charts are referred as “floating” column charts. Some data may look very nice and are easily understood in this form, in which the column floats in the chart, spanning a region from a minimum value to a maximum value."
   ]
  },
  {
   "cell_type": "markdown",
   "metadata": {},
   "source": [
    "# Examples"
   ]
  },
  {
   "cell_type": "code",
   "execution_count": 4,
   "metadata": {},
   "outputs": [
    {
     "data": {
      "text/plain": [
       "[<matplotlib.axis.YTick at 0x7f83cb846550>,\n",
       " <matplotlib.axis.YTick at 0x7f83f910d9d0>,\n",
       " <matplotlib.axis.YTick at 0x7f83d04a7250>]"
      ]
     },
     "execution_count": 4,
     "metadata": {},
     "output_type": "execute_result"
    },
    {
     "data": {
      "text/plain": [
       "[Text(0, 0, 'Sensor3'), Text(0, 0, 'Sensor2'), Text(0, 0, 'Sensor1')]"
      ]
     },
     "execution_count": 4,
     "metadata": {},
     "output_type": "execute_result"
    },
    {
     "data": {
      "image/png": "[encoded data removed]",
      "text/plain": [
       "<Figure size 432x288 with 1 Axes>"
      ]
     },
     "metadata": {
      "needs_background": "light"
     },
     "output_type": "display_data"
    }
   ],
   "source": [
    "from pandas import DataFrame\n",
    "from numpy import datetime64, random\n",
    "import numpy \n",
    "%matplotlib inline\n",
    "\n",
    "# example data recorded by two different sensors\n",
    "example_data = random.rand(5,2)\n",
    "example_data2 = random.rand(9,2)\n",
    "example_data3 = random.rand(9,2)\n",
    "\n",
    "# timestamps from sensor1\n",
    "times = ['2000-01-01 09:00:00',\n",
    "        '2000-01-01 09:15:00',\n",
    "        '2000-01-01 09:30:00',\n",
    "        '2000-01-01 09:45:00',\n",
    "        '2000-01-01 10:00:00']\n",
    "\n",
    "# timestamps from sensor2\n",
    "times2 = ['2000-01-01 08:45:00',\n",
    "        '2000-01-01 09:00:00',\n",
    "        '2000-01-01 09:15:00',\n",
    "        '2000-01-01 09:30:00',\n",
    "        '2000-01-01 09:45:00',\n",
    "        '2000-01-01 10:00:00',\n",
    "        '2000-01-01 10:15:00',\n",
    "        '2000-01-01 10:30:00',\n",
    "        '2000-01-01 10:45:00']\n",
    "\n",
    "# timestamps from sensor2\n",
    "times3 = ['2000-01-01 09:20:00',\n",
    "        '2000-01-01 09:40:00',\n",
    "        '2000-01-01 10:00:00',\n",
    "        '2000-01-01 10:20:00',\n",
    "        '2000-01-01 10:40:00',\n",
    "        '2000-01-01 11:00:00',\n",
    "        '2000-01-01 11:20:00',\n",
    "        '2000-01-01 11:40:00',\n",
    "        '2000-01-01 12:00:00']\n",
    "\n",
    "# create the DataFrame object for sensor1 with the times and data above\n",
    "sensor1 = DataFrame({'Time': times,\n",
    "                    'measure1': example_data[:,0],\n",
    "                    'measure2': example_data[:,1]})\n",
    "\n",
    "# create the DataFrame object for sensor2 with the times and data above\n",
    "sensor2 = DataFrame({'Time': times2,\n",
    "                    'measure1': example_data2[:,0],\n",
    "                    'measure2': example_data2[:,1]})\n",
    "\n",
    "# create the DataFrame object for sensor2 with the times and data above\n",
    "sensor3 = DataFrame({'Time': times3,\n",
    "                    'measure1': example_data3[:,0],\n",
    "                    'measure2': example_data3[:,1]})\n",
    "\n",
    "# coerce the 'Time' column from string to a numpy datetime64 value\n",
    "sensor1['Time'] = sensor1['Time'].astype(datetime64)\n",
    "sensor2['Time'] = sensor2['Time'].astype(datetime64)\n",
    "sensor3['Time'] = sensor3['Time'].astype(datetime64)\n",
    "\n",
    "# create an index containing all time stamps\n",
    "idx1 = pandas.Index(sensor1.Time)\n",
    "idx2 = pandas.Index(sensor2.Time)\n",
    "idx3 = pandas.Index(sensor3.Time)\n",
    "df = pandas.DataFrame(index=idx1.union(idx2).union(idx3))\n",
    "\n",
    "# create a (constant) Series for each sensor\n",
    "df['Sensor1'] = df.index.to_series().apply(lambda x: 3 if x >= sensor1.Time.min() and x <= sensor1.Time.max() else numpy.NaN)\n",
    "df['Sensor2'] = df.index.to_series().apply(lambda x: 2 if x >= sensor2.Time.min() and x <= sensor2.Time.max() else numpy.NaN)\n",
    "df['Sensor3'] = df.index.to_series().apply(lambda x: 1 if x >= sensor3.Time.min() and x <= sensor3.Time.max() else numpy.NaN)\n",
    "\n",
    "# plot\n",
    "p = df.plot(ylim=[0, 4], legend=False)\n",
    "p.set_yticks([1., 2., 3.])\n",
    "p.set_yticklabels(['Sensor3', 'Sensor2', 'Sensor1'])"
   ]
  }
 ],
 "metadata": {
  "kernelspec": {
   "display_name": "Python 3",
   "language": "python",
   "name": "python3"
  },
  "language_info": {
   "codemirror_mode": {
    "name": "ipython",
    "version": 3
   },
   "file_extension": ".py",
   "mimetype": "text/x-python",
   "name": "python",
   "nbconvert_exporter": "python",
   "pygments_lexer": "ipython3",
   "version": "3.7.4"
  }
 },
 "nbformat": 4,
 "nbformat_minor": 4
}
