{
 "cells": [
  {
   "cell_type": "markdown",
   "metadata": {},
   "source": [
    "# Donut Chart\n",
    "Also called: doughnut chart"
   ]
  },
  {
   "cell_type": "markdown",
   "metadata": {},
   "source": [
    "![alt text](https://datavizproject.com/wp-content/uploads/2015/10/3-Donut-Chart-1024x1024.png)"
   ]
  },
  {
   "cell_type": "markdown",
   "metadata": {},
   "source": [
    "A donut chart (also spelled doughnut) is functionally identical to a pie chart, with the exception of a blank center and the ability to support multiple statistics at once. Doughnut charts provide a better data intensity ratio to standard pie charts since the blank center can be used to display additional, related data."
   ]
  },
  {
   "cell_type": "markdown",
   "metadata": {},
   "source": [
    "# Examples"
   ]
  },
  {
   "cell_type": "code",
   "execution_count": 11,
   "metadata": {},
   "outputs": [
    {
     "data": {
      "text/plain": [
       "([<matplotlib.patches.Wedge at 0x7f087afe0ba8>,\n",
       "  <matplotlib.patches.Wedge at 0x7f087afec0f0>,\n",
       "  <matplotlib.patches.Wedge at 0x7f087afec588>,\n",
       "  <matplotlib.patches.Wedge at 0x7f087afeca20>],\n",
       " [Text(0.8600146261281999, 0.6858387877960626, ''),\n",
       "  Text(-0.42095177560159874, 1.0162674857624154, ''),\n",
       "  Text(-1.0162674808358718, 0.42095178749532736, ''),\n",
       "  Text(-0.12316099315989873, -1.0930834230578503, '')])"
      ]
     },
     "execution_count": 11,
     "metadata": {},
     "output_type": "execute_result"
    },
    {
     "data": {
      "text/plain": [
       "<matplotlib.patches.Circle at 0x7f087b2cabe0>"
      ]
     },
     "execution_count": 11,
     "metadata": {},
     "output_type": "execute_result"
    },
    {
     "data": {
      "image/png": "[encoded data removed]",
      "text/plain": [
       "<Figure size 432x288 with 1 Axes>"
      ]
     },
     "metadata": {},
     "output_type": "display_data"
    }
   ],
   "source": [
    "# library\n",
    "import matplotlib.pyplot as plt\n",
    "%matplotlib inline\n",
    "\n",
    "# create data\n",
    "size_of_groups=[12,11,3,30]\n",
    " \n",
    "# Create a pieplot\n",
    "plt.pie(size_of_groups)\n",
    "#plt.show()\n",
    " \n",
    "# add a circle at the center\n",
    "my_circle=plt.Circle( (0,0), 0.7, color='white')\n",
    "p=plt.gcf()\n",
    "p.gca().add_artist(my_circle)\n",
    " \n",
    "plt.show()\n"
   ]
  },
  {
   "cell_type": "code",
   "execution_count": 12,
   "metadata": {},
   "outputs": [
    {
     "data": {
      "text/plain": [
       "([<matplotlib.patches.Wedge at 0x7f087afac780>,\n",
       "  <matplotlib.patches.Wedge at 0x7f087afacc88>,\n",
       "  <matplotlib.patches.Wedge at 0x7f087afba160>,\n",
       "  <matplotlib.patches.Wedge at 0x7f087afba5f8>],\n",
       " [Text(0.8600146261281999, 0.6858387877960626, 'groupA'),\n",
       "  Text(-0.42095177560159874, 1.0162674857624154, 'groupB'),\n",
       "  Text(-1.0162674808358718, 0.42095178749532736, 'groupC'),\n",
       "  Text(-0.12316099315989873, -1.0930834230578503, 'groupD')])"
      ]
     },
     "execution_count": 12,
     "metadata": {},
     "output_type": "execute_result"
    },
    {
     "data": {
      "text/plain": [
       "<matplotlib.patches.Circle at 0x7f087aff9f98>"
      ]
     },
     "execution_count": 12,
     "metadata": {},
     "output_type": "execute_result"
    },
    {
     "data": {
      "image/png": "[encoded data removed]",
      "text/plain": [
       "<Figure size 432x288 with 1 Axes>"
      ]
     },
     "metadata": {},
     "output_type": "display_data"
    }
   ],
   "source": [
    "# library\n",
    "import matplotlib.pyplot as plt\n",
    " \n",
    "# Data\n",
    "names='groupA', 'groupB', 'groupC', 'groupD',\n",
    "size=[12,11,3,30]\n",
    " \n",
    "# create a figure and set different background\n",
    "fig = plt.figure()\n",
    "fig.patch.set_facecolor('black')\n",
    " \n",
    "# Change color of text\n",
    "plt.rcParams['text.color'] = 'white'\n",
    " \n",
    "# Create a circle for the center of the plot\n",
    "my_circle=plt.Circle( (0,0), 0.7, color='black')\n",
    " \n",
    "# Pieplot + circle on it\n",
    "plt.pie(size, labels=names)\n",
    "p=plt.gcf()\n",
    "p.gca().add_artist(my_circle)\n",
    "plt.show()\n"
   ]
  }
 ],
 "metadata": {
  "kernelspec": {
   "display_name": "Python 3",
   "language": "python",
   "name": "python3"
  },
  "language_info": {
   "codemirror_mode": {
    "name": "ipython",
    "version": 3
   },
   "file_extension": ".py",
   "mimetype": "text/x-python",
   "name": "python",
   "nbconvert_exporter": "python",
   "pygments_lexer": "ipython3",
   "version": "3.7.3"
  }
 },
 "nbformat": 4,
 "nbformat_minor": 4
}
