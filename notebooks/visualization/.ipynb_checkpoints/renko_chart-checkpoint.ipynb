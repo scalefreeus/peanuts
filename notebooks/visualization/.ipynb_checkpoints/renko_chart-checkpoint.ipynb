{
 "cells": [
  {
   "cell_type": "markdown",
   "metadata": {},
   "source": [
    "# Renko Chart"
   ]
  },
  {
   "cell_type": "markdown",
   "metadata": {},
   "source": [
    "![alt text](https://datavizproject.com/wp-content/uploads/2016/06/DVP_101_200-29.png)"
   ]
  },
  {
   "cell_type": "markdown",
   "metadata": {},
   "source": [
    "Renko charts are excellent in projecting support and resistance levels. Bricks are drawn equal in size for a known value.A brick is drawn in the direction of the prior move but only if prices move by a minimum amount.If prices change by a predetermined amount or more, a new brick is drawn.If prices change by less than a predetermined amount, the new price is ignored."
   ]
  },
  {
   "cell_type": "code",
   "execution_count": 19,
   "metadata": {},
   "outputs": [
    {
     "name": "stdout",
     "output_type": "stream",
     "text": [
      "Collecting git+https://github.com/chillaranand/stocktrends\n",
      "  Cloning https://github.com/chillaranand/stocktrends to /tmp/pip-req-build-j5w1_5sc\n",
      "  Running command git clone -q https://github.com/chillaranand/stocktrends /tmp/pip-req-build-j5w1_5sc\n",
      "Building wheels for collected packages: stocktrends\n",
      "  Building wheel for stocktrends (setup.py) ... \u001b[?25ldone\n",
      "\u001b[?25h  Created wheel for stocktrends: filename=stocktrends-0.1.4-cp37-none-any.whl size=5226 sha256=400a9b4e99c7361d33e9145d1fd85465c0a8700cae6f3ba22cf2e114f0f8e883\n",
      "  Stored in directory: /tmp/pip-ephem-wheel-cache-nv89olms/wheels/d1/a6/17/1fe100dc614971113517ec7ae2af9da43163ed375c0a2e4e0f\n",
      "Successfully built stocktrends\n",
      "Installing collected packages: stocktrends\n",
      "Successfully installed stocktrends-0.1.4\n"
     ]
    }
   ],
   "source": [
    "!pip install git+https://github.com/chillaranand/stocktrends"
   ]
  },
  {
   "cell_type": "code",
   "execution_count": 26,
   "metadata": {},
   "outputs": [
    {
     "data": {
      "image/png": "[encoded data removed]",
      "text/plain": [
       "<Figure size 432x288 with 1 Axes>"
      ]
     },
     "metadata": {
      "needs_background": "light"
     },
     "output_type": "display_data"
    }
   ],
   "source": [
    "import pandas as pd\n",
    "from matplotlib.patches import Rectangle\n",
    "import matplotlib.pyplot as plt\n",
    "%matplotlib inline\n",
    "\n",
    "brick_size = 2\n",
    "\n",
    "\n",
    "def plot_renko(data, brick_size):\n",
    "    fig = plt.figure(1)\n",
    "    fig.clf()\n",
    "    axes = fig.gca()\n",
    "    y_max = max(data)\n",
    "    prev_num = 0\n",
    "\n",
    "    bricks = []\n",
    "\n",
    "    for delta in data:\n",
    "        delta = int(delta)\n",
    "        if delta > 0:\n",
    "            bricks.extend([1]*delta)\n",
    "        else:\n",
    "            bricks.extend([-1]*abs(delta))\n",
    "\n",
    "    for index, number in enumerate(bricks):\n",
    "        if number == 1:\n",
    "            facecolor='green'\n",
    "        else:\n",
    "            facecolor='red'\n",
    "\n",
    "        prev_num += number\n",
    "\n",
    "        renko = Rectangle(\n",
    "            (index, prev_num * brick_size), 1, brick_size,\n",
    "            facecolor=facecolor, alpha=0.5\n",
    "        )\n",
    "\n",
    "    plt.show()\n",
    "\n",
    "\n",
    "df = pd.read_csv('HDFCLIFE.csv')\n",
    "\n",
    "df['cdiff'] = df['close'] - df['close'].shift(1)\n",
    "df.dropna(inplace=True)\n",
    "df['bricks'] = df.loc[:, ('cdiff', )] / brick_size\n",
    "\n",
    "bricks = df[df['bricks'] != 0]['bricks'].values\n",
    "plot_renko(bricks, brick_size)"
   ]
  },
  {
   "cell_type": "code",
   "execution_count": 21,
   "metadata": {},
   "outputs": [
    {
     "name": "stdout",
     "output_type": "stream",
     "text": [
      "\n",
      "\n",
      "PnF bar data - based on close column\n",
      "         date   open  close   high    low\n",
      "0  2017-11-17  310.0  480.0  480.0  310.0\n",
      "1  2018-01-25  470.0  430.0  470.0  430.0\n",
      "2  2018-02-23  440.0  460.0  460.0  440.0\n",
      "3  2018-03-09  450.0  430.0  450.0  430.0\n",
      "\n",
      "\n",
      "PnF box data - based on close column\n",
      "         date  open  high  low  close  uptrend\n",
      "0  2017-11-17   310   320  310    320     True\n",
      "1  2017-11-17   320   330  320    330     True\n",
      "2  2017-11-17   330   340  330    340     True\n",
      "3  2017-11-20   340   350  340    350     True\n",
      "4  2017-11-21   350   360  350    360     True\n",
      "\n",
      "\n",
      "PnF box data - based on high/low columns\n",
      "         date   open  close   high    low\n",
      "0  2017-11-17  310.0  410.0  410.0  310.0\n",
      "1  2017-11-30  400.0  360.0  400.0  360.0\n",
      "2  2018-01-05  370.0  490.0  490.0  370.0\n",
      "3  2018-01-24  480.0  400.0  480.0  400.0\n",
      "4  2018-02-02  410.0  470.0  470.0  410.0\n",
      "\n",
      "\n",
      "Renko box calcuation based on periodic close\n",
      "           date   open   high    low  close  uptrend\n",
      "267  2018-04-03  488.0  490.0  488.0  490.0     True\n",
      "268  2018-04-03  490.0  492.0  490.0  492.0     True\n",
      "269  2018-04-04  492.0  494.0  492.0  494.0     True\n",
      "270  2018-04-05  494.0  496.0  494.0  496.0     True\n",
      "271  2018-04-09  494.0  494.0  492.0  492.0    False\n",
      "\n",
      "\n",
      "Line break chart\n",
      "    index        date    open    high     low   close  uptrend\n",
      "19      0  2018-02-27  468.85  469.00  468.85  469.00     True\n",
      "20      0  2018-04-02  469.00  482.65  469.00  482.65     True\n",
      "21      0  2018-04-03  482.65  493.60  482.65  493.60     True\n",
      "22      0  2018-04-04  493.60  495.85  493.60  495.85     True\n",
      "23      0  2018-04-05  495.85  497.95  495.85  497.95     True\n"
     ]
    },
    {
     "name": "stderr",
     "output_type": "stream",
     "text": [
      "/home/sean/anaconda3/envs/gpi/lib/python3.7/site-packages/stocktrends/indicators.py:206: FutureWarning: \n",
      ".ix is deprecated. Please use\n",
      ".loc for label based indexing or\n",
      ".iloc for positional indexing\n",
      "\n",
      "See the documentation here:\n",
      "http://pandas.pydata.org/pandas-docs/stable/user_guide/indexing.html#ix-indexer-is-deprecated\n",
      "  open_ = self.df.ix[0]['open']\n",
      "/home/sean/anaconda3/envs/gpi/lib/python3.7/site-packages/stocktrends/indicators.py:210: FutureWarning: \n",
      ".ix is deprecated. Please use\n",
      ".loc for label based indexing or\n",
      ".iloc for positional indexing\n",
      "\n",
      "See the documentation here:\n",
      "http://pandas.pydata.org/pandas-docs/stable/user_guide/indexing.html#ix-indexer-is-deprecated\n",
      "  low = self.df.ix[0]['low']\n"
     ]
    }
   ],
   "source": [
    "import pandas as pd\n",
    "\n",
    "from stocktrends import indicators\n",
    "\n",
    "\n",
    "df = pd.read_csv('HDFCLIFE.csv')\n",
    "df.columns = [i.lower() for i in df.columns]\n",
    "rows = 5\n",
    "\n",
    "pnf = indicators.PnF(df)\n",
    "pnf.box_size = 10\n",
    "pnf.reversal_size = 3\n",
    "\n",
    "\n",
    "print('\\n\\nPnF bar data - based on close column')\n",
    "data = pnf.get_bar_ohlc_data(source='close')\n",
    "print(data.head(rows))\n",
    "\n",
    "\n",
    "print('\\n\\nPnF box data - based on close column')\n",
    "pnf_data = pnf.get_ohlc_data(source='close')\n",
    "print(pnf_data.head(rows))\n",
    "\n",
    "\n",
    "print('\\n\\nPnF box data - based on high/low columns')\n",
    "data = pnf.get_bar_ohlc_data(source='hl')\n",
    "print(data.head(rows))\n",
    "\n",
    "\n",
    "renko = indicators.Renko(df)\n",
    "\n",
    "\n",
    "print('\\n\\nRenko box calcuation based on periodic close')\n",
    "renko.brick_size = 2\n",
    "renko.chart_type = indicators.Renko.PERIOD_CLOSE\n",
    "data = renko.get_ohlc_data()\n",
    "print(data.tail(rows))\n",
    "\n",
    "\n",
    "# print('\\n\\nRenko box calcuation based on price movement')\n",
    "# renko.chart_type = indicators.Renko.PRICE_MOVEMENT\n",
    "# data = renko.get_ohlc_data()\n",
    "# print(data.tail(rows))\n",
    "\n",
    "\n",
    "lb = indicators.LineBreak(df)\n",
    "\n",
    "print('\\n\\nLine break chart')\n",
    "lb.line_number = 3\n",
    "data = lb.get_ohlc_data()\n",
    "print(data.tail(rows))"
   ]
  },
  {
   "cell_type": "code",
   "execution_count": 37,
   "metadata": {},
   "outputs": [],
   "source": [
    "import matplotlib\n",
    "import matplotlib.pyplot as plt\n",
    "import pandas as pd\n",
    "import sys\n",
    " \n",
    "def PlotRenko(filename):\n",
    "    # Turn interactive mode off\n",
    "    plt.ioff()\n",
    "    #df = pd.read_csv(filename, parse_dates=[['date']])\n",
    "    df = pd.read_csv(filename)\n",
    " \n",
    "    # number of bars to display in the plot\n",
    "    num_bars = 100\n",
    " \n",
    "    # get the last num_bars\n",
    "    df = df.tail(num_bars)\n",
    "    renkos = zip(df['open'],df['close'])\n",
    " \n",
    "    # compute the price movement in the Renko\n",
    "    price_move = abs(df.iloc[1]['open'] - df.iloc[1]['close'])\n",
    " \n",
    "    # create the figure\n",
    "    fig = plt.figure(1)\n",
    "    fig.clf()\n",
    "    axes = fig.gca()\n",
    " \n",
    "    # plot the bars, blue for 'up', red for 'down'\n",
    "    index = 1\n",
    "    for open_price, close_price in renkos:\n",
    "        if (open_price < close_price):\n",
    "            renko = matplotlib.patches.Rectangle((index,open_price), 1, close_price-open_price, edgecolor='darkblue', facecolor='blue', alpha=0.5)\n",
    "            axes.add_patch(renko)\n",
    "        else:\n",
    "            renko = matplotlib.patches.Rectangle((index,open_price), 1, close_price-open_price, edgecolor='darkred', facecolor='red', alpha=0.5)\n",
    "            axes.add_patch(renko)\n",
    "        index = index + 1\n",
    " \n",
    "    # adjust the axes\n",
    "    plt.xlim([0, num_bars])\n",
    "    plt.ylim([min(min(df['open']),min(df['close'])), max(max(df['open']),max(df['close']))])\n",
    "    #fig.suptitle('Bars from ' + min(df['date_time']).strftime(\"%d-%b-%Y %H:%M\") + \" to \" + max(df['date_time']).strftime(\"%d-%b-%Y %H:%M\") \\\n",
    "    #    + '\\nPrice movement = ' + str(price_move), fontsize=14)\n",
    "    plt.xlabel('Bar Number')\n",
    "    plt.ylabel('Price')\n",
    "    plt.grid(True)\n",
    "    plt.show()"
   ]
  },
  {
   "cell_type": "code",
   "execution_count": 38,
   "metadata": {},
   "outputs": [
    {
     "data": {
      "image/png": "[encoded data removed]",
      "text/plain": [
       "<Figure size 432x288 with 1 Axes>"
      ]
     },
     "metadata": {
      "needs_background": "light"
     },
     "output_type": "display_data"
    }
   ],
   "source": [
    "PlotRenko('HDFCLIFE.csv')"
   ]
  }
 ],
 "metadata": {
  "kernelspec": {
   "display_name": "Python 3",
   "language": "python",
   "name": "python3"
  },
  "language_info": {
   "codemirror_mode": {
    "name": "ipython",
    "version": 3
   },
   "file_extension": ".py",
   "mimetype": "text/x-python",
   "name": "python",
   "nbconvert_exporter": "python",
   "pygments_lexer": "ipython3",
   "version": "3.7.3"
  }
 },
 "nbformat": 4,
 "nbformat_minor": 4
}
