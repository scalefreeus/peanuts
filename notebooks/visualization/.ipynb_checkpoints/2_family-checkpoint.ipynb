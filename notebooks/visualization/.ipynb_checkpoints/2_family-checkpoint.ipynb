{
 "cells": [
  {
   "cell_type": "markdown",
   "metadata": {},
   "source": [
    "# Chart\n",
    "# Diagram\n",
    "# Geospatial\n",
    "# Plot\n",
    "# Table"
   ]
  },
  {
   "cell_type": "markdown",
   "metadata": {},
   "source": [
    "**Chart vs Diagram**  \n",
    "Main difference\n",
    "```\n",
    "The main difference between Diagram and Chart is that the Diagram is a plan, drawing, sketch or outline to show how something works or the relationships between the parts of a whole and Chart is a graphical representation of data.\n",
    "```\n",
    "\n",
    "Diagram\n",
    "```\n",
    "A diagram is a symbolic representation of information according to visualization technique. Diagrams have been used since ancient times, but became more prevalent during the Enlightenment. Sometimes, the technique uses a three-dimensional visualization which is then projected onto a two-dimensional surface. The word graph is sometimes used as a synonym for diagram.\n",
    "```\n",
    "\n",
    "Chart\n",
    "```\n",
    "A chart is a graphical representation of data, in which \"the data is represented by symbols, such as bars in a bar chart, lines in a line chart, or slices in a pie chart\". A chart can represent tabular numeric data, functions or some kinds of qualitative structure and provides different info. The term \"chart\" as a graphical representation of data has multiple meanings: A data chart is a type of diagram or graph, that organizes and represents a set of numerical or qualitative data. Maps that are adorned with extra information (map surround) for a specific purpose are often known as charts, such as a nautical chart or aeronautical chart, typically spread over several map sheets. Other domain specific constructs are sometimes called charts, such as the chord chart in music notation or a record chart for album popularity.Charts are often used to ease understanding of large quantities of data and the relationships between parts of the data. Charts can usually be read more quickly than the raw data. They are used in a wide variety of fields, and can be created by hand (often on graph paper) or by computer using a charting application. Certain types of charts are more useful for presenting a given data set than others. For example, data that presents percentages in different groups (such as \"satisfied, not satisfied, unsure\") are often displayed in a pie chart, but may be more easily understood when presented in a horizontal bar chart. On the other hand, data that represents numbers that change over a period of time (such as \"annual revenue from 1990 to 2000\") might be best shown as a line chart.\n",
    "```"
   ]
  },
  {
   "cell_type": "code",
   "execution_count": null,
   "metadata": {},
   "outputs": [],
   "source": []
  }
 ],
 "metadata": {
  "kernelspec": {
   "display_name": "Python 3",
   "language": "python",
   "name": "python3"
  },
  "language_info": {
   "codemirror_mode": {
    "name": "ipython",
    "version": 3
   },
   "file_extension": ".py",
   "mimetype": "text/x-python",
   "name": "python",
   "nbconvert_exporter": "python",
   "pygments_lexer": "ipython3",
   "version": "3.7.3"
  }
 },
 "nbformat": 4,
 "nbformat_minor": 4
}
