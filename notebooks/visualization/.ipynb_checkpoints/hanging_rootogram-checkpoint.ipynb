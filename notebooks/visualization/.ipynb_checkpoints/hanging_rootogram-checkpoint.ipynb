{
 "cells": [
  {
   "cell_type": "markdown",
   "metadata": {},
   "source": [
    "# Hanging Rootogram"
   ]
  },
  {
   "cell_type": "markdown",
   "metadata": {},
   "source": [
    "![alt text](https://datavizproject.com/wp-content/uploads/2016/06/DVP_1_100-83.png)"
   ]
  },
  {
   "cell_type": "markdown",
   "metadata": {},
   "source": [
    "Comparing the distribution of data with a theoretical distribution from an ordinary histogram can be difficult because small frequencies are dominated by the larger frequencies and it is hard to perceive the pattern of differences between the histogram bars and the curve. Therefore John Tukey introduced the Hanging Rootogram in 1971 (also called Tukey’s Hanging Rootogram) in order to solve these problems. In this visualization the comparison is made easier by ‘hanging’ the observed results from the theoretical curve, so that the discrepancies are seen by comparison with the horizontal axis rather than a sloping curve. As in the rootogram, the vertical axis is scaled to the square-root of the frequencies so as to draw attention to discrepancies in the tails of the distribution.\n",
    "\n",
    " \n",
    "\n",
    "It is a variation of the concept of histograms and Pareto charts by combining observed and predicted in a simple way where the line charts display that the data is continuously changing."
   ]
  },
  {
   "cell_type": "code",
   "execution_count": 9,
   "metadata": {},
   "outputs": [
    {
     "data": {
      "text/plain": [
       "(array([0.1204112 , 0.30102799, 0.72246718, 1.08370077, 1.29442037,\n",
       "        1.26431757, 0.60205599, 0.45154199, 0.0903084 , 0.0903084 ]),\n",
       " array([ 9.21204991,  9.37814742,  9.54424493,  9.71034244,  9.87643995,\n",
       "        10.04253746, 10.20863497, 10.37473248, 10.54082999, 10.7069275 ,\n",
       "        10.87302501]),\n",
       " <a list of 10 Patch objects>)"
      ]
     },
     "execution_count": 9,
     "metadata": {},
     "output_type": "execute_result"
    },
    {
     "data": {
      "text/plain": [
       "[<matplotlib.lines.Line2D at 0x7f84c01d6fd0>]"
      ]
     },
     "execution_count": 9,
     "metadata": {},
     "output_type": "execute_result"
    },
    {
     "data": {
      "text/plain": [
       "(-0.2, 1.3955067342984402)"
      ]
     },
     "execution_count": 9,
     "metadata": {},
     "output_type": "execute_result"
    },
    {
     "data": {
      "text/plain": [
       "(9, 11)"
      ]
     },
     "execution_count": 9,
     "metadata": {},
     "output_type": "execute_result"
    },
    {
     "data": {
      "text/plain": [
       "<matplotlib.collections.LineCollection at 0x7f84c01e0290>"
      ]
     },
     "execution_count": 9,
     "metadata": {},
     "output_type": "execute_result"
    },
    {
     "data": {
      "text/plain": [
       "(array([0.1204112 , 0.30102799, 0.72246718, 1.08370077, 1.29442037,\n",
       "        1.26431757, 0.60205599, 0.45154199, 0.0903084 , 0.0903084 ]),\n",
       " array([ 9.21204991,  9.37814742,  9.54424493,  9.71034244,  9.87643995,\n",
       "        10.04253746, 10.20863497, 10.37473248, 10.54082999, 10.7069275 ,\n",
       "        10.87302501]),\n",
       " <a list of 10 Patch objects>)"
      ]
     },
     "execution_count": 9,
     "metadata": {},
     "output_type": "execute_result"
    },
    {
     "data": {
      "text/plain": [
       "[<matplotlib.lines.Line2D at 0x7f84c02010d0>]"
      ]
     },
     "execution_count": 9,
     "metadata": {},
     "output_type": "execute_result"
    },
    {
     "data": {
      "text/plain": [
       "(-0.2, 1.3955067342984402)"
      ]
     },
     "execution_count": 9,
     "metadata": {},
     "output_type": "execute_result"
    },
    {
     "data": {
      "text/plain": [
       "(9, 11)"
      ]
     },
     "execution_count": 9,
     "metadata": {},
     "output_type": "execute_result"
    },
    {
     "data": {
      "text/plain": [
       "<matplotlib.collections.LineCollection at 0x7f84c0201a50>"
      ]
     },
     "execution_count": 9,
     "metadata": {},
     "output_type": "execute_result"
    },
    {
     "data": {
      "text/plain": [
       "[<matplotlib.lines.Line2D at 0x7f84c01a0c90>]"
      ]
     },
     "execution_count": 9,
     "metadata": {},
     "output_type": "execute_result"
    },
    {
     "data": {
      "text/plain": [
       "[<matplotlib.lines.Line2D at 0x7f84c01af310>]"
      ]
     },
     "execution_count": 9,
     "metadata": {},
     "output_type": "execute_result"
    },
    {
     "data": {
      "text/plain": [
       "[<matplotlib.lines.Line2D at 0x7f84c01af790>]"
      ]
     },
     "execution_count": 9,
     "metadata": {},
     "output_type": "execute_result"
    },
    {
     "data": {
      "text/plain": [
       "[<matplotlib.lines.Line2D at 0x7f84c01a0cd0>]"
      ]
     },
     "execution_count": 9,
     "metadata": {},
     "output_type": "execute_result"
    },
    {
     "data": {
      "text/plain": [
       "[<matplotlib.lines.Line2D at 0x7f84c01f6fd0>]"
      ]
     },
     "execution_count": 9,
     "metadata": {},
     "output_type": "execute_result"
    },
    {
     "data": {
      "text/plain": [
       "[<matplotlib.lines.Line2D at 0x7f84c01f6e90>]"
      ]
     },
     "execution_count": 9,
     "metadata": {},
     "output_type": "execute_result"
    },
    {
     "data": {
      "text/plain": [
       "[<matplotlib.lines.Line2D at 0x7f84c01c1d10>]"
      ]
     },
     "execution_count": 9,
     "metadata": {},
     "output_type": "execute_result"
    },
    {
     "data": {
      "text/plain": [
       "[<matplotlib.lines.Line2D at 0x7f84c02011d0>]"
      ]
     },
     "execution_count": 9,
     "metadata": {},
     "output_type": "execute_result"
    },
    {
     "data": {
      "text/plain": [
       "[<matplotlib.lines.Line2D at 0x7f84c01ac590>]"
      ]
     },
     "execution_count": 9,
     "metadata": {},
     "output_type": "execute_result"
    },
    {
     "data": {
      "text/plain": [
       "[<matplotlib.lines.Line2D at 0x7f84c01ac6d0>]"
      ]
     },
     "execution_count": 9,
     "metadata": {},
     "output_type": "execute_result"
    },
    {
     "data": {
      "text/plain": [
       "Text(0.5, 1.0, 'histogram')"
      ]
     },
     "execution_count": 9,
     "metadata": {},
     "output_type": "execute_result"
    },
    {
     "data": {
      "text/plain": [
       "Text(0.5, 1.0, 'hanging rootogram')"
      ]
     },
     "execution_count": 9,
     "metadata": {},
     "output_type": "execute_result"
    },
    {
     "data": {
      "image/png": "[encoded data removed]",
      "text/plain": [
       "<Figure size 432x288 with 2 Axes>"
      ]
     },
     "metadata": {
      "needs_background": "light"
     },
     "output_type": "display_data"
    }
   ],
   "source": [
    "import matplotlib.pyplot as plt\n",
    "import numpy as np\n",
    "#import matplotlib.mlab as mlab\n",
    "from scipy.stats import norm\n",
    "\n",
    "fig, ax = plt.subplots(1, 2)\n",
    "mu = 10\n",
    "sig = 0.3\n",
    "my_data = np.random.normal(mu, sig, 200)\n",
    "x = np.linspace(9, 11, 100)\n",
    "\n",
    "# I plot the data twice, one for the histogram only for comparison,\n",
    "# and one for the rootogram.\n",
    "# The trick will be to modify the histogram to make it hang to\n",
    "# the expected distribution curve:\n",
    "\n",
    "for a in ax:\n",
    "    a.hist(my_data, density=True)\n",
    "    #a.plot(x, mlab.normpdf(x, mu, sig))\n",
    "    a.plot(x, norm.pdf(x, mu, sig))\n",
    "    a.set_ylim(-0.2)\n",
    "    a.set_xlim(9, 11)\n",
    "    a.hlines(0, 9, 11, linestyle=\"--\")\n",
    "\n",
    "for rectangle in ax[1].patches:\n",
    "\n",
    "    # expected value in the middle of the bar\n",
    "    #exp = mlab.normpdf(rectangle.get_x() + rectangle.get_width()/2., mu, sig)\n",
    "    exp = norm.pdf(rectangle.get_x() + rectangle.get_width()/2., mu, sig)\n",
    "\n",
    "    # difference to the expected value\n",
    "    diff = exp - rectangle.get_height()\n",
    "    rectangle.set_y(diff)\n",
    "\n",
    "    ax[1].plot(rectangle.get_x() + rectangle.get_width()/2., exp, \"ro\")\n",
    "\n",
    "ax[0].set_title(\"histogram\")\n",
    "ax[1].set_title(\"hanging rootogram\")\n",
    "plt.tight_layout()"
   ]
  }
 ],
 "metadata": {
  "kernelspec": {
   "display_name": "Python 3",
   "language": "python",
   "name": "python3"
  },
  "language_info": {
   "codemirror_mode": {
    "name": "ipython",
    "version": 3
   },
   "file_extension": ".py",
   "mimetype": "text/x-python",
   "name": "python",
   "nbconvert_exporter": "python",
   "pygments_lexer": "ipython3",
   "version": "3.7.4"
  }
 },
 "nbformat": 4,
 "nbformat_minor": 4
}
