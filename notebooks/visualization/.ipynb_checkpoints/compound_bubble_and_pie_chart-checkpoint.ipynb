{
 "cells": [
  {
   "cell_type": "code",
   "execution_count": 3,
   "metadata": {},
   "outputs": [
    {
     "name": "stderr",
     "output_type": "stream",
     "text": [
      "/home/scalefreeus/anaconda3/envs/peanuts/lib/python3.7/site-packages/ipykernel_launcher.py:32: MatplotlibDeprecationWarning:\n",
      "\n",
      "Passing vertices as `(verts, 0)` is deprecated since Matplotlib 3.0, and support for it will be removed in 3.2.  Directly pass `verts` instead.\n",
      "\n"
     ]
    },
    {
     "data": {
      "text/plain": [
       "<matplotlib.collections.PathCollection at 0x7fdb0caf2090>"
      ]
     },
     "execution_count": 3,
     "metadata": {},
     "output_type": "execute_result"
    },
    {
     "name": "stderr",
     "output_type": "stream",
     "text": [
      "/home/scalefreeus/anaconda3/envs/peanuts/lib/python3.7/site-packages/ipykernel_launcher.py:34: MatplotlibDeprecationWarning:\n",
      "\n",
      "Passing vertices as `(verts, 0)` is deprecated since Matplotlib 3.0, and support for it will be removed in 3.2.  Directly pass `verts` instead.\n",
      "\n"
     ]
    },
    {
     "data": {
      "text/plain": [
       "<matplotlib.collections.PathCollection at 0x7fdb0ca85290>"
      ]
     },
     "execution_count": 3,
     "metadata": {},
     "output_type": "execute_result"
    },
    {
     "name": "stderr",
     "output_type": "stream",
     "text": [
      "/home/scalefreeus/anaconda3/envs/peanuts/lib/python3.7/site-packages/ipykernel_launcher.py:36: MatplotlibDeprecationWarning:\n",
      "\n",
      "Passing vertices as `(verts, 0)` is deprecated since Matplotlib 3.0, and support for it will be removed in 3.2.  Directly pass `verts` instead.\n",
      "\n"
     ]
    },
    {
     "data": {
      "text/plain": [
       "<matplotlib.collections.PathCollection at 0x7fdb0ca859d0>"
      ]
     },
     "execution_count": 3,
     "metadata": {},
     "output_type": "execute_result"
    },
    {
     "data": {
      "image/png": "[encoded data removed]",
      "text/plain": [
       "<Figure size 432x288 with 1 Axes>"
      ]
     },
     "metadata": {
      "needs_background": "light"
     },
     "output_type": "display_data"
    }
   ],
   "source": [
    "import numpy as np\n",
    "import matplotlib.pyplot as plt\n",
    "%matplotlib inline\n",
    "# first define the ratios\n",
    "r1 = 0.2       # 20%\n",
    "r2 = r1 + 0.4  # 40%\n",
    "\n",
    "# define some sizes of the scatter marker\n",
    "sizes = np.array([60, 80, 120])\n",
    "\n",
    "# calculate the points of the first pie marker\n",
    "#\n",
    "# these are just the origin (0,0) +\n",
    "# some points on a circle cos,sin\n",
    "x = [0] + np.cos(np.linspace(0, 2 * np.pi * r1, 10)).tolist()\n",
    "y = [0] + np.sin(np.linspace(0, 2 * np.pi * r1, 10)).tolist()\n",
    "xy1 = np.column_stack([x, y])\n",
    "s1 = np.abs(xy1).max()\n",
    "\n",
    "x = [0] + np.cos(np.linspace(2 * np.pi * r1, 2 * np.pi * r2, 10)).tolist()\n",
    "y = [0] + np.sin(np.linspace(2 * np.pi * r1, 2 * np.pi * r2, 10)).tolist()\n",
    "xy2 = np.column_stack([x, y])\n",
    "s2 = np.abs(xy2).max()\n",
    "\n",
    "x = [0] + np.cos(np.linspace(2 * np.pi * r2, 2 * np.pi, 10)).tolist()\n",
    "y = [0] + np.sin(np.linspace(2 * np.pi * r2, 2 * np.pi, 10)).tolist()\n",
    "xy3 = np.column_stack([x, y])\n",
    "s3 = np.abs(xy3).max()\n",
    "\n",
    "fig, ax = plt.subplots()\n",
    "ax.scatter(range(3), range(3), marker=(xy1, 0),\n",
    "           s=s1 ** 2 * sizes, facecolor='blue')\n",
    "ax.scatter(range(3), range(3), marker=(xy2, 0),\n",
    "           s=s2 ** 2 * sizes, facecolor='green')\n",
    "ax.scatter(range(3), range(3), marker=(xy3, 0),\n",
    "           s=s3 ** 2 * sizes, facecolor='red')\n",
    "\n",
    "plt.show()"
   ]
  }
 ],
 "metadata": {
  "kernelspec": {
   "display_name": "Python 3",
   "language": "python",
   "name": "python3"
  },
  "language_info": {
   "codemirror_mode": {
    "name": "ipython",
    "version": 3
   },
   "file_extension": ".py",
   "mimetype": "text/x-python",
   "name": "python",
   "nbconvert_exporter": "python",
   "pygments_lexer": "ipython3",
   "version": "3.7.4"
  }
 },
 "nbformat": 4,
 "nbformat_minor": 4
}
