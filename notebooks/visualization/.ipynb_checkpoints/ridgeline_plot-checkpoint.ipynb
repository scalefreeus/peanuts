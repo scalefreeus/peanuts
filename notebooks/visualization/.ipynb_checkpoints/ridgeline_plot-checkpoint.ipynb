{
 "cells": [
  {
   "cell_type": "markdown",
   "metadata": {},
   "source": [
    "# Ridgeline Plot"
   ]
  },
  {
   "cell_type": "markdown",
   "metadata": {},
   "source": [
    "A Ridgeline plot chart is a chart that lets you visualize distribution of a numeric value for several groups.\n",
    "\n",
    "Such a chart can be created in Altair by first transforming the data into a suitable representation."
   ]
  },
  {
   "cell_type": "markdown",
   "metadata": {},
   "source": [
    "conda instaall vega_datasets"
   ]
  },
  {
   "cell_type": "code",
   "execution_count": 3,
   "metadata": {},
   "outputs": [
    {
     "data": {
      "application/vnd.vegalite.v3+json": {
       "$schema": "https://vega.github.io/schema/vega-lite/v3.4.0.json",
       "bounds": "flush",
       "config": {
        "facet": {
         "spacing": 0
        },
        "mark": {
         "tooltip": null
        },
        "title": {
         "anchor": "end"
        },
        "view": {
         "height": 300,
         "stroke": null,
         "width": 400
        }
       },
       "data": {
        "url": "https://vega.github.io/vega-datasets/data/seattle-weather.csv"
       },
       "encoding": {
        "fill": {
         "field": "mean_temp",
         "legend": null,
         "scale": {
          "domain": [
           30,
           5
          ],
          "scheme": "redyellowblue"
         },
         "type": "quantitative"
        },
        "row": {
         "field": "Month",
         "header": {
          "format": "%B",
          "labelAlign": "right",
          "labelAngle": 0
         },
         "title": null,
         "type": "temporal"
        },
        "x": {
         "bin": "binned",
         "field": "bin_min",
         "title": "Maximum Daily Temperature (C)",
         "type": "quantitative"
        },
        "y": {
         "axis": null,
         "field": "value",
         "scale": {
          "range": [
           20,
           -20
          ]
         },
         "type": "quantitative"
        }
       },
       "height": 20,
       "mark": {
        "fillOpacity": 0.8,
        "interpolate": "monotone",
        "stroke": "lightgray",
        "strokeWidth": 0.5,
        "type": "area"
       },
       "title": "Seattle Weather",
       "transform": [
        {
         "as": "Month",
         "field": "date",
         "timeUnit": "month"
        },
        {
         "groupby": [
          "Month"
         ],
         "joinaggregate": [
          {
           "as": "mean_temp",
           "field": "temp_max",
           "op": "mean"
          }
         ]
        },
        {
         "as": [
          "bin_max",
          "bin_min"
         ],
         "bin": true,
         "field": "temp_max"
        },
        {
         "aggregate": [
          {
           "as": "value",
           "op": "count"
          }
         ],
         "groupby": [
          "Month",
          "mean_temp",
          "bin_min",
          "bin_max"
         ]
        },
        {
         "groupby": [
          "Month",
          "mean_temp"
         ],
         "impute": "value",
         "key": "bin_min",
         "value": 0
        }
       ]
      },
      "text/plain": [
       "<VegaLite 3 object>\n",
       "\n",
       "If you see this message, it means the renderer has not been properly enabled\n",
       "for the frontend that you are using. For more information, see\n",
       "https://altair-viz.github.io/user_guide/troubleshooting.html\n"
      ]
     },
     "execution_count": 3,
     "metadata": {},
     "output_type": "execute_result"
    }
   ],
   "source": [
    "import altair as alt\n",
    "from vega_datasets import data\n",
    "\n",
    "source = data.seattle_weather.url\n",
    "\n",
    "step = 20\n",
    "overlap = 1\n",
    "\n",
    "alt.Chart(source).transform_timeunit(\n",
    "    Month='month(date)'\n",
    ").transform_joinaggregate(\n",
    "    mean_temp='mean(temp_max)', groupby=['Month']\n",
    ").transform_bin(\n",
    "    ['bin_max', 'bin_min'], 'temp_max'\n",
    ").transform_aggregate(\n",
    "    value='count()', groupby=['Month', 'mean_temp', 'bin_min', 'bin_max']\n",
    ").transform_impute(\n",
    "    impute='value', groupby=['Month', 'mean_temp'], key='bin_min', value=0\n",
    ").mark_area(\n",
    "    interpolate='monotone',\n",
    "    fillOpacity=0.8,\n",
    "    stroke='lightgray',\n",
    "    strokeWidth=0.5\n",
    ").encode(\n",
    "    alt.X('bin_min:Q', bin='binned', title='Maximum Daily Temperature (C)'),\n",
    "    alt.Y(\n",
    "        'value:Q',\n",
    "        scale=alt.Scale(range=[step, -step * overlap]),\n",
    "        axis=None\n",
    "    ),\n",
    "    alt.Fill(\n",
    "        'mean_temp:Q',\n",
    "        legend=None,\n",
    "        scale=alt.Scale(domain=[30, 5], scheme='redyellowblue')\n",
    "    ),\n",
    "    alt.Row(\n",
    "        'Month:T',\n",
    "        title=None,\n",
    "        header=alt.Header(labelAngle=0, labelAlign='right', format='%B')\n",
    "    )\n",
    ").properties(\n",
    "    bounds='flush', title='Seattle Weather', height=step\n",
    ").configure_facet(\n",
    "    spacing=0\n",
    ").configure_view(\n",
    "    stroke=None\n",
    ").configure_title(\n",
    "    anchor='end'\n",
    ")"
   ]
  }
 ],
 "metadata": {
  "kernelspec": {
   "display_name": "Python 3",
   "language": "python",
   "name": "python3"
  },
  "language_info": {
   "codemirror_mode": {
    "name": "ipython",
    "version": 3
   },
   "file_extension": ".py",
   "mimetype": "text/x-python",
   "name": "python",
   "nbconvert_exporter": "python",
   "pygments_lexer": "ipython3",
   "version": "3.7.3"
  }
 },
 "nbformat": 4,
 "nbformat_minor": 4
}
