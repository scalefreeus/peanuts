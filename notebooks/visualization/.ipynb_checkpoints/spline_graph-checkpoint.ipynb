{
 "cells": [
  {
   "cell_type": "markdown",
   "metadata": {},
   "source": [
    "# Spline Graph\n",
    "Also called: Spline chart"
   ]
  },
  {
   "cell_type": "markdown",
   "metadata": {},
   "source": [
    "![alt text](https://datavizproject.com/wp-content/uploads/2016/06/DVP_101_200-12.png)"
   ]
  },
  {
   "cell_type": "markdown",
   "metadata": {},
   "source": [
    "The Spline chart type is a Line graph that plots a fitted curve through each data point in a series. Line Charts show how a particular data changes at equal intervals of time."
   ]
  },
  {
   "cell_type": "code",
   "execution_count": 2,
   "metadata": {},
   "outputs": [
    {
     "data": {
      "image/png": "[encoded data removed]",
      "text/plain": [
       "<Figure size 432x288 with 1 Axes>"
      ]
     },
     "metadata": {
      "needs_background": "light"
     },
     "output_type": "display_data"
    },
    {
     "data": {
      "image/png": "[encoded data removed]",
      "text/plain": [
       "<Figure size 432x288 with 1 Axes>"
      ]
     },
     "metadata": {
      "needs_background": "light"
     },
     "output_type": "display_data"
    }
   ],
   "source": [
    "import numpy as np\n",
    "import matplotlib.pyplot as plt\n",
    "from scipy import interpolate\n",
    "%matplotlib inline\n",
    "\n",
    "timestamp = (0,5,10,15,30,35,40,50,55,60)\n",
    "distance = (100,90,65,85,70,30,40,45,20,0)\n",
    "\n",
    "\n",
    "plt.plot(timestamp, distance, 'o')\n",
    "plt.show()\n",
    "\n",
    " \n",
    "\n",
    "data = np.array((timestamp,distance))\n",
    "\n",
    " \n",
    "\n",
    "tck,u = interpolate.splprep(data, s=0)\n",
    "unew = np.arange(0, 1.01, 0.01)\n",
    "out = interpolate.splev(unew, tck)\n",
    "\n",
    "\n",
    "plt.plot(out[0], out[1], color='orange')\n",
    "plt.plot(data[0,:], data[1,:], 'ob')\n",
    "plt.show()"
   ]
  },
  {
   "cell_type": "code",
   "execution_count": null,
   "metadata": {},
   "outputs": [],
   "source": [
    "import plotly.offline as py\n",
    "import plotly.graph_objs as go\n",
    "\n",
    "trace1 = go.Scatter(\n",
    "    x=[1, 2, 3, 4, 5],\n",
    "    y=[1, 3, 2, 3, 1],\n",
    "    mode='lines+markers',\n",
    "    name=\"'linear'\",\n",
    "    hoverinfo='name',\n",
    "    line=dict(\n",
    "        shape='linear'\n",
    "    )\n",
    ")\n",
    "trace2 = go.Scatter(\n",
    "    x=[1, 2, 3, 4, 5],\n",
    "    y=[6, 8, 7, 8, 6],\n",
    "    mode='lines+markers',\n",
    "    name=\"'spline'\",\n",
    "    text=[\"tweak line smoothness<br>with 'smoothing' in line object\"],\n",
    "    hoverinfo='text+name',\n",
    "    line=dict(\n",
    "        shape='spline'\n",
    "    )\n",
    ")\n",
    "trace3 = go.Scatter(\n",
    "    x=[1, 2, 3, 4, 5],\n",
    "    y=[11, 13, 12, 13, 11],\n",
    "    mode='lines+markers',\n",
    "    name=\"'vhv'\",\n",
    "    hoverinfo='name',\n",
    "    line=dict(\n",
    "        shape='vhv'\n",
    "    )\n",
    ")\n",
    "trace4 = go.Scatter(\n",
    "    x=[1, 2, 3, 4, 5],\n",
    "    y=[16, 18, 17, 18, 16],\n",
    "    mode='lines+markers',\n",
    "    name=\"'hvh'\",\n",
    "    hoverinfo='name',\n",
    "    line=dict(\n",
    "        shape='hvh'\n",
    "    )\n",
    ")\n",
    "trace5 = go.Scatter(\n",
    "    x=[1, 2, 3, 4, 5],\n",
    "    y=[21, 23, 22, 23, 21],\n",
    "    mode='lines+markers',\n",
    "    name=\"'vh'\",\n",
    "    hoverinfo='name',\n",
    "    line=dict(\n",
    "        shape='vh'\n",
    "    )\n",
    ")\n",
    "trace6 = go.Scatter(\n",
    "    x=[1, 2, 3, 4, 5],\n",
    "    y=[26, 28, 27, 28, 26],\n",
    "    mode='lines+markers',\n",
    "    name=\"'hv'\",\n",
    "    hoverinfo='name',\n",
    "    line=dict(\n",
    "        shape='hv'\n",
    "    )\n",
    ")\n",
    "data = [trace1, trace2, trace3, trace4, trace5, trace6]\n",
    "layout = dict(\n",
    "    legend=dict(\n",
    "        y=0.5,\n",
    "        traceorder='reversed',\n",
    "        font=dict(\n",
    "            size=16\n",
    "        )\n",
    "    )\n",
    ")\n",
    "fig = dict(data=data, layout=layout)\n",
    "py.iplot(fig, filename='line-shapes')"
   ]
  }
 ],
 "metadata": {
  "kernelspec": {
   "display_name": "Python 3",
   "language": "python",
   "name": "python3"
  },
  "language_info": {
   "codemirror_mode": {
    "name": "ipython",
    "version": 3
   },
   "file_extension": ".py",
   "mimetype": "text/x-python",
   "name": "python",
   "nbconvert_exporter": "python",
   "pygments_lexer": "ipython3",
   "version": "3.7.3"
  }
 },
 "nbformat": 4,
 "nbformat_minor": 4
}
