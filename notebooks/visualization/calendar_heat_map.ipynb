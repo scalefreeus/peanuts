{
 "cells": [
  {
   "cell_type": "markdown",
   "metadata": {},
   "source": [
    "# Calendar Heat Map"
   ]
  },
  {
   "cell_type": "markdown",
   "metadata": {},
   "source": [
    "![alt text](https://www.machinelearningplus.com/wp-content/uploads/2018/11/45_Calendar_Heatmap_Matplotlib_Calmap-min.png)"
   ]
  },
  {
   "cell_type": "markdown",
   "metadata": {},
   "source": [
    "Calendar map is an alternate and a less preferred option to visualise time based data compared to a time series. Though can be visually appealing, the numeric values are not quite evident. It is however effective in picturising the extreme values and holiday effects nicely."
   ]
  },
  {
   "cell_type": "code",
   "execution_count": 2,
   "metadata": {},
   "outputs": [
    {
     "name": "stdout",
     "output_type": "stream",
     "text": [
      "Collecting calmap\n",
      "  Downloading https://files.pythonhosted.org/packages/60/7a/3340f348c4826fad190a265290ade1b7fbfbb311c84e27d82fb43e12d579/calmap-0.0.7-py2.py3-none-any.whl\n",
      "Requirement already satisfied: matplotlib in /home/sean/anaconda3/envs/gpi/lib/python3.7/site-packages (from calmap) (3.1.1)\n",
      "Requirement already satisfied: numpy in /home/sean/anaconda3/envs/gpi/lib/python3.7/site-packages (from calmap) (1.17.1)\n",
      "Requirement already satisfied: pandas in /home/sean/anaconda3/envs/gpi/lib/python3.7/site-packages (from calmap) (0.25.1)\n",
      "Requirement already satisfied: cycler>=0.10 in /home/sean/anaconda3/envs/gpi/lib/python3.7/site-packages (from matplotlib->calmap) (0.10.0)\n",
      "Requirement already satisfied: python-dateutil>=2.1 in /home/sean/anaconda3/envs/gpi/lib/python3.7/site-packages (from matplotlib->calmap) (2.8.0)\n",
      "Requirement already satisfied: kiwisolver>=1.0.1 in /home/sean/anaconda3/envs/gpi/lib/python3.7/site-packages (from matplotlib->calmap) (1.1.0)\n",
      "Requirement already satisfied: pyparsing!=2.0.4,!=2.1.2,!=2.1.6,>=2.0.1 in /home/sean/anaconda3/envs/gpi/lib/python3.7/site-packages (from matplotlib->calmap) (2.4.2)\n",
      "Requirement already satisfied: pytz>=2017.2 in /home/sean/anaconda3/envs/gpi/lib/python3.7/site-packages (from pandas->calmap) (2019.2)\n",
      "Requirement already satisfied: six in /home/sean/anaconda3/envs/gpi/lib/python3.7/site-packages (from cycler>=0.10->matplotlib->calmap) (1.12.0)\n",
      "Requirement already satisfied: setuptools in /home/sean/anaconda3/envs/gpi/lib/python3.7/site-packages (from kiwisolver>=1.0.1->matplotlib->calmap) (41.2.0)\n",
      "Installing collected packages: calmap\n",
      "Successfully installed calmap-0.0.7\n"
     ]
    }
   ],
   "source": [
    "!pip install calmap"
   ]
  },
  {
   "cell_type": "code",
   "execution_count": 3,
   "metadata": {},
   "outputs": [
    {
     "name": "stderr",
     "output_type": "stream",
     "text": [
      "/home/sean/anaconda3/envs/gpi/lib/python3.7/site-packages/calmap/__init__.py:221: FutureWarning: \n",
      ".ix is deprecated. Please use\n",
      ".loc for label based indexing or\n",
      ".iloc for positional indexing\n",
      "\n",
      "See the documentation here:\n",
      "http://pandas.pydata.org/pandas-docs/stable/user_guide/indexing.html#ix-indexer-is-deprecated\n",
      "  for i in monthticks])\n"
     ]
    },
    {
     "data": {
      "text/plain": [
       "<Figure size 1280x800 with 0 Axes>"
      ]
     },
     "metadata": {},
     "output_type": "display_data"
    },
    {
     "data": {
      "image/png": "[encoded data removed]",
      "text/plain": [
       "<Figure size 1152x720 with 1 Axes>"
      ]
     },
     "metadata": {
      "needs_background": "light"
     },
     "output_type": "display_data"
    }
   ],
   "source": [
    "import matplotlib as mpl\n",
    "import calmap\n",
    "import pandas as pd\n",
    "import matplotlib.pyplot as plt\n",
    "%matplotlib inline\n",
    "\n",
    "# Import Data\n",
    "df = pd.read_csv(\"yahoo.csv\", parse_dates=['date'])\n",
    "df.set_index('date', inplace=True)\n",
    "\n",
    "# Plot\n",
    "plt.figure(figsize=(16,10), dpi= 80)\n",
    "calmap.calendarplot(df['2014']['VIX.Close'], fig_kws={'figsize': (16,10)}, yearlabel_kws={'color':'black', 'fontsize':14}, subplot_kws={'title':'Yahoo Stock Prices'})\n",
    "plt.show()"
   ]
  }
 ],
 "metadata": {
  "kernelspec": {
   "display_name": "Python 3",
   "language": "python",
   "name": "python3"
  },
  "language_info": {
   "codemirror_mode": {
    "name": "ipython",
    "version": 3
   },
   "file_extension": ".py",
   "mimetype": "text/x-python",
   "name": "python",
   "nbconvert_exporter": "python",
   "pygments_lexer": "ipython3",
   "version": "3.7.3"
  }
 },
 "nbformat": 4,
 "nbformat_minor": 4
}
