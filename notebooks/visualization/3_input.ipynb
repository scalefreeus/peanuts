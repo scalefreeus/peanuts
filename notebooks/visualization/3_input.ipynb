{
 "cells": [
  {
   "cell_type": "markdown",
   "metadata": {},
   "source": [
    "# Input"
   ]
  },
  {
   "cell_type": "markdown",
   "metadata": {},
   "source": [
    "| X | Y |\n",
    "|---|---|\n",
    "| 1 | 30 |\n",
    "| 2 | 34 |\n",
    "| 3 | 38 |\n",
    "\n",
    "- [Area Chart](area_chart.ipynb)\n",
    "- Bagplot\n",
    "- Cluster Analysis\n",
    "- Development & Causes\n",
    "- [Hanging Rootogram](hanging_rootogram.ipynb)\n",
    "- [Hexagonal Binning](hexagonal_binning.ipynb)\n",
    "- [Line Graph](line_graph.ipynb)\n",
    "- Radial Area Chart\n",
    "- [Spline Graph](spline_graph.ipynb)\n",
    "- [Stepped Line Graph](stepped_line_graph.ipynb)\n"
   ]
  }
 ],
 "metadata": {
  "kernelspec": {
   "display_name": "Python 3",
   "language": "python",
   "name": "python3"
  },
  "language_info": {
   "codemirror_mode": {
    "name": "ipython",
    "version": 3
   },
   "file_extension": ".py",
   "mimetype": "text/x-python",
   "name": "python",
   "nbconvert_exporter": "python",
   "pygments_lexer": "ipython3",
   "version": "3.7.3"
  }
 },
 "nbformat": 4,
 "nbformat_minor": 4
}
