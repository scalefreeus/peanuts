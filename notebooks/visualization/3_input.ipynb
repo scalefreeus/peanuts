{
 "cells": [
  {
   "cell_type": "markdown",
   "metadata": {},
   "source": [
    "# Input"
   ]
  },
  {
   "cell_type": "markdown",
   "metadata": {},
   "source": [
    "| X | Y |\n",
    "|---|---|\n",
    "| 1 | 30 |\n",
    "| 2 | 34 |\n",
    "| 3 | 38 |\n",
    "\n",
    "- [Area Chart](area_chart.ipynb)\n",
    "- Bagplot\n",
    "- Cluster Analysis\n",
    "- Development & Causes\n",
    "- [Hanging Rootogram](hanging_rootogram.ipynb)\n",
    "- [Hexagonal Binning](hexagonal_binning.ipynb)\n",
    "- [Line Graph](line_graph.ipynb)\n",
    "- Radial Area Chart\n",
    "- [Spline Graph](spline_graph.ipynb)\n",
    "- [Stepped Line Graph](stepped_line_graph.ipynb)\n"
   ]
  },
  {
   "cell_type": "markdown",
   "metadata": {},
   "source": [
    " X | Y1 | Y2 \n",
    "---|---|---\n",
    "0 - 2 | 30 | 45\n",
    "2 - 4 | 34 | 80\n",
    "4 - 6 | 38 | 60 \n",
    "\n",
    "- [Hanging Rootogram](hanging_rootogram.ipynb)"
   ]
  },
  {
   "cell_type": "markdown",
   "metadata": {},
   "source": [
    "A | 32%\n",
    "---|---\n",
    "B | 40%\n",
    "C | 28%\n",
    "\n",
    "- [Donut Chart](donut_chart.ipynb)\n",
    "- [Funnel Chart](funnel_chart.ipynb)\n",
    "- Phase Diagram\n",
    "- Pictorial Stacked Chart\n",
    "- Pyramid Chart\n",
    "- [Pie Chart](pie_chart.ipynb)\n",
    "- Waterfall Plot\n",
    "- Semi Circle Donut Chart\n"
   ]
  },
  {
   "cell_type": "markdown",
   "metadata": {},
   "source": [
    "A |_ | B | _\n",
    "---|---|---|---\n",
    "X | Y | X | Y\n",
    "2 | 10 | 2 | 15\n",
    "4 | 100 | 4 | 85\n",
    "6 | 50 | 6 | 35\n",
    "\n",
    "- Waterfall Plot\n",
    "- Phase Diagram"
   ]
  },
  {
   "cell_type": "markdown",
   "metadata": {},
   "source": [
    "A | 14\n",
    "---| ---\n",
    "B | 16\n",
    "C | 12\n",
    "\n",
    "- [Bar Chart (Horizontal)](bar_chart_horizontal.ipynb)\n",
    "- [Bar Chart (vertical)](bar_chart_vertical.ipynb)\n",
    "- [Bar Chart on a Map](bar_chart_on_a_map.ipynb)\n",
    "- Curved Bar Chart\n",
    "- [Dot Plot](dot_plot.ipynb)\n",
    "- Euler Diagram\n",
    "- [Lollipop Chart](lollipop_chart.ipynb)\n",
    "- Nested Proportional Area Chart\n",
    "- [Pictorial bar chart](pictorial_bar_chart.ipynb)\n",
    "- Proportional Area Chart (Icon)\n",
    "- [Pictortial Unit Chart](pictorial_unit_chart.ipynb)\n",
    "- Proportional Area Chart (Circle)\n",
    "- Proportional Area Chart (Square)\n",
    "- [Radial Bar Chart](radial_bar_chart.ipynb)\n",
    "- Tally Chart\n",
    "- Triangle Bar Chart\n",
    "- [Table Chart](table_chart.ipynb)\n",
    "- Topotraphic Map\n",
    "- [Word Cloud](word_cloud.ipynb)\n"
   ]
  },
  {
   "cell_type": "markdown",
   "metadata": {},
   "source": [
    "_ | I | II\n",
    "---|---|---\n",
    "A | 14 | 6\n",
    "B | 16 | 12\n",
    "C | 12 | 20\n",
    "\n",
    "- [Dumbbell Plot](dumbbell_plot.ipynb)\n",
    "- [Grouped Bar Chart](grouped_bar_chart.ipynb)\n",
    "- [Multiple Series 3D Bar Charts](multiple_series_3d_bar_charts.ipynb)\n",
    "- Proportional Area Chart (Half Circle)\n",
    "- [Slope Chart](slope_chart.ipynb)\n"
   ]
  },
  {
   "cell_type": "markdown",
   "metadata": {},
   "source": [
    "_ | X | Y\n",
    "---|---|---\n",
    "A | 30 | 14\n",
    "B | 34 | 16\n",
    "C | 12 | 30\n",
    "\n",
    "- Bubble Timeline\n",
    "- Taylor Diagram\n",
    "- [Pie Chart Map](pie_chart_map.ipynb)\n",
    "- Trendline\n",
    "- Opposite Diagram\n",
    "- [Butterfly Chart](butterfly_chart.ipynb)\n",
    "- [Alluvial Diagram](alluvial_diagram.ipynb)\n",
    "- [Pareto Chart](pareto_chart.ipynb)\n",
    "- [Scatter Plot](scatter_plot.ipynb)"
   ]
  },
  {
   "cell_type": "markdown",
   "metadata": {},
   "source": [
    "Time | 2000 | 2005 | 2010\n",
    "---|---|---|---\n",
    "_ | A | C | C\n",
    "_ | A | A | A\n",
    "_ | A | B | C\n",
    "_ | B | D | C\n",
    "\n",
    "- [Alluvial Diagram](alluvial_diagram.ipynb)"
   ]
  },
  {
   "cell_type": "markdown",
   "metadata": {},
   "source": [
    "_ | Start time | End time\n",
    "--- |---|---\n",
    "A | 1-4-2015 | 6-4-2015\n",
    "B | 10-4-2015 | 18-4-2015\n",
    "C | 12-4-2015 | 20-4-2015\n",
    "\n",
    "- [Marimekko Chart](marimekko_chart.ipynb)\n",
    "- [Gantt Chart](gantt_chart.ipynb)"
   ]
  },
  {
   "cell_type": "markdown",
   "metadata": {},
   "source": [
    "_ | Y1 | Y2 | X\n",
    "---|---|---|---\n",
    "A | 30 | 14 | Y1 + Y2\n",
    "B | 34 | 16 | Y1 + Y2\n",
    "C | 38 | 10 | Y1 + Y2\n",
    "\n",
    "- [Marimekko Chart](marimekko_chart.ipynb)"
   ]
  },
  {
   "cell_type": "markdown",
   "metadata": {},
   "source": [
    "X | Y1 | Y2\n",
    "---|---|---\n",
    "1 | 30 | 28\n",
    "2 | 35 | 22\n",
    "3 | 38 | 26\n",
    "\n",
    "- [Bump Chart](bump_chart.ipynb)\n",
    "- [Column Range](column_range.ipynb)\n",
    "- [Fan Chart (Time Series)](fan_chart_time_series.ipynb)\n",
    "- Range Area Chart\n",
    "- Stacked Ordered Area Chart\n",
    "- [Stacked Area Chart](stacked_area_chart.ipynb)\n",
    "- Sorted Stream Graph\n",
    "- [Stream Graph](stream_graph.ipynb)\n",
    "- [Span Chart](span_chart.ipynb)\n"
   ]
  },
  {
   "cell_type": "markdown",
   "metadata": {},
   "source": [
    "_ | 2010 | 2015\n",
    "---|---|---\n",
    "A | 1 | 3\n",
    "B | 2 | 1\n",
    "C | 3 | 2\n",
    "\n",
    "- Stacked Ordered Area Chart\n",
    "- [Bump Chart](bump_chart.ipynb)"
   ]
  },
  {
   "cell_type": "markdown",
   "metadata": {},
   "source": [
    "| A |\n",
    "|---|\n",
    "|60% |\n",
    "\n",
    "- [Icon + number](icon_number.ipynb)\n",
    "- Scaled-up Number\n",
    "- [Waffle Chart](waffle_chart.ipynb)\n",
    "- Pictorial fraction chart\n",
    "- [Bullet Graph](bullet_graph.ipynb)\n",
    "- [Solid Gauge Chart](solid_gauge_chart.ipynb)\n",
    "- Angular Gauge\n",
    "- [Progress Bar](progress_bar.ipynb)\n",
    "- Pictorial Fraction Chart\n"
   ]
  },
  {
   "cell_type": "code",
   "execution_count": null,
   "metadata": {},
   "outputs": [],
   "source": []
  }
 ],
 "metadata": {
  "kernelspec": {
   "display_name": "Python 3",
   "language": "python",
   "name": "python3"
  },
  "language_info": {
   "codemirror_mode": {
    "name": "ipython",
    "version": 3
   },
   "file_extension": ".py",
   "mimetype": "text/x-python",
   "name": "python",
   "nbconvert_exporter": "python",
   "pygments_lexer": "ipython3",
   "version": "3.7.3"
  }
 },
 "nbformat": 4,
 "nbformat_minor": 4
}
