{
 "cells": [
  {
   "cell_type": "markdown",
   "metadata": {},
   "source": [
    "# Input"
   ]
  },
  {
   "cell_type": "markdown",
   "metadata": {},
   "source": [
    "| X | Y |\n",
    "|---|---|\n",
    "| 1 | 30 |\n",
    "| 2 | 34 |\n",
    "| 3 | 38 |\n",
    "\n",
    "- [Area Chart](area_chart.ipynb)\n",
    "- Bagplot\n",
    "- Cluster Analysis\n",
    "- Development & Causes\n",
    "- [Hanging Rootogram](hanging_rootogram.ipynb)\n",
    "- [Hexagonal Binning](hexagonal_binning.ipynb)\n",
    "- [Line Graph](line_graph.ipynb)\n",
    "- Radial Area Chart\n",
    "- [Spline Graph](spline_graph.ipynb)\n",
    "- [Stepped Line Graph](stepped_line_graph.ipynb)\n"
   ]
  },
  {
   "cell_type": "markdown",
   "metadata": {},
   "source": [
    " X | Y1 | Y2 \n",
    "---|---|---\n",
    "0 - 2 | 30 | 45\n",
    "2 - 4 | 34 | 80\n",
    "4 - 6 | 38 | 60 \n",
    "\n",
    "- [Hanging Rootogram](hanging_rootogram.ipynb)"
   ]
  },
  {
   "cell_type": "markdown",
   "metadata": {},
   "source": [
    "A | 32%\n",
    "---|---\n",
    "B | 40%\n",
    "C | 28%\n",
    "\n",
    "- [Donut Chart](donut_chart.ipynb)\n",
    "- [Funnel Chart](funnel_chart.ipynb)\n",
    "- Phase Diagram\n",
    "- Pictorial Stacked Chart\n",
    "- Pyramid Chart\n",
    "- [Pie Chart](pie_chart.ipynb)\n",
    "- Waterfall Plot\n",
    "- Semi Circle Donut Chart\n"
   ]
  },
  {
   "cell_type": "markdown",
   "metadata": {},
   "source": [
    "A |- | B | -\n",
    "---|---|---|---\n",
    "X | Y | X | Y\n",
    "2 | 10 | 2 | 15\n",
    "4 | 100 | 4 | 85\n",
    "6 | 50 | 6 | 35\n",
    "\n",
    "- Waterfall Plot\n",
    "- Phase Diagram"
   ]
  },
  {
   "cell_type": "markdown",
   "metadata": {},
   "source": [
    "A | 14\n",
    "---| ---\n",
    "B | 16\n",
    "C | 12\n",
    "\n",
    "- [Bar Chart (Horizontal)](bar_chart_horizontal.ipynb)\n",
    "- [Bar Chart (vertical)](bar_chart_vertical.ipynb)\n",
    "- [Bar Chart on a Map](bar_chart_on_a_map.ipynb)\n",
    "- Curved Bar Chart\n",
    "- [Dot Plot](dot_plot.ipynb)\n",
    "- Euler Diagram\n",
    "- [Lollipop Chart](lollipop_chart.ipynb)\n",
    "- Nested Proportional Area Chart\n",
    "- [Pictorial bar chart](pictorial_bar_chart.ipynb)\n",
    "- Proportional Area Chart (Icon)\n",
    "- [Pictortial Unit Chart](pictorial_unit_chart.ipynb)\n",
    "- Proportional Area Chart (Circle)\n",
    "- Proportional Area Chart (Square)\n",
    "- [Radial Bar Chart](radial_bar_chart.ipynb)\n",
    "- Tally Chart\n",
    "- Triangle Bar Chart\n",
    "- [Table Chart](table_chart.ipynb)\n",
    "- Topotraphic Map\n",
    "- [Word Cloud](word_cloud.ipynb)\n"
   ]
  },
  {
   "cell_type": "markdown",
   "metadata": {},
   "source": [
    "- | I | II\n",
    "---|---|---\n",
    "A | 14 | 6\n",
    "B | 16 | 12\n",
    "C | 12 | 20\n",
    "\n",
    "- [Dumbbell Plot](dumbbell_plot.ipynb)\n",
    "- [Grouped Bar Chart](grouped_bar_chart.ipynb)\n",
    "- [Multiple Series 3D Bar Charts](multiple_series_3d_bar_charts.ipynb)\n",
    "- Proportional Area Chart (Half Circle)\n",
    "- [Slope Chart](slope_chart.ipynb)\n"
   ]
  },
  {
   "cell_type": "markdown",
   "metadata": {},
   "source": [
    "_ | X | Y\n",
    "---|---|---\n",
    "A | 30 | 14\n",
    "B | 34 | 16\n",
    "C | 12 | 30\n",
    "\n",
    "- Bubble Timeline\n",
    "- Taylor Diagram\n",
    "- [Pie Chart Map](pie_chart_map.ipynb)\n",
    "- Trendline\n",
    "- Opposite Diagram\n",
    "- [Butterfly Chart](butterfly_chart.ipynb)\n",
    "- [Alluvial Diagram](alluvial_diagram.ipynb)\n",
    "- [Pareto Chart](pareto_chart.ipynb)\n",
    "- [Scatter Plot](scatter_plot.ipynb)"
   ]
  },
  {
   "cell_type": "markdown",
   "metadata": {},
   "source": [
    "Time | 2000 | 2005 | 2010\n",
    "---|---|---|---\n",
    "- | A | C | C\n",
    "- | A | A | A\n",
    "- | A | B | C\n",
    "- | B | D | C\n",
    "\n",
    "- [Alluvial Diagram](alluvial_diagram.ipynb)"
   ]
  },
  {
   "cell_type": "markdown",
   "metadata": {},
   "source": [
    "- | Start time | End time\n",
    "--- |---|---\n",
    "A | 1-4-2015 | 6-4-2015\n",
    "B | 10-4-2015 | 18-4-2015\n",
    "C | 12-4-2015 | 20-4-2015\n",
    "\n",
    "- [Marimekko Chart](marimekko_chart.ipynb)\n",
    "- [Gantt Chart](gantt_chart.ipynb)"
   ]
  },
  {
   "cell_type": "markdown",
   "metadata": {},
   "source": [
    "- | Y1 | Y2 | X\n",
    "---|---|---|---\n",
    "A | 30 | 14 | Y1 + Y2\n",
    "B | 34 | 16 | Y1 + Y2\n",
    "C | 38 | 10 | Y1 + Y2\n",
    "\n",
    "- [Marimekko Chart](marimekko_chart.ipynb)"
   ]
  },
  {
   "cell_type": "markdown",
   "metadata": {},
   "source": [
    "X | Y1 | Y2\n",
    "---|---|---\n",
    "1 | 30 | 28\n",
    "2 | 35 | 22\n",
    "3 | 38 | 26\n",
    "\n",
    "- [Bump Chart](bump_chart.ipynb)\n",
    "- [Column Range](column_range.ipynb)\n",
    "- [Fan Chart (Time Series)](fan_chart_time_series.ipynb)\n",
    "- Range Area Chart\n",
    "- Stacked Ordered Area Chart\n",
    "- [Stacked Area Chart](stacked_area_chart.ipynb)\n",
    "- Sorted Stream Graph\n",
    "- [Stream Graph](stream_graph.ipynb)\n",
    "- [Span Chart](span_chart.ipynb)\n"
   ]
  },
  {
   "cell_type": "markdown",
   "metadata": {},
   "source": [
    "- | 2010 | 2015\n",
    "---|---|---\n",
    "A | 1 | 3\n",
    "B | 2 | 1\n",
    "C | 3 | 2\n",
    "\n",
    "- Stacked Ordered Area Chart\n",
    "- [Bump Chart](bump_chart.ipynb)"
   ]
  },
  {
   "cell_type": "markdown",
   "metadata": {},
   "source": [
    "| A |\n",
    "|---|\n",
    "|60% |\n",
    "\n",
    "- [Icon + number](icon_number.ipynb)\n",
    "- Scaled-up Number\n",
    "- [Waffle Chart](waffle_chart.ipynb)\n",
    "- Pictorial fraction chart\n",
    "- [Bullet Graph](bullet_graph.ipynb)\n",
    "- [Solid Gauge Chart](solid_gauge_chart.ipynb)\n",
    "- Angular Gauge\n",
    "- [Progress Bar](progress_bar.ipynb)\n",
    "- Pictorial Fraction Chart\n"
   ]
  },
  {
   "cell_type": "markdown",
   "metadata": {},
   "source": [
    " X | Y\n",
    "---|---\n",
    "0-2 | 30\n",
    "2-4 | 34\n",
    "4-6 | 38\n",
    "\n",
    "- Spiral Histogram\n",
    "- [Radial Histogram](radial_histogram.ipynb)\n",
    "- [Histogram](histogram.ipynb)"
   ]
  },
  {
   "cell_type": "markdown",
   "metadata": {},
   "source": [
    "Event | Time\n",
    "--- | ---\n",
    "A | 1-4-2015\n",
    "B | 10-4-2015\n",
    "C | 12-4-2015\n",
    "\n",
    "- Scaled Timeline\n",
    "- Cartogram\n",
    "- [Bubble Map Chart](bubble_map_chart.ipynb)\n",
    "- [Choropleth Map](choropleth_map.ipynb)\n",
    "- [Timeline](timeline.ipynb)"
   ]
  },
  {
   "cell_type": "markdown",
   "metadata": {},
   "source": [
    "Location | Value\n",
    "--- | ---\n",
    "A | 5\n",
    "B | 30\n",
    "C | 15\n",
    "\n",
    "- Cartogram\n",
    "- [Bubble Map Chart](bubble_map_chart.ipynb)\n",
    "- [Choropleth Map](choropleth_map.ipynb)"
   ]
  },
  {
   "cell_type": "markdown",
   "metadata": {},
   "source": [
    "Age | F | M\n",
    "---| --- | ---\n",
    "10-20 | 30 | 28\n",
    "20-30 | 23 | 25\n",
    "30-40 | 38 | 26\n",
    "\n",
    "- [Population Pyramid](population_pyramid.ipynb)"
   ]
  },
  {
   "cell_type": "markdown",
   "metadata": {},
   "source": [
    "X | Y | Z\n",
    "---|---|---\n",
    "1 | 30 | 10\n",
    "2 | 34 | 15\n",
    "3 | 38 | 12\n",
    "\n",
    "- [3D Scatter Plot](3d_scatter_plot.ipynb)\n",
    "- [Contour Plot](contour_plot.ipynb)\n",
    "- Three-dimensional Stream Graph\n",
    "- [Bubble Chart](bubble_chart.ipynb)"
   ]
  },
  {
   "cell_type": "markdown",
   "metadata": {},
   "source": [
    "- | X | Y | Z\n",
    "---|---|---|---\n",
    "A | 12 | 34 | 26\n",
    "B | 4 | 20 | 28\n",
    "\n",
    "- [Renko chart](renko_chart.ipynb)\n",
    "- [Parallel Coordinates](parallel_coordinates.ipynb)\n",
    "- [Polar Chart](polar_chart.ipynb)\n",
    "- [Waterfall Chart](waterfall_chart.ipynb)\n",
    "- [Stacked Bar Chart](stacked_bar_chart.ipynb)"
   ]
  },
  {
   "cell_type": "markdown",
   "metadata": {},
   "source": [
    "Start | 200\n",
    "---|---\n",
    "A | +50\n",
    "B | -20\n",
    "... | ...\n",
    "End | 230\n",
    "\n",
    "- [Rekno chart](renko_chart.ipynb)\n",
    "- [Waterfall Chart](waterfall_chart.ipynb)"
   ]
  },
  {
   "cell_type": "markdown",
   "metadata": {},
   "source": [
    "A | A1 | 14\n",
    "---|---|---\n",
    "- | A2 | 16\n",
    "B | B1 |10\n",
    "\n",
    "- Radial Convergences\n",
    "- Matrix Diagram (Y-Shaped)\n",
    "- Non-ribbon Chord Diagram\n",
    "- Network Visualisation\n",
    "- [Connection Map](connection_map.ipynb)\n",
    "- Clustered Force Layout\n",
    "- Molecule Diagram\n",
    "- Matrix Diagram\n",
    "- Matrix Diagram (Roof Shaped)\n",
    "- Sociogram\n",
    "- Packed Circle Chart\n",
    "- [Convex treemap](convex_treemap.ipynb)\n",
    "- [Treemap](treemap.ipynb)"
   ]
  },
  {
   "cell_type": "markdown",
   "metadata": {},
   "source": [
    "- | A | B | C\n",
    "---|---|---|---\n",
    "A | - | 1 | 1\n",
    "B | 1 | - | 0\n",
    "C | 0 | 0 | -\n",
    "\n",
    "- Radial Convergences\n",
    "- Matrix Diagram (Y-Shaped)\n",
    "- Non-ribbon Chord Diagram\n",
    "- Network Visualisation\n",
    "- [Connection Map](connection_map.ipynb)\n",
    "- Molecule Diagram\n",
    "- Matrix Diagram\n",
    "- Matrix Diagram (Roof Shaped)\n",
    "- Sociogram"
   ]
  },
  {
   "cell_type": "markdown",
   "metadata": {},
   "source": [
    "- | X | Y\n",
    "---|---|---\n",
    "A | 30% | 28%\n",
    "B | 34% | 38%\n",
    "C | 26%  24%\n",
    "\n",
    "- [Candlestick Chart](candlestick_chart.ipynb)\n",
    "- [Multi-level Donut Chart](multi-level_donut_chart.ipynb)\n",
    "- [Polar Area Chart](polar_area_chart.ipynb)"
   ]
  },
  {
   "cell_type": "markdown",
   "metadata": {},
   "source": [
    "- | lower | close | open | upper\n",
    "---|---|---|---|---\n",
    "day 1 | \\$10 | \\$20 | \\$50 | \\$70\n",
    "day 2 | \\$25 | \\$30 | \\$45 | \\$65\n",
    "\n",
    "- [Candlestick Chart](candlestick_chart.ipynb)"
   ]
  },
  {
   "cell_type": "markdown",
   "metadata": {},
   "source": [
    "| Y |\n",
    "| --- |\n",
    "| \\$10 |\n",
    "| \\$20 |\n",
    "| \\$30 |\n",
    "\n",
    "- Kagi Chart"
   ]
  },
  {
   "cell_type": "markdown",
   "metadata": {},
   "source": [
    "- | X | Y | Z\n",
    "---|---|---|---\n",
    "A | 10% | 48% | 42%\n",
    "B | 42% | 38% | 20%\n",
    "C | 24% | 36% | 40%\n",
    "\n",
    "- [Ternary Contour Plot](ternary_contour_plot.ipynb)\n",
    "- [Ternary Plot](ternary_plot.ipynb)"
   ]
  },
  {
   "cell_type": "markdown",
   "metadata": {},
   "source": [
    "-| D | E | F\n",
    "---|---|---|---\n",
    "A | 12 | 34 | 12\n",
    "B | 0 |26 | 34\n",
    "C | 0 | 10 | 0\n",
    "\n",
    "- [Parallel Sets](parallel_sets.ipynb)\n",
    "- [Comparison Chart](comparison_chart.ipynb)"
   ]
  },
  {
   "cell_type": "markdown",
   "metadata": {},
   "source": [
    "- | X | Y | Size | A | B\n",
    "---|---|---|---|---|---\n",
    "Pie1 | 2 | 100 | 5 | 65% | 35%\n",
    "Pie2 | 4 | 200 | 1 | 50% | 50%\n",
    "Pie3 | 6 | 400 | 0.5 | 80% | 20%\n",
    "\n",
    "- [Compound Bubble and Pie Chart](compound_bubble_and_pie_chart.ipynb)"
   ]
  },
  {
   "cell_type": "markdown",
   "metadata": {},
   "source": [
    "- | A  | B | C\n",
    "---|---|---|---\n",
    "A | - | 14 | 12\n",
    "B | 34 | - | 24\n",
    "C | 38 | 10 | -\n",
    "\n",
    "- [Arc Diagram](arc_diagram.ipynb)\n",
    "- [Chord Diagram](chord_diagram.ipynb)"
   ]
  },
  {
   "cell_type": "markdown",
   "metadata": {},
   "source": [
    "Order | -\n",
    "---|---\n",
    "1 | A\n",
    "2 | B\n",
    "3 | C\n",
    "\n",
    "- Linear Process Diagram\n",
    "- Process Diagram\n",
    "- Cycle Diagram"
   ]
  },
  {
   "cell_type": "markdown",
   "metadata": {},
   "source": [
    "Level 1 | Level 2 | Level3\n",
    "---|---|---\n",
    "Fruit | Citrus | Orange\n",
    "Fruit | Citrus | Memon\n",
    "Meat | Port | Chop\n",
    "\n",
    "- Partion Layer Chart lcicle Diagram\n",
    "- Organisational Chart\n",
    "- [Radar Diagram]](radar_diagram.ipynb)\n",
    "- [Sunburst Diagram](sunburst_diagram.ipynb)\n",
    "- Hyperbolic Tree\n",
    "- Mind Map"
   ]
  },
  {
   "cell_type": "markdown",
   "metadata": {},
   "source": [
    "A | B\n",
    "---|---\n",
    "10 | 25\n",
    "70 | 15\n",
    "50 | 35\n",
    "\n",
    "\n",
    "- [Layered Area Chart](layered_area_chart.ipynb)\n",
    "- Win-loss Sparkline\n",
    "- [Column Sparkline](column_sparkline.ipynb)\n",
    "- [Sparkline](sparkline.ipynb)\n",
    "- [Violin Plot](violin_plot.ipynb)\n",
    "- [Boxplot](boxplot.ipynb)"
   ]
  },
  {
   "cell_type": "markdown",
   "metadata": {},
   "source": [
    "- | A | -A\n",
    "---|---|---\n",
    "B | W | X\n",
    "-B | Y | Z\n",
    "\n",
    "- SWOT Analysis"
   ]
  },
  {
   "cell_type": "markdown",
   "metadata": {},
   "source": [
    "- | A | B\n",
    "---|---|---\n",
    "1 | 20% | 50%\n",
    "2 | 10% | 40%\n",
    "3 | 30% | 70%\n",
    "\n",
    "- Spiral Heat Map\n",
    "- [Circular Heat Map](circular_heat_map.ipynb)\n",
    "- [Heat Map](heat_map.ipynb)"
   ]
  }
 ],
 "metadata": {
  "kernelspec": {
   "display_name": "Python 3",
   "language": "python",
   "name": "python3"
  },
  "language_info": {
   "codemirror_mode": {
    "name": "ipython",
    "version": 3
   },
   "file_extension": ".py",
   "mimetype": "text/x-python",
   "name": "python",
   "nbconvert_exporter": "python",
   "pygments_lexer": "ipython3",
   "version": "3.7.3"
  }
 },
 "nbformat": 4,
 "nbformat_minor": 4
}
