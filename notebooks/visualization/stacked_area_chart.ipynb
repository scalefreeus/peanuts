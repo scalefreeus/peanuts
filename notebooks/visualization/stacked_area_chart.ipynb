{
 "cells": [
  {
   "cell_type": "markdown",
   "metadata": {},
   "source": [
    "# Stacked Area Chart"
   ]
  },
  {
   "cell_type": "markdown",
   "metadata": {},
   "source": [
    "![alt text](https://datavizproject.com/wp-content/uploads/2016/06/DVP_1_100-12.png \"\")"
   ]
  },
  {
   "cell_type": "markdown",
   "metadata": {},
   "source": [
    "Stacked Area Chart is similar to the simple Area Chart, but here is uses multiple data series that start each point from the point left by the previous series. It is useful for comparing multiple variables changing over interval."
   ]
  },
  {
   "cell_type": "markdown",
   "metadata": {},
   "source": [
    "# Examples"
   ]
  },
  {
   "cell_type": "code",
   "execution_count": 2,
   "metadata": {},
   "outputs": [
    {
     "data": {
      "text/plain": [
       "<matplotlib.legend.Legend at 0x7fc2cded91d0>"
      ]
     },
     "execution_count": 2,
     "metadata": {},
     "output_type": "execute_result"
    },
    {
     "data": {
      "image/png": "[encoded data removed]",
      "text/plain": [
       "<Figure size 432x288 with 1 Axes>"
      ]
     },
     "metadata": {
      "needs_background": "light"
     },
     "output_type": "display_data"
    }
   ],
   "source": [
    "# library\n",
    "import numpy as np\n",
    "import matplotlib.pyplot as plt\n",
    "%matplotlib inline\n",
    "# --- FORMAT 1\n",
    " \n",
    "# Your x and y axis\n",
    "x=range(1,6)\n",
    "y=[ [1,4,6,8,9], [2,2,7,10,12], [2,8,5,10,6] ]\n",
    " \n",
    "# Basic stacked area chart.\n",
    "plt.stackplot(x,y, labels=['A','B','C'])\n",
    "plt.legend(loc='upper left')\n",
    "#plt.show()\n",
    " \n",
    "# --- FORMAT 2</pre>\n",
    "x=range(1,6)\n",
    "y1=[1,4,6,8,9]\n",
    "y2=[2,2,7,10,12]\n",
    "y3=[2,8,5,10,6]\n",
    " \n",
    "# Basic stacked area chart.\n",
    "plt.stackplot(x,y1, y2, y3, labels=['A','B','C'])\n",
    "plt.legend(loc='upper left')\n"
   ]
  },
  {
   "cell_type": "markdown",
   "metadata": {},
   "source": [
    "## Vincent"
   ]
  },
  {
   "cell_type": "code",
   "execution_count": 15,
   "metadata": {},
   "outputs": [
    {
     "data": {
      "text/html": [
       "\n",
       "           <script>\n",
       "               \n",
       "                function vct_load_lib(url, callback){\n",
       "                      if(typeof d3 !== 'undefined' &&\n",
       "                         url === 'http://d3js.org/d3.v3.min.js'){\n",
       "                        callback()\n",
       "                      }\n",
       "                      var s = document.createElement('script');\n",
       "                      s.src = url;\n",
       "                      s.async = true;\n",
       "                      s.onreadystatechange = s.onload = callback;\n",
       "                      s.onerror = function(){\n",
       "                        console.warn(\"failed to load library \" + url);\n",
       "                        };\n",
       "                      document.getElementsByTagName(\"head\")[0].appendChild(s);\n",
       "                };\n",
       "                var vincent_event = new CustomEvent(\n",
       "                  \"vincent_libs_loaded\",\n",
       "                  {bubbles: true, cancelable: true}\n",
       "                );\n",
       "                \n",
       "               function load_all_libs(){\n",
       "                  console.log('Loading Vincent libs...')\n",
       "                  vct_load_lib('http://d3js.org/d3.v3.min.js', function(){\n",
       "                  vct_load_lib('http://d3js.org/d3.geo.projection.v0.min.js', function(){\n",
       "                  vct_load_lib('http://wrobstory.github.io/d3-cloud/d3.layout.cloud.js', function(){\n",
       "                  vct_load_lib('http://wrobstory.github.io/vega/vega.v1.3.3.js', function(){\n",
       "                  window.dispatchEvent(vincent_event);\n",
       "                  });\n",
       "                  });\n",
       "                  });\n",
       "                  });\n",
       "               };\n",
       "               if(typeof define === \"function\" && define.amd){\n",
       "                    if (window['d3'] === undefined ||\n",
       "                        window['topojson'] === undefined){\n",
       "                        require.config(\n",
       "                            {paths: {\n",
       "                              d3: 'http://d3js.org/d3.v3.min',\n",
       "                              topojson: 'http://d3js.org/topojson.v1.min'\n",
       "                              }\n",
       "                            }\n",
       "                          );\n",
       "                        require([\"d3\"], function(d3){\n",
       "                            console.log('Loading Vincent from require.js...')\n",
       "                            window.d3 = d3;\n",
       "                            require([\"topojson\"], function(topojson){\n",
       "                                window.topojson = topojson;\n",
       "                                load_all_libs();\n",
       "                            });\n",
       "                        });\n",
       "                    } else {\n",
       "                        load_all_libs();\n",
       "                    };\n",
       "               }else{\n",
       "                    console.log('Require.js not found, loading manually...')\n",
       "                    load_all_libs();\n",
       "               };\n",
       "\n",
       "           </script>"
      ],
      "text/plain": [
       "<IPython.core.display.HTML object>"
      ]
     },
     "metadata": {},
     "output_type": "display_data"
    },
    {
     "data": {
      "text/html": [
       "<div id=\"vis7a7f279093a54504b627cdbb6bda3985\"></div>\n",
       "<script>\n",
       "   ( function() {\n",
       "     var _do_plot = function() {\n",
       "       if (typeof vg === 'undefined') {\n",
       "         window.addEventListener('vincent_libs_loaded', _do_plot)\n",
       "         return;\n",
       "       }\n",
       "       vg.parse.spec({\"axes\": [{\"scale\": \"x\", \"title\": \"Index\", \"type\": \"x\"}, {\"scale\": \"y\", \"title\": \"Value\", \"type\": \"y\"}], \"data\": [{\"name\": \"table\", \"values\": [{\"col\": \"y1\", \"idx\": 0, \"val\": 92}, {\"col\": \"y1\", \"idx\": 1, \"val\": 90}, {\"col\": \"y1\", \"idx\": 2, \"val\": 50}, {\"col\": \"y1\", \"idx\": 3, \"val\": 78}, {\"col\": \"y1\", \"idx\": 4, \"val\": 86}, {\"col\": \"y1\", \"idx\": 5, \"val\": 94}, {\"col\": \"y1\", \"idx\": 6, \"val\": 18}, {\"col\": \"y1\", \"idx\": 7, \"val\": 91}, {\"col\": \"y1\", \"idx\": 8, \"val\": 26}, {\"col\": \"y1\", \"idx\": 9, \"val\": 73}, {\"col\": \"y1\", \"idx\": 10, \"val\": 41}, {\"col\": \"y1\", \"idx\": 11, \"val\": 83}, {\"col\": \"y1\", \"idx\": 12, \"val\": 97}, {\"col\": \"y1\", \"idx\": 13, \"val\": 63}, {\"col\": \"y1\", \"idx\": 14, \"val\": 42}, {\"col\": \"y1\", \"idx\": 15, \"val\": 18}, {\"col\": \"y1\", \"idx\": 16, \"val\": 41}, {\"col\": \"y1\", \"idx\": 17, \"val\": 77}, {\"col\": \"y1\", \"idx\": 18, \"val\": 69}, {\"col\": \"y1\", \"idx\": 19, \"val\": 71}, {\"col\": \"y1\", \"idx\": 20, \"val\": 58}, {\"col\": \"y2\", \"idx\": 0, \"val\": 36}, {\"col\": \"y2\", \"idx\": 1, \"val\": 16}, {\"col\": \"y2\", \"idx\": 2, \"val\": 57}, {\"col\": \"y2\", \"idx\": 3, \"val\": 17}, {\"col\": \"y2\", \"idx\": 4, \"val\": 37}, {\"col\": \"y2\", \"idx\": 5, \"val\": 71}, {\"col\": \"y2\", \"idx\": 6, \"val\": 41}, {\"col\": \"y2\", \"idx\": 7, \"val\": 67}, {\"col\": \"y2\", \"idx\": 8, \"val\": 65}, {\"col\": \"y2\", \"idx\": 9, \"val\": 31}, {\"col\": \"y2\", \"idx\": 10, \"val\": 23}, {\"col\": \"y2\", \"idx\": 11, \"val\": 29}, {\"col\": \"y2\", \"idx\": 12, \"val\": 27}, {\"col\": \"y2\", \"idx\": 13, \"val\": 15}, {\"col\": \"y2\", \"idx\": 14, \"val\": 68}, {\"col\": \"y2\", \"idx\": 15, \"val\": 11}, {\"col\": \"y2\", \"idx\": 16, \"val\": 83}, {\"col\": \"y2\", \"idx\": 17, \"val\": 74}, {\"col\": \"y2\", \"idx\": 18, \"val\": 58}, {\"col\": \"y2\", \"idx\": 19, \"val\": 19}, {\"col\": \"y2\", \"idx\": 20, \"val\": 76}, {\"col\": \"y3\", \"idx\": 0, \"val\": 56}, {\"col\": \"y3\", \"idx\": 1, \"val\": 84}, {\"col\": \"y3\", \"idx\": 2, \"val\": 66}, {\"col\": \"y3\", \"idx\": 3, \"val\": 66}, {\"col\": \"y3\", \"idx\": 4, \"val\": 19}, {\"col\": \"y3\", \"idx\": 5, \"val\": 76}, {\"col\": \"y3\", \"idx\": 6, \"val\": 98}, {\"col\": \"y3\", \"idx\": 7, \"val\": 45}, {\"col\": \"y3\", \"idx\": 8, \"val\": 12}, {\"col\": \"y3\", \"idx\": 9, \"val\": 92}, {\"col\": \"y3\", \"idx\": 10, \"val\": 80}, {\"col\": \"y3\", \"idx\": 11, \"val\": 60}, {\"col\": \"y3\", \"idx\": 12, \"val\": 63}, {\"col\": \"y3\", \"idx\": 13, \"val\": 58}, {\"col\": \"y3\", \"idx\": 14, \"val\": 94}, {\"col\": \"y3\", \"idx\": 15, \"val\": 20}, {\"col\": \"y3\", \"idx\": 16, \"val\": 38}, {\"col\": \"y3\", \"idx\": 17, \"val\": 52}, {\"col\": \"y3\", \"idx\": 18, \"val\": 67}, {\"col\": \"y3\", \"idx\": 19, \"val\": 90}, {\"col\": \"y3\", \"idx\": 20, \"val\": 41}, {\"col\": \"y4\", \"idx\": 0, \"val\": 67}, {\"col\": \"y4\", \"idx\": 1, \"val\": 22}, {\"col\": \"y4\", \"idx\": 2, \"val\": 60}, {\"col\": \"y4\", \"idx\": 3, \"val\": 84}, {\"col\": \"y4\", \"idx\": 4, \"val\": 30}, {\"col\": \"y4\", \"idx\": 5, \"val\": 95}, {\"col\": \"y4\", \"idx\": 6, \"val\": 47}, {\"col\": \"y4\", \"idx\": 7, \"val\": 20}, {\"col\": \"y4\", \"idx\": 8, \"val\": 92}, {\"col\": \"y4\", \"idx\": 9, \"val\": 43}, {\"col\": \"y4\", \"idx\": 10, \"val\": 95}, {\"col\": \"y4\", \"idx\": 11, \"val\": 92}, {\"col\": \"y4\", \"idx\": 12, \"val\": 72}, {\"col\": \"y4\", \"idx\": 13, \"val\": 31}, {\"col\": \"y4\", \"idx\": 14, \"val\": 29}, {\"col\": \"y4\", \"idx\": 15, \"val\": 29}, {\"col\": \"y4\", \"idx\": 16, \"val\": 85}, {\"col\": \"y4\", \"idx\": 17, \"val\": 36}, {\"col\": \"y4\", \"idx\": 18, \"val\": 16}, {\"col\": \"y4\", \"idx\": 19, \"val\": 28}, {\"col\": \"y4\", \"idx\": 20, \"val\": 97}]}, {\"name\": \"stats\", \"source\": \"table\", \"transform\": [{\"keys\": [\"data.idx\"], \"type\": \"facet\"}, {\"type\": \"stats\", \"value\": \"data.val\"}]}], \"height\": 500, \"legends\": [{\"fill\": \"color\", \"offset\": 0, \"properties\": {}, \"title\": \"Categories\"}], \"marks\": [{\"from\": {\"data\": \"table\", \"transform\": [{\"keys\": [\"data.col\"], \"type\": \"facet\"}, {\"height\": \"data.val\", \"point\": \"data.idx\", \"type\": \"stack\"}]}, \"marks\": [{\"properties\": {\"enter\": {\"fill\": {\"field\": \"data.col\", \"scale\": \"color\"}, \"interpolate\": {\"value\": \"monotone\"}, \"x\": {\"field\": \"data.idx\", \"scale\": \"x\"}, \"y\": {\"field\": \"y\", \"scale\": \"y\"}, \"y2\": {\"field\": \"y2\", \"scale\": \"y\"}}}, \"type\": \"area\"}], \"type\": \"group\"}], \"padding\": \"auto\", \"scales\": [{\"domain\": {\"data\": \"table\", \"field\": \"data.idx\"}, \"name\": \"x\", \"range\": \"width\", \"type\": \"linear\", \"zero\": false}, {\"domain\": {\"data\": \"stats\", \"field\": \"sum\"}, \"name\": \"y\", \"nice\": true, \"range\": \"height\"}, {\"domain\": {\"data\": \"table\", \"field\": \"data.col\"}, \"name\": \"color\", \"range\": \"category20\", \"type\": \"ordinal\"}], \"width\": 960}, function(chart) {\n",
       "         chart({el: \"#vis7a7f279093a54504b627cdbb6bda3985\"}).update();\n",
       "       });\n",
       "     };\n",
       "     _do_plot();\n",
       "   })();\n",
       "</script>\n",
       "<style>.vega canvas {width: 100%;}</style>\n",
       "        "
      ],
      "text/plain": [
       "<IPython.core.display.HTML object>"
      ]
     },
     "metadata": {},
     "output_type": "display_data"
    }
   ],
   "source": [
    "import vincent\n",
    "import random\n",
    "vincent.core.initialize_notebook()\n",
    "\n",
    "#Dicts of iterables\n",
    "cat_1 = ['y1', 'y2', 'y3', 'y4']\n",
    "index_1 = range(0, 21, 1)\n",
    "multi_iter1 = {'index': index_1}\n",
    "for cat in cat_1:\n",
    "    multi_iter1[cat] = [random.randint(10, 100) for x in index_1]\n",
    "    \n",
    "stacked = vincent.StackedArea(multi_iter1, iter_idx='index')\n",
    "stacked.axis_titles(x='Index', y='Value')\n",
    "stacked.legend(title='Categories')\n",
    "stacked.display()"
   ]
  },
  {
   "cell_type": "code",
   "execution_count": 16,
   "metadata": {},
   "outputs": [],
   "source": [
    "#Dicts of iterables\n",
    "cat_1 = ['y1', 'y2', 'y3', 'y4']\n",
    "index_1 = range(0, 21, 1)\n",
    "multi_iter1 = {'index': index_1}\n",
    "for cat in cat_1:\n",
    "    multi_iter1[cat] = [random.randint(10, 100) for x in index_1]\n",
    "\n",
    "cat_2 = ['y' + str(x) for x in range(0, 10, 1)]\n",
    "index_2 = range(1, 21, 1)\n",
    "multi_iter2 = {'index': index_2}\n",
    "for cat in cat_2:\n",
    "    multi_iter2[cat] = [random.randint(10, 100) for x in index_2]\n",
    "\n",
    "#Pandas\n",
    "import pandas as pd\n",
    "\n",
    "farm_1 = {'apples': 10, 'berries': 32, 'squash': 21, 'melons': 13, 'corn': 18}\n",
    "farm_2 = {'apples': 15, 'berries': 43, 'squash': 17, 'melons': 10, 'corn': 22}\n",
    "farm_3 = {'apples': 6, 'berries': 24, 'squash': 22, 'melons': 16, 'corn': 30}\n",
    "farm_4 = {'apples': 12, 'berries': 30, 'squash': 15, 'melons': 9, 'corn': 15}\n",
    "\n",
    "farm_data = [farm_1, farm_2, farm_3, farm_4]\n",
    "farm_index = ['Farm 1', 'Farm 2', 'Farm 3', 'Farm 4']\n",
    "df_farm = pd.DataFrame(farm_data, index=farm_index)\n",
    "\n",
    "#As DataFrames\n",
    "index_3 = multi_iter2.pop('index')\n",
    "df_1 = pd.DataFrame(multi_iter2, index=index_3)\n",
    "df_1 = df_1.reindex(columns=sorted(df_1.columns))"
   ]
  },
  {
   "cell_type": "code",
   "execution_count": 17,
   "metadata": {},
   "outputs": [
    {
     "data": {
      "text/html": [
       "<div id=\"visc84b4b952c30431d85bdcee992ba8b59\"></div>\n",
       "<script>\n",
       "   ( function() {\n",
       "     var _do_plot = function() {\n",
       "       if (typeof vg === 'undefined') {\n",
       "         window.addEventListener('vincent_libs_loaded', _do_plot)\n",
       "         return;\n",
       "       }\n",
       "       vg.parse.spec({\"axes\": [{\"scale\": \"x\", \"title\": \"Index\", \"type\": \"x\"}, {\"scale\": \"y\", \"title\": \"Value\", \"type\": \"y\"}], \"data\": [{\"name\": \"table\", \"values\": [{\"col\": \"y0\", \"idx\": 1, \"val\": 24}, {\"col\": \"y1\", \"idx\": 1, \"val\": 27}, {\"col\": \"y2\", \"idx\": 1, \"val\": 60}, {\"col\": \"y3\", \"idx\": 1, \"val\": 93}, {\"col\": \"y4\", \"idx\": 1, \"val\": 46}, {\"col\": \"y5\", \"idx\": 1, \"val\": 51}, {\"col\": \"y6\", \"idx\": 1, \"val\": 39}, {\"col\": \"y7\", \"idx\": 1, \"val\": 69}, {\"col\": \"y8\", \"idx\": 1, \"val\": 75}, {\"col\": \"y9\", \"idx\": 1, \"val\": 40}, {\"col\": \"y0\", \"idx\": 2, \"val\": 56}, {\"col\": \"y1\", \"idx\": 2, \"val\": 93}, {\"col\": \"y2\", \"idx\": 2, \"val\": 80}, {\"col\": \"y3\", \"idx\": 2, \"val\": 48}, {\"col\": \"y4\", \"idx\": 2, \"val\": 67}, {\"col\": \"y5\", \"idx\": 2, \"val\": 61}, {\"col\": \"y6\", \"idx\": 2, \"val\": 100}, {\"col\": \"y7\", \"idx\": 2, \"val\": 28}, {\"col\": \"y8\", \"idx\": 2, \"val\": 79}, {\"col\": \"y9\", \"idx\": 2, \"val\": 90}, {\"col\": \"y0\", \"idx\": 3, \"val\": 48}, {\"col\": \"y1\", \"idx\": 3, \"val\": 42}, {\"col\": \"y2\", \"idx\": 3, \"val\": 95}, {\"col\": \"y3\", \"idx\": 3, \"val\": 21}, {\"col\": \"y4\", \"idx\": 3, \"val\": 27}, {\"col\": \"y5\", \"idx\": 3, \"val\": 41}, {\"col\": \"y6\", \"idx\": 3, \"val\": 70}, {\"col\": \"y7\", \"idx\": 3, \"val\": 88}, {\"col\": \"y8\", \"idx\": 3, \"val\": 54}, {\"col\": \"y9\", \"idx\": 3, \"val\": 41}, {\"col\": \"y0\", \"idx\": 4, \"val\": 66}, {\"col\": \"y1\", \"idx\": 4, \"val\": 58}, {\"col\": \"y2\", \"idx\": 4, \"val\": 56}, {\"col\": \"y3\", \"idx\": 4, \"val\": 87}, {\"col\": \"y4\", \"idx\": 4, \"val\": 71}, {\"col\": \"y5\", \"idx\": 4, \"val\": 75}, {\"col\": \"y6\", \"idx\": 4, \"val\": 97}, {\"col\": \"y7\", \"idx\": 4, \"val\": 15}, {\"col\": \"y8\", \"idx\": 4, \"val\": 81}, {\"col\": \"y9\", \"idx\": 4, \"val\": 49}, {\"col\": \"y0\", \"idx\": 5, \"val\": 50}, {\"col\": \"y1\", \"idx\": 5, \"val\": 92}, {\"col\": \"y2\", \"idx\": 5, \"val\": 74}, {\"col\": \"y3\", \"idx\": 5, \"val\": 67}, {\"col\": \"y4\", \"idx\": 5, \"val\": 57}, {\"col\": \"y5\", \"idx\": 5, \"val\": 40}, {\"col\": \"y6\", \"idx\": 5, \"val\": 49}, {\"col\": \"y7\", \"idx\": 5, \"val\": 30}, {\"col\": \"y8\", \"idx\": 5, \"val\": 62}, {\"col\": \"y9\", \"idx\": 5, \"val\": 34}, {\"col\": \"y0\", \"idx\": 6, \"val\": 48}, {\"col\": \"y1\", \"idx\": 6, \"val\": 86}, {\"col\": \"y2\", \"idx\": 6, \"val\": 70}, {\"col\": \"y3\", \"idx\": 6, \"val\": 63}, {\"col\": \"y4\", \"idx\": 6, \"val\": 53}, {\"col\": \"y5\", \"idx\": 6, \"val\": 59}, {\"col\": \"y6\", \"idx\": 6, \"val\": 17}, {\"col\": \"y7\", \"idx\": 6, \"val\": 49}, {\"col\": \"y8\", \"idx\": 6, \"val\": 20}, {\"col\": \"y9\", \"idx\": 6, \"val\": 11}, {\"col\": \"y0\", \"idx\": 7, \"val\": 95}, {\"col\": \"y1\", \"idx\": 7, \"val\": 85}, {\"col\": \"y2\", \"idx\": 7, \"val\": 79}, {\"col\": \"y3\", \"idx\": 7, \"val\": 71}, {\"col\": \"y4\", \"idx\": 7, \"val\": 10}, {\"col\": \"y5\", \"idx\": 7, \"val\": 51}, {\"col\": \"y6\", \"idx\": 7, \"val\": 47}, {\"col\": \"y7\", \"idx\": 7, \"val\": 32}, {\"col\": \"y8\", \"idx\": 7, \"val\": 70}, {\"col\": \"y9\", \"idx\": 7, \"val\": 67}, {\"col\": \"y0\", \"idx\": 8, \"val\": 89}, {\"col\": \"y1\", \"idx\": 8, \"val\": 23}, {\"col\": \"y2\", \"idx\": 8, \"val\": 24}, {\"col\": \"y3\", \"idx\": 8, \"val\": 69}, {\"col\": \"y4\", \"idx\": 8, \"val\": 92}, {\"col\": \"y5\", \"idx\": 8, \"val\": 72}, {\"col\": \"y6\", \"idx\": 8, \"val\": 94}, {\"col\": \"y7\", \"idx\": 8, \"val\": 57}, {\"col\": \"y8\", \"idx\": 8, \"val\": 98}, {\"col\": \"y9\", \"idx\": 8, \"val\": 23}, {\"col\": \"y0\", \"idx\": 9, \"val\": 52}, {\"col\": \"y1\", \"idx\": 9, \"val\": 57}, {\"col\": \"y2\", \"idx\": 9, \"val\": 44}, {\"col\": \"y3\", \"idx\": 9, \"val\": 52}, {\"col\": \"y4\", \"idx\": 9, \"val\": 56}, {\"col\": \"y5\", \"idx\": 9, \"val\": 11}, {\"col\": \"y6\", \"idx\": 9, \"val\": 91}, {\"col\": \"y7\", \"idx\": 9, \"val\": 42}, {\"col\": \"y8\", \"idx\": 9, \"val\": 71}, {\"col\": \"y9\", \"idx\": 9, \"val\": 43}, {\"col\": \"y0\", \"idx\": 10, \"val\": 90}, {\"col\": \"y1\", \"idx\": 10, \"val\": 100}, {\"col\": \"y2\", \"idx\": 10, \"val\": 87}, {\"col\": \"y3\", \"idx\": 10, \"val\": 53}, {\"col\": \"y4\", \"idx\": 10, \"val\": 51}, {\"col\": \"y5\", \"idx\": 10, \"val\": 87}, {\"col\": \"y6\", \"idx\": 10, \"val\": 51}, {\"col\": \"y7\", \"idx\": 10, \"val\": 34}, {\"col\": \"y8\", \"idx\": 10, \"val\": 38}, {\"col\": \"y9\", \"idx\": 10, \"val\": 86}, {\"col\": \"y0\", \"idx\": 11, \"val\": 28}, {\"col\": \"y1\", \"idx\": 11, \"val\": 77}, {\"col\": \"y2\", \"idx\": 11, \"val\": 47}, {\"col\": \"y3\", \"idx\": 11, \"val\": 100}, {\"col\": \"y4\", \"idx\": 11, \"val\": 50}, {\"col\": \"y5\", \"idx\": 11, \"val\": 77}, {\"col\": \"y6\", \"idx\": 11, \"val\": 42}, {\"col\": \"y7\", \"idx\": 11, \"val\": 13}, {\"col\": \"y8\", \"idx\": 11, \"val\": 98}, {\"col\": \"y9\", \"idx\": 11, \"val\": 23}, {\"col\": \"y0\", \"idx\": 12, \"val\": 43}, {\"col\": \"y1\", \"idx\": 12, \"val\": 48}, {\"col\": \"y2\", \"idx\": 12, \"val\": 36}, {\"col\": \"y3\", \"idx\": 12, \"val\": 91}, {\"col\": \"y4\", \"idx\": 12, \"val\": 62}, {\"col\": \"y5\", \"idx\": 12, \"val\": 46}, {\"col\": \"y6\", \"idx\": 12, \"val\": 91}, {\"col\": \"y7\", \"idx\": 12, \"val\": 51}, {\"col\": \"y8\", \"idx\": 12, \"val\": 27}, {\"col\": \"y9\", \"idx\": 12, \"val\": 12}, {\"col\": \"y0\", \"idx\": 13, \"val\": 82}, {\"col\": \"y1\", \"idx\": 13, \"val\": 45}, {\"col\": \"y2\", \"idx\": 13, \"val\": 100}, {\"col\": \"y3\", \"idx\": 13, \"val\": 81}, {\"col\": \"y4\", \"idx\": 13, \"val\": 61}, {\"col\": \"y5\", \"idx\": 13, \"val\": 92}, {\"col\": \"y6\", \"idx\": 13, \"val\": 33}, {\"col\": \"y7\", \"idx\": 13, \"val\": 39}, {\"col\": \"y8\", \"idx\": 13, \"val\": 63}, {\"col\": \"y9\", \"idx\": 13, \"val\": 97}, {\"col\": \"y0\", \"idx\": 14, \"val\": 27}, {\"col\": \"y1\", \"idx\": 14, \"val\": 86}, {\"col\": \"y2\", \"idx\": 14, \"val\": 15}, {\"col\": \"y3\", \"idx\": 14, \"val\": 69}, {\"col\": \"y4\", \"idx\": 14, \"val\": 12}, {\"col\": \"y5\", \"idx\": 14, \"val\": 40}, {\"col\": \"y6\", \"idx\": 14, \"val\": 22}, {\"col\": \"y7\", \"idx\": 14, \"val\": 87}, {\"col\": \"y8\", \"idx\": 14, \"val\": 94}, {\"col\": \"y9\", \"idx\": 14, \"val\": 38}, {\"col\": \"y0\", \"idx\": 15, \"val\": 33}, {\"col\": \"y1\", \"idx\": 15, \"val\": 90}, {\"col\": \"y2\", \"idx\": 15, \"val\": 35}, {\"col\": \"y3\", \"idx\": 15, \"val\": 60}, {\"col\": \"y4\", \"idx\": 15, \"val\": 49}, {\"col\": \"y5\", \"idx\": 15, \"val\": 81}, {\"col\": \"y6\", \"idx\": 15, \"val\": 38}, {\"col\": \"y7\", \"idx\": 15, \"val\": 71}, {\"col\": \"y8\", \"idx\": 15, \"val\": 92}, {\"col\": \"y9\", \"idx\": 15, \"val\": 74}, {\"col\": \"y0\", \"idx\": 16, \"val\": 54}, {\"col\": \"y1\", \"idx\": 16, \"val\": 98}, {\"col\": \"y2\", \"idx\": 16, \"val\": 79}, {\"col\": \"y3\", \"idx\": 16, \"val\": 79}, {\"col\": \"y4\", \"idx\": 16, \"val\": 44}, {\"col\": \"y5\", \"idx\": 16, \"val\": 76}, {\"col\": \"y6\", \"idx\": 16, \"val\": 11}, {\"col\": \"y7\", \"idx\": 16, \"val\": 79}, {\"col\": \"y8\", \"idx\": 16, \"val\": 20}, {\"col\": \"y9\", \"idx\": 16, \"val\": 97}, {\"col\": \"y0\", \"idx\": 17, \"val\": 23}, {\"col\": \"y1\", \"idx\": 17, \"val\": 42}, {\"col\": \"y2\", \"idx\": 17, \"val\": 37}, {\"col\": \"y3\", \"idx\": 17, \"val\": 97}, {\"col\": \"y4\", \"idx\": 17, \"val\": 41}, {\"col\": \"y5\", \"idx\": 17, \"val\": 35}, {\"col\": \"y6\", \"idx\": 17, \"val\": 42}, {\"col\": \"y7\", \"idx\": 17, \"val\": 75}, {\"col\": \"y8\", \"idx\": 17, \"val\": 31}, {\"col\": \"y9\", \"idx\": 17, \"val\": 15}, {\"col\": \"y0\", \"idx\": 18, \"val\": 35}, {\"col\": \"y1\", \"idx\": 18, \"val\": 54}, {\"col\": \"y2\", \"idx\": 18, \"val\": 96}, {\"col\": \"y3\", \"idx\": 18, \"val\": 59}, {\"col\": \"y4\", \"idx\": 18, \"val\": 56}, {\"col\": \"y5\", \"idx\": 18, \"val\": 69}, {\"col\": \"y6\", \"idx\": 18, \"val\": 80}, {\"col\": \"y7\", \"idx\": 18, \"val\": 93}, {\"col\": \"y8\", \"idx\": 18, \"val\": 51}, {\"col\": \"y9\", \"idx\": 18, \"val\": 89}, {\"col\": \"y0\", \"idx\": 19, \"val\": 49}, {\"col\": \"y1\", \"idx\": 19, \"val\": 21}, {\"col\": \"y2\", \"idx\": 19, \"val\": 91}, {\"col\": \"y3\", \"idx\": 19, \"val\": 46}, {\"col\": \"y4\", \"idx\": 19, \"val\": 42}, {\"col\": \"y5\", \"idx\": 19, \"val\": 100}, {\"col\": \"y6\", \"idx\": 19, \"val\": 23}, {\"col\": \"y7\", \"idx\": 19, \"val\": 72}, {\"col\": \"y8\", \"idx\": 19, \"val\": 14}, {\"col\": \"y9\", \"idx\": 19, \"val\": 80}, {\"col\": \"y0\", \"idx\": 20, \"val\": 58}, {\"col\": \"y1\", \"idx\": 20, \"val\": 48}, {\"col\": \"y2\", \"idx\": 20, \"val\": 66}, {\"col\": \"y3\", \"idx\": 20, \"val\": 48}, {\"col\": \"y4\", \"idx\": 20, \"val\": 85}, {\"col\": \"y5\", \"idx\": 20, \"val\": 35}, {\"col\": \"y6\", \"idx\": 20, \"val\": 72}, {\"col\": \"y7\", \"idx\": 20, \"val\": 20}, {\"col\": \"y8\", \"idx\": 20, \"val\": 47}, {\"col\": \"y9\", \"idx\": 20, \"val\": 11}]}, {\"name\": \"stats\", \"source\": \"table\", \"transform\": [{\"keys\": [\"data.idx\"], \"type\": \"facet\"}, {\"type\": \"stats\", \"value\": \"data.val\"}]}], \"height\": 500, \"legends\": [{\"fill\": \"color\", \"offset\": 0, \"properties\": {}, \"title\": \"Categories\"}], \"marks\": [{\"from\": {\"data\": \"table\", \"transform\": [{\"keys\": [\"data.col\"], \"type\": \"facet\"}, {\"height\": \"data.val\", \"point\": \"data.idx\", \"type\": \"stack\"}]}, \"marks\": [{\"properties\": {\"enter\": {\"fill\": {\"field\": \"data.col\", \"scale\": \"color\"}, \"interpolate\": {\"value\": \"monotone\"}, \"x\": {\"field\": \"data.idx\", \"scale\": \"x\"}, \"y\": {\"field\": \"y\", \"scale\": \"y\"}, \"y2\": {\"field\": \"y2\", \"scale\": \"y\"}}}, \"type\": \"area\"}], \"type\": \"group\"}], \"padding\": \"auto\", \"scales\": [{\"domain\": {\"data\": \"table\", \"field\": \"data.idx\"}, \"name\": \"x\", \"range\": \"width\", \"type\": \"linear\", \"zero\": false}, {\"domain\": {\"data\": \"stats\", \"field\": \"sum\"}, \"name\": \"y\", \"nice\": true, \"range\": \"height\"}, {\"domain\": {\"data\": \"table\", \"field\": \"data.col\"}, \"name\": \"color\", \"range\": [\"#9e0142\", \"#d53e4f\", \"#f46d43\", \"#fdae61\", \"#fee08b\", \"#ffffbf\", \"#e6f598\", \"#abdda4\", \"#66c2a5\", \"#3288bd\", \"#5e4fa2\"], \"type\": \"ordinal\"}], \"width\": 960}, function(chart) {\n",
       "         chart({el: \"#visc84b4b952c30431d85bdcee992ba8b59\"}).update();\n",
       "       });\n",
       "     };\n",
       "     _do_plot();\n",
       "   })();\n",
       "</script>\n",
       "<style>.vega canvas {width: 100%;}</style>\n",
       "        "
      ],
      "text/plain": [
       "<vincent.charts.Area at 0x7fc2cbd644e0>"
      ]
     },
     "execution_count": 17,
     "metadata": {},
     "output_type": "execute_result"
    }
   ],
   "source": [
    "stacked = vincent.StackedArea(df_1)\n",
    "stacked.axis_titles(x='Index', y='Value')\n",
    "stacked.legend(title='Categories')\n",
    "stacked.colors(brew='Spectral')"
   ]
  },
  {
   "cell_type": "code",
   "execution_count": 13,
   "metadata": {},
   "outputs": [
    {
     "data": {
      "text/html": [
       "<div id=\"vis16ebebf9f17e4fa79dd02c4a75cfb4e6\"></div>\n",
       "<script>\n",
       "   ( function() {\n",
       "     var _do_plot = function() {\n",
       "       if (typeof vg === 'undefined') {\n",
       "         window.addEventListener('vincent_libs_loaded', _do_plot)\n",
       "         return;\n",
       "       }\n",
       "       vg.parse.spec({\"axes\": [{\"scale\": \"x\", \"type\": \"x\"}, {\"scale\": \"y\", \"type\": \"y\"}], \"data\": [{\"name\": \"table\", \"values\": [{\"col\": \"data\", \"idx\": 0, \"val\": 10}, {\"col\": \"data\", \"idx\": 1, \"val\": 20}, {\"col\": \"data\", \"idx\": 2, \"val\": 30}, {\"col\": \"data\", \"idx\": 3, \"val\": 20}, {\"col\": \"data\", \"idx\": 4, \"val\": 15}, {\"col\": \"data\", \"idx\": 5, \"val\": 30}, {\"col\": \"data\", \"idx\": 6, \"val\": 45}]}, {\"name\": \"stats\", \"source\": \"table\", \"transform\": [{\"keys\": [\"data.idx\"], \"type\": \"facet\"}, {\"type\": \"stats\", \"value\": \"data.val\"}]}], \"height\": 500, \"legends\": [], \"marks\": [{\"from\": {\"data\": \"table\", \"transform\": [{\"keys\": [\"data.col\"], \"type\": \"facet\"}, {\"height\": \"data.val\", \"point\": \"data.idx\", \"type\": \"stack\"}]}, \"marks\": [{\"properties\": {\"enter\": {\"fill\": {\"field\": \"data.col\", \"scale\": \"color\"}, \"interpolate\": {\"value\": \"monotone\"}, \"x\": {\"field\": \"data.idx\", \"scale\": \"x\"}, \"y\": {\"field\": \"y\", \"scale\": \"y\"}, \"y2\": {\"field\": \"y2\", \"scale\": \"y\"}}}, \"type\": \"area\"}], \"type\": \"group\"}], \"padding\": \"auto\", \"scales\": [{\"domain\": {\"data\": \"table\", \"field\": \"data.idx\"}, \"name\": \"x\", \"range\": \"width\", \"type\": \"linear\", \"zero\": false}, {\"domain\": {\"data\": \"stats\", \"field\": \"sum\"}, \"name\": \"y\", \"nice\": true, \"range\": \"height\"}, {\"domain\": {\"data\": \"table\", \"field\": \"data.col\"}, \"name\": \"color\", \"range\": \"category20\", \"type\": \"ordinal\"}], \"width\": 960}, function(chart) {\n",
       "         chart({el: \"#vis16ebebf9f17e4fa79dd02c4a75cfb4e6\"}).update();\n",
       "       });\n",
       "     };\n",
       "     _do_plot();\n",
       "   })();\n",
       "</script>\n",
       "<style>.vega canvas {width: 100%;}</style>\n",
       "        "
      ],
      "text/plain": [
       "<IPython.core.display.HTML object>"
      ]
     },
     "metadata": {},
     "output_type": "display_data"
    }
   ],
   "source": [
    "#Iterable\n",
    "list_data = [10, 20, 30, 20, 15, 30, 45]\n",
    "area = vincent.Area(list_data)\n",
    "area.display()"
   ]
  }
 ],
 "metadata": {
  "kernelspec": {
   "display_name": "Python 3",
   "language": "python",
   "name": "python3"
  },
  "language_info": {
   "codemirror_mode": {
    "name": "ipython",
    "version": 3
   },
   "file_extension": ".py",
   "mimetype": "text/x-python",
   "name": "python",
   "nbconvert_exporter": "python",
   "pygments_lexer": "ipython3",
   "version": "3.7.3"
  }
 },
 "nbformat": 4,
 "nbformat_minor": 4
}
