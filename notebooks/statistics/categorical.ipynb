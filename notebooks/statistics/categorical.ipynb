{
 "cells": [
  {
   "cell_type": "markdown",
   "metadata": {},
   "source": [
    "# 범주형\n",
    "1. 통계기법\n",
    "1. 비율을 비교\n",
    "  1. 카이제곱 검정\n",
    "  1. Fisher의 정확한 검정\n",
    "  1. 선형 대 선형 결합\n"
   ]
  },
  {
   "cell_type": "markdown",
   "metadata": {},
   "source": [
    "# 통계기법\n",
    "평균비교에 있어서 통계기법 적용과정\n",
    "\n",
    "독립변수 | 종속변수 | 통계분석법(모수) | 통계분석법(비모수)\n",
    "--- | --- | --- | ---\n",
    "명칭척도 | 비척도 | 독립표본 T 검정, 대응표본 T 검정 | Mann-Whitney Test, Wilcoxon Signed rank test\n",
    "명칭 혹은 순위 척도 | 비척도 | 일원배치 분산분석법(ANOVA) | Kruskal-Wallis test\n",
    "순위척도 | 비척도 | | Jonckheere-Terpstra test (경향분석)\n",
    "명칭척도 | 명칭척도 | 카이제곱검정 | Fisher의 정확한 검정\n",
    "순위척도 | 명칭척도 | 선형 대 선형 결합 - 경향분석  (test for trend) |\n",
    "종속관계가 명확하지 않을 때 (비척도) | 비척도 | Pearson의 상관분석 | Spearman의 상관분석 "
   ]
  },
  {
   "cell_type": "markdown",
   "metadata": {},
   "source": [
    "![Alt text](https://g.gravizo.com/svg?\n",
    "  digraph G {\n",
    "    aize=\"4,4\";\n",
    "    \"종속변수 [범주형]\" -> \"독립변수 [명칭척도]\";\n",
    "    \"종속변수 [범주형]\" -> \"독립변수 [순위척도]\";\n",
    "    \"독립변수 [명칭척도]\" -> \"카이제곱검정\" [label=\"모수적 방법\"];\n",
    "    \"독립변수 [명칭척도]\" -> \"Fisher의 정확한 검정\" [label=\"비모수적 방법\"];\n",
    "    \"독립변수 [순위척도]\" -> \"선형 대 선형 결합 - 경향분석\" [label=\"모수적 방법\"];\n",
    "  }\n",
    ")"
   ]
  },
  {
   "cell_type": "markdown",
   "metadata": {},
   "source": [
    "# 카이제곱검정"
   ]
  },
  {
   "cell_type": "code",
   "execution_count": 42,
   "metadata": {},
   "outputs": [
    {
     "data": {
      "text/html": [
       "<div>\n",
       "<style scoped>\n",
       "    .dataframe tbody tr th:only-of-type {\n",
       "        vertical-align: middle;\n",
       "    }\n",
       "\n",
       "    .dataframe tbody tr th {\n",
       "        vertical-align: top;\n",
       "    }\n",
       "\n",
       "    .dataframe thead th {\n",
       "        text-align: right;\n",
       "    }\n",
       "</style>\n",
       "<table border=\"1\" class=\"dataframe\">\n",
       "  <thead>\n",
       "    <tr style=\"text-align: right;\">\n",
       "      <th></th>\n",
       "      <th>obesity</th>\n",
       "      <th>diabetes</th>\n",
       "    </tr>\n",
       "  </thead>\n",
       "  <tbody>\n",
       "    <tr>\n",
       "      <th>0</th>\n",
       "      <td>1</td>\n",
       "      <td>1</td>\n",
       "    </tr>\n",
       "    <tr>\n",
       "      <th>1</th>\n",
       "      <td>1</td>\n",
       "      <td>2</td>\n",
       "    </tr>\n",
       "    <tr>\n",
       "      <th>2</th>\n",
       "      <td>2</td>\n",
       "      <td>2</td>\n",
       "    </tr>\n",
       "    <tr>\n",
       "      <th>3</th>\n",
       "      <td>2</td>\n",
       "      <td>1</td>\n",
       "    </tr>\n",
       "    <tr>\n",
       "      <th>4</th>\n",
       "      <td>2</td>\n",
       "      <td>2</td>\n",
       "    </tr>\n",
       "  </tbody>\n",
       "</table>\n",
       "</div>"
      ],
      "text/plain": [
       "   obesity  diabetes\n",
       "0        1         1\n",
       "1        1         2\n",
       "2        2         2\n",
       "3        2         1\n",
       "4        2         2"
      ]
     },
     "execution_count": 42,
     "metadata": {},
     "output_type": "execute_result"
    }
   ],
   "source": [
    "import pandas as pd\n",
    "import scipy.stats as stats\n",
    "\n",
    "df = pd.read_csv(\"data/5_chi_square_test.csv\")\n",
    "df.head()"
   ]
  },
  {
   "cell_type": "code",
   "execution_count": 45,
   "metadata": {},
   "outputs": [
    {
     "name": "stdout",
     "output_type": "stream",
     "text": [
      "diabetes   1   2\n",
      "obesity         \n",
      "1         10  10\n",
      "2         15  65\n"
     ]
    }
   ],
   "source": [
    "import numpy as np\n",
    "\n",
    "#tb = pd.pivot_table(df, index=['obesity'], columns=['diabetes'], aggfunc=np.ma.count)\n",
    "#print(tb)\n",
    "df['value'] = 1\n",
    "tb = pd.pivot_table(df, values='value', index=['obesity'], columns=['diabetes'], aggfunc=np.sum)\n",
    "print(tb)"
   ]
  },
  {
   "cell_type": "code",
   "execution_count": 69,
   "metadata": {},
   "outputs": [
    {
     "name": "stdout",
     "output_type": "stream",
     "text": [
      "[[10 10]\n",
      " [15 65]]\n"
     ]
    }
   ],
   "source": [
    "obs = tb.values\n",
    "print(obj)"
   ]
  },
  {
   "cell_type": "code",
   "execution_count": 75,
   "metadata": {},
   "outputs": [
    {
     "name": "stdout",
     "output_type": "stream",
     "text": [
      "Chi2 Stat : 6.750000000000001\n",
      "Degrees of Freedom : 1\n",
      "P-Value : 0.009374768459434897\n",
      "Contingency Table\n",
      "[[ 5. 15.]\n",
      " [20. 60.]]\n"
     ]
    }
   ],
   "source": [
    "###########################\n",
    "# chi2_contingency fuction\n",
    "###########################\n",
    "chi2_stat, p_val, dof, ex = stats.chi2_contingency(obs)\n",
    "\n",
    "print(\"Chi2 Stat : {}\".format(chi2_stat))\n",
    "print(\"Degrees of Freedom : {}\".format(dof))\n",
    "print(\"P-Value : {}\".format(p_val))\n",
    "print(\"Contingency Table : \\n{}\".format(ex))"
   ]
  },
  {
   "cell_type": "code",
   "execution_count": 76,
   "metadata": {},
   "outputs": [
    {
     "name": "stdout",
     "output_type": "stream",
     "text": [
      "Expected values:\n",
      "[[ 5. 15.]\n",
      " [20. 60.]]\n",
      "Chi-squared : 8.333333333333334\n",
      "p-value: 0.003892417122778637\n"
     ]
    }
   ],
   "source": [
    "#######################\n",
    "# chisquare function\n",
    "#######################\n",
    "# calculate expected values from observations\n",
    "expected_values = np.array([\n",
    "    (np.array([sum(ob) for ob in obs]) * sum(obs)[0]) / sum(sum(obs)),\n",
    "    (np.array([sum(ob) for ob in obs]) * sum(obs)[1]) / sum(sum(obs))\n",
    "]).T\n",
    "print(\"Expected values:\\n{}\".format(expected_values))\n",
    "\n",
    "# to use function chisquare() calculate delta degrees of freedom\n",
    "degrees_of_freedom_chisquare_fct = (len(obs) * len(obs[0])) - 1\n",
    "degrees_of_freedom = (len(obs)-1) * (len(obs[0])- 1)\n",
    "delta_degrees_of_freedom = degrees_of_freedom_chisquare_fct - degrees_of_freedom\n",
    "\n",
    "#function chisquare() calculates Chi-squared value and p-value\n",
    "#but you need to pass expected values and the delta degrees of freedom\n",
    "chi_squared, p_value = stats.chisquare(\n",
    "    f_obs = obs,\n",
    "    f_exp = expected_values,\n",
    "    axis=None,\n",
    "    ddof=delta_degrees_of_freedom\n",
    ")\n",
    "\n",
    "print(\"Chi-squared : {}\".format(chi_squared))\n",
    "print(\"p-value: {}\".format(p_value))"
   ]
  },
  {
   "cell_type": "markdown",
   "metadata": {},
   "source": [
    " | 값 | 자유도 | 접근 유의확률(양측검정)\n",
    " --|--|--|--\n",
    "Pearson 카이제곱| 8.333 | | 0.004\n",
    "연속수정 | 6.750 | 1 | 0.009\n",
    "\n",
    "카아제곱 검정  \n",
    "H<sub>0</sub> : 비만유무는 당뇨 유무와 연관성이 없다.  \n",
    "H<sub>1</sub> : 비만유무는 당뇨 유모와 연관성이 있다.  \n",
    "p=0.004 < 0.05 이므로 H<sub>0</sub> 기각  \n",
    "비만 유무는 당뇨 유무와 관련성이 있다.\n",
    "\n",
    "5보다 작은 기대빈도를 가지는 셀이 없으므로 (20%보다 적으므로) 카이제곱 검정이 가능하다. "
   ]
  },
  {
   "cell_type": "markdown",
   "metadata": {},
   "source": [
    "# Fisher의 정확한 검정\n",
    "기대빈도가 5보다 작은 셀이 전체의 20% 이상인 경우에는 카이제곱 검정을 사용할 수 없다. 대신 Fisher의 정확한 검정(Fisher's exact test)을 사용한다. "
   ]
  },
  {
   "cell_type": "code",
   "execution_count": 79,
   "metadata": {},
   "outputs": [
    {
     "data": {
      "text/html": [
       "<div>\n",
       "<style scoped>\n",
       "    .dataframe tbody tr th:only-of-type {\n",
       "        vertical-align: middle;\n",
       "    }\n",
       "\n",
       "    .dataframe tbody tr th {\n",
       "        vertical-align: top;\n",
       "    }\n",
       "\n",
       "    .dataframe thead th {\n",
       "        text-align: right;\n",
       "    }\n",
       "</style>\n",
       "<table border=\"1\" class=\"dataframe\">\n",
       "  <thead>\n",
       "    <tr style=\"text-align: right;\">\n",
       "      <th></th>\n",
       "      <th>obesity</th>\n",
       "      <th>diabetes</th>\n",
       "    </tr>\n",
       "  </thead>\n",
       "  <tbody>\n",
       "    <tr>\n",
       "      <th>0</th>\n",
       "      <td>2</td>\n",
       "      <td>2</td>\n",
       "    </tr>\n",
       "    <tr>\n",
       "      <th>1</th>\n",
       "      <td>2</td>\n",
       "      <td>2</td>\n",
       "    </tr>\n",
       "    <tr>\n",
       "      <th>2</th>\n",
       "      <td>1</td>\n",
       "      <td>1</td>\n",
       "    </tr>\n",
       "    <tr>\n",
       "      <th>3</th>\n",
       "      <td>2</td>\n",
       "      <td>2</td>\n",
       "    </tr>\n",
       "    <tr>\n",
       "      <th>4</th>\n",
       "      <td>2</td>\n",
       "      <td>2</td>\n",
       "    </tr>\n",
       "  </tbody>\n",
       "</table>\n",
       "</div>"
      ],
      "text/plain": [
       "   obesity  diabetes\n",
       "0        2         2\n",
       "1        2         2\n",
       "2        1         1\n",
       "3        2         2\n",
       "4        2         2"
      ]
     },
     "execution_count": 79,
     "metadata": {},
     "output_type": "execute_result"
    }
   ],
   "source": [
    "df = pd.read_csv('data/5_fisher_exact_test.csv')\n",
    "df.head()"
   ]
  },
  {
   "cell_type": "code",
   "execution_count": 82,
   "metadata": {},
   "outputs": [
    {
     "data": {
      "text/html": [
       "<div>\n",
       "<style scoped>\n",
       "    .dataframe tbody tr th:only-of-type {\n",
       "        vertical-align: middle;\n",
       "    }\n",
       "\n",
       "    .dataframe tbody tr th {\n",
       "        vertical-align: top;\n",
       "    }\n",
       "\n",
       "    .dataframe thead th {\n",
       "        text-align: right;\n",
       "    }\n",
       "</style>\n",
       "<table border=\"1\" class=\"dataframe\">\n",
       "  <thead>\n",
       "    <tr style=\"text-align: right;\">\n",
       "      <th>diabetes</th>\n",
       "      <th>1</th>\n",
       "      <th>2</th>\n",
       "    </tr>\n",
       "    <tr>\n",
       "      <th>obesity</th>\n",
       "      <th></th>\n",
       "      <th></th>\n",
       "    </tr>\n",
       "  </thead>\n",
       "  <tbody>\n",
       "    <tr>\n",
       "      <th>1</th>\n",
       "      <td>2</td>\n",
       "      <td>2</td>\n",
       "    </tr>\n",
       "    <tr>\n",
       "      <th>2</th>\n",
       "      <td>3</td>\n",
       "      <td>13</td>\n",
       "    </tr>\n",
       "  </tbody>\n",
       "</table>\n",
       "</div>"
      ],
      "text/plain": [
       "diabetes  1   2\n",
       "obesity        \n",
       "1         2   2\n",
       "2         3  13"
      ]
     },
     "execution_count": 82,
     "metadata": {},
     "output_type": "execute_result"
    }
   ],
   "source": [
    "df['value'] = 1\n",
    "tb = pd.pivot_table(df, index='obesity', columns=['diabetes'], values='value', aggfunc=np.sum)\n",
    "tb"
   ]
  },
  {
   "cell_type": "code",
   "execution_count": 84,
   "metadata": {},
   "outputs": [
    {
     "name": "stdout",
     "output_type": "stream",
     "text": [
      "[[ 2  2]\n",
      " [ 3 13]]\n"
     ]
    }
   ],
   "source": [
    "obs = tb.values\n",
    "print(obs)"
   ]
  },
  {
   "cell_type": "code",
   "execution_count": 85,
   "metadata": {},
   "outputs": [
    {
     "name": "stdout",
     "output_type": "stream",
     "text": [
      "odds ratio (OR): 4.333333333333333\n",
      "p-Value : 0.2487100103199176\n"
     ]
    }
   ],
   "source": [
    "oddsratio, pvalue = stats.fisher_exact(obs)\n",
    "print(\"odds ratio (OR): {}\".format(oddsratio) )\n",
    "print(\"p-Value : {}\".format(pvalue))"
   ]
  },
  {
   "cell_type": "markdown",
   "metadata": {},
   "source": [
    "5보다 작은 기대빈도를 가지는 셀이 3개 이므로 (20%보다 많으므로) Fisher의 정확한 검정을 사용한다.  \n",
    "\n",
    "카이제곱 검정  \n",
    "H<sub>0</sub> : 비만유무는 당뇨 유무와 연관성이 없다.  \n",
    "H<sub>1</sub> : 비만유무는 당뇨 유무와 연관성이 있다.  \n",
    "p=0.249 > 0.05 이므로 H<sub>0</sub> 채택  \n",
    "비만 유무는 당뇨 유무와 관련성을 보이지 못했다. \n",
    "\n",
    "Odds ratio (승산비)  \n",
    "비만인 경우 당뇨가 있을 Odds ratio는 4.3이다. "
   ]
  },
  {
   "cell_type": "markdown",
   "metadata": {},
   "source": [
    "# 선형 대 선형 결합\n",
    "\n",
    "|고도비만 | 비만 | 정상체중 | 계\n",
    "--| --| --| --| --\n",
    "당뇨| 3 (60%) | 1 (33.3%) | 2 (13.3%) | 6 (26.1%)\n",
    "정상 | 2 (40%) | 2 (66.7%) | 13 (86.7%) | 17 (73.9%)\n",
    "계 | 5 (100%) | 3 (100%) | 15 (100%) | 23 (100%)\n",
    "\n",
    "위와 같이 2xk의 분할표에서 독립변수가 세 가지 이상(k개)의 범주로 분류되는 순위척도의 경우, 독립변수의 순위가 증가함에 따라 종속변수의 비율도 증가/감소하는 경향을 보이는 지 경향분석이 가능하다. 이런 범주형 자료의 경향 분석에는 score test for trend 혹은 Cochran-Armitage test가 사용된다. "
   ]
  },
  {
   "cell_type": "code",
   "execution_count": 95,
   "metadata": {},
   "outputs": [
    {
     "data": {
      "text/html": [
       "<div>\n",
       "<style scoped>\n",
       "    .dataframe tbody tr th:only-of-type {\n",
       "        vertical-align: middle;\n",
       "    }\n",
       "\n",
       "    .dataframe tbody tr th {\n",
       "        vertical-align: top;\n",
       "    }\n",
       "\n",
       "    .dataframe thead th {\n",
       "        text-align: right;\n",
       "    }\n",
       "</style>\n",
       "<table border=\"1\" class=\"dataframe\">\n",
       "  <thead>\n",
       "    <tr style=\"text-align: right;\">\n",
       "      <th></th>\n",
       "      <th>Diabetes</th>\n",
       "      <th>Obesity</th>\n",
       "    </tr>\n",
       "  </thead>\n",
       "  <tbody>\n",
       "    <tr>\n",
       "      <th>0</th>\n",
       "      <td>2</td>\n",
       "      <td>3</td>\n",
       "    </tr>\n",
       "    <tr>\n",
       "      <th>1</th>\n",
       "      <td>2</td>\n",
       "      <td>3</td>\n",
       "    </tr>\n",
       "    <tr>\n",
       "      <th>2</th>\n",
       "      <td>1</td>\n",
       "      <td>3</td>\n",
       "    </tr>\n",
       "    <tr>\n",
       "      <th>3</th>\n",
       "      <td>2</td>\n",
       "      <td>3</td>\n",
       "    </tr>\n",
       "    <tr>\n",
       "      <th>4</th>\n",
       "      <td>2</td>\n",
       "      <td>3</td>\n",
       "    </tr>\n",
       "  </tbody>\n",
       "</table>\n",
       "</div>"
      ],
      "text/plain": [
       "   Diabetes  Obesity\n",
       "0         2        3\n",
       "1         2        3\n",
       "2         1        3\n",
       "3         2        3\n",
       "4         2        3"
      ]
     },
     "execution_count": 95,
     "metadata": {},
     "output_type": "execute_result"
    }
   ],
   "source": [
    "#from statsmodels.formula.api import ols\n",
    "df = pd.read_csv('data/5_trend_test.csv')\n",
    "df.head()\n"
   ]
  },
  {
   "cell_type": "code",
   "execution_count": 96,
   "metadata": {},
   "outputs": [
    {
     "data": {
      "text/html": [
       "<div>\n",
       "<style scoped>\n",
       "    .dataframe tbody tr th:only-of-type {\n",
       "        vertical-align: middle;\n",
       "    }\n",
       "\n",
       "    .dataframe tbody tr th {\n",
       "        vertical-align: top;\n",
       "    }\n",
       "\n",
       "    .dataframe thead th {\n",
       "        text-align: right;\n",
       "    }\n",
       "</style>\n",
       "<table border=\"1\" class=\"dataframe\">\n",
       "  <thead>\n",
       "    <tr style=\"text-align: right;\">\n",
       "      <th>Obesity</th>\n",
       "      <th>1</th>\n",
       "      <th>2</th>\n",
       "      <th>3</th>\n",
       "    </tr>\n",
       "    <tr>\n",
       "      <th>Diabetes</th>\n",
       "      <th></th>\n",
       "      <th></th>\n",
       "      <th></th>\n",
       "    </tr>\n",
       "  </thead>\n",
       "  <tbody>\n",
       "    <tr>\n",
       "      <th>1</th>\n",
       "      <td>3</td>\n",
       "      <td>1</td>\n",
       "      <td>2</td>\n",
       "    </tr>\n",
       "    <tr>\n",
       "      <th>2</th>\n",
       "      <td>2</td>\n",
       "      <td>2</td>\n",
       "      <td>13</td>\n",
       "    </tr>\n",
       "  </tbody>\n",
       "</table>\n",
       "</div>"
      ],
      "text/plain": [
       "Obesity   1  2   3\n",
       "Diabetes          \n",
       "1         3  1   2\n",
       "2         2  2  13"
      ]
     },
     "execution_count": 96,
     "metadata": {},
     "output_type": "execute_result"
    }
   ],
   "source": [
    "tab = pd.crosstab(df['Diabetes'], df['Obesity'])\n",
    "tab"
   ]
  },
  {
   "cell_type": "code",
   "execution_count": 100,
   "metadata": {},
   "outputs": [],
   "source": [
    "import statsmodels.api as sm\n",
    "table = sm.stats.Table(tab)\n",
    "# Cochran-Armitage trend test\n",
    "rslt = table.test_ordinal_association()"
   ]
  },
  {
   "cell_type": "code",
   "execution_count": 103,
   "metadata": {},
   "outputs": [
    {
     "name": "stdout",
     "output_type": "stream",
     "text": [
      "p-Value : {} 0.04219421771982736\n"
     ]
    }
   ],
   "source": [
    "print(\"p-Value : {}\", rslt.pvalue)"
   ]
  },
  {
   "cell_type": "markdown",
   "metadata": {},
   "source": [
    "선형 대 선형 결합  \n",
    "H<sub>0</sub> : 비만도에 관계없이 당뇨의 비율이 일정핟.  \n",
    "H<sub>1</sub> : 비만도가 증가할 수록 당뇨의 비율은 증가/감소 추세에 있다.  \n",
    "p=0.042 < 0.05 이므로 H<sub>0</sub> 기각  \n",
    "비만도가 증가할 수록 당뇨의 비율은 증가 추세에 있다. \n",
    "\n",
    "5 셀(83.3%)은 5보다 작은 기대 빈도를 가지는 셀이고, 최소 기대빈소는 .78이지만 선형 대 선형 결합에서는 무시해도 좋다. "
   ]
  }
 ],
 "metadata": {
  "kernelspec": {
   "display_name": "Python 3",
   "language": "python",
   "name": "python3"
  },
  "language_info": {
   "codemirror_mode": {
    "name": "ipython",
    "version": 3
   },
   "file_extension": ".py",
   "mimetype": "text/x-python",
   "name": "python",
   "nbconvert_exporter": "python",
   "pygments_lexer": "ipython3",
   "version": "3.7.3"
  }
 },
 "nbformat": 4,
 "nbformat_minor": 2
}
