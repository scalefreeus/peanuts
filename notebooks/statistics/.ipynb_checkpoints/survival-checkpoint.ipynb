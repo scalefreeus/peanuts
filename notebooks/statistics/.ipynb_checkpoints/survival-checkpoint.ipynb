{
 "cells": [
  {
   "cell_type": "markdown",
   "metadata": {},
   "source": [
    "# 생존율의 추정 및 두 군의 생존율 비교\n",
    "1. Kaplan-Meier 생존분석\n",
    "1. 로그순위법\n",
    "1. 생존율에 영향을 미치는 위험인자\n",
    "  1. Cox의 비례위험모형"
   ]
  },
  {
   "cell_type": "markdown",
   "metadata": {},
   "source": [
    "어떤 암의 생존율을 파악하거나 두 가지 치료법의 예후를 비교하는 것은 임의의 한 시점의 환자 상태를 조사하는 것만으로는 부족할 수 있다. 두 치료법의 5년 혹은 10년 생존율이 같다고 해서 두 가지 치료가 똑같은 의미를 갖는 것은 아닐 수 있기 때문이다. 예를 들어, 아무런 치료를 받지 않았을 때 6개월 내에 80%의 사망률을 보이는 암이 항암치료를 통해 2년 생존율을 50%까지 올릴 수 있다면 설령 5년 뒤의 생존율이 같더라도 항암치료는 임상적으로 의미를 가지기에 충분하다. 이렇듯 시간에 따른 사망이나 재발 등의 변화를 관찰하는 분석을 생존분석(survival analysis)이라 하며, 생존분석에서 '사망'이나 '재발'과 같이 연구자가 관심을 갖고 있는 변화를 사건(event)이라고 한다. 생존분석에서 분석의 대상은 사건 발생까지의 시간(time to event)이다. 의학 및 보건 연구에서 흔히 시행되는 생존분석으로는 특정 집단의 생존율을 추정하는 Kaplan-Meier 생존분석(Kaplan-Meier curve Analysis)와, 두 집단의 생존율을 비교하는 로그 순위법(Log-rank test), 그리고 생존율에 영향을 미치는 위험인자를 분석하는 Cox의 비례위험모형(Cox's proportional regression analysis)등이 있다. "
   ]
  },
  {
   "cell_type": "markdown",
   "metadata": {},
   "source": [
    "Python에서 생존율 분석을 위해서는 lifelines 라이브러리가 필요하다. conda를 사용해서 아래와 같이 미리 설치하면 된다. \n",
    "\n",
    "\n",
    "```!conda install -c conda-forge lifelines```"
   ]
  },
  {
   "cell_type": "code",
   "execution_count": 1,
   "metadata": {},
   "outputs": [
    {
     "data": {
      "text/html": [
       "<div>\n",
       "<style scoped>\n",
       "    .dataframe tbody tr th:only-of-type {\n",
       "        vertical-align: middle;\n",
       "    }\n",
       "\n",
       "    .dataframe tbody tr th {\n",
       "        vertical-align: top;\n",
       "    }\n",
       "\n",
       "    .dataframe thead th {\n",
       "        text-align: right;\n",
       "    }\n",
       "</style>\n",
       "<table border=\"1\" class=\"dataframe\">\n",
       "  <thead>\n",
       "    <tr style=\"text-align: right;\">\n",
       "      <th></th>\n",
       "      <th>id</th>\n",
       "      <th>treatment</th>\n",
       "      <th>month</th>\n",
       "      <th>death</th>\n",
       "      <th>age</th>\n",
       "      <th>residual</th>\n",
       "      <th>condition</th>\n",
       "      <th>time</th>\n",
       "    </tr>\n",
       "  </thead>\n",
       "  <tbody>\n",
       "    <tr>\n",
       "      <th>0</th>\n",
       "      <td>1</td>\n",
       "      <td>1</td>\n",
       "      <td>2</td>\n",
       "      <td>1</td>\n",
       "      <td>72</td>\n",
       "      <td>2</td>\n",
       "      <td>1</td>\n",
       "      <td>59</td>\n",
       "    </tr>\n",
       "    <tr>\n",
       "      <th>1</th>\n",
       "      <td>2</td>\n",
       "      <td>1</td>\n",
       "      <td>3</td>\n",
       "      <td>1</td>\n",
       "      <td>74</td>\n",
       "      <td>2</td>\n",
       "      <td>1</td>\n",
       "      <td>115</td>\n",
       "    </tr>\n",
       "    <tr>\n",
       "      <th>2</th>\n",
       "      <td>3</td>\n",
       "      <td>1</td>\n",
       "      <td>5</td>\n",
       "      <td>1</td>\n",
       "      <td>66</td>\n",
       "      <td>2</td>\n",
       "      <td>2</td>\n",
       "      <td>156</td>\n",
       "    </tr>\n",
       "    <tr>\n",
       "      <th>3</th>\n",
       "      <td>4</td>\n",
       "      <td>2</td>\n",
       "      <td>14</td>\n",
       "      <td>0</td>\n",
       "      <td>53</td>\n",
       "      <td>2</td>\n",
       "      <td>1</td>\n",
       "      <td>421</td>\n",
       "    </tr>\n",
       "    <tr>\n",
       "      <th>4</th>\n",
       "      <td>5</td>\n",
       "      <td>1</td>\n",
       "      <td>14</td>\n",
       "      <td>1</td>\n",
       "      <td>50</td>\n",
       "      <td>2</td>\n",
       "      <td>1</td>\n",
       "      <td>431</td>\n",
       "    </tr>\n",
       "  </tbody>\n",
       "</table>\n",
       "</div>"
      ],
      "text/plain": [
       "   id  treatment  month  death  age  residual  condition time\n",
       "0   1          1      2      1   72         2          1   59\n",
       "1   2          1      3      1   74         2          1  115\n",
       "2   3          1      5      1   66         2          2  156\n",
       "3   4          2     14      0   53         2          1  421\n",
       "4   5          1     14      1   50         2          1  431"
      ]
     },
     "execution_count": 1,
     "metadata": {},
     "output_type": "execute_result"
    }
   ],
   "source": [
    "from lifelines import KaplanMeierFitter\n",
    "import pandas as pd\n",
    "import numpy as np\n",
    "import scipy.stats as stats\n",
    "\n",
    "df = pd.read_csv(\"data/7_ovrian_cancer_survival_data.csv\")\n",
    "df.head()"
   ]
  },
  {
   "cell_type": "code",
   "execution_count": 2,
   "metadata": {},
   "outputs": [],
   "source": [
    "groups = df['treatment']\n",
    "i1 = (groups == 1) ## group i1, having the pandas series for the 1st cohort\n",
    "i2 = (groups == 2) ## group i2, having the pandas series for the 2st cohort\n",
    "\n",
    "T = df['month']\n",
    "E = df['death']"
   ]
  },
  {
   "cell_type": "markdown",
   "metadata": {},
   "source": [
    "# Kaplan-Meier 생존분석"
   ]
  },
  {
   "cell_type": "code",
   "execution_count": 6,
   "metadata": {},
   "outputs": [
    {
     "name": "stdout",
     "output_type": "stream",
     "text": [
      "          removed  observed  censored  entrance  at_risk\n",
      "event_at                                                \n",
      "0.0             0         0         0        13       13\n",
      "2.0             1         1         0         0       13\n",
      "3.0             1         1         0         0       12\n",
      "5.0             1         1         0         0       11\n",
      "8.0             1         1         0         0       10\n",
      "11.0            1         1         0         0        9\n",
      "14.0            2         1         1         0        8\n",
      "15.0            1         0         1         0        6\n",
      "21.0            1         1         0         0        5\n",
      "26.0            1         0         1         0        4\n",
      "28.0            1         0         1         0        3\n",
      "34.0            1         0         1         0        2\n",
      "36.0            1         0         1         0        1\n",
      "\n",
      " 시간에 누적 생존 비율\n",
      "          Standard\n",
      "timeline          \n",
      "0.0       1.000000\n",
      "2.0       0.923077\n",
      "3.0       0.846154\n",
      "5.0       0.769231\n",
      "8.0       0.692308\n",
      "11.0      0.615385\n",
      "14.0      0.538462\n",
      "15.0      0.538462\n",
      "21.0      0.430769\n",
      "26.0      0.430769\n",
      "28.0      0.430769\n",
      "34.0      0.430769\n",
      "36.0      0.430769\n",
      "          removed  observed  censored  entrance  at_risk\n",
      "event_at                                                \n",
      "0.0             0         0         0        13       13\n",
      "11.0            1         1         0         0       13\n",
      "12.0            2         1         1         0       12\n",
      "14.0            1         0         1         0       10\n",
      "15.0            2         2         0         0        9\n",
      "18.0            1         1         0         0        7\n",
      "24.0            1         0         1         0        6\n",
      "25.0            2         0         2         0        5\n",
      "37.0            1         0         1         0        3\n",
      "40.0            2         0         2         0        2\n",
      "\n",
      " 시간에 누적 생존 비율\n",
      "          New treatment\n",
      "timeline               \n",
      "0.0            1.000000\n",
      "11.0           0.923077\n",
      "12.0           0.846154\n",
      "14.0           0.846154\n",
      "15.0           0.658120\n",
      "18.0           0.564103\n",
      "24.0           0.564103\n",
      "25.0           0.564103\n",
      "37.0           0.564103\n",
      "40.0           0.564103\n"
     ]
    },
    {
     "data": {
      "text/plain": [
       "<matplotlib.axes._subplots.AxesSubplot at 0x7f34974467f0>"
      ]
     },
     "execution_count": 6,
     "metadata": {},
     "output_type": "execute_result"
    },
    {
     "data": {
      "image/png": "[encoded data removed]",
      "text/plain": [
       "<Figure size 432x288 with 1 Axes>"
      ]
     },
     "metadata": {
      "needs_background": "light"
     },
     "output_type": "display_data"
    }
   ],
   "source": [
    "import matplotlib as plt\n",
    "\n",
    "kmf1 = KaplanMeierFitter() ## instantiate the class to create an object\n",
    "\n",
    "## fit the model for 1st cohort\n",
    "kmf1.fit(T[i1], E[i1], label='Standard')\n",
    "print(kmf1.event_table)\n",
    "print('\\n 시간에 누적 생존 비율')\n",
    "print(1- kmf1.cumulative_density_)\n",
    "a1 = kmf1.plot()\n",
    "\n",
    "## fit the model for 2nd cohort\n",
    "kmf1.fit(T[i2], E[i2], label='New treatment')\n",
    "print(kmf1.event_table)\n",
    "print('\\n 시간에 누적 생존 비율')\n",
    "print(1- kmf1.cumulative_density_)\n",
    "kmf1.plot(ax=a1)"
   ]
  },
  {
   "cell_type": "markdown",
   "metadata": {},
   "source": [
    "표준 치료법의 2년 생존융은 43.1%, 새 치료법의 2년 생존율은 56.4%이다. "
   ]
  },
  {
   "cell_type": "markdown",
   "metadata": {},
   "source": [
    "# 로그순위법(Log-rank test)"
   ]
  },
  {
   "cell_type": "code",
   "execution_count": 37,
   "metadata": {},
   "outputs": [
    {
     "name": "stdout",
     "output_type": "stream",
     "text": [
      "<lifelines.StatisticalResult>\n",
      "               t_0 = -1\n",
      " null_distribution = chi squared\n",
      "degrees_of_freedom = 1\n",
      "\n",
      "---\n",
      " test_statistic    p  -log2(p)\n",
      "           1.12 0.29      1.78\n"
     ]
    }
   ],
   "source": [
    "from lifelines.statistics import logrank_test\n",
    "\n",
    "results = logrank_test(T[i1], T[i2], event_observed_A=E[i1], event_observed_B=E[i2])\n",
    "results.print_summary()"
   ]
  },
  {
   "cell_type": "markdown",
   "metadata": {},
   "source": [
    "H<sub>0</sub> : 두 군의 생존곡선은 같다.  \n",
    "H<sub>1</sub> : 두 군의 생존곡선은 다르다.  \n",
    "p=0.29 > 0.05 이므로 H<sub>0</sub> 채택  \n",
    "--> 두 군의 생존곡선은 다르다고 말할 수 없다. "
   ]
  },
  {
   "cell_type": "markdown",
   "metadata": {},
   "source": [
    "# Cox의 비례위험모형"
   ]
  },
  {
   "cell_type": "code",
   "execution_count": 29,
   "metadata": {},
   "outputs": [
    {
     "data": {
      "text/html": [
       "<div>\n",
       "<style scoped>\n",
       "    .dataframe tbody tr th:only-of-type {\n",
       "        vertical-align: middle;\n",
       "    }\n",
       "\n",
       "    .dataframe tbody tr th {\n",
       "        vertical-align: top;\n",
       "    }\n",
       "\n",
       "    .dataframe thead th {\n",
       "        text-align: right;\n",
       "    }\n",
       "</style>\n",
       "<table border=\"1\" class=\"dataframe\">\n",
       "  <thead>\n",
       "    <tr style=\"text-align: right;\">\n",
       "      <th></th>\n",
       "      <th>id</th>\n",
       "      <th>time</th>\n",
       "      <th>status</th>\n",
       "      <th>rx</th>\n",
       "      <th>sex</th>\n",
       "      <th>age</th>\n",
       "      <th>obstruct</th>\n",
       "      <th>perfor</th>\n",
       "      <th>adhere</th>\n",
       "      <th>differ</th>\n",
       "      <th>extent</th>\n",
       "      <th>node4</th>\n",
       "      <th>nodes</th>\n",
       "    </tr>\n",
       "  </thead>\n",
       "  <tbody>\n",
       "    <tr>\n",
       "      <th>0</th>\n",
       "      <td>1</td>\n",
       "      <td>1521</td>\n",
       "      <td>1</td>\n",
       "      <td>3</td>\n",
       "      <td>1</td>\n",
       "      <td>43</td>\n",
       "      <td>0</td>\n",
       "      <td>0</td>\n",
       "      <td>0</td>\n",
       "      <td>2.0</td>\n",
       "      <td>3</td>\n",
       "      <td>1</td>\n",
       "      <td>5.0</td>\n",
       "    </tr>\n",
       "    <tr>\n",
       "      <th>1</th>\n",
       "      <td>2</td>\n",
       "      <td>968</td>\n",
       "      <td>1</td>\n",
       "      <td>3</td>\n",
       "      <td>1</td>\n",
       "      <td>43</td>\n",
       "      <td>0</td>\n",
       "      <td>0</td>\n",
       "      <td>0</td>\n",
       "      <td>2.0</td>\n",
       "      <td>3</td>\n",
       "      <td>1</td>\n",
       "      <td>5.0</td>\n",
       "    </tr>\n",
       "    <tr>\n",
       "      <th>2</th>\n",
       "      <td>3</td>\n",
       "      <td>3087</td>\n",
       "      <td>0</td>\n",
       "      <td>3</td>\n",
       "      <td>1</td>\n",
       "      <td>63</td>\n",
       "      <td>0</td>\n",
       "      <td>0</td>\n",
       "      <td>0</td>\n",
       "      <td>2.0</td>\n",
       "      <td>3</td>\n",
       "      <td>0</td>\n",
       "      <td>1.0</td>\n",
       "    </tr>\n",
       "    <tr>\n",
       "      <th>3</th>\n",
       "      <td>4</td>\n",
       "      <td>3087</td>\n",
       "      <td>0</td>\n",
       "      <td>3</td>\n",
       "      <td>1</td>\n",
       "      <td>63</td>\n",
       "      <td>0</td>\n",
       "      <td>0</td>\n",
       "      <td>0</td>\n",
       "      <td>2.0</td>\n",
       "      <td>3</td>\n",
       "      <td>0</td>\n",
       "      <td>1.0</td>\n",
       "    </tr>\n",
       "    <tr>\n",
       "      <th>4</th>\n",
       "      <td>5</td>\n",
       "      <td>963</td>\n",
       "      <td>1</td>\n",
       "      <td>1</td>\n",
       "      <td>0</td>\n",
       "      <td>71</td>\n",
       "      <td>0</td>\n",
       "      <td>0</td>\n",
       "      <td>1</td>\n",
       "      <td>2.0</td>\n",
       "      <td>2</td>\n",
       "      <td>1</td>\n",
       "      <td>7.0</td>\n",
       "    </tr>\n",
       "  </tbody>\n",
       "</table>\n",
       "</div>"
      ],
      "text/plain": [
       "   id  time  status  rx  sex  age  obstruct  perfor  adhere  differ  extent  \\\n",
       "0   1  1521       1   3    1   43         0       0       0     2.0       3   \n",
       "1   2   968       1   3    1   43         0       0       0     2.0       3   \n",
       "2   3  3087       0   3    1   63         0       0       0     2.0       3   \n",
       "3   4  3087       0   3    1   63         0       0       0     2.0       3   \n",
       "4   5   963       1   1    0   71         0       0       1     2.0       2   \n",
       "\n",
       "   node4  nodes  \n",
       "0      1    5.0  \n",
       "1      1    5.0  \n",
       "2      0    1.0  \n",
       "3      0    1.0  \n",
       "4      1    7.0  "
      ]
     },
     "execution_count": 29,
     "metadata": {},
     "output_type": "execute_result"
    }
   ],
   "source": [
    "df = pd.read_csv('data/11_colon_cancer_survival_data.csv')\n",
    "df.head()"
   ]
  },
  {
   "cell_type": "markdown",
   "metadata": {},
   "source": [
    "필드설명\n",
    "- id: 환자번호\n",
    "- time: 관찰기간(일)\n",
    "- status: 상태 (0=절단, 1=사망)\n",
    "- rx : 치료방법 (1=관찰, 2=Levamisole, 3=Levamisole + 5 - FU\n",
    "- sex : 성별 (0=여, 1=남)\n",
    "- age : 연령\n",
    "- obstruct : 장폐색 (0=무, 1=유)\n",
    "- perfor : 장천공 (0=무, 1=유)\n",
    "- adhere : 유착 (0=무, 1=유)\n",
    "- differ : 세포 분화도 (1=well, 2=moderate, 3=poor)\n",
    "- extent : 침윤 정도 (1=submucosa, 2=muscle, 3=serosa, 4=contiguous structures)\n",
    "- node4 : 림프절 >= 4개 (0=무, 1=유)"
   ]
  },
  {
   "cell_type": "code",
   "execution_count": 30,
   "metadata": {},
   "outputs": [],
   "source": [
    "df.drop(['id', 'nodes'], axis=1, inplace=True)"
   ]
  },
  {
   "cell_type": "code",
   "execution_count": 31,
   "metadata": {},
   "outputs": [
    {
     "data": {
      "text/html": [
       "<div>\n",
       "<style scoped>\n",
       "    .dataframe tbody tr th:only-of-type {\n",
       "        vertical-align: middle;\n",
       "    }\n",
       "\n",
       "    .dataframe tbody tr th {\n",
       "        vertical-align: top;\n",
       "    }\n",
       "\n",
       "    .dataframe thead th {\n",
       "        text-align: right;\n",
       "    }\n",
       "</style>\n",
       "<table border=\"1\" class=\"dataframe\">\n",
       "  <thead>\n",
       "    <tr style=\"text-align: right;\">\n",
       "      <th></th>\n",
       "      <th>time</th>\n",
       "      <th>status</th>\n",
       "      <th>rx</th>\n",
       "      <th>sex</th>\n",
       "      <th>age</th>\n",
       "      <th>obstruct</th>\n",
       "      <th>perfor</th>\n",
       "      <th>adhere</th>\n",
       "      <th>differ</th>\n",
       "      <th>extent</th>\n",
       "      <th>node4</th>\n",
       "    </tr>\n",
       "  </thead>\n",
       "  <tbody>\n",
       "    <tr>\n",
       "      <th>0</th>\n",
       "      <td>1521</td>\n",
       "      <td>1</td>\n",
       "      <td>3</td>\n",
       "      <td>1</td>\n",
       "      <td>43</td>\n",
       "      <td>0</td>\n",
       "      <td>0</td>\n",
       "      <td>0</td>\n",
       "      <td>2.0</td>\n",
       "      <td>3</td>\n",
       "      <td>1</td>\n",
       "    </tr>\n",
       "    <tr>\n",
       "      <th>1</th>\n",
       "      <td>968</td>\n",
       "      <td>1</td>\n",
       "      <td>3</td>\n",
       "      <td>1</td>\n",
       "      <td>43</td>\n",
       "      <td>0</td>\n",
       "      <td>0</td>\n",
       "      <td>0</td>\n",
       "      <td>2.0</td>\n",
       "      <td>3</td>\n",
       "      <td>1</td>\n",
       "    </tr>\n",
       "    <tr>\n",
       "      <th>2</th>\n",
       "      <td>3087</td>\n",
       "      <td>0</td>\n",
       "      <td>3</td>\n",
       "      <td>1</td>\n",
       "      <td>63</td>\n",
       "      <td>0</td>\n",
       "      <td>0</td>\n",
       "      <td>0</td>\n",
       "      <td>2.0</td>\n",
       "      <td>3</td>\n",
       "      <td>0</td>\n",
       "    </tr>\n",
       "    <tr>\n",
       "      <th>3</th>\n",
       "      <td>3087</td>\n",
       "      <td>0</td>\n",
       "      <td>3</td>\n",
       "      <td>1</td>\n",
       "      <td>63</td>\n",
       "      <td>0</td>\n",
       "      <td>0</td>\n",
       "      <td>0</td>\n",
       "      <td>2.0</td>\n",
       "      <td>3</td>\n",
       "      <td>0</td>\n",
       "    </tr>\n",
       "    <tr>\n",
       "      <th>4</th>\n",
       "      <td>963</td>\n",
       "      <td>1</td>\n",
       "      <td>1</td>\n",
       "      <td>0</td>\n",
       "      <td>71</td>\n",
       "      <td>0</td>\n",
       "      <td>0</td>\n",
       "      <td>1</td>\n",
       "      <td>2.0</td>\n",
       "      <td>2</td>\n",
       "      <td>1</td>\n",
       "    </tr>\n",
       "  </tbody>\n",
       "</table>\n",
       "</div>"
      ],
      "text/plain": [
       "   time  status  rx  sex  age  obstruct  perfor  adhere  differ  extent  node4\n",
       "0  1521       1   3    1   43         0       0       0     2.0       3      1\n",
       "1   968       1   3    1   43         0       0       0     2.0       3      1\n",
       "2  3087       0   3    1   63         0       0       0     2.0       3      0\n",
       "3  3087       0   3    1   63         0       0       0     2.0       3      0\n",
       "4   963       1   1    0   71         0       0       1     2.0       2      1"
      ]
     },
     "execution_count": 31,
     "metadata": {},
     "output_type": "execute_result"
    }
   ],
   "source": [
    "df.head()"
   ]
  },
  {
   "cell_type": "code",
   "execution_count": 34,
   "metadata": {},
   "outputs": [
    {
     "data": {
      "text/html": [
       "<div>\n",
       "<style scoped>\n",
       "    .dataframe tbody tr th:only-of-type {\n",
       "        vertical-align: middle;\n",
       "    }\n",
       "\n",
       "    .dataframe tbody tr th {\n",
       "        vertical-align: top;\n",
       "    }\n",
       "\n",
       "    .dataframe thead th {\n",
       "        text-align: right;\n",
       "    }\n",
       "</style>\n",
       "<table border=\"1\" class=\"dataframe\">\n",
       "  <thead>\n",
       "    <tr style=\"text-align: right;\">\n",
       "      <th></th>\n",
       "      <th>status</th>\n",
       "      <th>rx</th>\n",
       "      <th>sex</th>\n",
       "      <th>obstruct</th>\n",
       "      <th>perfor</th>\n",
       "      <th>adhere</th>\n",
       "      <th>differ</th>\n",
       "      <th>extent</th>\n",
       "      <th>node4</th>\n",
       "    </tr>\n",
       "  </thead>\n",
       "  <tbody>\n",
       "    <tr>\n",
       "      <th>0</th>\n",
       "      <td>938.0</td>\n",
       "      <td>NaN</td>\n",
       "      <td>890.0</td>\n",
       "      <td>1498.0</td>\n",
       "      <td>1804.0</td>\n",
       "      <td>1588.0</td>\n",
       "      <td>NaN</td>\n",
       "      <td>NaN</td>\n",
       "      <td>1348.0</td>\n",
       "    </tr>\n",
       "    <tr>\n",
       "      <th>1</th>\n",
       "      <td>920.0</td>\n",
       "      <td>630.0</td>\n",
       "      <td>968.0</td>\n",
       "      <td>360.0</td>\n",
       "      <td>54.0</td>\n",
       "      <td>270.0</td>\n",
       "      <td>186.0</td>\n",
       "      <td>42.0</td>\n",
       "      <td>510.0</td>\n",
       "    </tr>\n",
       "    <tr>\n",
       "      <th>2</th>\n",
       "      <td>NaN</td>\n",
       "      <td>620.0</td>\n",
       "      <td>NaN</td>\n",
       "      <td>NaN</td>\n",
       "      <td>NaN</td>\n",
       "      <td>NaN</td>\n",
       "      <td>1326.0</td>\n",
       "      <td>212.0</td>\n",
       "      <td>NaN</td>\n",
       "    </tr>\n",
       "    <tr>\n",
       "      <th>3</th>\n",
       "      <td>NaN</td>\n",
       "      <td>608.0</td>\n",
       "      <td>NaN</td>\n",
       "      <td>NaN</td>\n",
       "      <td>NaN</td>\n",
       "      <td>NaN</td>\n",
       "      <td>300.0</td>\n",
       "      <td>1518.0</td>\n",
       "      <td>NaN</td>\n",
       "    </tr>\n",
       "    <tr>\n",
       "      <th>4</th>\n",
       "      <td>NaN</td>\n",
       "      <td>NaN</td>\n",
       "      <td>NaN</td>\n",
       "      <td>NaN</td>\n",
       "      <td>NaN</td>\n",
       "      <td>NaN</td>\n",
       "      <td>NaN</td>\n",
       "      <td>86.0</td>\n",
       "      <td>NaN</td>\n",
       "    </tr>\n",
       "  </tbody>\n",
       "</table>\n",
       "</div>"
      ],
      "text/plain": [
       "   status     rx    sex  obstruct  perfor  adhere  differ  extent   node4\n",
       "0   938.0    NaN  890.0    1498.0  1804.0  1588.0     NaN     NaN  1348.0\n",
       "1   920.0  630.0  968.0     360.0    54.0   270.0   186.0    42.0   510.0\n",
       "2     NaN  620.0    NaN       NaN     NaN     NaN  1326.0   212.0     NaN\n",
       "3     NaN  608.0    NaN       NaN     NaN     NaN   300.0  1518.0     NaN\n",
       "4     NaN    NaN    NaN       NaN     NaN     NaN     NaN    86.0     NaN"
      ]
     },
     "execution_count": 34,
     "metadata": {},
     "output_type": "execute_result"
    }
   ],
   "source": [
    "df.drop(['time', 'age'], axis=1).apply(pd.value_counts)"
   ]
  },
  {
   "cell_type": "code",
   "execution_count": 35,
   "metadata": {},
   "outputs": [],
   "source": [
    "df = df.fillna(0)"
   ]
  },
  {
   "cell_type": "code",
   "execution_count": 50,
   "metadata": {},
   "outputs": [
    {
     "name": "stdout",
     "output_type": "stream",
     "text": [
      "<lifelines.CoxPHFitter: fitted with 1858 observations, 938 censored>\n",
      "      duration col = 'time'\n",
      "         event col = 'status'\n",
      "number of subjects = 1858\n",
      "  number of events = 920\n",
      "    log-likelihood = -6478.42\n",
      "  time fit was run = 2019-08-07 00:55:48 UTC\n",
      "\n",
      "---\n",
      "          coef exp(coef)  se(coef)     z      p  -log2(p)  lower 0.95  upper 0.95\n",
      "rx       -0.21      0.81      0.04 -5.15 <0.005     21.88       -0.29       -0.13\n",
      "sex      -0.00      1.00      0.07 -0.05   0.96      0.06       -0.13        0.13\n",
      "age       0.00      1.00      0.00  0.78   0.43      1.20       -0.00        0.01\n",
      "obstruct  0.23      1.26      0.08  2.81   0.01      7.64        0.07        0.39\n",
      "perfor    0.13      1.14      0.18  0.71   0.48      1.07       -0.23        0.49\n",
      "adhere    0.19      1.21      0.09  2.11   0.03      4.85        0.01        0.36\n",
      "differ    0.13      1.14      0.06  2.14   0.03      4.94        0.01        0.25\n",
      "extent    0.47      1.59      0.08  5.83 <0.005     27.45        0.31        0.62\n",
      "node4     0.87      2.38      0.07 12.54 <0.005    117.35        0.73        1.00\n",
      "---\n",
      "Concordance = 0.66\n",
      "Log-likelihood ratio test = 255.04 on 9 df, -log2(p)=162.99\n"
     ]
    }
   ],
   "source": [
    "from lifelines import CoxPHFitter\n",
    "\n",
    "# Using Cox Proportional hazards model\n",
    "cph = CoxPHFitter()  ## Instantiate the class to create a cph object\n",
    "\n",
    "cph.fit(df, 'time', event_col='status') ## Fit the data to train the model\n",
    "\n",
    "cph.print_summary()  ## have a look at the significance of the features"
   ]
  },
  {
   "cell_type": "code",
   "execution_count": 51,
   "metadata": {},
   "outputs": [
    {
     "data": {
      "text/plain": [
       "<matplotlib.axes._subplots.AxesSubplot at 0x7f34869a9b38>"
      ]
     },
     "execution_count": 51,
     "metadata": {},
     "output_type": "execute_result"
    },
    {
     "data": {
      "image/png": "[encoded data removed]",
      "text/plain": [
       "<Figure size 432x288 with 1 Axes>"
      ]
     },
     "metadata": {
      "needs_background": "light"
     },
     "output_type": "display_data"
    }
   ],
   "source": [
    "cph.plot()"
   ]
  },
  {
   "cell_type": "code",
   "execution_count": 52,
   "metadata": {},
   "outputs": [
    {
     "data": {
      "text/plain": [
       "<matplotlib.axes._subplots.AxesSubplot at 0x7f3486936eb8>"
      ]
     },
     "execution_count": 52,
     "metadata": {},
     "output_type": "execute_result"
    },
    {
     "data": {
      "image/png": "[encoded data removed]",
      "text/plain": [
       "<Figure size 432x288 with 1 Axes>"
      ]
     },
     "metadata": {
      "needs_background": "light"
     },
     "output_type": "display_data"
    }
   ],
   "source": [
    "cph.predict_survival_function(df[:5]).plot()"
   ]
  },
  {
   "cell_type": "code",
   "execution_count": 63,
   "metadata": {},
   "outputs": [
    {
     "data": {
      "text/plain": [
       "<matplotlib.axes._subplots.AxesSubplot at 0x7f3486394e48>"
      ]
     },
     "execution_count": 63,
     "metadata": {},
     "output_type": "execute_result"
    },
    {
     "data": {
      "image/png": "[encoded data removed]",
      "text/plain": [
       "<Figure size 432x288 with 1 Axes>"
      ]
     },
     "metadata": {
      "needs_background": "light"
     },
     "output_type": "display_data"
    }
   ],
   "source": [
    "cph.plot_covariate_groups('rx', [0,1,2], cmap='coolwarm')"
   ]
  },
  {
   "cell_type": "code",
   "execution_count": 45,
   "metadata": {},
   "outputs": [
    {
     "data": {
      "text/plain": [
       "time           int64\n",
       "status         int64\n",
       "rx          category\n",
       "sex            int64\n",
       "age            int64\n",
       "obstruct       int64\n",
       "perfor         int64\n",
       "adhere         int64\n",
       "differ       float64\n",
       "extent         int64\n",
       "node4          int64\n",
       "dtype: object"
      ]
     },
     "execution_count": 45,
     "metadata": {},
     "output_type": "execute_result"
    }
   ],
   "source": [
    "df['rx'] = df['rx'].astype('category')\n",
    "df.dtypes"
   ]
  },
  {
   "cell_type": "code",
   "execution_count": 48,
   "metadata": {},
   "outputs": [
    {
     "data": {
      "text/html": [
       "<div>\n",
       "<style scoped>\n",
       "    .dataframe tbody tr th:only-of-type {\n",
       "        vertical-align: middle;\n",
       "    }\n",
       "\n",
       "    .dataframe tbody tr th {\n",
       "        vertical-align: top;\n",
       "    }\n",
       "\n",
       "    .dataframe thead th {\n",
       "        text-align: right;\n",
       "    }\n",
       "</style>\n",
       "<table border=\"1\" class=\"dataframe\">\n",
       "  <thead>\n",
       "    <tr style=\"text-align: right;\">\n",
       "      <th></th>\n",
       "      <th>time</th>\n",
       "      <th>status</th>\n",
       "      <th>rx</th>\n",
       "      <th>sex</th>\n",
       "      <th>age</th>\n",
       "      <th>obstruct</th>\n",
       "      <th>perfor</th>\n",
       "      <th>adhere</th>\n",
       "      <th>differ</th>\n",
       "      <th>extent</th>\n",
       "      <th>node4</th>\n",
       "      <th>rx_cat</th>\n",
       "    </tr>\n",
       "  </thead>\n",
       "  <tbody>\n",
       "    <tr>\n",
       "      <th>0</th>\n",
       "      <td>1521</td>\n",
       "      <td>1</td>\n",
       "      <td>2</td>\n",
       "      <td>1</td>\n",
       "      <td>43</td>\n",
       "      <td>0</td>\n",
       "      <td>0</td>\n",
       "      <td>0</td>\n",
       "      <td>2.0</td>\n",
       "      <td>3</td>\n",
       "      <td>1</td>\n",
       "      <td>2</td>\n",
       "    </tr>\n",
       "    <tr>\n",
       "      <th>1</th>\n",
       "      <td>968</td>\n",
       "      <td>1</td>\n",
       "      <td>2</td>\n",
       "      <td>1</td>\n",
       "      <td>43</td>\n",
       "      <td>0</td>\n",
       "      <td>0</td>\n",
       "      <td>0</td>\n",
       "      <td>2.0</td>\n",
       "      <td>3</td>\n",
       "      <td>1</td>\n",
       "      <td>2</td>\n",
       "    </tr>\n",
       "    <tr>\n",
       "      <th>2</th>\n",
       "      <td>3087</td>\n",
       "      <td>0</td>\n",
       "      <td>2</td>\n",
       "      <td>1</td>\n",
       "      <td>63</td>\n",
       "      <td>0</td>\n",
       "      <td>0</td>\n",
       "      <td>0</td>\n",
       "      <td>2.0</td>\n",
       "      <td>3</td>\n",
       "      <td>0</td>\n",
       "      <td>2</td>\n",
       "    </tr>\n",
       "    <tr>\n",
       "      <th>3</th>\n",
       "      <td>3087</td>\n",
       "      <td>0</td>\n",
       "      <td>2</td>\n",
       "      <td>1</td>\n",
       "      <td>63</td>\n",
       "      <td>0</td>\n",
       "      <td>0</td>\n",
       "      <td>0</td>\n",
       "      <td>2.0</td>\n",
       "      <td>3</td>\n",
       "      <td>0</td>\n",
       "      <td>2</td>\n",
       "    </tr>\n",
       "    <tr>\n",
       "      <th>4</th>\n",
       "      <td>963</td>\n",
       "      <td>1</td>\n",
       "      <td>0</td>\n",
       "      <td>0</td>\n",
       "      <td>71</td>\n",
       "      <td>0</td>\n",
       "      <td>0</td>\n",
       "      <td>1</td>\n",
       "      <td>2.0</td>\n",
       "      <td>2</td>\n",
       "      <td>1</td>\n",
       "      <td>0</td>\n",
       "    </tr>\n",
       "  </tbody>\n",
       "</table>\n",
       "</div>"
      ],
      "text/plain": [
       "   time  status  rx  sex  age  obstruct  perfor  adhere  differ  extent  \\\n",
       "0  1521       1   2    1   43         0       0       0     2.0       3   \n",
       "1   968       1   2    1   43         0       0       0     2.0       3   \n",
       "2  3087       0   2    1   63         0       0       0     2.0       3   \n",
       "3  3087       0   2    1   63         0       0       0     2.0       3   \n",
       "4   963       1   0    0   71         0       0       1     2.0       2   \n",
       "\n",
       "   node4  rx_cat  \n",
       "0      1       2  \n",
       "1      1       2  \n",
       "2      0       2  \n",
       "3      0       2  \n",
       "4      1       0  "
      ]
     },
     "execution_count": 48,
     "metadata": {},
     "output_type": "execute_result"
    }
   ],
   "source": [
    "df['rx'] = df['rx'].cat.codes\n",
    "df.head()"
   ]
  }
 ],
 "metadata": {
  "kernelspec": {
   "display_name": "Python 3",
   "language": "python",
   "name": "python3"
  },
  "language_info": {
   "codemirror_mode": {
    "name": "ipython",
    "version": 3
   },
   "file_extension": ".py",
   "mimetype": "text/x-python",
   "name": "python",
   "nbconvert_exporter": "python",
   "pygments_lexer": "ipython3",
   "version": "3.6.7"
  }
 },
 "nbformat": 4,
 "nbformat_minor": 2
}
