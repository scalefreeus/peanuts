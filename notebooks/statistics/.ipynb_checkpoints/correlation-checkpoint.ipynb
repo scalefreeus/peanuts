{
 "cells": [
  {
   "cell_type": "markdown",
   "metadata": {},
   "source": [
    "# 두 변수 사이의 상관 관계 분석\n",
    "\n",
    "상관분석\n",
    "1. 모수적 : 두 연속형 변수, 적어도 하나는 정규분포\n",
    "  1. Pearson의 상관분석\n",
    "1. 비모수적 : 정규성 만족 못하는 두 연속형 변수 혹은 순위변수\n",
    "  1. Spearman의 상관분석\n",
    "  1. Kendall's tau-b"
   ]
  },
  {
   "cell_type": "markdown",
   "metadata": {},
   "source": [
    "# Pearson의 상관분석\n"
   ]
  }
 ],
 "metadata": {
  "kernelspec": {
   "display_name": "Python 3",
   "language": "python",
   "name": "python3"
  },
  "language_info": {
   "codemirror_mode": {
    "name": "ipython",
    "version": 3
   },
   "file_extension": ".py",
   "mimetype": "text/x-python",
   "name": "python",
   "nbconvert_exporter": "python",
   "pygments_lexer": "ipython3",
   "version": "3.6.5"
  }
 },
 "nbformat": 4,
 "nbformat_minor": 2
}
