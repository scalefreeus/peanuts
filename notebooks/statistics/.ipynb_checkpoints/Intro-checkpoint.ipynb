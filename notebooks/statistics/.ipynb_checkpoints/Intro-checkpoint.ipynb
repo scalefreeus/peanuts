{
 "cells": [
  {
   "cell_type": "markdown",
   "metadata": {},
   "source": [
    "1. 자료구분\n",
    "1. 기본통계\n",
    "    1. 평균\n",
    "    1. 분산\n",
    "    1. 첨도 Skewness\n",
    "1. 연속형\n",
    "    1. 두 군의 크기 비교\n",
    "        1. 독립표본 T 검정\n",
    "        1. Mann-Whitney test\n",
    "    1. 변경 전후 크기 비교\n",
    "        1. 대응표본 T 검정\n",
    "        1. Wilcoxon signed rank test\n",
    "    1. 세 군 이상의 크기 비교\n",
    "        1. 사후분석\n",
    "        1. 일원배치 분산분석\n",
    "        1. Kruskal-Wallis test\n",
    "        1. Jonckheere-Terpstra test\n",
    "    1. 비율을 비교\n",
    "      1. 카이제곱 검정\n",
    "      1. Fisher의 정확한 검정\n",
    "      1. 선형 대 선형 결합\n",
    "    1. 연속형 변수 사이의 선형관계 추정\n",
    "      1. Pearson의 상관분석\n",
    "      1. Spearman의 순위상관분석\n",
    "      1. 단순회귀분석\n",
    "      1. 다중회귀분석\n",
    "    1. 생존율의 추정 및 두 군의 생존율 비교\n",
    "      1. Kaplan-Meier 생존분석\n",
    "      1. 로그순위법\n",
    "1. 로지스틱 회귀분석\n",
    "1. 동일 개체에서 반복적으로 측정된 자료 분석\n",
    "    1. 반복측정 분산분석\n",
    "    1. 자료구조의 변환\n",
    "    1. 선형 혼합모형\n",
    "    1. 일반화 추정 방정식\n",
    "1. 생존율에 영향을 미치는 위험인자\n",
    "  1. Cox의 비례위험모형\n",
    "1. 질병의 발생률에 대한 연구\n",
    "  1. 포아송 분석\n",
    "  1. 포아송 회귀분석"
   ]
  }
 ],
 "metadata": {
  "kernelspec": {
   "display_name": "Python 3",
   "language": "python",
   "name": "python3"
  },
  "language_info": {
   "codemirror_mode": {
    "name": "ipython",
    "version": 3
   },
   "file_extension": ".py",
   "mimetype": "text/x-python",
   "name": "python",
   "nbconvert_exporter": "python",
   "pygments_lexer": "ipython3",
   "version": "3.7.3"
  }
 },
 "nbformat": 4,
 "nbformat_minor": 2
}
