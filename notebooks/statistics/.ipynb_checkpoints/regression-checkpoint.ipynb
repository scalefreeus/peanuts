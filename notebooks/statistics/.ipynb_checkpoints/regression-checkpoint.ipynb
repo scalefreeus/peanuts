{
 "cells": [
  {
   "cell_type": "markdown",
   "metadata": {},
   "source": [
    "# 목차\n",
    "1. 단순회귀분석\n",
    "1. 다중회귀분석\n",
    "1. 로지스틱 회귀분석"
   ]
  },
  {
   "cell_type": "markdown",
   "metadata": {},
   "source": [
    "# 단순회귀분석"
   ]
  },
  {
   "cell_type": "code",
   "execution_count": 3,
   "metadata": {},
   "outputs": [],
   "source": [
    "import pandas as pd\n",
    "import scipy.stats as stats\n",
    "import numpy as np\n",
    "from sklearn.linear_model import LinearRegression"
   ]
  },
  {
   "cell_type": "code",
   "execution_count": 5,
   "metadata": {},
   "outputs": [
    {
     "data": {
      "text/html": [
       "<div>\n",
       "<style scoped>\n",
       "    .dataframe tbody tr th:only-of-type {\n",
       "        vertical-align: middle;\n",
       "    }\n",
       "\n",
       "    .dataframe tbody tr th {\n",
       "        vertical-align: top;\n",
       "    }\n",
       "\n",
       "    .dataframe thead th {\n",
       "        text-align: right;\n",
       "    }\n",
       "</style>\n",
       "<table border=\"1\" class=\"dataframe\">\n",
       "  <thead>\n",
       "    <tr style=\"text-align: right;\">\n",
       "      <th></th>\n",
       "      <th>age</th>\n",
       "      <th>height</th>\n",
       "      <th>weight</th>\n",
       "      <th>waistline</th>\n",
       "      <th>BMI</th>\n",
       "      <th>SBP</th>\n",
       "    </tr>\n",
       "  </thead>\n",
       "  <tbody>\n",
       "    <tr>\n",
       "      <th>0</th>\n",
       "      <td>57</td>\n",
       "      <td>164.0</td>\n",
       "      <td>62.0</td>\n",
       "      <td>85.0</td>\n",
       "      <td>23.1</td>\n",
       "      <td>147</td>\n",
       "    </tr>\n",
       "    <tr>\n",
       "      <th>1</th>\n",
       "      <td>25</td>\n",
       "      <td>172.0</td>\n",
       "      <td>54.0</td>\n",
       "      <td>65.0</td>\n",
       "      <td>18.3</td>\n",
       "      <td>116</td>\n",
       "    </tr>\n",
       "    <tr>\n",
       "      <th>2</th>\n",
       "      <td>57</td>\n",
       "      <td>157.0</td>\n",
       "      <td>59.0</td>\n",
       "      <td>83.0</td>\n",
       "      <td>23.9</td>\n",
       "      <td>122</td>\n",
       "    </tr>\n",
       "    <tr>\n",
       "      <th>3</th>\n",
       "      <td>43</td>\n",
       "      <td>170.0</td>\n",
       "      <td>87.8</td>\n",
       "      <td>104.0</td>\n",
       "      <td>30.4</td>\n",
       "      <td>130</td>\n",
       "    </tr>\n",
       "    <tr>\n",
       "      <th>4</th>\n",
       "      <td>52</td>\n",
       "      <td>155.0</td>\n",
       "      <td>50.0</td>\n",
       "      <td>83.0</td>\n",
       "      <td>20.8</td>\n",
       "      <td>120</td>\n",
       "    </tr>\n",
       "  </tbody>\n",
       "</table>\n",
       "</div>"
      ],
      "text/plain": [
       "   age  height  weight  waistline   BMI  SBP\n",
       "0   57   164.0    62.0       85.0  23.1  147\n",
       "1   25   172.0    54.0       65.0  18.3  116\n",
       "2   57   157.0    59.0       83.0  23.9  122\n",
       "3   43   170.0    87.8      104.0  30.4  130\n",
       "4   52   155.0    50.0       83.0  20.8  120"
      ]
     },
     "execution_count": 5,
     "metadata": {},
     "output_type": "execute_result"
    }
   ],
   "source": [
    "df = pd.read_csv(\"data/6_correlation_and_regression.csv\")\n",
    "df.head()"
   ]
  },
  {
   "cell_type": "code",
   "execution_count": 10,
   "metadata": {},
   "outputs": [
    {
     "name": "stdout",
     "output_type": "stream",
     "text": [
      "x=[[ 85.]\n",
      " [ 65.]\n",
      " [ 83.]\n",
      " [104.]\n",
      " [ 83.]],y=[23.1 18.3 23.9 30.4 20.8]\n"
     ]
    }
   ],
   "source": [
    "x = df['waistline'].values.reshape(-1,1)\n",
    "y = df['BMI'].values\n",
    "print(\"x={},y={}\".format(x[:5], y[:5]))"
   ]
  },
  {
   "cell_type": "code",
   "execution_count": 11,
   "metadata": {},
   "outputs": [
    {
     "data": {
      "text/plain": [
       "LinearRegression(copy_X=True, fit_intercept=True, n_jobs=None, normalize=False)"
      ]
     },
     "execution_count": 11,
     "metadata": {},
     "output_type": "execute_result"
    }
   ],
   "source": [
    "model = LinearRegression()\n",
    "model.fit(x,y)"
   ]
  },
  {
   "cell_type": "code",
   "execution_count": 14,
   "metadata": {},
   "outputs": [
    {
     "name": "stdout",
     "output_type": "stream",
     "text": [
      "coefficient of determination:  0.6410564843035287\n",
      "intercept:  -3.976108553569418\n",
      "slope:  [0.33134716]\n"
     ]
    }
   ],
   "source": [
    "r_sq = model.score(x,y)\n",
    "print('coefficient of determination: ', r_sq)\n",
    "print('intercept: ', model.intercept_)\n",
    "print('slope: ', model.coef_)"
   ]
  },
  {
   "cell_type": "markdown",
   "metadata": {},
   "source": [
    "sklearn으로는 p-value값을 알 수 없다. statsmodels를 사용해 찾아보기로 한다."
   ]
  },
  {
   "cell_type": "code",
   "execution_count": 23,
   "metadata": {},
   "outputs": [],
   "source": [
    "import statsmodels.api as sm"
   ]
  },
  {
   "cell_type": "code",
   "execution_count": 27,
   "metadata": {},
   "outputs": [
    {
     "name": "stdout",
     "output_type": "stream",
     "text": [
      "                            OLS Regression Results                            \n",
      "==============================================================================\n",
      "Dep. Variable:                      y   R-squared:                       0.641\n",
      "Model:                            OLS   Adj. R-squared:                  0.640\n",
      "Method:                 Least Squares   F-statistic:                     571.5\n",
      "Date:                Fri, 02 Aug 2019   Prob (F-statistic):           3.54e-73\n",
      "Time:                        22:31:08   Log-Likelihood:                -707.76\n",
      "No. Observations:                 322   AIC:                             1420.\n",
      "Df Residuals:                     320   BIC:                             1427.\n",
      "Df Model:                           1                                         \n",
      "Covariance Type:            nonrobust                                         \n",
      "==============================================================================\n",
      "                 coef    std err          t      P>|t|      [0.025      0.975]\n",
      "------------------------------------------------------------------------------\n",
      "const         -3.9761      1.255     -3.169      0.002      -6.445      -1.507\n",
      "x1             0.3313      0.014     23.906      0.000       0.304       0.359\n",
      "==============================================================================\n",
      "Omnibus:                       35.002   Durbin-Watson:                   2.031\n",
      "Prob(Omnibus):                  0.000   Jarque-Bera (JB):              111.833\n",
      "Skew:                           0.424   Prob(JB):                     5.20e-25\n",
      "Kurtosis:                       5.760   Cond. No.                         933.\n",
      "==============================================================================\n",
      "\n",
      "Warnings:\n",
      "[1] Standard Errors assume that the covariance matrix of the errors is correctly specified.\n"
     ]
    }
   ],
   "source": [
    "x2 = sm.add_constant(x)\n",
    "est = sm.OLS(y, x2)\n",
    "est2 = est.fit()\n",
    "print(est2.summary())"
   ]
  },
  {
   "cell_type": "markdown",
   "metadata": {},
   "source": [
    "BMI의 변동은 이 회귀식(R-squared)에 의해 64%만큼 설명될 수 있으며 이 회귀식은 통계적으로 유의하다(p < 0.001)  \n",
    "허리둘레가 1증가하면 BMI는 평균적으로 0.331 (coef)만큼 증가하며 이는 통계적으로 유의하다.(p<0.001)  \n",
    "추정된 통계식: BMI = -3.9761 + 0.3313 x Waistline"
   ]
  },
  {
   "cell_type": "markdown",
   "metadata": {},
   "source": [
    "# 다중회귀분석"
   ]
  },
  {
   "cell_type": "code",
   "execution_count": 29,
   "metadata": {},
   "outputs": [
    {
     "data": {
      "text/html": [
       "<div>\n",
       "<style scoped>\n",
       "    .dataframe tbody tr th:only-of-type {\n",
       "        vertical-align: middle;\n",
       "    }\n",
       "\n",
       "    .dataframe tbody tr th {\n",
       "        vertical-align: top;\n",
       "    }\n",
       "\n",
       "    .dataframe thead th {\n",
       "        text-align: right;\n",
       "    }\n",
       "</style>\n",
       "<table border=\"1\" class=\"dataframe\">\n",
       "  <thead>\n",
       "    <tr style=\"text-align: right;\">\n",
       "      <th></th>\n",
       "      <th>age</th>\n",
       "      <th>height</th>\n",
       "      <th>weight</th>\n",
       "      <th>waistline</th>\n",
       "      <th>BMI</th>\n",
       "    </tr>\n",
       "  </thead>\n",
       "  <tbody>\n",
       "    <tr>\n",
       "      <th>0</th>\n",
       "      <td>57</td>\n",
       "      <td>164.0</td>\n",
       "      <td>62.0</td>\n",
       "      <td>85.0</td>\n",
       "      <td>23.1</td>\n",
       "    </tr>\n",
       "    <tr>\n",
       "      <th>1</th>\n",
       "      <td>25</td>\n",
       "      <td>172.0</td>\n",
       "      <td>54.0</td>\n",
       "      <td>65.0</td>\n",
       "      <td>18.3</td>\n",
       "    </tr>\n",
       "    <tr>\n",
       "      <th>2</th>\n",
       "      <td>57</td>\n",
       "      <td>157.0</td>\n",
       "      <td>59.0</td>\n",
       "      <td>83.0</td>\n",
       "      <td>23.9</td>\n",
       "    </tr>\n",
       "    <tr>\n",
       "      <th>3</th>\n",
       "      <td>43</td>\n",
       "      <td>170.0</td>\n",
       "      <td>87.8</td>\n",
       "      <td>104.0</td>\n",
       "      <td>30.4</td>\n",
       "    </tr>\n",
       "    <tr>\n",
       "      <th>4</th>\n",
       "      <td>52</td>\n",
       "      <td>155.0</td>\n",
       "      <td>50.0</td>\n",
       "      <td>83.0</td>\n",
       "      <td>20.8</td>\n",
       "    </tr>\n",
       "  </tbody>\n",
       "</table>\n",
       "</div>"
      ],
      "text/plain": [
       "   age  height  weight  waistline   BMI\n",
       "0   57   164.0    62.0       85.0  23.1\n",
       "1   25   172.0    54.0       65.0  18.3\n",
       "2   57   157.0    59.0       83.0  23.9\n",
       "3   43   170.0    87.8      104.0  30.4\n",
       "4   52   155.0    50.0       83.0  20.8"
      ]
     },
     "execution_count": 29,
     "metadata": {},
     "output_type": "execute_result"
    }
   ],
   "source": [
    "df1 = df.drop(['SBP'], axis=1)\n",
    "df1.head()"
   ]
  },
  {
   "cell_type": "code",
   "execution_count": 32,
   "metadata": {},
   "outputs": [
    {
     "name": "stdout",
     "output_type": "stream",
     "text": [
      "                            OLS Regression Results                            \n",
      "==============================================================================\n",
      "Dep. Variable:                      y   R-squared:                       0.097\n",
      "Model:                            OLS   Adj. R-squared:                  0.082\n",
      "Method:                 Least Squares   F-statistic:                     6.768\n",
      "Date:                Fri, 02 Aug 2019   Prob (F-statistic):           5.19e-06\n",
      "Time:                        22:47:41   Log-Likelihood:                -1385.7\n",
      "No. Observations:                 322   AIC:                             2783.\n",
      "Df Residuals:                     316   BIC:                             2806.\n",
      "Df Model:                           5                                         \n",
      "Covariance Type:            nonrobust                                         \n",
      "==============================================================================\n",
      "                 coef    std err          t      P>|t|      [0.025      0.975]\n",
      "------------------------------------------------------------------------------\n",
      "const        -19.3598    141.974     -0.136      0.892    -298.693     259.973\n",
      "age            0.1899      0.105      1.808      0.072      -0.017       0.397\n",
      "height         0.5913      0.862      0.686      0.493      -1.105       2.287\n",
      "weight        -1.0241      1.014     -1.010      0.313      -3.019       0.971\n",
      "waistline      0.3231      0.221      1.465      0.144      -0.111       0.757\n",
      "BMI            3.2248      2.718      1.187      0.236      -2.122       8.572\n",
      "==============================================================================\n",
      "Omnibus:                       25.643   Durbin-Watson:                   1.959\n",
      "Prob(Omnibus):                  0.000   Jarque-Bera (JB):               32.565\n",
      "Skew:                           0.612   Prob(JB):                     8.48e-08\n",
      "Kurtosis:                       3.964   Cond. No.                     2.92e+04\n",
      "==============================================================================\n",
      "\n",
      "Warnings:\n",
      "[1] Standard Errors assume that the covariance matrix of the errors is correctly specified.\n",
      "[2] The condition number is large, 2.92e+04. This might indicate that there are\n",
      "strong multicollinearity or other numerical problems.\n"
     ]
    }
   ],
   "source": [
    "x3 = sm.add_constant(df1)\n",
    "y3 = df['SBP'].values\n",
    "est3 = sm.OLS(y3, x3)\n",
    "est4 = est3.fit()\n",
    "print(est4.summary())"
   ]
  },
  {
   "cell_type": "code",
   "execution_count": 34,
   "metadata": {},
   "outputs": [
    {
     "name": "stdout",
     "output_type": "stream",
     "text": [
      "Add  const                          with p-value 2.08556e-271\n",
      "Add  BMI                            with p-value 0.000144286\n",
      "Add  age                            with p-value 0.00025673\n",
      "resulting features:\n",
      "['const', 'BMI', 'age']\n"
     ]
    },
    {
     "name": "stderr",
     "output_type": "stream",
     "text": [
      "/home/scalefreeus/anaconda3/envs/peanuts/lib/python3.7/site-packages/ipykernel_launcher.py:30: FutureWarning: \n",
      "The current behaviour of 'Series.argmin' is deprecated, use 'idxmin'\n",
      "instead.\n",
      "The behavior of 'argmin' will be corrected to return the positional\n",
      "minimum in the future. For now, use 'series.values.argmin' or\n",
      "'np.argmin(np.array(values))' to get the position of the minimum\n",
      "row.\n"
     ]
    }
   ],
   "source": [
    "def stepwise_selection(X, y, \n",
    "                       initial_list=[], \n",
    "                       threshold_in=0.01, \n",
    "                       threshold_out = 0.05, \n",
    "                       verbose=True):\n",
    "    \"\"\" Perform a forward-backward feature selection \n",
    "    based on p-value from statsmodels.api.OLS\n",
    "    Arguments:\n",
    "        X - pandas.DataFrame with candidate features\n",
    "        y - list-like with the target\n",
    "        initial_list - list of features to start with (column names of X)\n",
    "        threshold_in - include a feature if its p-value < threshold_in\n",
    "        threshold_out - exclude a feature if its p-value > threshold_out\n",
    "        verbose - whether to print the sequence of inclusions and exclusions\n",
    "    Returns: list of selected features \n",
    "    Always set threshold_in < threshold_out to avoid infinite looping.\n",
    "    See https://en.wikipedia.org/wiki/Stepwise_regression for the details\n",
    "    \"\"\"\n",
    "    included = list(initial_list)\n",
    "    while True:\n",
    "        changed=False\n",
    "        # forward step\n",
    "        excluded = list(set(X.columns)-set(included))\n",
    "        new_pval = pd.Series(index=excluded)\n",
    "        for new_column in excluded:\n",
    "            model = sm.OLS(y, sm.add_constant(pd.DataFrame(X[included+[new_column]]))).fit()\n",
    "            new_pval[new_column] = model.pvalues[new_column]\n",
    "        best_pval = new_pval.min()\n",
    "        if best_pval < threshold_in:\n",
    "            best_feature = new_pval.argmin()\n",
    "            included.append(best_feature)\n",
    "            changed=True\n",
    "            if verbose:\n",
    "                print('Add  {:30} with p-value {:.6}'.format(best_feature, best_pval))\n",
    "\n",
    "        # backward step\n",
    "        model = sm.OLS(y, sm.add_constant(pd.DataFrame(X[included]))).fit()\n",
    "        # use all coefs except intercept\n",
    "        pvalues = model.pvalues.iloc[1:]\n",
    "        worst_pval = pvalues.max() # null if pvalues is empty\n",
    "        if worst_pval > threshold_out:\n",
    "            changed=True\n",
    "            worst_feature = pvalues.argmax()\n",
    "            included.remove(worst_feature)\n",
    "            if verbose:\n",
    "                print('Drop {:30} with p-value {:.6}'.format(worst_feature, worst_pval))\n",
    "        if not changed:\n",
    "            break\n",
    "    return included\n",
    "\n",
    "result = stepwise_selection(x3, y3, threshold_in=0.05, threshold_out = 0.10)\n",
    "\n",
    "print('resulting features:')\n",
    "print(result)"
   ]
  },
  {
   "cell_type": "code",
   "execution_count": 41,
   "metadata": {},
   "outputs": [
    {
     "name": "stdout",
     "output_type": "stream",
     "text": [
      "                            OLS Regression Results                            \n",
      "==============================================================================\n",
      "Dep. Variable:                      y   R-squared:                       0.083\n",
      "Model:                            OLS   Adj. R-squared:                  0.078\n",
      "Method:                 Least Squares   F-statistic:                     14.53\n",
      "Date:                Fri, 02 Aug 2019   Prob (F-statistic):           9.16e-07\n",
      "Time:                        23:06:01   Log-Likelihood:                -1388.1\n",
      "No. Observations:                 322   AIC:                             2782.\n",
      "Df Residuals:                     319   BIC:                             2793.\n",
      "Df Model:                           2                                         \n",
      "Covariance Type:            nonrobust                                         \n",
      "==============================================================================\n",
      "                 coef    std err          t      P>|t|      [0.025      0.975]\n",
      "------------------------------------------------------------------------------\n",
      "const         82.9130      8.663      9.571      0.000      65.869      99.957\n",
      "BMI            1.1456      0.278      4.123      0.000       0.599       1.692\n",
      "age            0.3153      0.085      3.697      0.000       0.148       0.483\n",
      "==============================================================================\n",
      "Omnibus:                       29.551   Durbin-Watson:                   1.953\n",
      "Prob(Omnibus):                  0.000   Jarque-Bera (JB):               39.538\n",
      "Skew:                           0.659   Prob(JB):                     2.60e-09\n",
      "Kurtosis:                       4.100   Cond. No.                         499.\n",
      "==============================================================================\n",
      "\n",
      "Warnings:\n",
      "[1] Standard Errors assume that the covariance matrix of the errors is correctly specified.\n"
     ]
    }
   ],
   "source": [
    "x_s = df[['BMI','age']]\n",
    "x_s1 = sm.add_constant(x_s)\n",
    "est_s = sm.OLS(y3, x_s1)\n",
    "est_s1 = est_s.fit()\n",
    "print(est_s1.summary())"
   ]
  },
  {
   "cell_type": "markdown",
   "metadata": {},
   "source": [
    "단계 선택법(stepwise method)에 의해 회귀모형은 모형1 -> 모형2의 2단계에서 결정되었다. 수축기 혈압은 최종 결정된 모형2의 회귀식에 의해 8.3%만큼(R-squared) 설명될 수 있다.  \n",
    "단계 선택법에 의해 최종 결정된 모형2는 분산분석에 의해 유의수준 p<0.001로 유의하다.  \n",
    "모형2에서 BMI와 Age의 회귀계수는 각각 1.1456, 0.3153이며 이둘은 모두 유의수준 p<0.001로 유의하다.  "
   ]
  },
  {
   "cell_type": "code",
   "execution_count": 45,
   "metadata": {},
   "outputs": [
    {
     "data": {
      "text/plain": [
       "0      127.348254\n",
       "1      111.759576\n",
       "2      128.264706\n",
       "3      131.296517\n",
       "4      123.136898\n",
       "          ...    \n",
       "317    120.383044\n",
       "318    128.634485\n",
       "319    135.310492\n",
       "320    131.361105\n",
       "321    136.347123\n",
       "Length: 322, dtype: float64"
      ]
     },
     "execution_count": 45,
     "metadata": {},
     "output_type": "execute_result"
    }
   ],
   "source": [
    "r = est_s1.predict(x_s1)\n",
    "r"
   ]
  },
  {
   "cell_type": "code",
   "execution_count": 47,
   "metadata": {},
   "outputs": [
    {
     "data": {
      "text/plain": [
       "array([147, 116, 122, 130, 120, 128,  97, 145, 110, 170, 180, 127, 140,\n",
       "       110, 138, 106, 150, 131, 184, 138, 117, 130, 110, 130, 120, 131,\n",
       "       140,  94, 112, 129, 119, 140, 148, 109, 144, 130, 126, 125, 128,\n",
       "       126, 146, 128, 130, 130, 130, 144, 107, 150, 110, 132, 130, 100,\n",
       "       120, 140, 150, 126, 130,  86, 140, 144, 147, 120, 100, 121, 136,\n",
       "       130, 107, 136, 149, 137, 138, 150, 120, 140, 126, 146, 160, 120,\n",
       "       124, 100, 140, 100, 110, 116, 116, 127, 116, 110, 112,  91, 120,\n",
       "       140,  96, 116, 133, 100, 150, 140, 134, 130, 160, 130, 143, 118,\n",
       "       120, 110, 143, 125, 121, 120, 126, 140, 137, 133, 100, 176, 130,\n",
       "       158, 114, 124, 128, 140, 136, 120, 120, 138, 121, 100, 120, 120,\n",
       "       112, 110, 138, 135, 110, 138, 122, 138, 120, 122, 134, 130, 202,\n",
       "       140, 165, 128, 153, 114, 136, 154, 120, 112, 132, 100, 139, 142,\n",
       "       125, 143, 116, 110, 110, 140,  95, 126, 129, 124,  98, 130, 120,\n",
       "       125, 134, 113, 120, 138, 101, 123, 173, 140, 130, 130, 110, 121,\n",
       "       127, 100, 120, 166, 122, 180, 130, 124, 158, 116, 144, 114, 109,\n",
       "       103,  92, 180, 127, 110, 110, 124, 120, 134, 120, 140, 120, 120,\n",
       "       154, 111, 121, 142, 142, 134, 150, 144, 140, 100, 121, 195, 117,\n",
       "       147, 120, 170, 140, 180, 137, 130, 130, 134, 139, 120, 170, 120,\n",
       "       134, 120, 120, 100, 120, 135, 118, 180, 144, 122, 150, 160, 124,\n",
       "       120,  95, 155, 110, 130, 120, 144, 141, 132, 108, 140, 116, 150,\n",
       "       110, 140, 113, 146, 130, 140, 140, 150, 136, 140, 110, 110, 120,\n",
       "       120, 133, 140, 140, 120, 160, 115, 150, 140, 117, 132, 150, 142,\n",
       "       164,  96,  90, 112, 143, 119, 120, 125, 134, 135, 120, 128, 120,\n",
       "       140, 130, 100, 120, 120, 100, 123, 102, 130, 120, 100,  90, 130,\n",
       "       128, 131, 116, 110, 100,  97, 130, 131, 130, 162])"
      ]
     },
     "execution_count": 47,
     "metadata": {},
     "output_type": "execute_result"
    }
   ],
   "source": [
    "y3"
   ]
  },
  {
   "cell_type": "code",
   "execution_count": 57,
   "metadata": {},
   "outputs": [
    {
     "data": {
      "text/plain": [
       "Text(0.5, 1.0, 'pp plot')"
      ]
     },
     "execution_count": 57,
     "metadata": {},
     "output_type": "execute_result"
    },
    {
     "data": {
      "image/png": "[encoded data removed]",
      "text/plain": [
       "<Figure size 576x360 with 1 Axes>"
      ]
     },
     "metadata": {
      "needs_background": "light"
     },
     "output_type": "display_data"
    }
   ],
   "source": [
    "import matplotlib.pyplot as plt\n",
    "fig = plt.figure(figsize=(8,5))\n",
    "ax2 = fig.add_subplot()\n",
    "\n",
    "data = y3\n",
    "norm = r\n",
    "# Calculate cumulative distributions\n",
    "bins = np.percentile(norm,range(0,101))\n",
    "data_counts, bins = np.histogram(data,bins)\n",
    "norm_counts, bins = np.histogram(norm,bins)\n",
    "cum_data = np.cumsum(data_counts)\n",
    "cum_norm = np.cumsum(norm_counts)\n",
    "cum_data = cum_data / max(cum_data)\n",
    "cum_norm = cum_norm / max(cum_norm)\n",
    "    \n",
    "ax2.plot(cum_data,cum_norm, \"o\")\n",
    "min_value = np.floor(min(min(cum_norm),min(cum_data)))\n",
    "max_value = np.ceil(max(max(cum_norm),max(cum_data)))\n",
    "ax2.plot([min_value,max_value],[min_value,max_value],'r--')\n",
    "ax2.set_xlim(min_value,max_value)\n",
    "ax2.set_xlabel('Observed cumulative distribution')\n",
    "ax2.set_ylabel('Theoretical cumulative distribution')\n",
    "title = 'pp plot'\n",
    "ax2.set_title(title)"
   ]
  },
  {
   "cell_type": "markdown",
   "metadata": {},
   "source": [
    "# 로지스틱 회귀분석\n",
    "회귀분석은 근본적으로 연속형 자료를 종속변수로 갖는다. 질환의 유무는 범주형 자료이기 때문에 회귀분석에 그대로 적용할 수가 없다. 그러나 회귀분석을 확정하여 종속변수 y를 f(x)라는 함수로 치환한 일반화 선형모형(generalized linear model)을 이용하면, 보다 폭넓은 현상들을 회귀모형으로 설명하는 것이 가능해진다. 로지스틱 회귀분석은 이 일반화 선형모형의 한 형태이다. 지로한이 있을 확률을 $ p $ 라고 할 때, 로지스틱 회귀분석에서는 $ f(x) = ln \\tfrac{p}{1-p} $ 라는 함수를 일반화 선형모형에 대입하여 적용한다. "
   ]
  },
  {
   "cell_type": "markdown",
   "metadata": {},
   "source": [
    "일반선형모형"
   ]
  },
  {
   "cell_type": "markdown",
   "metadata": {},
   "source": [
    "\\begin{equation}\n",
    "y = \\alpha + \\beta_{1}\\times x_{1} + \\beta_{2}\\times x_{2}+ \\cdots + \\beta_{k}\\times x_{k}\n",
    "\\end{equation}"
   ]
  },
  {
   "cell_type": "markdown",
   "metadata": {},
   "source": [
    "일반화 선형모형"
   ]
  },
  {
   "cell_type": "markdown",
   "metadata": {},
   "source": [
    "\\begin{equation}\n",
    "f(y) = \\alpha + \\beta_{1}\\times x_{1} + \\beta_{2}\\times x_{2}+ \\cdots + \\beta_{k}\\times x_{k}\n",
    "\\end{equation}"
   ]
  },
  {
   "cell_type": "markdown",
   "metadata": {},
   "source": [
    "로지스틱 회귀분석"
   ]
  },
  {
   "cell_type": "markdown",
   "metadata": {},
   "source": [
    "\\begin{equation}\n",
    "ln \\tfrac{p}{1-p} = \\alpha + \\beta_{1}\\times x_{1} + \\beta_{2}\\times x_{2}+ \\cdots + \\beta_{k}\\times x_{k}\n",
    "\\end{equation}"
   ]
  }
 ],
 "metadata": {
  "kernelspec": {
   "display_name": "Python 3",
   "language": "python",
   "name": "python3"
  },
  "language_info": {
   "codemirror_mode": {
    "name": "ipython",
    "version": 3
   },
   "file_extension": ".py",
   "mimetype": "text/x-python",
   "name": "python",
   "nbconvert_exporter": "python",
   "pygments_lexer": "ipython3",
   "version": "3.7.3"
  }
 },
 "nbformat": 4,
 "nbformat_minor": 2
}
