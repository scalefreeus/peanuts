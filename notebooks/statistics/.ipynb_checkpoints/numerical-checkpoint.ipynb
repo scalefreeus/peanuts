{
 "cells": [
  {
   "cell_type": "markdown",
   "metadata": {},
   "source": [
    "# 연속형    \n",
    "1. 통계기법\n",
    "1. 두 군의 크기 비교\n",
    "    1. 독립표본 T 검정\n",
    "    1. Mann-Whitney test\n",
    "1. 변경 전후 크기 비교\n",
    "    1. 대응표본 T 검정\n",
    "    1. Wilcoxon signed rank test\n",
    "1. 세 군 이상의 크기 비교\n",
    "    1. 사후분석\n",
    "    1. 일원배치 분산분석\n",
    "    1. Kruskal-Wallis test\n",
    "    1. Jonckheere-Terpstra test\n"
   ]
  },
  {
   "cell_type": "markdown",
   "metadata": {},
   "source": [
    "# 통계기법\n",
    "평균비교에 있어서 통계기법 적용과정\n",
    "\n",
    "독립변수 | 종속변수 | 통계분석법(모수) | 통계분석법(비모수)\n",
    "--- | --- | --- | ---\n",
    "명칭척도 | 비척도 | 독립표본 T 검정, 대응표본 T 검정 | Mann-Whitney Test, Wilcoxon Signed rank test\n",
    "명칭 혹은 순위 척도 | 비척도 | 일원배치 분산분석법(ANOVA) | Kruskal-Wallis test\n",
    "순위척도 | 비척도 | | Jonckheere-Terpstra test (경향분석)\n",
    "명칭척도 | 명칭척도 | 카이제곱검정 | Fisher의 정확한 검정\n",
    "순위척도 | 명칭척도 | 선형 대 선형 결합 - 경향분석  (test for trend) |\n",
    "종속관계가 명확하지 않을 때 (비척도) | 비척도 | Pearson의 상관분석 | Spearman의 상관분석 "
   ]
  },
  {
   "cell_type": "markdown",
   "metadata": {},
   "source": [
    "![Alt text](https://g.gravizo.com/svg?\n",
    "  digraph G {\n",
    "    aize =\"4,4\";\n",
    "    \"종속변수 [연속형]\" -> \"두 집단의 비교\";\n",
    "    \"종속변수 [연속형]\" -> \"세 집단 이상의 비교\";\n",
    "    \"두 집단의 비교\" -> \"짝지은 자료\";\n",
    "    \"두 집단의 비교\" -> \"독립 표본\";\n",
    "    \"짝지은 자료\" -> \"대응표본 t-검정, Paired T-test\" [label=\"모수적 방법\"];\n",
    "    \"짝지은 자료\" -> \"Wilcoxon's Signed rank test\" [label=\"비모수적 방법\"];\n",
    "    \"독립 표본\" -> \"독립표본 t-검정, Student [independent] T-test\" [label=\"모수적 방법\"];\n",
    "    \"독립 표본\" -> \"Mann Whitney test\" [label=\"비모수적 방법\"];\n",
    "    \"세 집단 이상의 비교\" -> \"ANOVA 다중비교\" [label=\"모수적 방법\"];\n",
    "    \"세 집단 이상의 비교\" -> \"Kruskal Wallis test\" [label=\"비모수적 방법\"];\n",
    "  }\n",
    ")"
   ]
  },
  {
   "cell_type": "markdown",
   "metadata": {},
   "source": [
    "1. 모수적 방법(모수검정)  \n",
    "모집단의 분포에 상관없이 무작위 추출된 표본의 평균은 표본의 크기가 충분히 클 때 정규분포를 따르는 정규성을 갖는다는 모수적 특성을 이용하는 통계적인 방법을 모수적 방법(parametric method)라고 한다. 정규분포를 따른다고 가정할 수 있는 최소한의 표본의 크기는 군당 30개 이상으로 구성된 표본이다.\n",
    "2. 비모수적 방법(비모수검정)  \n",
    "    - 군당 10개 미만의 소규모 실험  \n",
    "    - 10개 이상이고 30개 이하인 경우 정규성 검정에서 정규분포가 아닌 경우\n",
    "    - 종속변수가 순위척도(숫자로는 표현되지만 수향화 할 수 없고 평균을 낼 수도 없는)일 경우\n",
    "    - 본격적인 모수적 검정법을 사용하기 전에 예비 분석을 시도 할 때  \n",
    " >표본수가 같을 때 비 모수적 검정법은 모수적 검정법에 비해 검정력이 낮기 때문에 가능하면 모수적 검정법 적용 권장"
   ]
  },
  {
   "cell_type": "markdown",
   "metadata": {},
   "source": [
    "# 두 군의 크기 비교"
   ]
  },
  {
   "cell_type": "markdown",
   "metadata": {},
   "source": [
    "## 독립표본"
   ]
  },
  {
   "cell_type": "markdown",
   "metadata": {},
   "source": [
    "### 독립표본 t-검정\n",
    "독립 표본 t-검정(Independent two sample t-test)은 두 개의 독립적인 정규 분포에서 나온 N<sub>1</sub>, N<sub>2</sub>개의 데이터셋을 사용하여 두 정규분포의 기댓값이 동일한지를 검사한다. 검정통계량으로는 두 정규 분포의 분산이 같은 경우에는  \n",
    "\\begin{align}\n",
    "t = \\dfrac{\\bar{x}_1 - \\bar{x}_2}{s \\cdot \\sqrt{\\dfrac{1}{N_1}+\\dfrac{1}{N_2}}}\n",
    "\\end{align}\n",
    "을 사용한다. \n",
    "두 정규 분포의 분산이 다른 경우에는 검정 통계랑으로  \n",
    "\\begin{align}\n",
    "t = \\dfrac{\\bar{x}_1 - \\bar{x}_2}{\\sqrt{\\dfrac{s_1^2}{N_1} + \\dfrac{s_2^2}{N_2}}}\n",
    "\\end{align}\n",
    "를 사용한다. "
   ]
  },
  {
   "cell_type": "code",
   "execution_count": 125,
   "metadata": {},
   "outputs": [
    {
     "data": {
      "text/html": [
       "<div>\n",
       "<style scoped>\n",
       "    .dataframe tbody tr th:only-of-type {\n",
       "        vertical-align: middle;\n",
       "    }\n",
       "\n",
       "    .dataframe tbody tr th {\n",
       "        vertical-align: top;\n",
       "    }\n",
       "\n",
       "    .dataframe thead th {\n",
       "        text-align: right;\n",
       "    }\n",
       "</style>\n",
       "<table border=\"1\" class=\"dataframe\">\n",
       "  <thead>\n",
       "    <tr style=\"text-align: right;\">\n",
       "      <th></th>\n",
       "      <th>no</th>\n",
       "      <th>group</th>\n",
       "      <th>score</th>\n",
       "    </tr>\n",
       "  </thead>\n",
       "  <tbody>\n",
       "    <tr>\n",
       "      <th>0</th>\n",
       "      <td>1</td>\n",
       "      <td>1</td>\n",
       "      <td>10</td>\n",
       "    </tr>\n",
       "    <tr>\n",
       "      <th>1</th>\n",
       "      <td>2</td>\n",
       "      <td>1</td>\n",
       "      <td>16</td>\n",
       "    </tr>\n",
       "    <tr>\n",
       "      <th>2</th>\n",
       "      <td>3</td>\n",
       "      <td>1</td>\n",
       "      <td>27</td>\n",
       "    </tr>\n",
       "    <tr>\n",
       "      <th>3</th>\n",
       "      <td>4</td>\n",
       "      <td>1</td>\n",
       "      <td>15</td>\n",
       "    </tr>\n",
       "    <tr>\n",
       "      <th>4</th>\n",
       "      <td>5</td>\n",
       "      <td>1</td>\n",
       "      <td>21</td>\n",
       "    </tr>\n",
       "  </tbody>\n",
       "</table>\n",
       "</div>"
      ],
      "text/plain": [
       "   no  group  score\n",
       "0   1      1     10\n",
       "1   2      1     16\n",
       "2   3      1     27\n",
       "3   4      1     15\n",
       "4   5      1     21"
      ]
     },
     "execution_count": 125,
     "metadata": {},
     "output_type": "execute_result"
    }
   ],
   "source": [
    "import scipy.stats as stats\n",
    "import numpy as np\n",
    "import pandas as pd\n",
    "from statistics import *\n",
    "\n",
    "df = pd.read_csv('data/2_independent_t_test.csv')\n",
    "df.head()"
   ]
  },
  {
   "cell_type": "code",
   "execution_count": 4,
   "metadata": {},
   "outputs": [
    {
     "name": "stdout",
     "output_type": "stream",
     "text": [
      "Group 1, Average: 20, Stdev : 5.477225575051661\n",
      "Group 2, Average: 25, Stdev : 6.082762530298219\n"
     ]
    }
   ],
   "source": [
    "group1 = df[df.group == 1]\n",
    "group2 = df[df.group == 2]\n",
    "s1 = group1.score.values\n",
    "s2 = group2.score.values\n",
    "s1_mean = mean(s1)\n",
    "s2_mean = mean(s2)\n",
    "s1_stdev = stdev(s1)\n",
    "s2_stdev = stdev(s2)\n",
    "s1_var = variance(s1)\n",
    "s2_var = variance(s2)\n",
    "\n",
    "print(\"Group 1, Average: {}, Stdev : {}\".format(s1_mean, s1_stdev))\n",
    "print(\"Group 2, Average: {}, Stdev : {}\".format(s2_mean, s2_stdev))"
   ]
  },
  {
   "cell_type": "markdown",
   "metadata": {},
   "source": [
    "#### Levene의 등분산 검정\n",
    "H<sub>0</sub>: 두 군의 분산은 같다(등분산)  \n",
    "H<sub>1</sub>: 두 군의 분산은 같지 않다."
   ]
  },
  {
   "cell_type": "code",
   "execution_count": 12,
   "metadata": {},
   "outputs": [
    {
     "name": "stdout",
     "output_type": "stream",
     "text": [
      "LeveneResult(statistic=0.24617776626068932, pvalue=0.6226372407136405)\n"
     ]
    },
    {
     "data": {
      "text/plain": [
       "0.6226372407136405"
      ]
     },
     "execution_count": 12,
     "metadata": {},
     "output_type": "execute_result"
    }
   ],
   "source": [
    "r= stats.levene(s1, s2)\n",
    "print(r)"
   ]
  },
  {
   "cell_type": "markdown",
   "metadata": {},
   "source": [
    "p= {{r.pvalue}} > 0.05 이므로 H<sub>0</sub> 채택"
   ]
  },
  {
   "cell_type": "markdown",
   "metadata": {},
   "source": [
    "#### 가설검정\n",
    "H<sub>0</sub>: 두 군의 평균은 같다  \n",
    "H<sub>1</sub>: 두 군의 평균은 같지 않다."
   ]
  },
  {
   "cell_type": "code",
   "execution_count": 9,
   "metadata": {},
   "outputs": [
    {
     "name": "stdout",
     "output_type": "stream",
     "text": [
      "두 군의 분산은 같다(등분산) Ttest_indResult(statistic=-2.716365361415697, pvalue=0.009879596065029772)\n",
      "두 군의 분산은 같지 않다. Ttest_indResult(statistic=-2.7163653614156966, pvalue=0.009917052054566907)\n"
     ]
    }
   ],
   "source": [
    "print(\"두 군의 분산은 같다(등분산)\", stats.ttest_ind(s1, s2, equal_var=True))\n",
    "print(\"두 군의 분산은 같지 않다.\", stats.ttest_ind(s1, s2, equal_var=False))"
   ]
  },
  {
   "cell_type": "markdown",
   "metadata": {},
   "source": [
    "Levene 등분산 검정에 따라 등분산이므로 P=0.01 < 0.05 이므로 H<sub>0</sub> 기각, 즉 두 군의 평균은 같지 않다."
   ]
  },
  {
   "cell_type": "markdown",
   "metadata": {},
   "source": [
    "### Mann-Whitney test\n",
    "순위합 검정은 일반적으로 독립표본 T 검정에 비해 검정력이 낮으며 순위만 비교한 것이기 때문에 두 군의 크기의 차이 (평균의 차이)를 언급할 수 없는 단점이 있지만 정규분포에 대한 가정을 하지 않기 때문에 크기 순서가 있는 어떤 상황에서도 적용할 수 있는 장점이 있음\n",
    "\n",
    "귀무가설 H<sub>0</sub> : 두 군의 크기가 같다.  \n",
    "대립가설 H<sub>1</sub> : 두 군의 크기가 같지 않다."
   ]
  },
  {
   "cell_type": "code",
   "execution_count": 58,
   "metadata": {},
   "outputs": [],
   "source": [
    "g1 = [10, 12, 22, 15, 21]\n",
    "g2 = [22, 16, 28, 23]\n",
    "u_statistic, p = stats.mannwhitneyu(g1,g2, alternative=\"two-sided\")"
   ]
  },
  {
   "cell_type": "code",
   "execution_count": 60,
   "metadata": {},
   "outputs": [
    {
     "name": "stdout",
     "output_type": "stream",
     "text": [
      "Mann-Whitney의 U Score: 2.5, 유의확률 : 0.0850999325156708\n"
     ]
    }
   ],
   "source": [
    "print(\"Mann-Whitney의 U Score: {}, 유의확률 : {}\".format(u_statistic, p))"
   ]
  },
  {
   "cell_type": "markdown",
   "metadata": {},
   "source": [
    "p=0.085 > 0.05 이므로 H<sub>0</sub> 채택, 두 그룹의 점수에 차이가 있다고 말할 수 없다. (두 군의 크기는 같다)\n",
    "\n",
    "<span style=\"color:red\">결과 확인 필요</span>"
   ]
  },
  {
   "cell_type": "markdown",
   "metadata": {},
   "source": [
    "## 짝지은 자료\n",
    "### 대응표본 T-검정\n"
   ]
  },
  {
   "cell_type": "code",
   "execution_count": 74,
   "metadata": {},
   "outputs": [
    {
     "data": {
      "text/html": [
       "<div>\n",
       "<style scoped>\n",
       "    .dataframe tbody tr th:only-of-type {\n",
       "        vertical-align: middle;\n",
       "    }\n",
       "\n",
       "    .dataframe tbody tr th {\n",
       "        vertical-align: top;\n",
       "    }\n",
       "\n",
       "    .dataframe thead th {\n",
       "        text-align: right;\n",
       "    }\n",
       "</style>\n",
       "<table border=\"1\" class=\"dataframe\">\n",
       "  <thead>\n",
       "    <tr style=\"text-align: right;\">\n",
       "      <th></th>\n",
       "      <th>pre</th>\n",
       "      <th>post</th>\n",
       "    </tr>\n",
       "  </thead>\n",
       "  <tbody>\n",
       "    <tr>\n",
       "      <th>0</th>\n",
       "      <td>38</td>\n",
       "      <td>24</td>\n",
       "    </tr>\n",
       "    <tr>\n",
       "      <th>1</th>\n",
       "      <td>26</td>\n",
       "      <td>22</td>\n",
       "    </tr>\n",
       "    <tr>\n",
       "      <th>2</th>\n",
       "      <td>25</td>\n",
       "      <td>19</td>\n",
       "    </tr>\n",
       "    <tr>\n",
       "      <th>3</th>\n",
       "      <td>32</td>\n",
       "      <td>18</td>\n",
       "    </tr>\n",
       "    <tr>\n",
       "      <th>4</th>\n",
       "      <td>28</td>\n",
       "      <td>24</td>\n",
       "    </tr>\n",
       "  </tbody>\n",
       "</table>\n",
       "</div>"
      ],
      "text/plain": [
       "   pre  post\n",
       "0   38    24\n",
       "1   26    22\n",
       "2   25    19\n",
       "3   32    18\n",
       "4   28    24"
      ]
     },
     "execution_count": 74,
     "metadata": {},
     "output_type": "execute_result"
    }
   ],
   "source": [
    "df = pd.read_csv('data/3_paired_t_test.csv')\n",
    "df.head()"
   ]
  },
  {
   "cell_type": "code",
   "execution_count": 78,
   "metadata": {},
   "outputs": [
    {
     "name": "stdout",
     "output_type": "stream",
     "text": [
      "Pre, 평균: 28, N: 26, 표준편차 : 4.242640687119285\n",
      "Post, 평균: 19, N: 26, 표준편차 : 5.196152422706632\n"
     ]
    }
   ],
   "source": [
    "pre = df.pre.values\n",
    "post = df.post.values\n",
    "\n",
    "print(\"Pre, 평균: {}, N: {}, 표준편차 : {}\".format(mean(pre), len(pre), stdev(pre)))\n",
    "print(\"Post, 평균: {}, N: {}, 표준편차 : {}\".format(mean(post), len(post), stdev(post)))"
   ]
  },
  {
   "cell_type": "code",
   "execution_count": 137,
   "metadata": {},
   "outputs": [
    {
     "name": "stdout",
     "output_type": "stream",
     "text": [
      "Kolmogorov-Smirnov:\n",
      "KstestResult(statistic=0.16509232120029171, pvalue=0.43558114742264753)\n",
      "Shapiro-Wilk:\n",
      "(0.9511401057243347, 0.24656397104263306)\n"
     ]
    }
   ],
   "source": [
    "from scipy.special import kolmogorov\n",
    "print(\"Kolmogorov-Smirnov:\")\n",
    "print(stats.kstest(post - pre, 'norm', args=(mean(post - pre), stdev(post - pre))))\n",
    "print(\"Shapiro-Wilk:\")\n",
    "print(stats.shapiro(post - pre))"
   ]
  },
  {
   "cell_type": "markdown",
   "metadata": {},
   "source": [
    "** 정규성 검정 **\n",
    "H<sub>0</sub> : 집단은 정규성을 띤다.\n",
    "H<sub>1</sub> : 집단은 정규성을 띠지 않는다.\n",
    "\n",
    "Kolmogorov-Smirnov 검정  \n",
    "p=0.200 > 0.05 H<sub>0</sub> 채택\n",
    "\n",
    "Shapiro-Wilk 검정   \n",
    "p=0.247 > 0.05 H<sub>0</sub> 채택\n",
    "\n",
    "정규성을 띤다."
   ]
  },
  {
   "cell_type": "code",
   "execution_count": 76,
   "metadata": {},
   "outputs": [
    {
     "data": {
      "text/plain": [
       "Ttest_relResult(statistic=9.666666666666666, pvalue=6.327262274263637e-10)"
      ]
     },
     "execution_count": 76,
     "metadata": {},
     "output_type": "execute_result"
    }
   ],
   "source": [
    "stats.ttest_rel(pre, post)"
   ]
  },
  {
   "cell_type": "markdown",
   "metadata": {},
   "source": [
    "** 가설검정 **\n",
    "\n",
    "H<sub>0</sub> : 치료 전후 차이의 평균은 0이다.\n",
    "H<sub>1</sub> : 치료 전후 차이의 평균은 0이 아니다.\n",
    "\n",
    "p < 0.05 이므로 H<sub>0</sub> 기각. 치료 전후 차이의 평균은 0이 아니다."
   ]
  },
  {
   "cell_type": "markdown",
   "metadata": {},
   "source": [
    "### Wilcoxon Signed-Rank Test\n"
   ]
  },
  {
   "cell_type": "markdown",
   "metadata": {},
   "source": [
    "순위합 검정의 가설검정\n",
    "\n",
    "귀무가설 H<sub>0</sub> : 치료 전과 후의 크기가 같다.  \n",
    "대립가설 H<sub>1</sub> : 치료 전과 후의 크기가 같지 않다.\n",
    "\n",
    "비모수적인 방법은 일반적으로 모수적인 방법보다 검정력이 낮으며, 순위만 비교한 것이기 때문에 치료전과 후의 크기의 차이(평균의 차이)를 언급할 수 없는 단점이 있음."
   ]
  },
  {
   "cell_type": "code",
   "execution_count": 64,
   "metadata": {},
   "outputs": [
    {
     "data": {
      "text/html": [
       "<div>\n",
       "<style scoped>\n",
       "    .dataframe tbody tr th:only-of-type {\n",
       "        vertical-align: middle;\n",
       "    }\n",
       "\n",
       "    .dataframe tbody tr th {\n",
       "        vertical-align: top;\n",
       "    }\n",
       "\n",
       "    .dataframe thead th {\n",
       "        text-align: right;\n",
       "    }\n",
       "</style>\n",
       "<table border=\"1\" class=\"dataframe\">\n",
       "  <thead>\n",
       "    <tr style=\"text-align: right;\">\n",
       "      <th></th>\n",
       "      <th>pre</th>\n",
       "      <th>post</th>\n",
       "    </tr>\n",
       "  </thead>\n",
       "  <tbody>\n",
       "    <tr>\n",
       "      <th>0</th>\n",
       "      <td>28</td>\n",
       "      <td>29</td>\n",
       "    </tr>\n",
       "    <tr>\n",
       "      <th>1</th>\n",
       "      <td>26</td>\n",
       "      <td>22</td>\n",
       "    </tr>\n",
       "    <tr>\n",
       "      <th>2</th>\n",
       "      <td>37</td>\n",
       "      <td>31</td>\n",
       "    </tr>\n",
       "    <tr>\n",
       "      <th>3</th>\n",
       "      <td>32</td>\n",
       "      <td>33</td>\n",
       "    </tr>\n",
       "    <tr>\n",
       "      <th>4</th>\n",
       "      <td>25</td>\n",
       "      <td>19</td>\n",
       "    </tr>\n",
       "  </tbody>\n",
       "</table>\n",
       "</div>"
      ],
      "text/plain": [
       "   pre  post\n",
       "0   28    29\n",
       "1   26    22\n",
       "2   37    31\n",
       "3   32    33\n",
       "4   25    19"
      ]
     },
     "execution_count": 64,
     "metadata": {},
     "output_type": "execute_result"
    }
   ],
   "source": [
    "df = pd.read_csv('data/3_wilcoxon_signed_rank_test.csv')\n",
    "df.head()"
   ]
  },
  {
   "cell_type": "code",
   "execution_count": 68,
   "metadata": {},
   "outputs": [],
   "source": [
    "pre = df.pre.values\n",
    "post = df.post.values"
   ]
  },
  {
   "cell_type": "code",
   "execution_count": 70,
   "metadata": {},
   "outputs": [
    {
     "name": "stderr",
     "output_type": "stream",
     "text": [
      "/home/sean/anaconda3/lib/python3.6/site-packages/scipy/stats/morestats.py:2863: UserWarning: Sample size too small for normal approximation.\n",
      "  warnings.warn(\"Sample size too small for normal approximation.\")\n"
     ]
    },
    {
     "data": {
      "text/plain": [
       "WilcoxonResult(statistic=9.0, pvalue=0.20646258713596)"
      ]
     },
     "execution_count": 70,
     "metadata": {},
     "output_type": "execute_result"
    }
   ],
   "source": [
    "stats.wilcoxon(pre, post)"
   ]
  },
  {
   "cell_type": "markdown",
   "metadata": {},
   "source": [
    "가설검정\n",
    "\n",
    "p=0.206 > 0.05 이므로 H<sub>0</sub> 채택, 치료 전과 후의 크기의 차이가 없다."
   ]
  },
  {
   "cell_type": "markdown",
   "metadata": {},
   "source": [
    "# 세 군 이상의 크기 비교"
   ]
  },
  {
   "cell_type": "markdown",
   "metadata": {},
   "source": [
    "## 일원배치 분산분석 (모수검정)"
   ]
  },
  {
   "cell_type": "code",
   "execution_count": 140,
   "metadata": {},
   "outputs": [
    {
     "data": {
      "text/html": [
       "<div>\n",
       "<style scoped>\n",
       "    .dataframe tbody tr th:only-of-type {\n",
       "        vertical-align: middle;\n",
       "    }\n",
       "\n",
       "    .dataframe tbody tr th {\n",
       "        vertical-align: top;\n",
       "    }\n",
       "\n",
       "    .dataframe thead th {\n",
       "        text-align: right;\n",
       "    }\n",
       "</style>\n",
       "<table border=\"1\" class=\"dataframe\">\n",
       "  <thead>\n",
       "    <tr style=\"text-align: right;\">\n",
       "      <th></th>\n",
       "      <th>group</th>\n",
       "      <th>score</th>\n",
       "    </tr>\n",
       "  </thead>\n",
       "  <tbody>\n",
       "    <tr>\n",
       "      <th>0</th>\n",
       "      <td>1</td>\n",
       "      <td>21</td>\n",
       "    </tr>\n",
       "    <tr>\n",
       "      <th>1</th>\n",
       "      <td>1</td>\n",
       "      <td>22</td>\n",
       "    </tr>\n",
       "    <tr>\n",
       "      <th>2</th>\n",
       "      <td>1</td>\n",
       "      <td>23</td>\n",
       "    </tr>\n",
       "    <tr>\n",
       "      <th>3</th>\n",
       "      <td>1</td>\n",
       "      <td>22</td>\n",
       "    </tr>\n",
       "    <tr>\n",
       "      <th>4</th>\n",
       "      <td>1</td>\n",
       "      <td>21</td>\n",
       "    </tr>\n",
       "  </tbody>\n",
       "</table>\n",
       "</div>"
      ],
      "text/plain": [
       "   group  score\n",
       "0      1     21\n",
       "1      1     22\n",
       "2      1     23\n",
       "3      1     22\n",
       "4      1     21"
      ]
     },
     "execution_count": 140,
     "metadata": {},
     "output_type": "execute_result"
    }
   ],
   "source": [
    "df = pd.read_csv('data/4_anova.csv')\n",
    "df.head()"
   ]
  },
  {
   "cell_type": "code",
   "execution_count": 141,
   "metadata": {},
   "outputs": [
    {
     "name": "stdout",
     "output_type": "stream",
     "text": [
      "Group 1, Average: 23, Stdev : 2.23606797749979\n",
      "Group 2, Average: 18, Stdev : 2.449489742783178\n",
      "Group 3, Average: 21, Stdev : 2.449489742783178\n"
     ]
    }
   ],
   "source": [
    "group1 = df[df.group == 1]\n",
    "group2 = df[df.group == 2]\n",
    "group3 = df[df.group == 3]\n",
    "\n",
    "s1 = group1.score.values\n",
    "s2 = group2.score.values\n",
    "s3 = group3.score.values\n",
    "s1_mean = mean(s1)\n",
    "s2_mean = mean(s2)\n",
    "s3_mean = mean(s3)\n",
    "s1_stdev = stdev(s1)\n",
    "s2_stdev = stdev(s2)\n",
    "s3_stdev = stdev(s3)\n",
    "s1_var = variance(s1)\n",
    "s2_var = variance(s2)\n",
    "s3_var = variance(s3)\n",
    "\n",
    "print(\"Group 1, Average: {}, Stdev : {}\".format(s1_mean, s1_stdev))\n",
    "print(\"Group 2, Average: {}, Stdev : {}\".format(s2_mean, s2_stdev))\n",
    "print(\"Group 3, Average: {}, Stdev : {}\".format(s3_mean, s3_stdev))"
   ]
  },
  {
   "cell_type": "markdown",
   "metadata": {},
   "source": [
    "### 정규성 검정"
   ]
  },
  {
   "cell_type": "code",
   "execution_count": 143,
   "metadata": {},
   "outputs": [
    {
     "name": "stdout",
     "output_type": "stream",
     "text": [
      "(0.9582614302635193, 0.7587524056434631)\n",
      "(0.9646769165992737, 0.8478997945785522)\n",
      "(0.9114600419998169, 0.22273419797420502)\n"
     ]
    }
   ],
   "source": [
    "print(stats.shapiro(s1))\n",
    "print(stats.shapiro(s2))\n",
    "print(stats.shapiro(s3))"
   ]
  },
  {
   "cell_type": "markdown",
   "metadata": {},
   "source": [
    "H<sub>0</sub> : 집단은 정규성을 띤다.  \n",
    "H<sub>1</sub> : 집단은 정규성을 띠지 않는다.  \n",
    "\n",
    "Shapiro-Wilk 검정  \n",
    "p=0.758, 0.848, 0.223 > 0.05 H<sub>0</sub> - 채택  \n",
    "정규성을 띤다."
   ]
  },
  {
   "cell_type": "markdown",
   "metadata": {},
   "source": [
    "### 등분산 검정"
   ]
  },
  {
   "cell_type": "code",
   "execution_count": 144,
   "metadata": {},
   "outputs": [
    {
     "name": "stdout",
     "output_type": "stream",
     "text": [
      "LeveneResult(statistic=0.0, pvalue=1.0)\n"
     ]
    }
   ],
   "source": [
    "r= stats.levene(s1, s2, s3)\n",
    "print(r)"
   ]
  },
  {
   "cell_type": "markdown",
   "metadata": {},
   "source": [
    "Levene의 등분산 검정  \n",
    "H<sub>0</sub> : 세 군의 분산은 같다.  \n",
    "H<sub>1</sub> : 세 군의 분산은 같지 않다.  \n",
    "p=1.000 > 0.05 이므로 H<sub>0</sub> 채택  \n",
    "등분산을 가정할 수 있다. "
   ]
  },
  {
   "cell_type": "markdown",
   "metadata": {},
   "source": [
    "### one way ANOVA"
   ]
  },
  {
   "cell_type": "code",
   "execution_count": 142,
   "metadata": {},
   "outputs": [
    {
     "data": {
      "text/plain": [
       "F_onewayResult(statistic=9.651725505751687, pvalue=0.0005008749575334685)"
      ]
     },
     "execution_count": 142,
     "metadata": {},
     "output_type": "execute_result"
    }
   ],
   "source": [
    "stats.f_oneway(s1, s2, s3)"
   ]
  },
  {
   "cell_type": "markdown",
   "metadata": {},
   "source": [
    "일원배치 분산분석의 가설검정   \n",
    "H<sub>0</sub> : 세군의 평균은 모두 같다.  \n",
    "H<sub>1</sub> : 세군의 평균은 모두 같지는 않다.   \n",
    "p = 0.005 < 0.05 이므로 H<sub>0</sub> 기각  \n",
    "크기가 다른 군이 하나 이상 있다. "
   ]
  },
  {
   "cell_type": "markdown",
   "metadata": {},
   "source": [
    "### 사후검정(post hoc)\n",
    "1단계: 크기의 차이가 있는 쌍이 존재한다는 것이 증명되면  \n",
    "2단계: 사후분석으로 넘어간다.  \n",
    "\n",
    "사후분석에서는 유의수준을 적절히 보정하여 어느 군과 어느 군이 유의한 차이를 보이는 지 두 군씩 크기를 각각 비교한다. 두 군의 크기를 비교하는 방법으로는 정규성이 있으면 독립표본 T 검정, 정규성이 없으면 Mann-Whitney test를 사용한다. "
   ]
  },
  {
   "cell_type": "markdown",
   "metadata": {},
   "source": [
    "#### Turkey HSD"
   ]
  },
  {
   "cell_type": "code",
   "execution_count": 147,
   "metadata": {},
   "outputs": [
    {
     "name": "stdout",
     "output_type": "stream",
     "text": [
      "Multiple Comparison of Means - Tukey HSD, FWER=0.05 \n",
      "====================================================\n",
      "group1 group2 meandiff p-adj   lower   upper  reject\n",
      "----------------------------------------------------\n",
      "     1      2     -4.5  0.001 -7.0271 -1.9729   True\n",
      "     1      3  -1.8333  0.192 -4.3604  0.6938  False\n",
      "     2      3   2.6667 0.0369  0.1396  5.1938   True\n",
      "----------------------------------------------------\n"
     ]
    }
   ],
   "source": [
    "from statsmodels.stats.multicomp import (pairwise_tukeyhsd, MultiComparison)\n",
    "\n",
    "# Setup up the data for comparison (creates a specialised object)\n",
    "MultiComp = MultiComparison(df['score'],df['group'])\n",
    "\n",
    "# Show all pair-wise comparisions:\n",
    "\n",
    "# Print the comparisions\n",
    "\n",
    "print(MultiComp.tukeyhsd().summary())"
   ]
  },
  {
   "cell_type": "markdown",
   "metadata": {},
   "source": [
    "Tukey의 다중 비교법  \n",
    "1군과 2군은 유의한 차이를 보임(p=0.001< 0.05)  \n",
    "1군과 3군은 유의한 차이가 없다.(p=0.192 > 0.05)  \n",
    "2군과 3군은 유의한 차이를 보임(p=0.037 < 0.05)"
   ]
  },
  {
   "cell_type": "markdown",
   "metadata": {},
   "source": [
    "#### Holm-Bonferroni Method"
   ]
  },
  {
   "cell_type": "code",
   "execution_count": 152,
   "metadata": {},
   "outputs": [
    {
     "name": "stdout",
     "output_type": "stream",
     "text": [
      "Test Multiple Comparison ttest_rel \n",
      "FWER=0.05 method=Holm\n",
      "alphacSidak=0.02, alphacBonf=0.017\n",
      "=============================================\n",
      "group1 group2   stat   pval  pval_corr reject\n",
      "---------------------------------------------\n",
      "     1      2  3.7024 0.0035    0.0105   True\n",
      "     1      3  1.7573 0.1066    0.1066  False\n",
      "     2      3 -2.3182 0.0407    0.0814  False\n",
      "---------------------------------------------\n"
     ]
    }
   ],
   "source": [
    "comp = MultiComp.allpairtest(stats.ttest_rel, method='Holm')\n",
    "print(comp[0])"
   ]
  },
  {
   "cell_type": "markdown",
   "metadata": {},
   "source": [
    "<span style='color:red'>SPSS와 차이가 있음</span>\n",
    "Bonferroni's method  \n",
    "1군과 2군은 유의한 차이를 보임(p=0.0035 < 0.05)  \n",
    "1군과 3군은 유의한 차이가 없다(p=0.1066 > 0.05)  \n",
    "2군과 3군은 유의한 차이를 보임(p=0.043 < 0.05) "
   ]
  },
  {
   "cell_type": "markdown",
   "metadata": {},
   "source": [
    "#### Dunnett T3\n",
    "Levene의 검정상 만족 않고, 각 군의 표분소 차이가 크면 Welch의 강건한 분산분석 검정 후 Dunnett T3 방법의 사후 분석을 실시  \n",
    "Python에서는 적절한 라이브러리를 찾을 수 없음"
   ]
  },
  {
   "cell_type": "markdown",
   "metadata": {},
   "source": [
    "## Kruskal-Wallis H Test\n",
    "표본 데이터가 충분하지 않을 때에는 비모수적인 방법을 사용한다."
   ]
  },
  {
   "cell_type": "code",
   "execution_count": 156,
   "metadata": {},
   "outputs": [
    {
     "data": {
      "text/html": [
       "<div>\n",
       "<style scoped>\n",
       "    .dataframe tbody tr th:only-of-type {\n",
       "        vertical-align: middle;\n",
       "    }\n",
       "\n",
       "    .dataframe tbody tr th {\n",
       "        vertical-align: top;\n",
       "    }\n",
       "\n",
       "    .dataframe thead th {\n",
       "        text-align: right;\n",
       "    }\n",
       "</style>\n",
       "<table border=\"1\" class=\"dataframe\">\n",
       "  <thead>\n",
       "    <tr style=\"text-align: right;\">\n",
       "      <th></th>\n",
       "      <th>group</th>\n",
       "      <th>score</th>\n",
       "    </tr>\n",
       "  </thead>\n",
       "  <tbody>\n",
       "    <tr>\n",
       "      <th>0</th>\n",
       "      <td>1</td>\n",
       "      <td>27</td>\n",
       "    </tr>\n",
       "    <tr>\n",
       "      <th>1</th>\n",
       "      <td>1</td>\n",
       "      <td>25</td>\n",
       "    </tr>\n",
       "    <tr>\n",
       "      <th>2</th>\n",
       "      <td>1</td>\n",
       "      <td>24</td>\n",
       "    </tr>\n",
       "    <tr>\n",
       "      <th>3</th>\n",
       "      <td>1</td>\n",
       "      <td>23</td>\n",
       "    </tr>\n",
       "    <tr>\n",
       "      <th>4</th>\n",
       "      <td>1</td>\n",
       "      <td>22</td>\n",
       "    </tr>\n",
       "  </tbody>\n",
       "</table>\n",
       "</div>"
      ],
      "text/plain": [
       "   group  score\n",
       "0      1     27\n",
       "1      1     25\n",
       "2      1     24\n",
       "3      1     23\n",
       "4      1     22"
      ]
     },
     "execution_count": 156,
     "metadata": {},
     "output_type": "execute_result"
    }
   ],
   "source": [
    "df = pd.read_csv('data/4_kruskal_wallis_test.csv')\n",
    "df.head()"
   ]
  },
  {
   "cell_type": "code",
   "execution_count": 159,
   "metadata": {},
   "outputs": [],
   "source": [
    "s1 = df[df.group == 1].score.values\n",
    "s2 = df[df.group == 2].score.values\n",
    "s3 = df[df.group == 3].score.values"
   ]
  },
  {
   "cell_type": "code",
   "execution_count": 160,
   "metadata": {},
   "outputs": [
    {
     "data": {
      "text/plain": [
       "KruskalResult(statistic=6.992654774396646, pvalue=0.03030849062122775)"
      ]
     },
     "execution_count": 160,
     "metadata": {},
     "output_type": "execute_result"
    }
   ],
   "source": [
    "stats.kruskal(s1, s2, s3)"
   ]
  },
  {
   "cell_type": "markdown",
   "metadata": {},
   "source": [
    "가설검정   \n",
    "H<sub>0</sub> : 세군의 평균은 모두 같다.  \n",
    "H<sub>1</sub> : 세군의 평균은 모두 같지는 않다.   \n",
    "p = 0.03 < 0.05 이므로 H<sub>0</sub> 기각  \n",
    "크기가 다른 군이 하나 이상 있다. "
   ]
  },
  {
   "cell_type": "markdown",
   "metadata": {},
   "source": [
    "## Jonckheere-Terpstra test\n",
    "3군 이상의 독립변수가 서열을 갖고 있고 서열이 증가에 따라 종속변수의 값이 증가 혹은 감소의 추세를 갖고 있는지를 검정하고자 할 때 Jonckheere-Terpstra test (비모수검정)을 실시  \n",
    "Python에는 적절한 라이브러리가 없음 "
   ]
  }
 ],
 "metadata": {
  "kernelspec": {
   "display_name": "Python 3",
   "language": "python",
   "name": "python3"
  },
  "language_info": {
   "codemirror_mode": {
    "name": "ipython",
    "version": 3
   },
   "file_extension": ".py",
   "mimetype": "text/x-python",
   "name": "python",
   "nbconvert_exporter": "python",
   "pygments_lexer": "ipython3",
   "version": "3.6.7"
  }
 },
 "nbformat": 4,
 "nbformat_minor": 2
}
