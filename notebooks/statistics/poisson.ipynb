{
 "cells": [
  {
   "cell_type": "code",
   "execution_count": 3,
   "metadata": {},
   "outputs": [],
   "source": [
    "import pandas as pd\n",
    "import numpy as np\n",
    "import matplotlib.pyplot as plt"
   ]
  },
  {
   "cell_type": "code",
   "execution_count": 4,
   "metadata": {
    "scrolled": true
   },
   "outputs": [
    {
     "data": {
      "text/html": [
       "<div>\n",
       "<style scoped>\n",
       "    .dataframe tbody tr th:only-of-type {\n",
       "        vertical-align: middle;\n",
       "    }\n",
       "\n",
       "    .dataframe tbody tr th {\n",
       "        vertical-align: top;\n",
       "    }\n",
       "\n",
       "    .dataframe thead th {\n",
       "        text-align: right;\n",
       "    }\n",
       "</style>\n",
       "<table border=\"1\" class=\"dataframe\">\n",
       "  <thead>\n",
       "    <tr style=\"text-align: right;\">\n",
       "      <th></th>\n",
       "      <th>year</th>\n",
       "      <th>sex</th>\n",
       "      <th>case</th>\n",
       "      <th>total</th>\n",
       "      <th>ln_total</th>\n",
       "    </tr>\n",
       "  </thead>\n",
       "  <tbody>\n",
       "    <tr>\n",
       "      <th>0</th>\n",
       "      <td>1993</td>\n",
       "      <td>1</td>\n",
       "      <td>1</td>\n",
       "      <td>13783</td>\n",
       "      <td>9.53119</td>\n",
       "    </tr>\n",
       "    <tr>\n",
       "      <th>1</th>\n",
       "      <td>1993</td>\n",
       "      <td>2</td>\n",
       "      <td>1</td>\n",
       "      <td>13223</td>\n",
       "      <td>9.48971</td>\n",
       "    </tr>\n",
       "    <tr>\n",
       "      <th>2</th>\n",
       "      <td>1994</td>\n",
       "      <td>1</td>\n",
       "      <td>1</td>\n",
       "      <td>12666</td>\n",
       "      <td>9.44668</td>\n",
       "    </tr>\n",
       "    <tr>\n",
       "      <th>3</th>\n",
       "      <td>1994</td>\n",
       "      <td>2</td>\n",
       "      <td>2</td>\n",
       "      <td>14842</td>\n",
       "      <td>9.60522</td>\n",
       "    </tr>\n",
       "    <tr>\n",
       "      <th>4</th>\n",
       "      <td>1995</td>\n",
       "      <td>1</td>\n",
       "      <td>1</td>\n",
       "      <td>13932</td>\n",
       "      <td>9.54194</td>\n",
       "    </tr>\n",
       "  </tbody>\n",
       "</table>\n",
       "</div>"
      ],
      "text/plain": [
       "   year  sex  case  total  ln_total\n",
       "0  1993    1     1  13783   9.53119\n",
       "1  1993    2     1  13223   9.48971\n",
       "2  1994    1     1  12666   9.44668\n",
       "3  1994    2     2  14842   9.60522\n",
       "4  1995    1     1  13932   9.54194"
      ]
     },
     "execution_count": 4,
     "metadata": {},
     "output_type": "execute_result"
    }
   ],
   "source": [
    "df = pd.read_csv('data/12_poisson_regression.csv')\n",
    "df.head()"
   ]
  },
  {
   "cell_type": "code",
   "execution_count": 3,
   "metadata": {},
   "outputs": [
    {
     "data": {
      "text/html": [
       "<div>\n",
       "<style scoped>\n",
       "    .dataframe tbody tr th:only-of-type {\n",
       "        vertical-align: middle;\n",
       "    }\n",
       "\n",
       "    .dataframe tbody tr th {\n",
       "        vertical-align: top;\n",
       "    }\n",
       "\n",
       "    .dataframe thead th {\n",
       "        text-align: right;\n",
       "    }\n",
       "</style>\n",
       "<table border=\"1\" class=\"dataframe\">\n",
       "  <thead>\n",
       "    <tr style=\"text-align: right;\">\n",
       "      <th></th>\n",
       "      <th>year</th>\n",
       "      <th>sex</th>\n",
       "      <th>case</th>\n",
       "      <th>total</th>\n",
       "      <th>ln_total</th>\n",
       "    </tr>\n",
       "  </thead>\n",
       "  <tbody>\n",
       "    <tr>\n",
       "      <th>count</th>\n",
       "      <td>38.000000</td>\n",
       "      <td>38.000000</td>\n",
       "      <td>38.000000</td>\n",
       "      <td>38.000000</td>\n",
       "      <td>38.000000</td>\n",
       "    </tr>\n",
       "    <tr>\n",
       "      <th>mean</th>\n",
       "      <td>2002.000000</td>\n",
       "      <td>1.500000</td>\n",
       "      <td>4.394737</td>\n",
       "      <td>18275.421053</td>\n",
       "      <td>9.799471</td>\n",
       "    </tr>\n",
       "    <tr>\n",
       "      <th>std</th>\n",
       "      <td>5.550749</td>\n",
       "      <td>0.506712</td>\n",
       "      <td>2.377137</td>\n",
       "      <td>3059.204813</td>\n",
       "      <td>0.169600</td>\n",
       "    </tr>\n",
       "    <tr>\n",
       "      <th>min</th>\n",
       "      <td>1993.000000</td>\n",
       "      <td>1.000000</td>\n",
       "      <td>1.000000</td>\n",
       "      <td>12666.000000</td>\n",
       "      <td>9.446680</td>\n",
       "    </tr>\n",
       "    <tr>\n",
       "      <th>25%</th>\n",
       "      <td>1997.250000</td>\n",
       "      <td>1.000000</td>\n",
       "      <td>2.250000</td>\n",
       "      <td>16509.750000</td>\n",
       "      <td>9.711700</td>\n",
       "    </tr>\n",
       "    <tr>\n",
       "      <th>50%</th>\n",
       "      <td>2002.000000</td>\n",
       "      <td>1.500000</td>\n",
       "      <td>4.500000</td>\n",
       "      <td>18079.500000</td>\n",
       "      <td>9.802530</td>\n",
       "    </tr>\n",
       "    <tr>\n",
       "      <th>75%</th>\n",
       "      <td>2006.750000</td>\n",
       "      <td>2.000000</td>\n",
       "      <td>6.000000</td>\n",
       "      <td>20067.000000</td>\n",
       "      <td>9.906823</td>\n",
       "    </tr>\n",
       "    <tr>\n",
       "      <th>max</th>\n",
       "      <td>2011.000000</td>\n",
       "      <td>2.000000</td>\n",
       "      <td>11.000000</td>\n",
       "      <td>24503.000000</td>\n",
       "      <td>10.106550</td>\n",
       "    </tr>\n",
       "  </tbody>\n",
       "</table>\n",
       "</div>"
      ],
      "text/plain": [
       "              year        sex       case         total   ln_total\n",
       "count    38.000000  38.000000  38.000000     38.000000  38.000000\n",
       "mean   2002.000000   1.500000   4.394737  18275.421053   9.799471\n",
       "std       5.550749   0.506712   2.377137   3059.204813   0.169600\n",
       "min    1993.000000   1.000000   1.000000  12666.000000   9.446680\n",
       "25%    1997.250000   1.000000   2.250000  16509.750000   9.711700\n",
       "50%    2002.000000   1.500000   4.500000  18079.500000   9.802530\n",
       "75%    2006.750000   2.000000   6.000000  20067.000000   9.906823\n",
       "max    2011.000000   2.000000  11.000000  24503.000000  10.106550"
      ]
     },
     "execution_count": 3,
     "metadata": {},
     "output_type": "execute_result"
    }
   ],
   "source": [
    "df.describe()"
   ]
  },
  {
   "cell_type": "code",
   "execution_count": 14,
   "metadata": {},
   "outputs": [
    {
     "name": "stdout",
     "output_type": "stream",
     "text": [
      "       mean        SD\n",
      "0  3.526316  1.806421\n",
      "1  5.263158  2.600045\n"
     ]
    }
   ],
   "source": [
    "uniqSex = sorted(df['sex'].unique())\n",
    "mean_sex = []\n",
    "for elem in uniqSex:\n",
    "    mean_sex.append(df[df['sex'] == elem]['case'].mean())\n",
    "    \n",
    "std_sex = []\n",
    "for elem in uniqSex:\n",
    "    std_sex.append(df[df['sex'] == elem]['case'].std())\n",
    "\n",
    "mean_sex = np.array(mean_sex)\n",
    "std_sex = np.array(std_sex)\n",
    "mean_std = pd.DataFrame(mean_sex, columns=['mean'])\n",
    "mean_std['SD'] = std_sex\n",
    "\n",
    "print(mean_std)"
   ]
  },
  {
   "cell_type": "code",
   "execution_count": 13,
   "metadata": {},
   "outputs": [
    {
     "data": {
      "image/png": "[encoded data removed]",
      "text/plain": [
       "<Figure size 432x288 with 1 Axes>"
      ]
     },
     "metadata": {
      "needs_background": "light"
     },
     "output_type": "display_data"
    }
   ],
   "source": [
    "histData = []\n",
    "for elem in uniqSex:\n",
    "    histData.append(df[df['sex'] == elem]['case'].values)\n",
    "    \n",
    "plt.hist(tuple(histData), bins=10, normed = True, histtype='bar', label=map(lambda x: 'Sex' + str(x), uniqSex))\n",
    "plt.legend()\n",
    "plt.ylabel('Count')\n",
    "plt.title(\"Histogram for eac sex\")\n",
    "plt.show()"
   ]
  },
  {
   "cell_type": "code",
   "execution_count": 5,
   "metadata": {},
   "outputs": [
    {
     "name": "stdout",
     "output_type": "stream",
     "text": [
      "Optimization terminated successfully.\n",
      "         Current function value: 1.873030\n",
      "         Iterations 28\n"
     ]
    },
    {
     "data": {
      "text/html": [
       "<table class=\"simpletable\">\n",
       "<caption>Poisson Regression Results</caption>\n",
       "<tr>\n",
       "  <th>Dep. Variable:</th>         <td>case</td>       <th>  No. Observations:  </th>  <td>    38</td>  \n",
       "</tr>\n",
       "<tr>\n",
       "  <th>Model:</th>                <td>Poisson</td>     <th>  Df Residuals:      </th>  <td>    36</td>  \n",
       "</tr>\n",
       "<tr>\n",
       "  <th>Method:</th>                 <td>MLE</td>       <th>  Df Model:          </th>  <td>     1</td>  \n",
       "</tr>\n",
       "<tr>\n",
       "  <th>Date:</th>            <td>Tue, 06 Aug 2019</td> <th>  Pseudo R-squ.:     </th>  <td>0.1650</td>  \n",
       "</tr>\n",
       "<tr>\n",
       "  <th>Time:</th>                <td>16:20:24</td>     <th>  Log-Likelihood:    </th> <td> -71.175</td> \n",
       "</tr>\n",
       "<tr>\n",
       "  <th>converged:</th>             <td>True</td>       <th>  LL-Null:           </th> <td> -85.244</td> \n",
       "</tr>\n",
       "<tr>\n",
       "  <th>Covariance Type:</th>     <td>nonrobust</td>    <th>  LLR p-value:       </th> <td>1.130e-07</td>\n",
       "</tr>\n",
       "</table>\n",
       "<table class=\"simpletable\">\n",
       "<tr>\n",
       "      <td></td>         <th>coef</th>     <th>std err</th>      <th>z</th>      <th>P>|z|</th>  <th>[0.025</th>    <th>0.975]</th>  \n",
       "</tr>\n",
       "<tr>\n",
       "  <th>Intercept</th> <td>   -1.0603</td> <td>    0.501</td> <td>   -2.115</td> <td> 0.034</td> <td>   -2.043</td> <td>   -0.078</td>\n",
       "</tr>\n",
       "<tr>\n",
       "  <th>total</th>     <td>    0.0001</td> <td> 2.54e-05</td> <td>    5.299</td> <td> 0.000</td> <td> 8.47e-05</td> <td>    0.000</td>\n",
       "</tr>\n",
       "</table>"
      ],
      "text/plain": [
       "<class 'statsmodels.iolib.summary.Summary'>\n",
       "\"\"\"\n",
       "                          Poisson Regression Results                          \n",
       "==============================================================================\n",
       "Dep. Variable:                   case   No. Observations:                   38\n",
       "Model:                        Poisson   Df Residuals:                       36\n",
       "Method:                           MLE   Df Model:                            1\n",
       "Date:                Tue, 06 Aug 2019   Pseudo R-squ.:                  0.1650\n",
       "Time:                        16:20:24   Log-Likelihood:                -71.175\n",
       "converged:                       True   LL-Null:                       -85.244\n",
       "Covariance Type:            nonrobust   LLR p-value:                 1.130e-07\n",
       "==============================================================================\n",
       "                 coef    std err          z      P>|z|      [0.025      0.975]\n",
       "------------------------------------------------------------------------------\n",
       "Intercept     -1.0603      0.501     -2.115      0.034      -2.043      -0.078\n",
       "total          0.0001   2.54e-05      5.299      0.000    8.47e-05       0.000\n",
       "==============================================================================\n",
       "\"\"\""
      ]
     },
     "execution_count": 5,
     "metadata": {},
     "output_type": "execute_result"
    }
   ],
   "source": [
    "import statsmodels.api as sm\n",
    "from statsmodels.formula.api import poisson\n",
    "\n",
    "ml = poisson('case ~ total', data = df).fit()\n",
    "ml.summary()"
   ]
  },
  {
   "cell_type": "code",
   "execution_count": 7,
   "metadata": {},
   "outputs": [
    {
     "data": {
      "text/html": [
       "<div>\n",
       "<style scoped>\n",
       "    .dataframe tbody tr th:only-of-type {\n",
       "        vertical-align: middle;\n",
       "    }\n",
       "\n",
       "    .dataframe tbody tr th {\n",
       "        vertical-align: top;\n",
       "    }\n",
       "\n",
       "    .dataframe thead th {\n",
       "        text-align: right;\n",
       "    }\n",
       "</style>\n",
       "<table border=\"1\" class=\"dataframe\">\n",
       "  <thead>\n",
       "    <tr style=\"text-align: right;\">\n",
       "      <th></th>\n",
       "      <th>year</th>\n",
       "      <th>sex</th>\n",
       "      <th>case</th>\n",
       "      <th>total</th>\n",
       "      <th>ln_total</th>\n",
       "      <th>preds</th>\n",
       "    </tr>\n",
       "  </thead>\n",
       "  <tbody>\n",
       "    <tr>\n",
       "      <th>0</th>\n",
       "      <td>1993</td>\n",
       "      <td>1</td>\n",
       "      <td>1</td>\n",
       "      <td>13783</td>\n",
       "      <td>9.53119</td>\n",
       "      <td>2.209499</td>\n",
       "    </tr>\n",
       "    <tr>\n",
       "      <th>1</th>\n",
       "      <td>1993</td>\n",
       "      <td>2</td>\n",
       "      <td>1</td>\n",
       "      <td>13223</td>\n",
       "      <td>9.48971</td>\n",
       "      <td>2.049255</td>\n",
       "    </tr>\n",
       "    <tr>\n",
       "      <th>2</th>\n",
       "      <td>1994</td>\n",
       "      <td>1</td>\n",
       "      <td>1</td>\n",
       "      <td>12666</td>\n",
       "      <td>9.44668</td>\n",
       "      <td>1.901399</td>\n",
       "    </tr>\n",
       "    <tr>\n",
       "      <th>3</th>\n",
       "      <td>1994</td>\n",
       "      <td>2</td>\n",
       "      <td>2</td>\n",
       "      <td>14842</td>\n",
       "      <td>9.60522</td>\n",
       "      <td>2.547580</td>\n",
       "    </tr>\n",
       "    <tr>\n",
       "      <th>4</th>\n",
       "      <td>1995</td>\n",
       "      <td>1</td>\n",
       "      <td>1</td>\n",
       "      <td>13932</td>\n",
       "      <td>9.54194</td>\n",
       "      <td>2.254207</td>\n",
       "    </tr>\n",
       "  </tbody>\n",
       "</table>\n",
       "</div>"
      ],
      "text/plain": [
       "   year  sex  case  total  ln_total     preds\n",
       "0  1993    1     1  13783   9.53119  2.209499\n",
       "1  1993    2     1  13223   9.48971  2.049255\n",
       "2  1994    1     1  12666   9.44668  1.901399\n",
       "3  1994    2     2  14842   9.60522  2.547580\n",
       "4  1995    1     1  13932   9.54194  2.254207"
      ]
     },
     "execution_count": 7,
     "metadata": {},
     "output_type": "execute_result"
    }
   ],
   "source": [
    "model_fit1 = df\n",
    "preds_1 = ml.predict()\n",
    "model_fit1['preds'] = preds_1\n",
    "\n",
    "model_fit1.head(5)"
   ]
  },
  {
   "cell_type": "code",
   "execution_count": null,
   "metadata": {},
   "outputs": [],
   "source": []
  }
 ],
 "metadata": {
  "kernelspec": {
   "display_name": "Python 3",
   "language": "python",
   "name": "python3"
  },
  "language_info": {
   "codemirror_mode": {
    "name": "ipython",
    "version": 3
   },
   "file_extension": ".py",
   "mimetype": "text/x-python",
   "name": "python",
   "nbconvert_exporter": "python",
   "pygments_lexer": "ipython3",
   "version": "3.6.7"
  }
 },
 "nbformat": 4,
 "nbformat_minor": 2
}
