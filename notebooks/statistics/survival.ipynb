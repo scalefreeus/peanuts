{
 "cells": [
  {
   "cell_type": "code",
   "execution_count": 1,
   "metadata": {},
   "outputs": [
    {
     "name": "stdout",
     "output_type": "stream",
     "text": [
      "Collecting lifelines\n",
      "\u001b[?25l  Downloading https://files.pythonhosted.org/packages/04/1c/858ded2da5292e6915d56bc5bfb71d8d3c08fa88fc7b209ff5305fd26dde/lifelines-0.22.2-py2.py3-none-any.whl (329kB)\n",
      "\u001b[K     |████████████████████████████████| 337kB 1.0MB/s eta 0:00:01\n",
      "\u001b[?25hRequirement already satisfied: numpy>=1.14.0 in /home/scalefreeus/anaconda3/envs/peanuts/lib/python3.7/site-packages (from lifelines) (1.16.4)\n",
      "Requirement already satisfied: pandas>=0.23.0 in /home/scalefreeus/anaconda3/envs/peanuts/lib/python3.7/site-packages (from lifelines) (0.25.0)\n",
      "Collecting autograd-gamma>=0.3 (from lifelines)\n",
      "  Downloading https://files.pythonhosted.org/packages/3e/87/788c4bf90cc5c534cb3b7fdb5b719175e33e2658decce75e35e2ce69766f/autograd_gamma-0.4.1-py2.py3-none-any.whl\n",
      "Requirement already satisfied: scipy>=1.0 in /home/scalefreeus/anaconda3/envs/peanuts/lib/python3.7/site-packages (from lifelines) (1.3.0)\n",
      "Collecting autograd>=1.2 (from lifelines)\n",
      "  Downloading https://files.pythonhosted.org/packages/23/12/b58522dc2cbbd7ab939c7b8e5542c441c9a06a8eccb00b3ecac04a739896/autograd-1.3.tar.gz\n",
      "Requirement already satisfied: matplotlib>=3.0 in /home/scalefreeus/anaconda3/envs/peanuts/lib/python3.7/site-packages (from lifelines) (3.1.0)\n",
      "Collecting bottleneck>=1.0 (from lifelines)\n",
      "\u001b[?25l  Downloading https://files.pythonhosted.org/packages/05/ae/cedf5323f398ab4e4ff92d6c431a3e1c6a186f9b41ab3e8258dff786a290/Bottleneck-1.2.1.tar.gz (105kB)\n",
      "\u001b[K     |████████████████████████████████| 112kB 51.4MB/s eta 0:00:01\n",
      "\u001b[?25hRequirement already satisfied: pytz>=2017.2 in /home/scalefreeus/anaconda3/envs/peanuts/lib/python3.7/site-packages (from pandas>=0.23.0->lifelines) (2019.1)\n",
      "Requirement already satisfied: python-dateutil>=2.6.1 in /home/scalefreeus/anaconda3/envs/peanuts/lib/python3.7/site-packages (from pandas>=0.23.0->lifelines) (2.8.0)\n",
      "Collecting future>=0.15.2 (from autograd>=1.2->lifelines)\n",
      "\u001b[?25l  Downloading https://files.pythonhosted.org/packages/90/52/e20466b85000a181e1e144fd8305caf2cf475e2f9674e797b222f8105f5f/future-0.17.1.tar.gz (829kB)\n",
      "\u001b[K     |████████████████████████████████| 829kB 29.5MB/s eta 0:00:01\n",
      "\u001b[?25hRequirement already satisfied: cycler>=0.10 in /home/scalefreeus/anaconda3/envs/peanuts/lib/python3.7/site-packages (from matplotlib>=3.0->lifelines) (0.10.0)\n",
      "Requirement already satisfied: kiwisolver>=1.0.1 in /home/scalefreeus/anaconda3/envs/peanuts/lib/python3.7/site-packages (from matplotlib>=3.0->lifelines) (1.1.0)\n",
      "Requirement already satisfied: pyparsing!=2.0.4,!=2.1.2,!=2.1.6,>=2.0.1 in /home/scalefreeus/anaconda3/envs/peanuts/lib/python3.7/site-packages (from matplotlib>=3.0->lifelines) (2.4.0)\n",
      "Requirement already satisfied: six>=1.5 in /home/scalefreeus/anaconda3/envs/peanuts/lib/python3.7/site-packages (from python-dateutil>=2.6.1->pandas>=0.23.0->lifelines) (1.12.0)\n",
      "Requirement already satisfied: setuptools in /home/scalefreeus/anaconda3/envs/peanuts/lib/python3.7/site-packages (from kiwisolver>=1.0.1->matplotlib>=3.0->lifelines) (41.0.1)\n",
      "Building wheels for collected packages: autograd, bottleneck, future\n",
      "  Building wheel for autograd (setup.py) ... \u001b[?25ldone\n",
      "\u001b[?25h  Stored in directory: /home/scalefreeus/.cache/pip/wheels/42/62/66/1121afe23ff96af4e452e0d15e68761e3f605952ee075ca99f\n",
      "  Building wheel for bottleneck (setup.py) ... \u001b[?25lerror\n",
      "\u001b[31m  ERROR: Complete output from command /home/scalefreeus/anaconda3/envs/peanuts/bin/python -u -c 'import setuptools, tokenize;__file__='\"'\"'/tmp/pip-install-jrowg8ss/bottleneck/setup.py'\"'\"';f=getattr(tokenize, '\"'\"'open'\"'\"', open)(__file__);code=f.read().replace('\"'\"'\\r\\n'\"'\"', '\"'\"'\\n'\"'\"');f.close();exec(compile(code, __file__, '\"'\"'exec'\"'\"'))' bdist_wheel -d /tmp/pip-wheel-frtyb3x2 --python-tag cp37:\u001b[0m\n",
      "\u001b[31m  ERROR: running bdist_wheel\n",
      "  running build\n",
      "  running build_py\n",
      "  creating build\n",
      "  creating build/lib.linux-x86_64-3.7\n",
      "  creating build/lib.linux-x86_64-3.7/bottleneck\n",
      "  copying bottleneck/__init__.py -> build/lib.linux-x86_64-3.7/bottleneck\n",
      "  copying bottleneck/version.py -> build/lib.linux-x86_64-3.7/bottleneck\n",
      "  creating build/lib.linux-x86_64-3.7/bottleneck/benchmark\n",
      "  copying bottleneck/benchmark/__init__.py -> build/lib.linux-x86_64-3.7/bottleneck/benchmark\n",
      "  copying bottleneck/benchmark/autotimeit.py -> build/lib.linux-x86_64-3.7/bottleneck/benchmark\n",
      "  copying bottleneck/benchmark/bench.py -> build/lib.linux-x86_64-3.7/bottleneck/benchmark\n",
      "  copying bottleneck/benchmark/bench_detailed.py -> build/lib.linux-x86_64-3.7/bottleneck/benchmark\n",
      "  creating build/lib.linux-x86_64-3.7/bottleneck/slow\n",
      "  copying bottleneck/slow/__init__.py -> build/lib.linux-x86_64-3.7/bottleneck/slow\n",
      "  copying bottleneck/slow/move.py -> build/lib.linux-x86_64-3.7/bottleneck/slow\n",
      "  copying bottleneck/slow/nonreduce.py -> build/lib.linux-x86_64-3.7/bottleneck/slow\n",
      "  copying bottleneck/slow/nonreduce_axis.py -> build/lib.linux-x86_64-3.7/bottleneck/slow\n",
      "  copying bottleneck/slow/reduce.py -> build/lib.linux-x86_64-3.7/bottleneck/slow\n",
      "  creating build/lib.linux-x86_64-3.7/bottleneck/src\n",
      "  copying bottleneck/src/__init__.py -> build/lib.linux-x86_64-3.7/bottleneck/src\n",
      "  copying bottleneck/src/template.py -> build/lib.linux-x86_64-3.7/bottleneck/src\n",
      "  creating build/lib.linux-x86_64-3.7/bottleneck/tests\n",
      "  copying bottleneck/tests/__init__.py -> build/lib.linux-x86_64-3.7/bottleneck/tests\n",
      "  copying bottleneck/tests/input_modifcation_test.py -> build/lib.linux-x86_64-3.7/bottleneck/tests\n",
      "  copying bottleneck/tests/list_input_test.py -> build/lib.linux-x86_64-3.7/bottleneck/tests\n",
      "  copying bottleneck/tests/move_test.py -> build/lib.linux-x86_64-3.7/bottleneck/tests\n",
      "  copying bottleneck/tests/nonreduce_axis_test.py -> build/lib.linux-x86_64-3.7/bottleneck/tests\n",
      "  copying bottleneck/tests/nonreduce_test.py -> build/lib.linux-x86_64-3.7/bottleneck/tests\n",
      "  copying bottleneck/tests/reduce_test.py -> build/lib.linux-x86_64-3.7/bottleneck/tests\n",
      "  copying bottleneck/tests/scalar_input_test.py -> build/lib.linux-x86_64-3.7/bottleneck/tests\n",
      "  copying bottleneck/tests/util.py -> build/lib.linux-x86_64-3.7/bottleneck/tests\n",
      "  copying bottleneck/LICENSE -> build/lib.linux-x86_64-3.7/bottleneck\n",
      "  running build_ext\n",
      "  building 'bottleneck.reduce' extension\n",
      "  creating build/temp.linux-x86_64-3.7\n",
      "  creating build/temp.linux-x86_64-3.7/bottleneck\n",
      "  creating build/temp.linux-x86_64-3.7/bottleneck/src\n",
      "  gcc -pthread -B /home/scalefreeus/anaconda3/envs/peanuts/compiler_compat -Wl,--sysroot=/ -Wsign-compare -DNDEBUG -g -fwrapv -O3 -Wall -Wstrict-prototypes -fPIC -I/home/scalefreeus/anaconda3/envs/peanuts/lib/python3.7/site-packages/numpy/core/include -I/home/scalefreeus/anaconda3/envs/peanuts/include/python3.7m -c bottleneck/src/reduce.c -o build/temp.linux-x86_64-3.7/bottleneck/src/reduce.o -O2\n",
      "  unable to execute 'gcc': No such file or directory\n",
      "  error: command 'gcc' failed with exit status 1\n",
      "  ----------------------------------------\u001b[0m\n",
      "\u001b[31m  ERROR: Failed building wheel for bottleneck\u001b[0m\n",
      "\u001b[?25h  Running setup.py clean for bottleneck\n",
      "  Building wheel for future (setup.py) ... \u001b[?25ldone\n",
      "\u001b[?25h  Stored in directory: /home/scalefreeus/.cache/pip/wheels/0c/61/d2/d6b7317325828fbb39ee6ad559dbe4664d0896da4721bf379e\n",
      "Successfully built autograd future\n",
      "Failed to build bottleneck\n",
      "Installing collected packages: future, autograd, autograd-gamma, bottleneck, lifelines\n",
      "  Running setup.py install for bottleneck ... \u001b[?25lerror\n",
      "\u001b[31m    ERROR: Complete output from command /home/scalefreeus/anaconda3/envs/peanuts/bin/python -u -c 'import setuptools, tokenize;__file__='\"'\"'/tmp/pip-install-jrowg8ss/bottleneck/setup.py'\"'\"';f=getattr(tokenize, '\"'\"'open'\"'\"', open)(__file__);code=f.read().replace('\"'\"'\\r\\n'\"'\"', '\"'\"'\\n'\"'\"');f.close();exec(compile(code, __file__, '\"'\"'exec'\"'\"'))' install --record /tmp/pip-record-ytjqukj1/install-record.txt --single-version-externally-managed --compile:\u001b[0m\n",
      "\u001b[31m    ERROR: running install\n",
      "    running build\n",
      "    running build_py\n",
      "    running build_ext\n",
      "    building 'bottleneck.reduce' extension\n",
      "    creating build/temp.linux-x86_64-3.7\n",
      "    creating build/temp.linux-x86_64-3.7/bottleneck\n",
      "    creating build/temp.linux-x86_64-3.7/bottleneck/src\n",
      "    gcc -pthread -B /home/scalefreeus/anaconda3/envs/peanuts/compiler_compat -Wl,--sysroot=/ -Wsign-compare -DNDEBUG -g -fwrapv -O3 -Wall -Wstrict-prototypes -fPIC -I/home/scalefreeus/anaconda3/envs/peanuts/lib/python3.7/site-packages/numpy/core/include -I/home/scalefreeus/anaconda3/envs/peanuts/include/python3.7m -c bottleneck/src/reduce.c -o build/temp.linux-x86_64-3.7/bottleneck/src/reduce.o -O2\n",
      "    unable to execute 'gcc': No such file or directory\n",
      "    error: command 'gcc' failed with exit status 1\n",
      "    ----------------------------------------\u001b[0m\n"
     ]
    },
    {
     "name": "stdout",
     "output_type": "stream",
     "text": [
      "\u001b[31mERROR: Command \"/home/scalefreeus/anaconda3/envs/peanuts/bin/python -u -c 'import setuptools, tokenize;__file__='\"'\"'/tmp/pip-install-jrowg8ss/bottleneck/setup.py'\"'\"';f=getattr(tokenize, '\"'\"'open'\"'\"', open)(__file__);code=f.read().replace('\"'\"'\\r\\n'\"'\"', '\"'\"'\\n'\"'\"');f.close();exec(compile(code, __file__, '\"'\"'exec'\"'\"'))' install --record /tmp/pip-record-ytjqukj1/install-record.txt --single-version-externally-managed --compile\" failed with error code 1 in /tmp/pip-install-jrowg8ss/bottleneck/\u001b[0m\n",
      "\u001b[?25h"
     ]
    }
   ],
   "source": [
    "!conda install -c conda-forge lifelines"
   ]
  },
  {
   "cell_type": "code",
   "execution_count": 1,
   "metadata": {},
   "outputs": [
    {
     "data": {
      "text/html": [
       "<div>\n",
       "<style scoped>\n",
       "    .dataframe tbody tr th:only-of-type {\n",
       "        vertical-align: middle;\n",
       "    }\n",
       "\n",
       "    .dataframe tbody tr th {\n",
       "        vertical-align: top;\n",
       "    }\n",
       "\n",
       "    .dataframe thead th {\n",
       "        text-align: right;\n",
       "    }\n",
       "</style>\n",
       "<table border=\"1\" class=\"dataframe\">\n",
       "  <thead>\n",
       "    <tr style=\"text-align: right;\">\n",
       "      <th></th>\n",
       "      <th>id</th>\n",
       "      <th>treatment</th>\n",
       "      <th>month</th>\n",
       "      <th>death</th>\n",
       "      <th>age</th>\n",
       "      <th>residual</th>\n",
       "      <th>condition</th>\n",
       "      <th>time</th>\n",
       "    </tr>\n",
       "  </thead>\n",
       "  <tbody>\n",
       "    <tr>\n",
       "      <th>0</th>\n",
       "      <td>1</td>\n",
       "      <td>1</td>\n",
       "      <td>2</td>\n",
       "      <td>1</td>\n",
       "      <td>72</td>\n",
       "      <td>2</td>\n",
       "      <td>1</td>\n",
       "      <td>59</td>\n",
       "    </tr>\n",
       "    <tr>\n",
       "      <th>1</th>\n",
       "      <td>2</td>\n",
       "      <td>1</td>\n",
       "      <td>3</td>\n",
       "      <td>1</td>\n",
       "      <td>74</td>\n",
       "      <td>2</td>\n",
       "      <td>1</td>\n",
       "      <td>115</td>\n",
       "    </tr>\n",
       "    <tr>\n",
       "      <th>2</th>\n",
       "      <td>3</td>\n",
       "      <td>1</td>\n",
       "      <td>5</td>\n",
       "      <td>1</td>\n",
       "      <td>66</td>\n",
       "      <td>2</td>\n",
       "      <td>2</td>\n",
       "      <td>156</td>\n",
       "    </tr>\n",
       "    <tr>\n",
       "      <th>3</th>\n",
       "      <td>4</td>\n",
       "      <td>2</td>\n",
       "      <td>14</td>\n",
       "      <td>0</td>\n",
       "      <td>53</td>\n",
       "      <td>2</td>\n",
       "      <td>1</td>\n",
       "      <td>421</td>\n",
       "    </tr>\n",
       "    <tr>\n",
       "      <th>4</th>\n",
       "      <td>5</td>\n",
       "      <td>1</td>\n",
       "      <td>14</td>\n",
       "      <td>1</td>\n",
       "      <td>50</td>\n",
       "      <td>2</td>\n",
       "      <td>1</td>\n",
       "      <td>431</td>\n",
       "    </tr>\n",
       "  </tbody>\n",
       "</table>\n",
       "</div>"
      ],
      "text/plain": [
       "   id  treatment  month  death  age  residual  condition time\n",
       "0   1          1      2      1   72         2          1   59\n",
       "1   2          1      3      1   74         2          1  115\n",
       "2   3          1      5      1   66         2          2  156\n",
       "3   4          2     14      0   53         2          1  421\n",
       "4   5          1     14      1   50         2          1  431"
      ]
     },
     "execution_count": 1,
     "metadata": {},
     "output_type": "execute_result"
    }
   ],
   "source": [
    "from lifelines import KaplanMeierFitter\n",
    "import pandas as pd\n",
    "import numpy as np\n",
    "import scipy.stats as stats\n",
    "\n",
    "df = pd.read_csv(\"data/7_ovrian_cancer_survival_data.csv\")\n",
    "df.head()"
   ]
  },
  {
   "cell_type": "code",
   "execution_count": 2,
   "metadata": {},
   "outputs": [],
   "source": [
    "groups = df['treatment']\n",
    "i1 = (groups == 1) ## group i1, having the pandas series for the 1st cohort\n",
    "i2 = (groups == 2) ## group i2, having the pandas series for the 2st cohort\n",
    "\n",
    "T = df['month']\n",
    "E = df['death']"
   ]
  },
  {
   "cell_type": "code",
   "execution_count": 35,
   "metadata": {},
   "outputs": [
    {
     "name": "stdout",
     "output_type": "stream",
     "text": [
      "          removed  observed  censored  entrance  at_risk\n",
      "event_at                                                \n",
      "0.0             0         0         0        13       13\n",
      "2.0             1         1         0         0       13\n",
      "3.0             1         1         0         0       12\n",
      "5.0             1         1         0         0       11\n",
      "8.0             1         1         0         0       10\n",
      "11.0            1         1         0         0        9\n",
      "14.0            2         1         1         0        8\n",
      "15.0            1         0         1         0        6\n",
      "21.0            1         1         0         0        5\n",
      "26.0            1         0         1         0        4\n",
      "28.0            1         0         1         0        3\n",
      "34.0            1         0         1         0        2\n",
      "36.0            1         0         1         0        1\n",
      "          Standard\n",
      "timeline          \n",
      "0.0       1.000000\n",
      "2.0       0.923077\n",
      "3.0       0.846154\n",
      "5.0       0.769231\n",
      "8.0       0.692308\n",
      "11.0      0.615385\n",
      "14.0      0.538462\n",
      "15.0      0.538462\n",
      "21.0      0.430769\n",
      "26.0      0.430769\n",
      "28.0      0.430769\n",
      "34.0      0.430769\n",
      "36.0      0.430769\n",
      "          removed  observed  censored  entrance  at_risk\n",
      "event_at                                                \n",
      "0.0             0         0         0        13       13\n",
      "11.0            1         1         0         0       13\n",
      "12.0            2         1         1         0       12\n",
      "14.0            1         0         1         0       10\n",
      "15.0            2         2         0         0        9\n",
      "18.0            1         1         0         0        7\n",
      "24.0            1         0         1         0        6\n",
      "25.0            2         0         2         0        5\n",
      "37.0            1         0         1         0        3\n",
      "40.0            2         0         2         0        2\n",
      "          New treatment\n",
      "timeline               \n",
      "0.0            1.000000\n",
      "11.0           0.923077\n",
      "12.0           0.846154\n",
      "14.0           0.846154\n",
      "15.0           0.658120\n",
      "18.0           0.564103\n",
      "24.0           0.564103\n",
      "25.0           0.564103\n",
      "37.0           0.564103\n",
      "40.0           0.564103\n"
     ]
    },
    {
     "data": {
      "text/plain": [
       "<matplotlib.axes._subplots.AxesSubplot at 0x7f79f19259e8>"
      ]
     },
     "execution_count": 35,
     "metadata": {},
     "output_type": "execute_result"
    },
    {
     "data": {
      "image/png": "[encoded data removed]",
      "text/plain": [
       "<Figure size 432x288 with 1 Axes>"
      ]
     },
     "metadata": {
      "needs_background": "light"
     },
     "output_type": "display_data"
    }
   ],
   "source": [
    "import matplotlib as plt\n",
    "\n",
    "kmf1 = KaplanMeierFitter() ## instantiate the class to create an object\n",
    "\n",
    "## fit the model for 1st cohort\n",
    "kmf1.fit(T[i1], E[i1], label='Standard')\n",
    "print(kmf1.event_table)\n",
    "print(1- kmf1.cumulative_density_)\n",
    "a1 = kmf1.plot()\n",
    "\n",
    "## fit the model for 2nd cohort\n",
    "kmf1.fit(T[i2], E[i2], label='New treatment')\n",
    "print(kmf1.event_table)\n",
    "print(1- kmf1.cumulative_density_)\n",
    "kmf1.plot(ax=a1)"
   ]
  },
  {
   "cell_type": "markdown",
   "metadata": {},
   "source": [
    "표준 치료법의 2년 생존융은 43.1%, 새 치료법의 2년 생존율은 56.4%이다. "
   ]
  },
  {
   "cell_type": "markdown",
   "metadata": {},
   "source": [
    "## Log-rank test"
   ]
  },
  {
   "cell_type": "code",
   "execution_count": 37,
   "metadata": {},
   "outputs": [
    {
     "name": "stdout",
     "output_type": "stream",
     "text": [
      "<lifelines.StatisticalResult>\n",
      "               t_0 = -1\n",
      " null_distribution = chi squared\n",
      "degrees_of_freedom = 1\n",
      "\n",
      "---\n",
      " test_statistic    p  -log2(p)\n",
      "           1.12 0.29      1.78\n"
     ]
    }
   ],
   "source": [
    "from lifelines.statistics import logrank_test\n",
    "\n",
    "results = logrank_test(T[i1], T[i2], event_observed_A=E[i1], event_observed_B=E[i2])\n",
    "results.print_summary()"
   ]
  },
  {
   "cell_type": "markdown",
   "metadata": {},
   "source": [
    "H<sub>0</sub> : 두 군의 생존곡선은 같다.  \n",
    "H<sub>1</sub> : 두 군의 생존곡선은 다르다.  \n",
    "p=0.291 > 0.05 이므로 H<sub>0</sub> 채택  \n",
    "--> 두 군의 생존곡선은 다르다고 말할 수 없다. "
   ]
  }
 ],
 "metadata": {
  "kernelspec": {
   "display_name": "Python 3",
   "language": "python",
   "name": "python3"
  },
  "language_info": {
   "codemirror_mode": {
    "name": "ipython",
    "version": 3
   },
   "file_extension": ".py",
   "mimetype": "text/x-python",
   "name": "python",
   "nbconvert_exporter": "python",
   "pygments_lexer": "ipython3",
   "version": "3.7.3"
  }
 },
 "nbformat": 4,
 "nbformat_minor": 2
}
