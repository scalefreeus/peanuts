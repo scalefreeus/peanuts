{
 "cells": [
  {
   "cell_type": "markdown",
   "metadata": {},
   "source": [
    "# 목차\n",
    "1. [자료구분](#자료구분)\n",
    "1. [가설검정](#가설검정)\n",
    "1. [기본통계](basic_statistics.ipynb)\n",
    "    1. 대표값\n",
    "    1. 정규분포\n",
    "    1. 중심극한정리\n",
    "    1. [스튜던트 t](basic_statistics.ipynb#스튜던트t분포)\n",
    "    1. 정규성검정\n",
    "1. [연속형](numerical.ipynb)\n",
    "1. [범주형](categorical.ipynb)\n",
    "1. [연속형 변수 사이의 선형관계 추정](correlation.ipynb)\n",
    "  1. Pearson의 상관분석\n",
    "  1. Spearman의 순위상관분석\n",
    "1. [회귀분석](regression.ipynb)\n",
    "  1. 단순회귀분석\n",
    "  1. 다중회귀분석\n",
    "  1. 로지스틱 회귀분석\n",
    "1. [생존율의 추정 및 두 군의 생존율 비교](survival.ipynb)\n",
    "  1. Kaplan-Meier 생존분석\n",
    "  1. 로그순위법\n",
    "  1. 생존율에 영향을 미치는 위험인자\n",
    "    1. Cox의 비례위험모형\n",
    "1. [동일 개체에서 반복적으로 측정된 자료 분석](repeated_measures_anova.ipynb)\n",
    "    1. 반복측정 분산분석\n",
    "    1. 자료구조의 변환\n",
    "    1. 선형 혼합모형\n",
    "    1. 일반화 추정 방정식\n",
    "1. [질병의 발생률에 대한 연구](poisson.ipynb)\n",
    "  1. 포아송 분석\n",
    "  1. 포아송 회귀분석\n",
    "1. [구조방정식](structural_equation_modeling.ipynb)"
   ]
  },
  {
   "cell_type": "markdown",
   "metadata": {},
   "source": [
    "# 자료구분\n",
    "## 변수의 정의\n",
    "1. 독립변수 (Dependent variable)  \n",
    "    다른 변수에 영향을 주는 변수로 원인이 됨\n",
    "2. 종속변수 (Independent variable)  \n",
    "    다른 변수에 영향을 받는 변수로 결과가 됨\n",
    "    \n",
    "## 수학적 개념에 의한 변수의 분류\n",
    "1. 연속형 변수 Numerical data\n",
    "    1. 비척도 Ratio Scale  \n",
    "      절대영점 존재, 변수간에 가감승제 모두 가능 예) 신장, 체중, 12살, 13살\n",
    "    1. 간격척도 Interval Scale  \n",
    "        절대영점이 없고 변수간에 가감은 가능, 예) 20, 30 대, 온도\n",
    "      \n",
    "   <i> 데이터 분석에서는 주로 Continuous (Infinite options, Age, weight, blood pressure) , Discrete (Finite options, Shoe size, number of children) 을 많이 사용한다. </i>\n",
    "\n",
    "1. 범주형 변수 Categorical data\n",
    "  1. 명목척도 Nominal Scale  \n",
    "    서열관계 없이 각 항목의 이름으로만 의미, 예) 성별, 혈액형, 인종 등\n",
    "  1. 순위척도 Ordinal Scale  \n",
    "    자료들간에 순서가 존재 예) 반응, 중간반응, 무반응 등\n",
    "\n",
    "변수의 성격은 고정되어 있지 않으며, 필요에 따라 변경해서 사용할 수 있다. 나이는 본질적으로 비척도이지만 10대, 20대, 30대 등으로 구분 시 순위척도이며 미성년, 성년 구분 시에는 명목척도이다. "
   ]
  },
  {
   "cell_type": "markdown",
   "metadata": {},
   "source": [
    "![Alt text](https://g.gravizo.com/svg?\n",
    "  digraph G {\n",
    "    aize =\"4,4\";\n",
    "    변수 [shape=box];\n",
    "    변수 -> \"연속형 변수 Numerical\" [weight=8];\n",
    "    변수 -> \"범주형 변수 Categorical\" [weight=8];\n",
    "    \"범주형 변수 Categorical\" -> \"명목척도 Nominal Scale\" [label=\"서열관계 없음\"];\n",
    "    \"범주형 변수 Categorical\" -> \"순위척도 Ordinal Scale\" [label=\"서열관계 있음\"];\n",
    "    \"연속형 변수 Numerical\" -> \"간격척도 Interval Scale\" [label=\"절대영점 없음\"];\n",
    "    \"연속형 변수 Numerical\" -> \"비척도 Ratio Scale \" [label=\"절대영점 존재\"];\n",
    "  }\n",
    ")"
   ]
  },
  {
   "cell_type": "markdown",
   "metadata": {},
   "source": [
    "<img src='https://g.gravizo.com/svg?\n",
    "  digraph G {\n",
    "    aize =\"4,4\";\n",
    "    변수 [shape=box];\n",
    "    변수 -> \"연속형 변수 Numerical\" [weight=8];\n",
    "    변수 -> \"범주형 변수 Categorical\" [weight=8];\n",
    "    \"범주형 변수 Categorical\" -> \"명목척도 Nominal Scale\" [label=\"서열관계 없음\"];\n",
    "    \"범주형 변수 Categorical\" -> \"순위척도 Ordinal Scale\" [label=\"서열관계 있음\"];\n",
    "    \"연속형 변수 Numerical\" -> \"간격척도 Interval Scale\" [label=\"절대영점 없음\"];\n",
    "    \"연속형 변수 Numerical\" -> \"비척도 Ratio Scale \" [label=\"절대영점 존재\"];\n",
    "  }\n",
    "'/>"
   ]
  },
  {
   "cell_type": "markdown",
   "metadata": {},
   "source": [
    "<table>\n",
    "    <tbody>\n",
    "        <tr>\n",
    "            <td rowspan=\"2\">범주형 자료</td>\n",
    "            <td>명목 척도</td><td>범주</td><td></td><td></td><td></td>\n",
    "            <td>\n",
    "                성별, 혈액형, 치료 반응(유/무)처럼 각 자료를 구분하는 이름과 같다.\n",
    "            </td>\n",
    "        </tr>\n",
    "        <tr>\n",
    "            <td>순위 척도</td><td>범주</td><td>순위</td><td></td><td></td>\n",
    "            <td>\n",
    "                서열은 있지만 간격이 서로 같다고 할 수 없으므로 수량화할 수 없고 평균을 낼 수 없다.\n",
    "            </td>\n",
    "        </tr>\n",
    "        <tr>\n",
    "            <td rowspan=\"2\">연속형 자료</td>\n",
    "            <td>간격 척도</td><td>범주</td><td>순위</td><td>같은 간격</td><td></td>\n",
    "            <td rowspan=\"2\">\n",
    "                수량화할 수 있으며 평균을 낼 수 있다.\n",
    "            </td>\n",
    "        </tr>\n",
    "        <tr>\n",
    "            <td>비 척도</td><td>범주</td><td>순위</td><td>같은 간격</td><td>절대 영점</td>\n",
    "        </tr>\n",
    "    </tbody>\n",
    "</table>"
   ]
  },
  {
   "cell_type": "markdown",
   "metadata": {},
   "source": [
    "# 가설검정\n",
    "## 정의\n",
    "모집단에 대한 어떤 가설을 설정한 뒤에 표본관찰을 통해 가설의 채택 여부를 확률적으로 판정하는 통계적 추론 방법을 가설검정이라고 한다.\n",
    "## 가설의 종류\n",
    "1. 귀무가설(null hypothesis, H<sub>0</sub>)  \n",
    "  연구자가 증명하고자 하는 실험가설과 반대되는 입장, 증명되기 전까지는 효과도 없고 차이도 없다는 **영가설**\n",
    "2. 대립가설(alternative hypothesis, H<sub>1</sub>)  \n",
    "  연구자가 실험을 통해 규명하고자하는 가설\n",
    "  \n",
    "## 일반적인 가설 검정 단계\n",
    "1. 귀무가설 가정  \n",
    "  실험은 효과가 없다는 귀무가설 전제 하에 연구를 시작\n",
    "2. 실험 수행  \n",
    "실험 결과 통계적으로 유의한 결과를 얻음(p < 0.05)\n",
    "3. 결과해석 불가  \n",
    "귀무가설 전제로 이런 결과가 도출될 가능성이 5% 미만임\n",
    "4. 귀무가설 기각  \n",
    "그렇다면 처음에 전제로 가정했던 귀무가설이 틀린 것임\n",
    "5. 대립가설 채택  \n",
    "실제 효과가 있기 때문(대립가설)에 이런 결과가 관찰된 것으로 간주"
   ]
  },
  {
   "cell_type": "markdown",
   "metadata": {},
   "source": [
    "# 5%유의수준\n",
    "\n",
    "|                                   |실제로 효과 없음(귀무가설  참) | 실제로 효과 있음 (귀무가설 거짓)|                 |\n",
    "| ----------------------------------|:-----------------------------:|:-------------------------------:|-----------------|\n",
    "| 실험결과 효과 없음(귀무가설 채택) | 참                            | 오류                            |제2종 오류 (beta)|\n",
    "| 실험결과 효과 있음(귀무가설 기각) | 오류                          | 참                              |                 |\n",
    "|                                   | 제 1종 오류(alpha)            | 검정력 (1 - beta)               |                 |\n",
    "\n",
    "- 제1종 오류(alpha) : 귀무가설이 참인데 귀무가설 기각 시키는 오류\n",
    "- 제2종 오류(beta)  : 귀무가설이 거짓인데 귀무가설 채택하는 오류\n",
    "- 검정력(1-beta) : 귀무가설이 거짓인데 귀무가설 기각시키는 오류"
   ]
  },
  {
   "cell_type": "markdown",
   "metadata": {},
   "source": [
    "# 참고자료\n",
    "- 닥터 배의 술술 보건의학통계  \n",
    "- https://machinelearningmastery.com/statistical-hypothesis-tests/"
   ]
  }
 ],
 "metadata": {
  "kernelspec": {
   "display_name": "Python 3",
   "language": "python",
   "name": "python3"
  },
  "language_info": {
   "codemirror_mode": {
    "name": "ipython",
    "version": 3
   },
   "file_extension": ".py",
   "mimetype": "text/x-python",
   "name": "python",
   "nbconvert_exporter": "python",
   "pygments_lexer": "ipython3",
   "version": "3.6.7"
  }
 },
 "nbformat": 4,
 "nbformat_minor": 2
}
