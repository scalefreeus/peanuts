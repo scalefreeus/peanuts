{
 "cells": [
  {
   "cell_type": "markdown",
   "metadata": {},
   "source": [
    "# 데이터와 표본분포"
   ]
  },
  {
   "cell_type": "code",
   "execution_count": 1,
   "metadata": {},
   "outputs": [],
   "source": [
    "import pandas as pd\n",
    "import numpy as np\n",
    "import scipy.stats as stats\n",
    "from scipy.stats import binom\n",
    "import seaborn as sns\n",
    "import pylab\n",
    "\n",
    "import matplotlib.pyplot as plt\n",
    "\n",
    "%matplotlib inline"
   ]
  },
  {
   "cell_type": "code",
   "execution_count": 4,
   "metadata": {},
   "outputs": [],
   "source": [
    "loans_income = pd.read_csv('data/loans_income.csv')\n",
    "sp500_px = pd.read_csv('data/sp500_px.csv')"
   ]
  },
  {
   "cell_type": "markdown",
   "metadata": {},
   "source": [
    "## 챕터 내용\n",
    "1. 랜던표본추출과 표본편향\n",
    "    1. 편향\n",
    "    1. 랜덤 선택\n",
    "1. 선택 편향\n",
    "    1. 평균으로의 회귀\n",
    "1. 통계학에서의 표본분포\n",
    "    1. 중심극한정리\n",
    "    1. 표준오차\n",
    "1. 부트스트랩\n",
    "    1. 재표본추출 대 부트스트래핑\n",
    "1. 신뢰구간\n",
    "1. 정규분포 와 QQ 그림\n",
    "1. 긴 꼬리 분포\n",
    "1. 스튜던트의 t 분포\n",
    "1. 이항분포\n",
    "1. 푸아송 분포\n",
    "    1. 푸아송 지수분포\n",
    "    1. 고장률 추정\n",
    "    1. 베이불 분포"
   ]
  },
  {
   "cell_type": "markdown",
   "metadata": {},
   "source": [
    "## 챕터 노트\n",
    "빅데이터 시대가 되면서 더는 표본추출이 필요 없을 거라고 오해하지만 데이터의 질과 적합성을 일정 수준 이상으로 담보할 수도 없으면서 데이터 크기만 늘어나고 있다. 이런 상황에서 오히려 다양한 데이터를 효과적으로 다루고 데이터 편향을 최소화하기 위한 방법으로 표본추출의 필요성이 더 커지고 있다. 아무리 빅데이터 프로젝트라고 해도, 결국 작은 표본(샘플) 데이터를 가지고 예측 모델을 개발하고 테스트한다. "
   ]
  },
  {
   "cell_type": "markdown",
   "metadata": {},
   "source": [
    "## 1. 랜던표본추출과 표본편향\n",
    "표본(Sample)은 더 큰 데이터 집합으로부터 얻은 데이터의 부분집합이다. 통계학자들은 이 큰 데이터 집합을 모집단(Population)이라고 부른다.\n",
    "\n",
    "층화표집(층화표본추출) Stratified sampling : 모집단을 층(strata)으로 나눈 뒤, 각 층에서 무작위로 표본을 추출하는 것\n",
    "\n",
    "층(strata)이란?  \n",
    "- Stratification은 표본을 추출하기 전에 모집단의 멤버들을 동종의 부분그룹으로 나누는 절차이다.\n",
    "- 층(strata)는 상호 배제적(mutually exclusive)이어야 한다. : 모집단의 모든 원소들은 오직 한 stratum에만 할당 되어야 한다.\n",
    "- 층(strata)는 전체포괄적(collectively exhaustive)이어야 한다. : 단하나의 모집단 원소도 배제되어서는 안된다.\n",
    "\n",
    "표본편향이란?  \n",
    "- 모집단을 잘못 대표하는 표본\n",
    "\n",
    "통계적 편향은 측정 과정 혹은 표본추출 과정에서 발생하는 계통적인(systematic) 오차를 의미한다.\n",
    "\n",
    "랜던표본추출이 중요한 이유\n",
    "- 랜덤표본추출은 대상이 되는 모집단 내의 선택 가능한 원소들을 무작위로 추출하는 과정을 말하면 각 추첨에서 모든 원소는 동일한 확률로 뽑히게 된다.\n",
    "- 샘플 기반의 추정이나 모델링에서 데이터 품질(Data Quality)는 데이터 양(Data Quantity)보다 더욱 중요하다.\n",
    "- 리터러리 다이제스트의 1936년 설문 조사는 아주 고전적인 사례이다.\n",
    "- 그당시 많은 미국인 들은 리터러리 다이제스트를 살 돈이 없었다.\n",
    "- 리터러리 다이제스트는 알프레드 랜던이 프랭클링 루스벨트를 제치고 대선에 승리하리라 예언했는데 결과는 반대였다.\n",
    "- 뭐가 잘못되었을까?\n",
    "    - 리터러리 다이제스트를 구독했던 대부분의 사람들은 일반 대중보다 상대적으로 사회 경제적 지위가 높은 사람들이었다.\n",
    "    - 원래 대표되도록 의도된 모집단으로부터 추출되지 않고 유의미한 비임의 방식(nonrandom)으로 표본이 추출된 소위 표본편향(Sample Bias)가 발생한 것이다.\n",
    "    - 비임의(nonrandom)라는 용어는 아주 중요하다. 아무리 랜덤표본이라고 해도, 어떤 표본도 모집단을 정확하게 대표할 수 없다는 것을 의미한다.\n",
    "    - 표본편향은 모집단과 표본 사이의 차이가 유의미할 만큼 크고, 첫 번째 표본과 동일한 방식으로 추철된 다른 샘플들에서도 이 차이가 계속될 것으로 예상될 때 발생한다."
   ]
  },
  {
   "cell_type": "markdown",
   "metadata": {},
   "source": [
    "## 2. 선택편향\n",
    "선택 편향은 데이터를 의식적이든 무의식적이든 선택적으로 고르는 관행을 의미한다. 결국 오해의 소지가 있거나 단편적인 결론을 얻게된다.  \n",
    "방대한 검색 효과(vast search effect)란?\n",
    "- 큰 데이터 집합을 가지고 반복적으로 다른 모델을 만들고 다른 질문을 하다보면, 언젠가 흥미로운 것을 발견하기 마련이다.\n",
    "\n",
    "평균으로의 회귀 (Regression to the Mean)란 주어진 어떤 변수를 연속적으로 측정했을 때 나타나는 현상이다. 예외적인 경우가 관찰되면 그다음에는 중간 정도의 경우가 관찰되는 경향이 있다. 따라서 예외 경우를 너무 특별히 생각하고 의미를 부여하는 것은 선택 편향으로 이어질 수 있다. "
   ]
  },
  {
   "cell_type": "markdown",
   "metadata": {},
   "source": [
    "## 3. 통계학에서의 표본분포\n",
    "통계의 표본분포(Sampling Distribution)라는 용어는 하나의 동일한 모집단에서 얻은 여러 샘플에 대한 표본통계량의 분포를 나타낸다. 고전 통계의 대부분은 (작은) 표본을 가지고 (매우 큰) 모집단을 추론하는 것과 관련이 있다.  \n",
    "평균과 같은 표본통계량(sample statistics)의 분포는 데이터 자체의 분포보다 규칙적이고 종 모양일 가능성이 높다. 통계의 기반이 되는 표본이 클수록, 그럴 가능성이 높은 것은 사실이다. 또한 표본이 클수록 표본통계량의 분포가 좁아진다."
   ]
  },
  {
   "cell_type": "code",
   "execution_count": 7,
   "metadata": {},
   "outputs": [
    {
     "data": {
      "image/png": "[encoded data removed]",
      "text/plain": [
       "<Figure size 720x720 with 4 Axes>"
      ]
     },
     "metadata": {
      "needs_background": "light"
     },
     "output_type": "display_data"
    }
   ],
   "source": [
    "# Calculating a rolling mean:\n",
    "\n",
    "# Take a 1000 samples\n",
    "samples = loans_income.sample(n=1000)\n",
    "\n",
    "# mean of 5 numbers\n",
    "sample_mean_5 = samples.rolling(5).mean().x\n",
    "sample_mean_5 = sample_mean_5.dropna()\n",
    "\n",
    "# mean of 20 numbers\n",
    "sample_mean_20 = samples.rolling(20).mean().x\n",
    "sample_mean_20 = sample_mean_20.dropna()\n",
    "\n",
    "# mean of 30 numbers\n",
    "sample_mean_30 = samples.rolling(30).mean().x\n",
    "sample_mean_30 = sample_mean_30.dropna()\n",
    "\n",
    "fig = plt.figure(figsize=(10,10))\n",
    "\n",
    "# the full distribution of the plot:\n",
    "ax = fig.add_subplot(2,2,1)\n",
    "ax.hist(loans_income.x, bins=40)\n",
    "plt.title('Full Plot of the whole DATAFRAME')\n",
    "\n",
    "# distribution of 1000 samples:\n",
    "ax = fig.add_subplot(2,2,2)\n",
    "ax.hist(samples.x, bins=40)\n",
    "plt.title('Full Plot of the 1000 samples')\n",
    "\n",
    "# distribution of mean of 5 numbers from 1000 samples\n",
    "ax = fig.add_subplot(2,2,3)\n",
    "ax.hist(sample_mean_5, bins=40)\n",
    "plt.title('Plot of Rolling Mean 5 of the 1000 samples')\n",
    "\n",
    "# distribution of means of 20 numbers from 1000 samples\n",
    "ax = fig.add_subplot(2,2,4)\n",
    "ax.hist(sample_mean_20, bins=40, label='Mean of 20')\n",
    "ax.hist(sample_mean_30, bins=40, label='Mean of 30')\n",
    "plt.title('Plot of Rolling Mean 20 and 30 of the 1000 samples')\n",
    "ax.legend()\n",
    "plt.show()"
   ]
  },
  {
   "cell_type": "markdown",
   "metadata": {},
   "source": [
    "### 중심극한정리\n",
    "중심극한정리(CLT, Central Limit Theorem)은 모집단이 정규분포가 아니더라도, 표본크기가 충분하고 데이터가 정규성을 크게 이탈하지 않는 경우, 여러 표본에서 추출한 평균은 종 모양의 정규곡선을 따르는 현상을 말한다. 중심극한정리 덕분에 추론을 위한 표본분포에 즉 신뢰구간이나 가설검정을 계산하는데에 t분포 같은 정규근사 공식을 사용할 수 있다.  \n",
    "\n",
    "### 표준오차\n",
    "표준오차(SE, Standard Error)는 통계에 대한 표본분포(Sampling distribution)의 변동성을 한마디로 말해주는 단일 측정 지표이다.\n",
    "- StandardError(SE) = s/sqrt(n)\n",
    "    - s = 표준편차(standard devication)\n",
    "    - n = 표본크기(number of samples)\n",
    "- 표본크기가 커지면 표준오차가 줄어든다. 표준오차와 표본크기 사이의 관계를 때로는 n 제곱근의 법칙(square-root of n rule)이라고 한다."
   ]
  },
  {
   "cell_type": "markdown",
   "metadata": {},
   "source": [
    "## 4. 부트스트랩\n",
    "통계량이나 모델 파라미터(모수)의 표본분포를 추정하는 쉽고 효과적인 방법은, 현재 있는 표본에서 추가적으로 표본을 복원추출하고 각 표본에 대한 통계량과 모델을 다시 계산하는 것이다. 이러한 절차를 부트스트랩(bootstrap)이라 하며, 데이터나 표본통계량이 정규분포를 따라야 한다는 가정은 꼭 필요하지 않다.\n",
    "\n",
    "- 부트스트랩 표본(bootstrap sample) : 관측 데이터 집합으로부터 얻은 복원추출 표본\n",
    "- 재표집(재표본추출, 리샘플링) resampling : 관측 데이터로부터 반복해서 표본 추출하는 과정, 부트스크랩과 순열permutation(셔플링, shuffling) 과정을 포함한다."
   ]
  },
  {
   "cell_type": "markdown",
   "metadata": {},
   "source": [
    "**Population stats**"
   ]
  },
  {
   "cell_type": "code",
   "execution_count": 10,
   "metadata": {},
   "outputs": [
    {
     "name": "stdout",
     "output_type": "stream",
     "text": [
      "Total Population STD :  32872.035369850266\n",
      "Total Population Mean :  68760.51844\n",
      "Total Population Median :  62000.0\n",
      "Total Population Standard Error :  147.00821129152527\n"
     ]
    }
   ],
   "source": [
    "print('Total Population STD : ', loans_income.x.std())\n",
    "print('Total Population Mean : ', loans_income.x.mean())\n",
    "print('Total Population Median : ', np.median(loans_income.x))\n",
    "print('Total Population Standard Error : ', stats.sem(loans_income.x, ddof=1))"
   ]
  },
  {
   "cell_type": "markdown",
   "metadata": {},
   "source": [
    "**Bootstrapping for 1000, 10000, 20000 Samples**"
   ]
  },
  {
   "cell_type": "code",
   "execution_count": 12,
   "metadata": {},
   "outputs": [
    {
     "data": {
      "text/plain": [
       "3"
      ]
     },
     "execution_count": 12,
     "metadata": {},
     "output_type": "execute_result"
    }
   ],
   "source": [
    "bootstrap_1000 = np.random.choice(loans_income.x, size=1000, replace=True)\n",
    "bootstrap_10000 = np.random.choice(loans_income.x, size=10000, replace=True)\n",
    "bootstrap_20000 = np.random.choice(loans_income.x, size=20000, replace=True)\n",
    "arr_bootstraps = [bootstrap_1000, bootstrap_10000, bootstrap_20000]\n",
    "len(arr_bootstraps)"
   ]
  },
  {
   "cell_type": "code",
   "execution_count": 15,
   "metadata": {},
   "outputs": [
    {
     "name": "stdout",
     "output_type": "stream",
     "text": [
      "Bootstrap Stats for 1000 examples \n",
      "\n",
      "------------------------------------------------------------------\n",
      "\n",
      "Bootstrap STD :  34169.57354142686\n",
      "Bootstrap Mean :  69728.045\n",
      "Bootstrap Median :  64000.0\n",
      "Bootstrap Bias :  -967.5265599999984\n",
      "Standard Error :  1080.5367906753468\n",
      "\n",
      "-----------------------------------------------------------------\n",
      "\n",
      "Bootstrap Stats for 10000 examples \n",
      "\n",
      "------------------------------------------------------------------\n",
      "\n",
      "Bootstrap STD :  32590.145898175582\n",
      "Bootstrap Mean :  68579.5663\n",
      "Bootstrap Median :  62000.0\n",
      "Bootstrap Bias :  180.95213999999396\n",
      "Standard Error :  325.9014589817558\n",
      "\n",
      "-----------------------------------------------------------------\n",
      "\n",
      "Bootstrap Stats for 20000 examples \n",
      "\n",
      "------------------------------------------------------------------\n",
      "\n",
      "Bootstrap STD :  33173.36177825468\n",
      "Bootstrap Mean :  68777.75635\n",
      "Bootstrap Median :  62000.0\n",
      "Bootstrap Bias :  -17.23790999999619\n",
      "Standard Error :  234.5710906815851\n",
      "\n",
      "-----------------------------------------------------------------\n",
      "\n"
     ]
    }
   ],
   "source": [
    "for i in range(len(arr_bootstraps)):\n",
    "    print('Bootstrap Stats for {} examples \\n'.format(len(arr_bootstraps[i])))\n",
    "    print('------------------------------------------------------------------\\n')\n",
    "    print('Bootstrap STD : ', np.std(arr_bootstraps[i], ddof=1))\n",
    "    print('Bootstrap Mean : ', np.mean(arr_bootstraps[i]))\n",
    "    print('Bootstrap Median : ', np.median(arr_bootstraps[i]))\n",
    "    print('Bootstrap Bias : ', loans_income.x.mean() - np.mean(arr_bootstraps[i], axis=0))\n",
    "    print('Standard Error : ', stats.sem(arr_bootstraps[i], ddof=1))\n",
    "    print('\\n-----------------------------------------------------------------\\n')"
   ]
  },
  {
   "cell_type": "markdown",
   "metadata": {},
   "source": [
    "부트스트래핑은 의사 결정 트리(Decision Tree)의 효율을 높이기 위해 사용된다. 부트스트래핑으로 효율화한 의사 결정를 Random Forest라고 부른다.  \n",
    "배깅(Bagging)은 여러 분류 및 회귀 트리를 만들고 예측값을 평균 내는 것을 말한다. 일반적으로 단일 트리를 사용하는 것보다 이 방식이 더 효율적이다. "
   ]
  },
  {
   "cell_type": "markdown",
   "metadata": {},
   "source": [
    "## 5. 신뢰구간 \n",
    "신뢰수준 (Confidence level) : 같은 모집단으로부터 같은 방식으로 얻은, 관심 통계량을 포함할 것으로 예상되는 신뢰구간의 백분율\n",
    "\n",
    "표본크기 n과 관심 있는 표본통계량이 주어졌을 때, 부트스트랩 신뢰구간을 구하는 법은 다음과 같다.\n",
    "1. 데이터에서 복원추출 방식으로 크기 n인 표본을 뽑는다. (재표본추출)\n",
    "1. 재표본추출한 표본에 대해 원하는 통계량을 기록한다.\n",
    "1. 1 ~ 2 단계를 R번 반복한다.\n",
    "1. x% 신뢰구간을 구하기 위해, R개의 재포본 결과로부터 분포의 양쪽 끝에서 [ (100 - x ) / 2]% 만큼 잘라낸다.\n",
    "1. 절단한 점들은 x% 부트스트랩 신뢰구간의 양 끝점이다. "
   ]
  },
  {
   "cell_type": "code",
   "execution_count": 118,
   "metadata": {},
   "outputs": [],
   "source": [
    "n = 20\n",
    "R = 1000\n",
    "samples = loans_income.sample(n=100)\n",
    "sampling_distribution = []\n",
    "for i in range(R):\n",
    "    bootstrap = np.random.choice(samples.x, size=n, replace=True)\n",
    "    sampling_distribution.append(bootstrap.mean())"
   ]
  },
  {
   "cell_type": "code",
   "execution_count": 119,
   "metadata": {},
   "outputs": [
    {
     "data": {
      "image/png": "[encoded data removed]",
      "text/plain": [
       "<Figure size 432x288 with 1 Axes>"
      ]
     },
     "metadata": {
      "needs_background": "light"
     },
     "output_type": "display_data"
    }
   ],
   "source": [
    "plt.hist(sampling_distribution, bins=40)\n",
    "plt.show()"
   ]
  },
  {
   "cell_type": "code",
   "execution_count": 120,
   "metadata": {},
   "outputs": [
    {
     "name": "stdout",
     "output_type": "stream",
     "text": [
      "65436.25565\n",
      "54779.025\n",
      "77147.15\n"
     ]
    }
   ],
   "source": [
    "x = 90\n",
    "print(np.mean(sampling_distribution))\n",
    "print(np.percentile(sampling_distribution,(100 - 90) / 2))\n",
    "print(np.percentile(sampling_distribution,100- (100 - 90) / 2))"
   ]
  },
  {
   "cell_type": "code",
   "execution_count": 112,
   "metadata": {},
   "outputs": [
    {
     "name": "stdout",
     "output_type": "stream",
     "text": [
      "(62610.15, 57334.12788486649, 67886.17211513351)\n"
     ]
    }
   ],
   "source": [
    "def mean_confidence_interval(data, confidence=0.95):\n",
    "    a = 1.0 * np.array(data)\n",
    "    n = len(a)\n",
    "    m, se = np.mean(a), stats.sem(a)\n",
    "    h = se * stats.t.ppf((1 + confidence) / 2., n-1)\n",
    "    return  m, m-h, m+h\n",
    "\n",
    "print(mean_confidence_interval(samples.x, 0.90))"
   ]
  },
  {
   "cell_type": "code",
   "execution_count": 113,
   "metadata": {},
   "outputs": [
    {
     "data": {
      "text/plain": [
       "(array([57334.12788487]), array([67886.17211513]))"
      ]
     },
     "execution_count": 113,
     "metadata": {},
     "output_type": "execute_result"
    }
   ],
   "source": [
    "stats.t.interval(0.90, len(samples)-1, loc=np.mean(samples), scale=stats.sem(samples))"
   ]
  },
  {
   "cell_type": "markdown",
   "metadata": {},
   "source": [
    "## 6. 표준정규분포\n",
    "데이터를 표준화(Standardization)한다는 것은 무엇인가? 도는 정규화(normalization)이라고도 한다.\n",
    "- 데이터에서 평균을 뺀 다음 표준편차로 나눈 것을 의미한다.\n",
    "\n",
    "표준정규분포란?\n",
    "- 평균이 0, 표준편차가 1인 정규분포"
   ]
  },
  {
   "cell_type": "code",
   "execution_count": 98,
   "metadata": {},
   "outputs": [
    {
     "data": {
      "image/png": "[encoded data removed]",
      "text/plain": [
       "<Figure size 432x288 with 1 Axes>"
      ]
     },
     "metadata": {
      "needs_background": "light"
     },
     "output_type": "display_data"
    }
   ],
   "source": [
    "mu, sigma = 0, 1\n",
    "s = np.random.normal(mu, sigma, 100)\n",
    "stats.probplot(s, dist='norm', plot=plt)\n",
    "plt.show()"
   ]
  },
  {
   "cell_type": "markdown",
   "metadata": {},
   "source": [
    "## 7. 긴 꼬리 분포와 QQ 그림\n",
    "긴 꼬리 분포란?\n",
    "- 긴 꼬리 분포는 적은 수의 극단값이 존재하는 분포이다.\n",
    "- 다른 것보다 한쪽 꼬리(tail)가 길 때 skewed되었다고 말한다.\n",
    "\n",
    "QQ 그림 (QQ Plot)이란?\n",
    "- 표본이 정규분포에 얼마나 가까운지를 시각적으로 판변하는 데 사용한다."
   ]
  },
  {
   "cell_type": "code",
   "execution_count": 104,
   "metadata": {},
   "outputs": [
    {
     "data": {
      "image/png": "[encoded data removed]",
      "text/plain": [
       "<Figure size 432x288 with 1 Axes>"
      ]
     },
     "metadata": {
      "needs_background": "light"
     },
     "output_type": "display_data"
    }
   ],
   "source": [
    "nflx = sp500_px.loc[:,'NFLX']\n",
    "treated_nflx = np.diff(np.log(nflx[nflx>0]))\n",
    "stats.probplot(treated_nflx, dist='norm', plot=plt, fit=True)\n",
    "plt.show()"
   ]
  },
  {
   "cell_type": "markdown",
   "metadata": {},
   "source": [
    "## 8. 스튜던트의 t 분포\n",
    "t 분포(t-distribution)는 정규분포와 생김새가 비슷하지만, 꼬리 부분이 약간 더 두껍고 길다. 이것은 표본통계량의 분포를 설명하는 데 광범위하게 사용된다. 표본평균의 분포는 일반적으로 t 분포와 같은 모양이며, 표본크기에 따라 다른 계열의 t분포가 있다. 표본이 클수록 더 정규분포를 닮은 t 분포가 형성된다. "
   ]
  },
  {
   "cell_type": "code",
   "execution_count": 121,
   "metadata": {},
   "outputs": [
    {
     "data": {
      "image/png": "[encoded data removed]",
      "text/plain": [
       "<Figure size 432x288 with 1 Axes>"
      ]
     },
     "metadata": {
      "needs_background": "light"
     },
     "output_type": "display_data"
    }
   ],
   "source": [
    "from scipy.stats import t\n",
    "import matplotlib.pyplot as plt\n",
    "import numpy as np\n",
    "\n",
    "def plot_t_distribution(df=1, color='r-'):\n",
    "    x= np.linspace(t.ppf(0.01, df), t.ppf(0.99,df), 100)\n",
    "    plt.plot(x, t.pdf(x, df), color, lw=2, alpha=0.6, label=\"df = {}\".format(df))\n",
    "    plt.legend()\n",
    "plot_t_distribution()\n",
    "plot_t_distribution(2,'b')\n",
    "plot_t_distribution(30, 'g')\n",
    "plt.show()"
   ]
  },
  {
   "cell_type": "markdown",
   "metadata": {},
   "source": [
    "## 9. 이항분포\n",
    "- 이항식(binomial) : 두 가지 결과를 갖는다. (유의어: 예/아니오, 0/1 : 이진)\n",
    "- 이항시행(binomial trial) : 두 가지 결과를 가져오는 시행 (유의어: 베르누이 시행)\n",
    "- 이항분포(binomial distribution) : x번 시행에서 성공한 횟수에 대한 분포 (유의어: 베르누이 분포)"
   ]
  },
  {
   "cell_type": "code",
   "execution_count": 105,
   "metadata": {},
   "outputs": [],
   "source": [
    "n, p = 10, .5 # number of trials, probability of each trial\n",
    "s = np.random.binomial(n, p, 1000)  # result of flipping a coin 10 times, tested 1000 times"
   ]
  },
  {
   "cell_type": "code",
   "execution_count": 108,
   "metadata": {},
   "outputs": [
    {
     "data": {
      "image/png": "[encoded data removed]",
      "text/plain": [
       "<Figure size 432x288 with 1 Axes>"
      ]
     },
     "metadata": {
      "needs_background": "light"
     },
     "output_type": "display_data"
    }
   ],
   "source": [
    "plt.hist(s)\n",
    "plt.show()"
   ]
  },
  {
   "cell_type": "code",
   "execution_count": 130,
   "metadata": {},
   "outputs": [
    {
     "data": {
      "text/plain": [
       "[Text(0, 0.5, 'Frequency'), Text(0.5, 0, 'Binomial Distribution')]"
      ]
     },
     "execution_count": 130,
     "metadata": {},
     "output_type": "execute_result"
    },
    {
     "data": {
      "image/png": "[encoded data removed]",
      "text/plain": [
       "<Figure size 432x288 with 1 Axes>"
      ]
     },
     "metadata": {
      "needs_background": "light"
     },
     "output_type": "display_data"
    }
   ],
   "source": [
    "from scipy.stats import binom\n",
    "data_binom = binom.rvs(n=10, p=0.8, size=1000)\n",
    "\n",
    "ax = sns.distplot(data_binom,\n",
    "                 kde=False,\n",
    "                 color='skyblue',\n",
    "                 hist_kws={'linewidth': 15, 'alpha': 1})\n",
    "ax.set(xlabel='Binomial Distribution', ylabel='Frequency')"
   ]
  },
  {
   "cell_type": "markdown",
   "metadata": {},
   "source": [
    "성공확률 즉 p값이 0.5보다 크기 때문에 오른쪽으로 기울어진 (left skewed) 분포를 보인다. "
   ]
  },
  {
   "cell_type": "markdown",
   "metadata": {},
   "source": [
    "poisson distribution is a limiting case of a binomial distribution under the following conditions:\n",
    "\n",
    "1. The number of trials is indefinitely large or n→∞.\n",
    "1. The probability of success for each trial is same and indefinitely small or p→0.\n",
    "1. np=λ, is finite.\n",
    "\n",
    "Normal distribution is another limiting form of binomial distribution under the following conditions:\n",
    "\n",
    "1. The number of trials is indefinitely large, n→∞.\n",
    "1. Both p and q are not indefinitely small."
   ]
  },
  {
   "cell_type": "markdown",
   "metadata": {},
   "source": [
    "**Bernoulli Distribution**\n",
    "\n",
    "A Bernoulli distribution has only two possible outcomes, namely 1 (success) and 0 (failure), and a single trial, for example, a coin toss.  \n",
    "So the random variable X which has a Bernoulli distribution can take value 1 with the probability of success, p, and the value 0 with the probability of failure, q or 1−p. The probabilities of success and failure need not be equally likely. The Bernoulli distribution is a special case of the binomial distribution where a single trial is conducted (n=1). \n",
    "\n"
   ]
  },
  {
   "cell_type": "code",
   "execution_count": 132,
   "metadata": {},
   "outputs": [
    {
     "data": {
      "text/plain": [
       "[Text(0, 0.5, 'Frequency'), Text(0.5, 0, 'Bernoulli Distribution')]"
      ]
     },
     "execution_count": 132,
     "metadata": {},
     "output_type": "execute_result"
    },
    {
     "data": {
      "image/png": "[encoded data removed]",
      "text/plain": [
       "<Figure size 432x288 with 1 Axes>"
      ]
     },
     "metadata": {
      "needs_background": "light"
     },
     "output_type": "display_data"
    }
   ],
   "source": [
    "from scipy.stats import bernoulli\n",
    "data_bern = bernoulli.rvs(size=10000,p=0.6)\n",
    "\n",
    "ax= sns.distplot(data_bern,\n",
    "                 kde=False,\n",
    "                 color=\"skyblue\",\n",
    "                 hist_kws={\"linewidth\": 15,'alpha':1})\n",
    "ax.set(xlabel='Bernoulli Distribution', ylabel='Frequency')"
   ]
  },
  {
   "cell_type": "markdown",
   "metadata": {},
   "source": [
    "## 10. 푸아송 분포"
   ]
  },
  {
   "cell_type": "code",
   "execution_count": 137,
   "metadata": {},
   "outputs": [
    {
     "data": {
      "image/png": "[encoded data removed]",
      "text/plain": [
       "<Figure size 432x288 with 1 Axes>"
      ]
     },
     "metadata": {
      "needs_background": "light"
     },
     "output_type": "display_data"
    }
   ],
   "source": [
    "s = np.random.poisson(2, 10000)\n",
    "plt.hist(s, 30, density=True)\n",
    "plt.show()"
   ]
  },
  {
   "cell_type": "code",
   "execution_count": 134,
   "metadata": {},
   "outputs": [],
   "source": [
    "from scipy.stats import poisson\n",
    "data_poisson = poisson.rvs(mu=2, size=10000)"
   ]
  },
  {
   "cell_type": "code",
   "execution_count": 138,
   "metadata": {},
   "outputs": [
    {
     "data": {
      "text/plain": [
       "[Text(0, 0.5, 'Frequency'), Text(0.5, 0, 'Poisson Distribution')]"
      ]
     },
     "execution_count": 138,
     "metadata": {},
     "output_type": "execute_result"
    },
    {
     "data": {
      "image/png": "[encoded data removed]",
      "text/plain": [
       "<Figure size 432x288 with 1 Axes>"
      ]
     },
     "metadata": {
      "needs_background": "light"
     },
     "output_type": "display_data"
    }
   ],
   "source": [
    "ax = sns.distplot(data_poisson,\n",
    "                  bins=30,\n",
    "                  kde=False,\n",
    "                  color='skyblue',\n",
    "                  hist_kws={\"linewidth\": 15,'alpha':1})\n",
    "ax.set(xlabel='Poisson Distribution', ylabel='Frequency')"
   ]
  }
 ],
 "metadata": {
  "kernelspec": {
   "display_name": "Python 3",
   "language": "python",
   "name": "python3"
  },
  "language_info": {
   "codemirror_mode": {
    "name": "ipython",
    "version": 3
   },
   "file_extension": ".py",
   "mimetype": "text/x-python",
   "name": "python",
   "nbconvert_exporter": "python",
   "pygments_lexer": "ipython3",
   "version": "3.7.3"
  }
 },
 "nbformat": 4,
 "nbformat_minor": 4
}
