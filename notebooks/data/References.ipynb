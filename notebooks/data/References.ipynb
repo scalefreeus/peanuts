{
 "cells": [
  {
   "cell_type": "markdown",
   "metadata": {},
   "source": [
    "# Transforming skewed data\n",
    "http://seismo.berkeley.edu/~kirchner/eps_120/Toolkits/Toolkit_03.pdf\n",
    "\n",
    "## Ladder of powers\n",
    "<pre>\n",
    " θ transformation\n",
    " 3 x3 cube\n",
    " 2 x2 square\n",
    " 1 x1 identity (no transformation)\n",
    " 1/2 x0.5 square root\n",
    " 1/3 x1/3 cube root\n",
    " 0 log(x) logarithmic (holds the place of zero)\n",
    " -1/2 -1/x0.5 reciprocal root\n",
    " -1 -1/x reciprocal\n",
    " -2 -1/x2 reciprocal square \n",
    "</pre>\n",
    "- original, untransfored data theta=1\n",
    "- right-skewed move down\n",
    "- left-skewed move up"
   ]
  }
 ],
 "metadata": {
  "kernelspec": {
   "display_name": "Python 3",
   "language": "python",
   "name": "python3"
  },
  "language_info": {
   "codemirror_mode": {
    "name": "ipython",
    "version": 3
   },
   "file_extension": ".py",
   "mimetype": "text/x-python",
   "name": "python",
   "nbconvert_exporter": "python",
   "pygments_lexer": "ipython3",
   "version": "3.7.3"
  }
 },
 "nbformat": 4,
 "nbformat_minor": 4
}
