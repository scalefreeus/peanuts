{
 "cells": [
  {
   "cell_type": "markdown",
   "metadata": {},
   "source": [
    "# 두 변수 사이의 상관 관계 분석\n",
    "\n",
    "상관분석\n",
    "1. 모수적 : 두 연속형 변수, 적어도 하나는 정규분포\n",
    "  1. Pearson의 상관분석\n",
    "1. 비모수적 : 정규성 만족 못하는 두 연속형 변수 혹은 순위변수\n",
    "  1. Spearman의 상관분석\n",
    "  1. Kendall's tau-b"
   ]
  },
  {
   "cell_type": "markdown",
   "metadata": {},
   "source": [
    "# Pearson의 상관분석\n",
    "- Pearson의 상관계수 r은 -1에서 1사이의 값을 가지며\n",
    "- 양수는 양의 상관관계, 음수는 음의 상관관계를 의미한다.\n",
    "- 상관계수 r이 1에 가까울수록 두 변수의 상관관계는 직선에 가깝고 \n",
    "- 상관계수 r이 -1에 가까울수록 완전한 역상관 관계에 가까워진다. \n",
    "- 상관계수 r이 0에 가까운 값을 가진다면 두 변수의 관계는 전혀 선형적이지 못하다. \n",
    "\n",
    "** 설명력 r<sup>2</sup>**  \n",
    "설명력은 상관계수(r)의 제곱으로 표현되며 두 변수 사이에 선형관계의 정도를 설명한다.  \n",
    "두 변수 사이의 상관계수(r)가  \n",
    "- 0.9라면 81% 만큼 설명이 가능\n",
    "- 0.4라면 16% 만큼 설명이 가능\n",
    "- -0.4라면 둘의 관계는 역의 관계이지만 16% 만큼 설명이 가능\n",
    "- 0.0라면 두 변수는 서로 완전한 독립관계로 서로 전혀 설명하지 못함\n",
    "\n",
    "상관계수(r) 1 혹은 -1 인 경우 두 변수는 완전한 선형의 관계를 갖기 때문에 한 변수를 알아 다른 변수값을 100% 정확하게 예측 가능하다. \n",
    "\n",
    "## 상관분석의 가설검정\n",
    "귀무가설 H<sub>0</sub> : 두 변수는 선형의 상관관계가 없다(r=0)  \n",
    "대립가설 H<sub>1</sub> : 두 변수는 선형의 상관관계가 있다(r!=0)\n",
    "\n",
    "상관분석은 두 변수의 선형 관계의 분석일 뿐 인과관계를 의미하지 않는다. 예를 들어 체중과 혈압이 상관관계를 보인다고 해서 혈압이 높기 때문에 체중이 높다고 해석할 수도 없고, 역으로 체중이 높기 때문에 혈압이 높다고 말할 수도 없다. \n"
   ]
  },
  {
   "cell_type": "markdown",
   "metadata": {},
   "source": [
    "**가정**\n",
    "\n",
    "- Observations in each sample are independent and identically distributed (iid).\n",
    "- Observations in each sample are normally distributed.\n",
    "- Observations in each sample have the same variance.\n"
   ]
  },
  {
   "cell_type": "code",
   "execution_count": 1,
   "metadata": {},
   "outputs": [
    {
     "data": {
      "text/html": [
       "<div>\n",
       "<style scoped>\n",
       "    .dataframe tbody tr th:only-of-type {\n",
       "        vertical-align: middle;\n",
       "    }\n",
       "\n",
       "    .dataframe tbody tr th {\n",
       "        vertical-align: top;\n",
       "    }\n",
       "\n",
       "    .dataframe thead th {\n",
       "        text-align: right;\n",
       "    }\n",
       "</style>\n",
       "<table border=\"1\" class=\"dataframe\">\n",
       "  <thead>\n",
       "    <tr style=\"text-align: right;\">\n",
       "      <th></th>\n",
       "      <th>age</th>\n",
       "      <th>height</th>\n",
       "      <th>weight</th>\n",
       "      <th>waistline</th>\n",
       "      <th>BMI</th>\n",
       "      <th>SBP</th>\n",
       "    </tr>\n",
       "  </thead>\n",
       "  <tbody>\n",
       "    <tr>\n",
       "      <th>0</th>\n",
       "      <td>57</td>\n",
       "      <td>164.0</td>\n",
       "      <td>62.0</td>\n",
       "      <td>85.0</td>\n",
       "      <td>23.1</td>\n",
       "      <td>147</td>\n",
       "    </tr>\n",
       "    <tr>\n",
       "      <th>1</th>\n",
       "      <td>25</td>\n",
       "      <td>172.0</td>\n",
       "      <td>54.0</td>\n",
       "      <td>65.0</td>\n",
       "      <td>18.3</td>\n",
       "      <td>116</td>\n",
       "    </tr>\n",
       "    <tr>\n",
       "      <th>2</th>\n",
       "      <td>57</td>\n",
       "      <td>157.0</td>\n",
       "      <td>59.0</td>\n",
       "      <td>83.0</td>\n",
       "      <td>23.9</td>\n",
       "      <td>122</td>\n",
       "    </tr>\n",
       "    <tr>\n",
       "      <th>3</th>\n",
       "      <td>43</td>\n",
       "      <td>170.0</td>\n",
       "      <td>87.8</td>\n",
       "      <td>104.0</td>\n",
       "      <td>30.4</td>\n",
       "      <td>130</td>\n",
       "    </tr>\n",
       "    <tr>\n",
       "      <th>4</th>\n",
       "      <td>52</td>\n",
       "      <td>155.0</td>\n",
       "      <td>50.0</td>\n",
       "      <td>83.0</td>\n",
       "      <td>20.8</td>\n",
       "      <td>120</td>\n",
       "    </tr>\n",
       "  </tbody>\n",
       "</table>\n",
       "</div>"
      ],
      "text/plain": [
       "   age  height  weight  waistline   BMI  SBP\n",
       "0   57   164.0    62.0       85.0  23.1  147\n",
       "1   25   172.0    54.0       65.0  18.3  116\n",
       "2   57   157.0    59.0       83.0  23.9  122\n",
       "3   43   170.0    87.8      104.0  30.4  130\n",
       "4   52   155.0    50.0       83.0  20.8  120"
      ]
     },
     "execution_count": 1,
     "metadata": {},
     "output_type": "execute_result"
    }
   ],
   "source": [
    "import scipy.stats as stats\n",
    "import pandas as pd\n",
    "\n",
    "df = pd.read_csv('data/6_correlation_and_regression.csv')\n",
    "df.head()"
   ]
  },
  {
   "cell_type": "code",
   "execution_count": 2,
   "metadata": {},
   "outputs": [],
   "source": [
    "corr, p = stats.pearsonr(df.BMI.values, df.waistline.values)"
   ]
  },
  {
   "cell_type": "code",
   "execution_count": 3,
   "metadata": {},
   "outputs": [
    {
     "name": "stdout",
     "output_type": "stream",
     "text": [
      "corr : 0.8006600304146128, p-Value : 3.540002961020084e-73\n"
     ]
    }
   ],
   "source": [
    "print('corr : {}, p-Value : {}'.format(corr, p))"
   ]
  },
  {
   "cell_type": "markdown",
   "metadata": {},
   "source": [
    "허리둘레(weight)와 BMI의 상관계수 r=0.8로 유의수준 p < 0.001로 통계적으로 유의한 연관을 보인다. "
   ]
  },
  {
   "cell_type": "code",
   "execution_count": 4,
   "metadata": {},
   "outputs": [
    {
     "data": {
      "text/html": [
       "<div>\n",
       "<style scoped>\n",
       "    .dataframe tbody tr th:only-of-type {\n",
       "        vertical-align: middle;\n",
       "    }\n",
       "\n",
       "    .dataframe tbody tr th {\n",
       "        vertical-align: top;\n",
       "    }\n",
       "\n",
       "    .dataframe thead th {\n",
       "        text-align: right;\n",
       "    }\n",
       "</style>\n",
       "<table border=\"1\" class=\"dataframe\">\n",
       "  <thead>\n",
       "    <tr style=\"text-align: right;\">\n",
       "      <th></th>\n",
       "      <th>age</th>\n",
       "      <th>height</th>\n",
       "      <th>weight</th>\n",
       "      <th>waistline</th>\n",
       "      <th>BMI</th>\n",
       "      <th>SBP</th>\n",
       "    </tr>\n",
       "  </thead>\n",
       "  <tbody>\n",
       "    <tr>\n",
       "      <th>age</th>\n",
       "      <td>1.000000</td>\n",
       "      <td>-0.473364</td>\n",
       "      <td>-0.340496</td>\n",
       "      <td>0.050031</td>\n",
       "      <td>-0.055819</td>\n",
       "      <td>0.186121</td>\n",
       "    </tr>\n",
       "    <tr>\n",
       "      <th>height</th>\n",
       "      <td>-0.473364</td>\n",
       "      <td>1.000000</td>\n",
       "      <td>0.588588</td>\n",
       "      <td>0.169484</td>\n",
       "      <td>-0.034864</td>\n",
       "      <td>-0.164585</td>\n",
       "    </tr>\n",
       "    <tr>\n",
       "      <th>weight</th>\n",
       "      <td>-0.340496</td>\n",
       "      <td>0.588588</td>\n",
       "      <td>1.000000</td>\n",
       "      <td>0.753247</td>\n",
       "      <td>0.783203</td>\n",
       "      <td>0.063434</td>\n",
       "    </tr>\n",
       "    <tr>\n",
       "      <th>waistline</th>\n",
       "      <td>0.050031</td>\n",
       "      <td>0.169484</td>\n",
       "      <td>0.753247</td>\n",
       "      <td>1.000000</td>\n",
       "      <td>0.800660</td>\n",
       "      <td>0.205137</td>\n",
       "    </tr>\n",
       "    <tr>\n",
       "      <th>BMI</th>\n",
       "      <td>-0.055819</td>\n",
       "      <td>-0.034864</td>\n",
       "      <td>0.783203</td>\n",
       "      <td>0.800660</td>\n",
       "      <td>1.000000</td>\n",
       "      <td>0.210250</td>\n",
       "    </tr>\n",
       "    <tr>\n",
       "      <th>SBP</th>\n",
       "      <td>0.186121</td>\n",
       "      <td>-0.164585</td>\n",
       "      <td>0.063434</td>\n",
       "      <td>0.205137</td>\n",
       "      <td>0.210250</td>\n",
       "      <td>1.000000</td>\n",
       "    </tr>\n",
       "  </tbody>\n",
       "</table>\n",
       "</div>"
      ],
      "text/plain": [
       "                age    height    weight  waistline       BMI       SBP\n",
       "age        1.000000 -0.473364 -0.340496   0.050031 -0.055819  0.186121\n",
       "height    -0.473364  1.000000  0.588588   0.169484 -0.034864 -0.164585\n",
       "weight    -0.340496  0.588588  1.000000   0.753247  0.783203  0.063434\n",
       "waistline  0.050031  0.169484  0.753247   1.000000  0.800660  0.205137\n",
       "BMI       -0.055819 -0.034864  0.783203   0.800660  1.000000  0.210250\n",
       "SBP        0.186121 -0.164585  0.063434   0.205137  0.210250  1.000000"
      ]
     },
     "execution_count": 4,
     "metadata": {},
     "output_type": "execute_result"
    }
   ],
   "source": [
    "df.corr(method='pearson')"
   ]
  },
  {
   "cell_type": "code",
   "execution_count": 5,
   "metadata": {},
   "outputs": [
    {
     "name": "stdout",
     "output_type": "stream",
     "text": [
      "                age    height    weight  waistline       BMI       SBP\n",
      "age        1.000000 -0.473364 -0.340496   0.050031 -0.055819  0.186121\n",
      "height    -0.473364  1.000000  0.588588   0.169484 -0.034864 -0.164585\n",
      "weight    -0.340496  0.588588  1.000000   0.753247  0.783203  0.063434\n",
      "waistline  0.050031  0.169484  0.753247   1.000000  0.800660  0.205137\n",
      "BMI       -0.055819 -0.034864  0.783203   0.800660  1.000000  0.210250\n",
      "SBP        0.186121 -0.164585  0.063434   0.205137  0.210250  1.000000\n",
      "                    age        height        weight     waistline  \\\n",
      "age        0.000000e+00  2.190828e-19  3.503089e-10  3.708665e-01   \n",
      "height     2.190828e-19  0.000000e+00  2.102750e-31  2.276592e-03   \n",
      "weight     3.503089e-10  2.102750e-31  0.000000e+00  3.531870e-60   \n",
      "waistline  3.708665e-01  2.276592e-03  3.531870e-60  0.000000e+00   \n",
      "BMI        3.180280e-01  5.330393e-01  5.187587e-68  3.540003e-73   \n",
      "SBP        7.902188e-04  3.055337e-03  2.563784e-01  2.103623e-04   \n",
      "\n",
      "                    BMI       SBP  \n",
      "age        3.180280e-01  0.000790  \n",
      "height     5.330393e-01  0.003055  \n",
      "weight     5.187587e-68  0.256378  \n",
      "waistline  3.540003e-73  0.000210  \n",
      "BMI        0.000000e+00  0.000144  \n",
      "SBP        1.442859e-04  0.000000  \n"
     ]
    }
   ],
   "source": [
    "import numpy as np\n",
    "\n",
    "df_corr = pd.DataFrame() # Correlation matrix\n",
    "df_p = pd.DataFrame()  # Matrix of p-values\n",
    "for x in df.columns:\n",
    "    for y in df.columns:\n",
    "        corr = stats.pearsonr(df[x], df[y])\n",
    "        df_corr.loc[x,y] = corr[0]\n",
    "        df_p.loc[x,y] = corr[1]\n",
    "\n",
    "print(df_corr)\n",
    "print(df_p)"
   ]
  },
  {
   "cell_type": "markdown",
   "metadata": {},
   "source": [
    "# Spearman의 상관분석\n",
    "\n",
    "표본수가 적고 정규성을 만족하지 않는 두 연속성 변수 혹은 순위 척도 사이의 상관관계를 추정 및 검정하기 위해서는 Spearman, Kendall이 고안한 비모수적 방법인 순위상관분석을 사용 \n",
    "\n",
    "귀무가설 H<sub>0</sub> : 두 변수는 선형의 상관관계가 없다  \n",
    "대립가설 H<sub>1</sub> : 두 변수는 선형의 상관관계가 있다\n",
    "\n",
    "가정\n",
    "\n",
    "- Observations in each sample are independent and identically distributed (iid).\n",
    "- Observations in each sample can be ranked."
   ]
  },
  {
   "cell_type": "code",
   "execution_count": 6,
   "metadata": {},
   "outputs": [
    {
     "data": {
      "text/html": [
       "<div>\n",
       "<style scoped>\n",
       "    .dataframe tbody tr th:only-of-type {\n",
       "        vertical-align: middle;\n",
       "    }\n",
       "\n",
       "    .dataframe tbody tr th {\n",
       "        vertical-align: top;\n",
       "    }\n",
       "\n",
       "    .dataframe thead th {\n",
       "        text-align: right;\n",
       "    }\n",
       "</style>\n",
       "<table border=\"1\" class=\"dataframe\">\n",
       "  <thead>\n",
       "    <tr style=\"text-align: right;\">\n",
       "      <th></th>\n",
       "      <th>Age</th>\n",
       "      <th>SBP</th>\n",
       "    </tr>\n",
       "  </thead>\n",
       "  <tbody>\n",
       "    <tr>\n",
       "      <th>0</th>\n",
       "      <td>15</td>\n",
       "      <td>116</td>\n",
       "    </tr>\n",
       "    <tr>\n",
       "      <th>1</th>\n",
       "      <td>15</td>\n",
       "      <td>130</td>\n",
       "    </tr>\n",
       "    <tr>\n",
       "      <th>2</th>\n",
       "      <td>25</td>\n",
       "      <td>120</td>\n",
       "    </tr>\n",
       "    <tr>\n",
       "      <th>3</th>\n",
       "      <td>30</td>\n",
       "      <td>132</td>\n",
       "    </tr>\n",
       "    <tr>\n",
       "      <th>4</th>\n",
       "      <td>40</td>\n",
       "      <td>160</td>\n",
       "    </tr>\n",
       "  </tbody>\n",
       "</table>\n",
       "</div>"
      ],
      "text/plain": [
       "   Age  SBP\n",
       "0   15  116\n",
       "1   15  130\n",
       "2   25  120\n",
       "3   30  132\n",
       "4   40  160"
      ]
     },
     "execution_count": 6,
     "metadata": {},
     "output_type": "execute_result"
    }
   ],
   "source": [
    "df = pd.read_csv('data/6_spearman.csv')\n",
    "df.head()"
   ]
  },
  {
   "cell_type": "code",
   "execution_count": 7,
   "metadata": {},
   "outputs": [
    {
     "name": "stdout",
     "output_type": "stream",
     "text": [
      "SpearmanrResult(correlation=0.8406680016960504, pvalue=0.03605757284515918)\n",
      "KendalltauResult(correlation=0.6900655593423541, pvalue=0.05578260870684413)\n"
     ]
    }
   ],
   "source": [
    "print(stats.spearmanr(df.Age.values, df.SBP.values))\n",
    "print(stats.kendalltau(df.Age.values, df.SBP.values))"
   ]
  },
  {
   "cell_type": "markdown",
   "metadata": {},
   "source": [
    "Spearman의 상관계수는 rho는 0.841로 Age(나이)가 증가할수록 SBP(수축기 혈압)는 유의하게 증가하는 경향이 있다고 말할 수 있다. (p=0.036<0.05)  \n",
    "그러나 또 다른 비모수적인 상관계수인 Kendall의 tau-b는 0.690으로 계산되었지만 통계적으로 유의성은 보여주지는 못했다. (p=0.056 > 0.05)"
   ]
  }
 ],
 "metadata": {
  "kernelspec": {
   "display_name": "Python 3",
   "language": "python",
   "name": "python3"
  },
  "language_info": {
   "codemirror_mode": {
    "name": "ipython",
    "version": 3
   },
   "file_extension": ".py",
   "mimetype": "text/x-python",
   "name": "python",
   "nbconvert_exporter": "python",
   "pygments_lexer": "ipython3",
   "version": "3.8.8"
  }
 },
 "nbformat": 4,
 "nbformat_minor": 2
}